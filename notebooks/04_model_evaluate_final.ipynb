{
 "cells": [
  {
   "cell_type": "code",
   "execution_count": 1,
   "metadata": {},
   "outputs": [],
   "source": [
    "import pandas as pd\n",
    "import sys\n",
    "import matplotlib.pyplot as plt\n",
    "import seaborn as sns\n",
    "\n",
    "\n",
    "sys.path.append(\"../utils\")\n",
    "\n",
    "# Import the data_loader module\n",
    "import data_loader, data_processor, plots\n"
   ]
  },
  {
   "cell_type": "code",
   "execution_count": 2,
   "metadata": {},
   "outputs": [],
   "source": [
    "merged_macro_transactions_df = pd.read_parquet(\"../datasets/processed/merged_macro_transactions.parquet\", engine='fastparquet')\n",
    "property_transactions_df = pd.read_parquet(\"../datasets/processed/property_transactions.parquet\", engine='fastparquet')\n",
    "required_property_rental_transactions_df = pd.read_parquet(\"../datasets/processed/property_rental_transactions_required.parquet\", engine='fastparquet')"
   ]
  }
 ],
 "metadata": {
  "kernelspec": {
   "display_name": "dubai_env",
   "language": "python",
   "name": "python3"
  },
  "language_info": {
   "codemirror_mode": {
    "name": "ipython",
    "version": 3
   },
   "file_extension": ".py",
   "mimetype": "text/x-python",
   "name": "python",
   "nbconvert_exporter": "python",
   "pygments_lexer": "ipython3",
   "version": "3.9.6"
  }
 },
 "nbformat": 4,
 "nbformat_minor": 2
}
