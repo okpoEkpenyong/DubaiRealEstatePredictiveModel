{
 "cells": [
  {
   "cell_type": "markdown",
   "metadata": {
    "vscode": {
     "languageId": "plaintext"
    }
   },
   "source": [
    "Outline in this Notebook (**`01_data_loading.ipynb`**):\n",
    "\n",
    "#### **Sections**\n",
    "1. **Introduction**\n",
    "   - Brief explanation of the datasets being loaded.\n",
    "\n",
    "2. **Library Imports**\n",
    "   - Import necessary libraries.\n",
    "\n",
    "3. **Configuration Setup**\n",
    "   - Load `config.yaml`.\n",
    "\n",
    "4. **Dataset Loading**\n",
    "   - Use the `data_loader.py` utility to load raw datasets.\n",
    "\n",
    "5. **Initial Inspection**\n",
    "   - Display basic stats and preview data.\n",
    "\n",
    "6. **Save Cleaned Data**\n",
    "   - Save cleaned datasets to `datasets/processed/`.\n",
    "\n"
   ]
  },
  {
   "cell_type": "markdown",
   "metadata": {},
   "source": [
    "### **1. `Introduction`**\n",
    "This notebook focuses on loading the raw datasets for the Dubai Real Estate Prediction project. We will:\n",
    "1. Load datasets using `utils/data_loader.py`.\n",
    "2. Inspect the structure and contents of the datasets.\n",
    "3. Perform initial cleaning where necessary.\n",
    "4. Save cleaned datasets to `datasets/processed/`.\n"
   ]
  },
  {
   "cell_type": "markdown",
   "metadata": {},
   "source": [
    "### **2. `Library Imports`**"
   ]
  },
  {
   "cell_type": "code",
   "execution_count": 1,
   "metadata": {},
   "outputs": [],
   "source": [
    "# Import necessary libraries\n",
    "import os\n",
    "import pandas as pd\n",
    "import yaml\n",
    "import sys\n",
    "\n",
    "# Display settings\n",
    "pd.set_option('display.max_colwidth', 50)  # Limit column width for better readability\n",
    "\n",
    "# Import the data_loader module\n",
    "import sys\n",
    "import os\n",
    "\n",
    "# Add the utils folder to sys.path to import data_loader\n",
    "sys.path.append(\"../utils\")\n",
    "\n",
    "# Import the data_loader module\n",
    "import data_loader\n",
    "import data_processor\n",
    "import seaborn as sns; sns.set_theme()\n"
   ]
  },
  {
   "cell_type": "markdown",
   "metadata": {},
   "source": [
    "### **3. `Load Configuration`**"
   ]
  },
  {
   "cell_type": "code",
   "execution_count": 2,
   "metadata": {},
   "outputs": [
    {
     "name": "stdout",
     "output_type": "stream",
     "text": [
      "Raw Data Path: ../datasets/raw\n",
      "Processed Data Path: ../datasets/processed\n",
      "External Data Path: ../datasets/external\n"
     ]
    }
   ],
   "source": [
    "from data_loader import load_dataset\n",
    "\n",
    "# Load configuration\n",
    "config_path = \"../configs/config.yaml\"\n",
    "with open(config_path, \"r\") as file:\n",
    "    config = yaml.safe_load(file)\n",
    "\n",
    "# Print paths and file structure for reference\n",
    "raw_data_path = config[\"paths\"][\"raw_data\"]\n",
    "processed_data_path = config[\"paths\"][\"processed_data\"]\n",
    "external_data_path = config[\"paths\"][\"external_data\"]\n",
    "\n",
    "print(f\"Raw Data Path: {raw_data_path}\")\n",
    "print(f\"Processed Data Path: {processed_data_path}\")\n",
    "print(f\"External Data Path: {external_data_path}\")\n"
   ]
  },
  {
   "cell_type": "markdown",
   "metadata": {},
   "source": [
    "### **4. `Dataset Loading and Inspection`**"
   ]
  },
  {
   "cell_type": "markdown",
   "metadata": {},
   "source": [
    "- Expecting 7 Folders and 15 datasets as supplied and retrieved"
   ]
  },
  {
   "cell_type": "markdown",
   "metadata": {},
   "source": [
    "#### 4.1 `rents.csv`"
   ]
  },
  {
   "cell_type": "code",
   "execution_count": 3,
   "metadata": {},
   "outputs": [
    {
     "name": "stdout",
     "output_type": "stream",
     "text": [
      "Loading 01_real_estate_rents from ../datasets/raw/Rents & Transactions/rents.csv...\n"
     ]
    },
    {
     "name": "stderr",
     "output_type": "stream",
     "text": [
      "Loading files in parallel:   0%|          | 0/1 [00:00<?, ?it/s]"
     ]
    },
    {
     "name": "stderr",
     "output_type": "stream",
     "text": [
      "Loading files in parallel: 100%|██████████| 1/1 [01:45<00:00, 105.53s/it]\n"
     ]
    },
    {
     "name": "stdout",
     "output_type": "stream",
     "text": [
      "Shape of 01_real_estate_rents: (5475131, 22)\n",
      "Columns in 01_real_estate_rents:\n",
      "Index(['Ejari Contract Number', 'Registration Date', 'Start Date', 'End Date',\n",
      "       'Property ID', 'Version', 'Area', 'Contract Amount', 'Annual Amount',\n",
      "       'Is Free Hold?', 'Property Size (sq.m)', 'Property Type',\n",
      "       'Property Sub Type', 'Number of Rooms', 'Usage', 'Nearest Metro',\n",
      "       'Nearest Mall', 'Nearest Landmark', 'Parking', 'No of Units',\n",
      "       'Master Project', 'Project'],\n",
      "      dtype='object')\n"
     ]
    }
   ],
   "source": [
    "rents_df = data_loader.inspect_data(\"01_real_estate_rents\", delimiter=\";\", show_progress=False,loading_method='parallel')"
   ]
  },
  {
   "cell_type": "markdown",
   "metadata": {},
   "source": [
    "- Original state of rents.csv"
   ]
  },
  {
   "cell_type": "code",
   "execution_count": 4,
   "metadata": {},
   "outputs": [
    {
     "data": {
      "text/plain": [
       "array([ nan,   0.,   1.,   2.,  51.,  21.,  78., 198.,  14., 167.,   7.,\n",
       "        22., 112.,  36.,   4.,  15.,  96., 279.,  43.,  10.,  17.,  13.,\n",
       "        68.,  40.,   5.,   3.,  11.,  20.,  25.,  30., 163.,  56., 107.,\n",
       "         8.,  90.,   6.,  97., 147.,  12.,  35.,  39., 194.,  16.,  23.,\n",
       "        41.,  29., 125.,  50.,  67.,  65.,  46.,   9.,  58.,  66.,  72.,\n",
       "        26.,  37.,  48.,  85., 166., 111.,  70.,  71.,  53., 280.,  81.,\n",
       "        60.,  54.,  18., 120.,  63.,  62.,  80., 121.,  49., 129., 267.,\n",
       "       268.,  33.,  86., 200., 476.,  28., 340.,  19.,  99.,  27., 161.,\n",
       "        44.,  95., 283., 189., 148.,  98.])"
      ]
     },
     "execution_count": 4,
     "metadata": {},
     "output_type": "execute_result"
    }
   ],
   "source": [
    "rents_df['Parking'].unique()"
   ]
  },
  {
   "cell_type": "code",
   "execution_count": 5,
   "metadata": {},
   "outputs": [
    {
     "data": {
      "text/plain": [
       "array(['Factory', 'Building', 'School', 'Warehouse', 'Flat', 'Shop',\n",
       "       'Office', 'Showroom', 'Workshop', 'Restaurant',\n",
       "       'Warehouse complex', 'Clinic', nan, 'Store', 'Shopping Center',\n",
       "       'Labor Camps', 'Arabian House', 'GYM', 'Kiosk', 'Villa',\n",
       "       'Open space', 'Studio ', 'Medical center', 'Pharmacy', 'Nursery',\n",
       "       'Complex Villas', 'Mezzanine', 'Supermarket', 'Ladies Saloon',\n",
       "       'kitchen', 'Desk', 'Hotel', 'Health club', 'Penthouse', 'Hospital',\n",
       "       'Supermarket, a multi-section', 'Hotel apartments',\n",
       "       'Resturants Complex', 'Parking', 'Bank', 'Spa', 'Garage',\n",
       "       'Staff Accommodation', 'Farm', 'Storage', 'Portacabin',\n",
       "       'Open Land', 'Complex Warehouse', 'Car Wash', 'Cinema',\n",
       "       'Pertol station', 'College', 'swimming pool', 'Comercial Complex',\n",
       "       'Petrol station', 'Villa addendum', 'ATM', 'Horse stable',\n",
       "       'Endowments attached to mosques', 'Sign Board', 'Land Parking ',\n",
       "       'Service Center', 'Medical Store', 'OPEN STORAGE SHED',\n",
       "       'Sports Club', 'Hall', 'Laundry', 'Lab',\n",
       "       'Building multi-storey parking', 'Garden', 'Medical complex',\n",
       "       'church'], dtype=object)"
      ]
     },
     "execution_count": 5,
     "metadata": {},
     "output_type": "execute_result"
    }
   ],
   "source": [
    "rents_df['Property Sub Type'].unique()"
   ]
  },
  {
   "cell_type": "code",
   "execution_count": 6,
   "metadata": {},
   "outputs": [
    {
     "name": "stdout",
     "output_type": "stream",
     "text": [
      "Original memory usage: 918.98 MB\n",
      "Optimized memory usage: 346.39 MB\n",
      "Shape: (5475131, 22)\n",
      "Dtypes: ['Ejari Contract Number:int64', 'Registration Date:object', 'Start Date:category', 'End Date:category', 'Property ID:int64', 'Version:category', 'Area:category', 'Contract Amount:category', 'Annual Amount:category', 'Is Free Hold?:category', 'Property Size (sq.m):category', 'Property Type:category', 'Property Sub Type:category', 'Number of Rooms:float32', 'Usage:category', 'Nearest Metro:category', 'Nearest Mall:category', 'Nearest Landmark:category', 'Parking:float32', 'No of Units:int16', 'Master Project:category', 'Project:category']\n",
      "Missings (%): ['Ejari Contract Number:0.00%', 'Registration Date:0.00%', 'Start Date:0.00%', 'End Date:0.00%', 'Property ID:0.00%', 'Version:0.00%', 'Area:0.01%', 'Contract Amount:0.00%', 'Annual Amount:0.00%', 'Is Free Hold?:0.00%', 'Property Size (sq.m):0.23%', 'Property Type:0.00%', 'Property Sub Type:0.73%', 'Number of Rooms:96.53%', 'Usage:1.01%', 'Nearest Metro:10.27%', 'Nearest Mall:10.94%', 'Nearest Landmark:6.33%', 'Parking:96.93%', 'No of Units:0.00%', 'Master Project:100.00%', 'Project:85.49%']\n",
      "Total missings (%): 18.57%\n",
      "total duplicates: 6398\n",
      "Total memory usage: 346.39 MB\n"
     ]
    },
    {
     "data": {
      "text/html": [
       "<div>\n",
       "<style scoped>\n",
       "    .dataframe tbody tr th:only-of-type {\n",
       "        vertical-align: middle;\n",
       "    }\n",
       "\n",
       "    .dataframe tbody tr th {\n",
       "        vertical-align: top;\n",
       "    }\n",
       "\n",
       "    .dataframe thead th {\n",
       "        text-align: right;\n",
       "    }\n",
       "</style>\n",
       "<table border=\"1\" class=\"dataframe\">\n",
       "  <thead>\n",
       "    <tr style=\"text-align: right;\">\n",
       "      <th></th>\n",
       "      <th>Ejari Contract Number</th>\n",
       "      <th>Registration Date</th>\n",
       "      <th>Start Date</th>\n",
       "      <th>End Date</th>\n",
       "      <th>Property ID</th>\n",
       "      <th>Version</th>\n",
       "      <th>Area</th>\n",
       "      <th>Contract Amount</th>\n",
       "      <th>Annual Amount</th>\n",
       "      <th>Is Free Hold?</th>\n",
       "      <th>...</th>\n",
       "      <th>Property Sub Type</th>\n",
       "      <th>Number of Rooms</th>\n",
       "      <th>Usage</th>\n",
       "      <th>Nearest Metro</th>\n",
       "      <th>Nearest Mall</th>\n",
       "      <th>Nearest Landmark</th>\n",
       "      <th>Parking</th>\n",
       "      <th>No of Units</th>\n",
       "      <th>Master Project</th>\n",
       "      <th>Project</th>\n",
       "    </tr>\n",
       "  </thead>\n",
       "  <tbody>\n",
       "    <tr>\n",
       "      <th>0</th>\n",
       "      <td>120210425000238</td>\n",
       "      <td>25/04/2021 09:36:31</td>\n",
       "      <td>13/04/2021 00:00:00</td>\n",
       "      <td>12/04/2026 00:00:00</td>\n",
       "      <td>1058329686</td>\n",
       "      <td>New</td>\n",
       "      <td>Dubai Investment Park Second</td>\n",
       "      <td>25000</td>\n",
       "      <td>5000</td>\n",
       "      <td>Free Hold</td>\n",
       "      <td>...</td>\n",
       "      <td>Factory</td>\n",
       "      <td>NaN</td>\n",
       "      <td>Industrial</td>\n",
       "      <td>NaN</td>\n",
       "      <td>NaN</td>\n",
       "      <td>Expo 2020 Site</td>\n",
       "      <td>NaN</td>\n",
       "      <td>1</td>\n",
       "      <td>NaN</td>\n",
       "      <td>NaN</td>\n",
       "    </tr>\n",
       "    <tr>\n",
       "      <th>1</th>\n",
       "      <td>120210526001582</td>\n",
       "      <td>26/05/2021 12:12:22</td>\n",
       "      <td>01/06/2021 00:00:00</td>\n",
       "      <td>30/11/2025 00:00:00</td>\n",
       "      <td>99539298</td>\n",
       "      <td>New</td>\n",
       "      <td>Um Nahad Third</td>\n",
       "      <td>16000000</td>\n",
       "      <td>4000000</td>\n",
       "      <td>Free Hold</td>\n",
       "      <td>...</td>\n",
       "      <td>Building</td>\n",
       "      <td>NaN</td>\n",
       "      <td>Residential</td>\n",
       "      <td>NaN</td>\n",
       "      <td>NaN</td>\n",
       "      <td>NaN</td>\n",
       "      <td>NaN</td>\n",
       "      <td>1</td>\n",
       "      <td>NaN</td>\n",
       "      <td>NaN</td>\n",
       "    </tr>\n",
       "  </tbody>\n",
       "</table>\n",
       "<p>2 rows × 22 columns</p>\n",
       "</div>"
      ],
      "text/plain": [
       "   Ejari Contract Number    Registration Date           Start Date  \\\n",
       "0        120210425000238  25/04/2021 09:36:31  13/04/2021 00:00:00   \n",
       "1        120210526001582  26/05/2021 12:12:22  01/06/2021 00:00:00   \n",
       "\n",
       "              End Date  Property ID Version                          Area  \\\n",
       "0  12/04/2026 00:00:00   1058329686     New  Dubai Investment Park Second   \n",
       "1  30/11/2025 00:00:00     99539298     New                Um Nahad Third   \n",
       "\n",
       "  Contract Amount Annual Amount Is Free Hold?  ... Property Sub Type  \\\n",
       "0           25000          5000     Free Hold  ...           Factory   \n",
       "1        16000000       4000000     Free Hold  ...          Building   \n",
       "\n",
       "  Number of Rooms        Usage  Nearest Metro Nearest Mall Nearest Landmark  \\\n",
       "0             NaN   Industrial            NaN          NaN   Expo 2020 Site   \n",
       "1             NaN  Residential            NaN          NaN              NaN   \n",
       "\n",
       "  Parking No of Units  Master Project  Project  \n",
       "0     NaN           1             NaN      NaN  \n",
       "1     NaN           1             NaN      NaN  \n",
       "\n",
       "[2 rows x 22 columns]"
      ]
     },
     "execution_count": 6,
     "metadata": {},
     "output_type": "execute_result"
    }
   ],
   "source": [
    "optimized_rents_df = data_processor.optimize_dataframe_memory(rents_df)\n",
    "data_processor.display_dataframe_info(optimized_rents_df)"
   ]
  },
  {
   "cell_type": "code",
   "execution_count": 7,
   "metadata": {},
   "outputs": [
    {
     "data": {
      "text/html": [
       "<div>\n",
       "<style scoped>\n",
       "    .dataframe tbody tr th:only-of-type {\n",
       "        vertical-align: middle;\n",
       "    }\n",
       "\n",
       "    .dataframe tbody tr th {\n",
       "        vertical-align: top;\n",
       "    }\n",
       "\n",
       "    .dataframe thead th {\n",
       "        text-align: right;\n",
       "    }\n",
       "</style>\n",
       "<table border=\"1\" class=\"dataframe\">\n",
       "  <thead>\n",
       "    <tr style=\"text-align: right;\">\n",
       "      <th></th>\n",
       "      <th>Registration Date</th>\n",
       "      <th>Number of Rooms</th>\n",
       "      <th>Property Type</th>\n",
       "      <th>Property Sub Type</th>\n",
       "    </tr>\n",
       "  </thead>\n",
       "  <tbody>\n",
       "    <tr>\n",
       "      <th>863</th>\n",
       "      <td>21/12/2021 16:54:58</td>\n",
       "      <td>3.0</td>\n",
       "      <td>Villa</td>\n",
       "      <td>Villa</td>\n",
       "    </tr>\n",
       "    <tr>\n",
       "      <th>2086</th>\n",
       "      <td>03/02/2022 15:02:11</td>\n",
       "      <td>2.0</td>\n",
       "      <td>Villa</td>\n",
       "      <td>Villa</td>\n",
       "    </tr>\n",
       "    <tr>\n",
       "      <th>2111</th>\n",
       "      <td>04/01/2022 10:32:37</td>\n",
       "      <td>3.0</td>\n",
       "      <td>Villa</td>\n",
       "      <td>Villa</td>\n",
       "    </tr>\n",
       "    <tr>\n",
       "      <th>2199</th>\n",
       "      <td>07/01/2022 14:35:17</td>\n",
       "      <td>3.0</td>\n",
       "      <td>Villa</td>\n",
       "      <td>Villa</td>\n",
       "    </tr>\n",
       "    <tr>\n",
       "      <th>2240</th>\n",
       "      <td>09/02/2022 09:38:27</td>\n",
       "      <td>3.0</td>\n",
       "      <td>Villa</td>\n",
       "      <td>Villa</td>\n",
       "    </tr>\n",
       "    <tr>\n",
       "      <th>...</th>\n",
       "      <td>...</td>\n",
       "      <td>...</td>\n",
       "      <td>...</td>\n",
       "      <td>...</td>\n",
       "    </tr>\n",
       "    <tr>\n",
       "      <th>5473830</th>\n",
       "      <td>15/10/2014 12:07:01</td>\n",
       "      <td>2.0</td>\n",
       "      <td>Villa</td>\n",
       "      <td>Villa</td>\n",
       "    </tr>\n",
       "    <tr>\n",
       "      <th>5473855</th>\n",
       "      <td>19/11/2014 15:33:26</td>\n",
       "      <td>4.0</td>\n",
       "      <td>Villa</td>\n",
       "      <td>Villa</td>\n",
       "    </tr>\n",
       "    <tr>\n",
       "      <th>5473934</th>\n",
       "      <td>23/10/2014 10:47:46</td>\n",
       "      <td>4.0</td>\n",
       "      <td>Villa</td>\n",
       "      <td>Villa</td>\n",
       "    </tr>\n",
       "    <tr>\n",
       "      <th>5473955</th>\n",
       "      <td>23/10/2014 10:28:16</td>\n",
       "      <td>4.0</td>\n",
       "      <td>Villa</td>\n",
       "      <td>Villa</td>\n",
       "    </tr>\n",
       "    <tr>\n",
       "      <th>5473957</th>\n",
       "      <td>02/07/2014 09:42:42</td>\n",
       "      <td>2.0</td>\n",
       "      <td>Villa</td>\n",
       "      <td>Villa</td>\n",
       "    </tr>\n",
       "  </tbody>\n",
       "</table>\n",
       "<p>189147 rows × 4 columns</p>\n",
       "</div>"
      ],
      "text/plain": [
       "           Registration Date  Number of Rooms Property Type Property Sub Type\n",
       "863      21/12/2021 16:54:58              3.0         Villa             Villa\n",
       "2086     03/02/2022 15:02:11              2.0         Villa             Villa\n",
       "2111     04/01/2022 10:32:37              3.0         Villa             Villa\n",
       "2199     07/01/2022 14:35:17              3.0         Villa             Villa\n",
       "2240     09/02/2022 09:38:27              3.0         Villa             Villa\n",
       "...                      ...              ...           ...               ...\n",
       "5473830  15/10/2014 12:07:01              2.0         Villa             Villa\n",
       "5473855  19/11/2014 15:33:26              4.0         Villa             Villa\n",
       "5473934  23/10/2014 10:47:46              4.0         Villa             Villa\n",
       "5473955  23/10/2014 10:28:16              4.0         Villa             Villa\n",
       "5473957  02/07/2014 09:42:42              2.0         Villa             Villa\n",
       "\n",
       "[189147 rows x 4 columns]"
      ]
     },
     "execution_count": 7,
     "metadata": {},
     "output_type": "execute_result"
    }
   ],
   "source": [
    "optimized_rents_df[['Registration Date','Number of Rooms','Property Type','Property Sub Type']].dropna()\n"
   ]
  },
  {
   "cell_type": "code",
   "execution_count": 8,
   "metadata": {},
   "outputs": [
    {
     "data": {
      "text/html": [
       "<div>\n",
       "<style scoped>\n",
       "    .dataframe tbody tr th:only-of-type {\n",
       "        vertical-align: middle;\n",
       "    }\n",
       "\n",
       "    .dataframe tbody tr th {\n",
       "        vertical-align: top;\n",
       "    }\n",
       "\n",
       "    .dataframe thead th {\n",
       "        text-align: right;\n",
       "    }\n",
       "</style>\n",
       "<table border=\"1\" class=\"dataframe\">\n",
       "  <thead>\n",
       "    <tr style=\"text-align: right;\">\n",
       "      <th></th>\n",
       "      <th>Registration Date</th>\n",
       "      <th>Number of Rooms</th>\n",
       "      <th>Property Type</th>\n",
       "      <th>Property Sub Type</th>\n",
       "    </tr>\n",
       "  </thead>\n",
       "  <tbody>\n",
       "    <tr>\n",
       "      <th>863</th>\n",
       "      <td>21/12/2021 16:54:58</td>\n",
       "      <td>3.0</td>\n",
       "      <td>Villa</td>\n",
       "      <td>Villa</td>\n",
       "    </tr>\n",
       "    <tr>\n",
       "      <th>2086</th>\n",
       "      <td>03/02/2022 15:02:11</td>\n",
       "      <td>2.0</td>\n",
       "      <td>Villa</td>\n",
       "      <td>Villa</td>\n",
       "    </tr>\n",
       "    <tr>\n",
       "      <th>2111</th>\n",
       "      <td>04/01/2022 10:32:37</td>\n",
       "      <td>3.0</td>\n",
       "      <td>Villa</td>\n",
       "      <td>Villa</td>\n",
       "    </tr>\n",
       "    <tr>\n",
       "      <th>2199</th>\n",
       "      <td>07/01/2022 14:35:17</td>\n",
       "      <td>3.0</td>\n",
       "      <td>Villa</td>\n",
       "      <td>Villa</td>\n",
       "    </tr>\n",
       "    <tr>\n",
       "      <th>2240</th>\n",
       "      <td>09/02/2022 09:38:27</td>\n",
       "      <td>3.0</td>\n",
       "      <td>Villa</td>\n",
       "      <td>Villa</td>\n",
       "    </tr>\n",
       "    <tr>\n",
       "      <th>...</th>\n",
       "      <td>...</td>\n",
       "      <td>...</td>\n",
       "      <td>...</td>\n",
       "      <td>...</td>\n",
       "    </tr>\n",
       "    <tr>\n",
       "      <th>5473830</th>\n",
       "      <td>15/10/2014 12:07:01</td>\n",
       "      <td>2.0</td>\n",
       "      <td>Villa</td>\n",
       "      <td>Villa</td>\n",
       "    </tr>\n",
       "    <tr>\n",
       "      <th>5473855</th>\n",
       "      <td>19/11/2014 15:33:26</td>\n",
       "      <td>4.0</td>\n",
       "      <td>Villa</td>\n",
       "      <td>Villa</td>\n",
       "    </tr>\n",
       "    <tr>\n",
       "      <th>5473934</th>\n",
       "      <td>23/10/2014 10:47:46</td>\n",
       "      <td>4.0</td>\n",
       "      <td>Villa</td>\n",
       "      <td>Villa</td>\n",
       "    </tr>\n",
       "    <tr>\n",
       "      <th>5473955</th>\n",
       "      <td>23/10/2014 10:28:16</td>\n",
       "      <td>4.0</td>\n",
       "      <td>Villa</td>\n",
       "      <td>Villa</td>\n",
       "    </tr>\n",
       "    <tr>\n",
       "      <th>5473957</th>\n",
       "      <td>02/07/2014 09:42:42</td>\n",
       "      <td>2.0</td>\n",
       "      <td>Villa</td>\n",
       "      <td>Villa</td>\n",
       "    </tr>\n",
       "  </tbody>\n",
       "</table>\n",
       "<p>190055 rows × 4 columns</p>\n",
       "</div>"
      ],
      "text/plain": [
       "           Registration Date  Number of Rooms Property Type Property Sub Type\n",
       "863      21/12/2021 16:54:58              3.0         Villa             Villa\n",
       "2086     03/02/2022 15:02:11              2.0         Villa             Villa\n",
       "2111     04/01/2022 10:32:37              3.0         Villa             Villa\n",
       "2199     07/01/2022 14:35:17              3.0         Villa             Villa\n",
       "2240     09/02/2022 09:38:27              3.0         Villa             Villa\n",
       "...                      ...              ...           ...               ...\n",
       "5473830  15/10/2014 12:07:01              2.0         Villa             Villa\n",
       "5473855  19/11/2014 15:33:26              4.0         Villa             Villa\n",
       "5473934  23/10/2014 10:47:46              4.0         Villa             Villa\n",
       "5473955  23/10/2014 10:28:16              4.0         Villa             Villa\n",
       "5473957  02/07/2014 09:42:42              2.0         Villa             Villa\n",
       "\n",
       "[190055 rows x 4 columns]"
      ]
     },
     "execution_count": 8,
     "metadata": {},
     "output_type": "execute_result"
    }
   ],
   "source": [
    "optimized_rents_df[optimized_rents_df['Number of Rooms'].notna()][['Registration Date','Number of Rooms', 'Property Type', 'Property Sub Type']]\n"
   ]
  },
  {
   "cell_type": "markdown",
   "metadata": {},
   "source": [
    "***Initial Processing Summary for `rents.csv`***"
   ]
  },
  {
   "cell_type": "markdown",
   "metadata": {},
   "source": [
    "\n",
    "---\n",
    "\n",
    "**2. Data Types Overview**\n",
    "**Rental Transactions Schema** table with the missing percentages indicated and notes about data compression from `String` to `Category` where applicable:\n",
    "\n",
    "| **Field Name**              | **Description**                                      | **Optimized Data Type** | **Notes**                              |\n",
    "|-----------------------------|----------------------------------------------------|-------------------------|---------------------------------------|\n",
    "| Ejari Contract Number       | Unique identifier for the rental contract           | `int64`                | No missing values                     |\n",
    "| Registration Date           | Date of contract registration                       | `object`               | Convertible to datetime; no missing   |\n",
    "| Start Date                  | Start date of the rental agreement                  | `category`             | Converted from `String`; no missing   |\n",
    "| End Date                    | End date of the rental agreement                    | `category`             | Converted from `String`; no missing   |\n",
    "| Property ID                 | Unique identifier for the property                  | `int64`                | No missing values                     |\n",
    "| Version                     | Version of the contract                             | `category`             | Converted from `String`; no missing   |\n",
    "| Area                        | Area of Dubai where the property is located         | `category`             | Converted from `String`; 0.01% missing |\n",
    "| Contract Amount             | Total contract amount in AED                        | `category`             | Converted from `String`; no missing   |\n",
    "| Annual Amount               | Annual rental amount in AED                         | `category`             | Converted from `String`; no missing   |\n",
    "| Is Free Hold?               | Indicates if the property is freehold               | `category`             | Converted from `String`; no missing   |\n",
    "| Property Size (sq.m)        | Area of the property in square meters               | `category`             | Converted from `String`; 0.23% missing |\n",
    "| Property Type               | General type of property (Building, Land, Unit)     | `category`             | Converted from `String`; no missing   |\n",
    "| Property Sub Type           | Specific subtype of property (e.g., Workshop, Studio) | `category`           | Converted from `String`; 0.73% missing |\n",
    "| Number of Rooms             | Number of rooms in the property                     | `float32`             | 96.53% missing                        |\n",
    "| Usage                       | Usage of the property (Commercial, Industrial, Residential) | `category`     | Converted from `String`; 1.01% missing |\n",
    "| Nearest Metro               | Name of the nearest metro                           | `category`             | Converted from `String`; 10.27% missing |\n",
    "| Nearest Mall                | Name of the nearest mall                            | `category`             | Converted from `String`; 10.94% missing |\n",
    "| Nearest Landmark            | Name of the nearest landmark                        | `category`             | Converted from `String`; 6.33% missing |\n",
    "| Parking                     | Number of parking spaces                            | `float32`             | 96.93% missing                        |\n",
    "| No of Units                 | Number of units in the property                     | `int16`               | No missing values                     |\n",
    "| Master Project              | Name of the master project                          | `category`             | Converted from `String`; 100% missing |\n",
    "| Project                     | Name of the project                                 | `category`             | Converted from `String`; 85.49% missing |\n",
    "\n",
    "\n",
    "---\n",
    "\n",
    " **3. Missing Values**\n",
    "- **Total Missing Values (%):** 18.57% of the data.\n",
    "- **Key Columns with High Missing Percentages:**\n",
    "  - `Number of Rooms`: 96.53% missing  \n",
    "  - `Parking`: 96.93% missing  \n",
    "  - `Master Project`: 100% missing (may require exclusion)  \n",
    "  - `Project`: 85.49% missing  \n",
    "\n",
    "---\n",
    "\n",
    " **4. Duplicates**\n",
    "- **Total Duplicates:** 6,398 rows (0.12% of total rows).  \n",
    "\n",
    "---\n",
    "\n",
    "**5. Initial Insights**\n",
    "1. **Memory Optimization** significantly reduces dataset size, making it more efficient for analysis.  \n",
    "2. High missing percentages in some columns (e.g., `Number of Rooms`, `Parking`, `Master Project`) suggest these fields may not be useful for modeling or analysis without imputation or further validation.  \n",
    "3. Duplicates should be reviewed for removal, ensuring they don’t bias results.  \n",
    "4. Categorical conversion for appropriate fields helps in reducing memory while preserving information.  \n",
    "\n",
    "---\n",
    "\n",
    "**6. Further Actions**\n",
    "1. **Handle Missing Data:** \n",
    "   - Considering removal of columns like `Master Project` with 100% missing values. Others with over 90% can also be removed but we need to confirm their importance.\n",
    "   - Exploring imputation strategies for other critical columns especially compulsory ones required for modeling.  \n",
    "2. **Remove Duplicates:** Dropping duplicate rows to maintain data integrity.  \n",
    "3. **Datetime Parsing:** Converting `Registration Date`, `Start Date`, and `End Date` into proper datetime objects.  \n",
    "4. **Further Validation:** Checking for inconsistencies in categorical values and ensure data quality."
   ]
  },
  {
   "cell_type": "markdown",
   "metadata": {},
   "source": [
    "---\n",
    "\n",
    "**We'll assess each feature's potential predictive value and feasibility of imputation:**\n",
    "\n",
    "---\n",
    "\n",
    "**Features with High Missing Values**\n",
    "1. **Number of Rooms (96.53% missing):**\n",
    "   - **Predictive Potential:** Likely high, as the number of rooms directly influences rental prices (e.g., more rooms typically mean higher rents).\n",
    "   - **Imputation Feasibility:** Challenging due to limited data. Possible strategies include:\n",
    "     - **Correlations:** Impute based on similar properties (e.g., property type, size).\n",
    "     - **External Data:** Use averages for similar property types or areas.\n",
    "   - **Recommended Approach:** Retain and attempt imputation. Flag for further evaluation after initial model testing.\n",
    "\n",
    "2. **Parking (96.93% missing):**\n",
    "   - **Predictive Potential:** Moderate. Parking availability can affect rental desirability but may not always correlate strongly with rent.\n",
    "   - **Imputation Feasibility:** Similar to \"Number of Rooms.\" If patterns exist (e.g., certain areas or property types typically offer parking), imputation might be possible.\n",
    "   - **Recommended Approach:** Retain if computational resources allow. Otherwise, drop due to high missingness.\n",
    "\n",
    "3. **Master Project (100% missing):**\n",
    "   - **Predictive Potential:** Minimal unless the master project significantly influences rental prices.\n",
    "   - **Imputation Feasibility:** Impossible due to complete missingness.\n",
    "   - **Recommended Approach:** Drop.\n",
    "\n",
    "4. **Project (85.49% missing):**\n",
    "   - **Predictive Potential:** Potentially moderate. Projects may affect property desirability and, consequently, prices.\n",
    "   - **Imputation Feasibility:** Difficult due to high missingness. Imputation could be based on areas or property types, but accuracy may suffer.\n",
    "   - **Recommended Approach:** Drop unless we can retrieve external project data.\n",
    "\n",
    "---\n",
    "\n",
    "**Features with Moderate Missing Values**\n",
    "5. **Nearest Metro (10.27% missing):**\n",
    "   - **Predictive Potential:** High. Proximity to public transport is a critical factor in rental pricing.\n",
    "   - **Imputation Feasibility:** Impute based on the property's area, as metro accessibility is often well-documented geographically. This is also one of the required features by the challenge organisers\n",
    "   - **Recommended Approach:** Retain and impute.\n",
    "\n",
    "6. **Nearest Mall (10.94% missing):**\n",
    "   - **Predictive Potential:** Moderate. Malls might affect rents, but their impact may vary by property type (e.g., more for residential than industrial). It is however a required feature and cannot be dropped\n",
    "   - **Imputation Feasibility:** Similar to \"Nearest Metro.\" Impute using the area or external location data.\n",
    "   - **Recommended APproach:** Retain and impute.\n",
    "\n",
    "7. **Nearest Landmark (6.33% missing):**\n",
    "   - **Predictive Potential:** Moderate. Some landmarks significantly influence rental prices (e.g., proximity to iconic locations). Required too.\n",
    "   - **Imputation Feasibility:** Impute based on area or external geographic data.\n",
    "   - **Recommended Approach:** Retain and impute.\n",
    "\n",
    "---\n",
    "\n",
    "**Features with Low Missing Values**\n",
    "8. **Property Sub Type (0.73% missing):**\n",
    "   - **Predictive Potential:** High. Subtype affects rental prices significantly (e.g., villa vs. apartment).\n",
    "   - **Imputation Feasibility:** Straightforward imputation based on \"Property Type\" and \"Usage.\" Required too.\n",
    "   - **Recommended Approach:** Retain and impute.\n",
    "\n",
    "9. **Property Size (sq.m) (0.23% missing):**\n",
    "   - **Predictive Potential:** Very high. Property size is a primary determinant of rental prices.\n",
    "   - **Imputation Feasibility:** Straightforward. Use averages based on similar properties. Not required though.\n",
    "   - **Recommendation:** Retain and impute.\n",
    "\n",
    "---\n",
    "\n",
    "**Imputation Strategies**\n",
    "1. **Categorical Features:**\n",
    "   - Mode imputation based on relevant groupings (e.g., property type, area, usage).\n",
    "   - External reference datasets for landmarks, metro stations, and malls.\n",
    "\n",
    "2. **Numerical Features:**\n",
    "   - Mean/median imputation for features like property size.\n",
    "   - Correlation-based imputation for number of rooms and parking.\n",
    "\n",
    "---\n",
    "\n",
    "**Further Actions During Modeling**\n",
    "1. **Initial Model Testing:**\n",
    "   - We will train models using features with low/moderate missingness and drop high-missingness features (e.g., parking, project).\n",
    "   - We wil assess the impact of imputing high-missingness features like \"Number of Rooms.\"\n",
    "\n",
    "2. **Evaluate Feature Importance:**\n",
    "   - Use SHAP or permutation importance to assess the impact of retained features.\n",
    "   - Drop low-importance features post-analysis.\n",
    "\n",
    "3. **Explore External Data Sources:**\n",
    "   - Augment the dataset with geographic or project-level data if available.\n"
   ]
  },
  {
   "cell_type": "code",
   "execution_count": 9,
   "metadata": {},
   "outputs": [],
   "source": [
    "# sns.heatmap(rents_df.isnull(), cbar=False, cmap='viridis')"
   ]
  },
  {
   "cell_type": "code",
   "execution_count": 10,
   "metadata": {},
   "outputs": [
    {
     "data": {
      "text/plain": [
       "Usage                1.007684\n",
       "Nearest Metro       10.266184\n",
       "Nearest Mall        10.938898\n",
       "Nearest Landmark     6.333273\n",
       "dtype: float64"
      ]
     },
     "execution_count": 10,
     "metadata": {},
     "output_type": "execute_result"
    }
   ],
   "source": [
    "optimized_rents_df[['Usage','Nearest Metro','Nearest Mall','Nearest Landmark']].isnull().mean() * 100"
   ]
  },
  {
   "cell_type": "markdown",
   "metadata": {},
   "source": [
    "<!-- Property Type or/and Property Sub Type\n",
    "Number of rooms/bedrooms\n",
    "Property Size (sq.m)\n",
    "Area/Neighborhood\n",
    "Nearest Metro\n",
    "Nearest Mall\n",
    "Nearest Landmark\n",
    "Usage (commercial/residential)\n",
    "Average prices the previous month/week (for the same kind of property) -->\n"
   ]
  },
  {
   "cell_type": "markdown",
   "metadata": {},
   "source": [
    "- Some features are numeric but but currently labeled as objects. \n",
    "- Examples are \"Contract Amount\", \"Annual Amount\", \"Property Size (sq.m)\""
   ]
  },
  {
   "cell_type": "code",
   "execution_count": 11,
   "metadata": {},
   "outputs": [
    {
     "name": "stdout",
     "output_type": "stream",
     "text": [
      "Warning: Start Date could not be fully converted to datetime. Check data for inconsistencies.\n",
      "Original memory usage: 532.36 MB\n",
      "Optimized memory usage: 459.34 MB\n",
      "Shape: (5469008, 21)\n",
      "Dtypes: ['Ejari Contract Number:int64', 'Registration Date:datetime64[ns]', 'Start Date:category', 'End Date:datetime64[ns]', 'Property ID:int64', 'Version:category', 'Area:category', 'Contract Amount:float64', 'Annual Amount:float64', 'Is Free Hold?:category', 'Property Size (sq.m):float64', 'Property Type:category', 'Property Sub Type:category', 'Number of Rooms:float32', 'Usage:category', 'Nearest Metro:category', 'Nearest Mall:category', 'Nearest Landmark:category', 'Parking:float32', 'No of Units:int16', 'Project:category']\n",
      "Missings (%): ['Ejari Contract Number:0.00%', 'Registration Date:0.00%', 'Start Date:0.00%', 'End Date:0.00%', 'Property ID:0.00%', 'Version:0.00%', 'Area:0.01%', 'Contract Amount:2.85%', 'Annual Amount:5.89%', 'Is Free Hold?:0.00%', 'Property Size (sq.m):49.95%', 'Property Type:0.00%', 'Property Sub Type:0.73%', 'Number of Rooms:96.53%', 'Usage:1.01%', 'Nearest Metro:10.27%', 'Nearest Mall:10.94%', 'Nearest Landmark:6.34%', 'Parking:96.93%', 'No of Units:0.00%', 'Project:85.48%']\n",
      "Total missings (%): 17.47%\n",
      "total duplicates: 0\n",
      "Total memory usage: 459.34 MB\n"
     ]
    },
    {
     "data": {
      "text/html": [
       "<div>\n",
       "<style scoped>\n",
       "    .dataframe tbody tr th:only-of-type {\n",
       "        vertical-align: middle;\n",
       "    }\n",
       "\n",
       "    .dataframe tbody tr th {\n",
       "        vertical-align: top;\n",
       "    }\n",
       "\n",
       "    .dataframe thead th {\n",
       "        text-align: right;\n",
       "    }\n",
       "</style>\n",
       "<table border=\"1\" class=\"dataframe\">\n",
       "  <thead>\n",
       "    <tr style=\"text-align: right;\">\n",
       "      <th></th>\n",
       "      <th>Ejari Contract Number</th>\n",
       "      <th>Registration Date</th>\n",
       "      <th>Start Date</th>\n",
       "      <th>End Date</th>\n",
       "      <th>Property ID</th>\n",
       "      <th>Version</th>\n",
       "      <th>Area</th>\n",
       "      <th>Contract Amount</th>\n",
       "      <th>Annual Amount</th>\n",
       "      <th>Is Free Hold?</th>\n",
       "      <th>...</th>\n",
       "      <th>Property Type</th>\n",
       "      <th>Property Sub Type</th>\n",
       "      <th>Number of Rooms</th>\n",
       "      <th>Usage</th>\n",
       "      <th>Nearest Metro</th>\n",
       "      <th>Nearest Mall</th>\n",
       "      <th>Nearest Landmark</th>\n",
       "      <th>Parking</th>\n",
       "      <th>No of Units</th>\n",
       "      <th>Project</th>\n",
       "    </tr>\n",
       "  </thead>\n",
       "  <tbody>\n",
       "    <tr>\n",
       "      <th>0</th>\n",
       "      <td>120210425000238</td>\n",
       "      <td>2021-04-25 09:36:31</td>\n",
       "      <td>2021-04-13</td>\n",
       "      <td>2026-04-12</td>\n",
       "      <td>1058329686</td>\n",
       "      <td>New</td>\n",
       "      <td>Dubai Investment Park Second</td>\n",
       "      <td>25000.0</td>\n",
       "      <td>5000.0</td>\n",
       "      <td>Free Hold</td>\n",
       "      <td>...</td>\n",
       "      <td>Building</td>\n",
       "      <td>Factory</td>\n",
       "      <td>NaN</td>\n",
       "      <td>Industrial</td>\n",
       "      <td>NaN</td>\n",
       "      <td>NaN</td>\n",
       "      <td>Expo 2020 Site</td>\n",
       "      <td>NaN</td>\n",
       "      <td>1</td>\n",
       "      <td>NaN</td>\n",
       "    </tr>\n",
       "    <tr>\n",
       "      <th>1</th>\n",
       "      <td>120210526001582</td>\n",
       "      <td>2021-05-26 12:12:22</td>\n",
       "      <td>2021-06-01</td>\n",
       "      <td>2025-11-30</td>\n",
       "      <td>99539298</td>\n",
       "      <td>New</td>\n",
       "      <td>Um Nahad Third</td>\n",
       "      <td>16000000.0</td>\n",
       "      <td>4000000.0</td>\n",
       "      <td>Free Hold</td>\n",
       "      <td>...</td>\n",
       "      <td>Building</td>\n",
       "      <td>Building</td>\n",
       "      <td>NaN</td>\n",
       "      <td>Residential</td>\n",
       "      <td>NaN</td>\n",
       "      <td>NaN</td>\n",
       "      <td>NaN</td>\n",
       "      <td>NaN</td>\n",
       "      <td>1</td>\n",
       "      <td>NaN</td>\n",
       "    </tr>\n",
       "  </tbody>\n",
       "</table>\n",
       "<p>2 rows × 21 columns</p>\n",
       "</div>"
      ],
      "text/plain": [
       "   Ejari Contract Number   Registration Date Start Date   End Date  \\\n",
       "0        120210425000238 2021-04-25 09:36:31 2021-04-13 2026-04-12   \n",
       "1        120210526001582 2021-05-26 12:12:22 2021-06-01 2025-11-30   \n",
       "\n",
       "   Property ID Version                          Area  Contract Amount  \\\n",
       "0   1058329686     New  Dubai Investment Park Second          25000.0   \n",
       "1     99539298     New                Um Nahad Third       16000000.0   \n",
       "\n",
       "   Annual Amount Is Free Hold?  ...  Property Type Property Sub Type  \\\n",
       "0         5000.0     Free Hold  ...       Building           Factory   \n",
       "1      4000000.0     Free Hold  ...       Building          Building   \n",
       "\n",
       "  Number of Rooms        Usage Nearest Metro Nearest Mall Nearest Landmark  \\\n",
       "0             NaN   Industrial           NaN          NaN   Expo 2020 Site   \n",
       "1             NaN  Residential           NaN          NaN              NaN   \n",
       "\n",
       "  Parking  No of Units  Project  \n",
       "0     NaN            1      NaN  \n",
       "1     NaN            1      NaN  \n",
       "\n",
       "[2 rows x 21 columns]"
      ]
     },
     "execution_count": 11,
     "metadata": {},
     "output_type": "execute_result"
    }
   ],
   "source": [
    "# Specify columns to format\n",
    "datetime_cols = [\"Registration Date\", \"Start Date\", \"End Date\"]\n",
    "numeric_cols = [\"Contract Amount\", \"Annual Amount\", \"Property Size (sq.m)\"]\n",
    "\n",
    "# Initial cleaning by removing features with 99% missingness\n",
    "processed_rents_df = data_processor.format_and_clean_table(df=optimized_rents_df, datetime_columns=datetime_cols, numeric_columns=numeric_cols, missing_threshold=0.99)\n",
    "processed_rents_df = data_processor.optimize_dataframe_memory(processed_rents_df)\n",
    "data_processor.display_dataframe_info(processed_rents_df)"
   ]
  },
  {
   "cell_type": "markdown",
   "metadata": {},
   "source": [
    "- Parking and Number of Rooms retained"
   ]
  },
  {
   "cell_type": "code",
   "execution_count": 12,
   "metadata": {},
   "outputs": [
    {
     "name": "stdout",
     "output_type": "stream",
     "text": [
      "Invalid date entries in 'Start Date':\n",
      "Empty DataFrame\n",
      "Columns: [Ejari Contract Number, Registration Date, Start Date, End Date, Property ID, Version, Area, Contract Amount, Annual Amount, Is Free Hold?, Property Size (sq.m), Property Type, Property Sub Type, Number of Rooms, Usage, Nearest Metro, Nearest Mall, Nearest Landmark, Parking, No of Units, Project]\n",
      "Index: []\n",
      "\n",
      "[0 rows x 21 columns]\n"
     ]
    }
   ],
   "source": [
    "invalid_dates = processed_rents_df[pd.to_datetime(processed_rents_df[\"Start Date\"], format=\"%d/%m/%Y %H:%M:%S\", errors='coerce').isna()]\n",
    "print(\"Invalid date entries in 'Start Date':\")\n",
    "print(invalid_dates)\n"
   ]
  },
  {
   "cell_type": "markdown",
   "metadata": {},
   "source": [
    "#### 4.2 `transactions.csv`"
   ]
  },
  {
   "cell_type": "code",
   "execution_count": 13,
   "metadata": {},
   "outputs": [
    {
     "name": "stdout",
     "output_type": "stream",
     "text": [
      "Loading 02_real_estate_transactions from ../datasets/raw/Rents & Transactions/transactions.csv...\n"
     ]
    },
    {
     "name": "stderr",
     "output_type": "stream",
     "text": [
      "Loading files in parallel: 100%|██████████| 1/1 [00:22<00:00, 22.72s/it]\n"
     ]
    },
    {
     "name": "stdout",
     "output_type": "stream",
     "text": [
      "Shape of 02_real_estate_transactions: (995975, 23)\n",
      "Columns in 02_real_estate_transactions:\n",
      "Index(['Transaction Number', 'Transaction Date', 'Property ID',\n",
      "       'Transaction Type', 'Transaction sub type', 'Registration type',\n",
      "       'Is Free Hold?', 'Usage', 'Area', 'Property Type', 'Property Sub Type',\n",
      "       'Amount', 'Transaction Size (sq.m)', 'Property Size (sq.m)', 'Room(s)',\n",
      "       'Parking', 'Nearest Metro', 'Nearest Mall', 'Nearest Landmark',\n",
      "       'No. of Buyer', 'No. of Seller', 'Master Project', 'Project'],\n",
      "      dtype='object')\n"
     ]
    }
   ],
   "source": [
    "transactions_df = data_loader.inspect_data(\"02_real_estate_transactions\", delimiter=\";\", show_progress=False,loading_method='parallel')"
   ]
  },
  {
   "cell_type": "code",
   "execution_count": 14,
   "metadata": {},
   "outputs": [
    {
     "data": {
      "text/plain": [
       "array([nan, '1', '2', ..., 'G157,158', 'G159,G160', 'B5-222'],\n",
       "      dtype=object)"
      ]
     },
     "execution_count": 14,
     "metadata": {},
     "output_type": "execute_result"
    }
   ],
   "source": [
    "transactions_df['Parking'].unique()"
   ]
  },
  {
   "cell_type": "code",
   "execution_count": 15,
   "metadata": {},
   "outputs": [
    {
     "data": {
      "text/plain": [
       "array(['Residential', 'Commercial', 'Flat', 'Villa', 'Hotel Apartment',\n",
       "       'Office', 'Residential Flats', nan, 'Hotel Rooms', 'Unit',\n",
       "       'General Use', 'Labor Camp', 'Shop', 'Agricultural', 'Industrial',\n",
       "       'Government Housing', 'Land', 'Sports Club', 'Show Rooms',\n",
       "       'Workshop', 'Warehouse', 'Petrol Station', 'Gymnasium', 'Clinic',\n",
       "       'Airport', 'Sized Partition', 'Stacked Townhouses', 'School',\n",
       "       'Building', 'Exhbition Center', 'Parking', 'Car Services', 'Hotel',\n",
       "       'Consulate', 'Residential / Attached Villas', 'Shopping Mall',\n",
       "       'Hospital', 'Plants shop', 'Rest Area', 'General Authority',\n",
       "       'Organizations', 'General Services',\n",
       "       'Residential / Residential Villa', 'Mosque',\n",
       "       'Multi Store Parcking', 'Embassy',\n",
       "       'Commercial / Offices / Residential', 'Store'], dtype=object)"
      ]
     },
     "execution_count": 15,
     "metadata": {},
     "output_type": "execute_result"
    }
   ],
   "source": [
    "transactions_df['Property Sub Type'].unique()"
   ]
  },
  {
   "cell_type": "code",
   "execution_count": 16,
   "metadata": {},
   "outputs": [
    {
     "name": "stdout",
     "output_type": "stream",
     "text": [
      "Original memory usage: 174.77 MB\n",
      "Optimized memory usage: 71.09 MB\n",
      "Shape: (995975, 23)\n",
      "Dtypes: ['Transaction Number:object', 'Transaction Date:object', 'Property ID:int32', 'Transaction Type:category', 'Transaction sub type:category', 'Registration type:category', 'Is Free Hold?:category', 'Usage:category', 'Area:category', 'Property Type:category', 'Property Sub Type:category', 'Amount:float64', 'Transaction Size (sq.m):float64', 'Property Size (sq.m):float64', 'Room(s):category', 'Parking:category', 'Nearest Metro:category', 'Nearest Mall:category', 'Nearest Landmark:category', 'No. of Buyer:float32', 'No. of Seller:float32', 'Master Project:category', 'Project:category']\n",
      "Missings (%): ['Transaction Number:0.00%', 'Transaction Date:0.00%', 'Property ID:0.00%', 'Transaction Type:0.00%', 'Transaction sub type:0.00%', 'Registration type:0.00%', 'Is Free Hold?:0.00%', 'Usage:0.00%', 'Area:0.00%', 'Property Type:0.00%', 'Property Sub Type:2.23%', 'Amount:0.00%', 'Transaction Size (sq.m):12.62%', 'Property Size (sq.m):0.00%', 'Room(s):23.88%', 'Parking:49.53%', 'Nearest Metro:21.70%', 'Nearest Mall:22.10%', 'Nearest Landmark:10.38%', 'No. of Buyer:0.02%', 'No. of Seller:0.02%', 'Master Project:99.97%', 'Project:40.89%']\n",
      "Total missings (%): 12.32%\n",
      "total duplicates: 0\n",
      "Total memory usage: 71.09 MB\n"
     ]
    },
    {
     "data": {
      "text/html": [
       "<div>\n",
       "<style scoped>\n",
       "    .dataframe tbody tr th:only-of-type {\n",
       "        vertical-align: middle;\n",
       "    }\n",
       "\n",
       "    .dataframe tbody tr th {\n",
       "        vertical-align: top;\n",
       "    }\n",
       "\n",
       "    .dataframe thead th {\n",
       "        text-align: right;\n",
       "    }\n",
       "</style>\n",
       "<table border=\"1\" class=\"dataframe\">\n",
       "  <thead>\n",
       "    <tr style=\"text-align: right;\">\n",
       "      <th></th>\n",
       "      <th>Transaction Number</th>\n",
       "      <th>Transaction Date</th>\n",
       "      <th>Property ID</th>\n",
       "      <th>Transaction Type</th>\n",
       "      <th>Transaction sub type</th>\n",
       "      <th>Registration type</th>\n",
       "      <th>Is Free Hold?</th>\n",
       "      <th>Usage</th>\n",
       "      <th>Area</th>\n",
       "      <th>Property Type</th>\n",
       "      <th>...</th>\n",
       "      <th>Property Size (sq.m)</th>\n",
       "      <th>Room(s)</th>\n",
       "      <th>Parking</th>\n",
       "      <th>Nearest Metro</th>\n",
       "      <th>Nearest Mall</th>\n",
       "      <th>Nearest Landmark</th>\n",
       "      <th>No. of Buyer</th>\n",
       "      <th>No. of Seller</th>\n",
       "      <th>Master Project</th>\n",
       "      <th>Project</th>\n",
       "    </tr>\n",
       "  </thead>\n",
       "  <tbody>\n",
       "    <tr>\n",
       "      <th>0</th>\n",
       "      <td>13-7700-2022</td>\n",
       "      <td>02/06/2022 16:18</td>\n",
       "      <td>44581083</td>\n",
       "      <td>Mortgage</td>\n",
       "      <td>Mortgage Registration</td>\n",
       "      <td>Ready</td>\n",
       "      <td>Free Hold</td>\n",
       "      <td>Residential</td>\n",
       "      <td>AKOYA OXYGEN</td>\n",
       "      <td>Land</td>\n",
       "      <td>...</td>\n",
       "      <td>174.8</td>\n",
       "      <td>NaN</td>\n",
       "      <td>NaN</td>\n",
       "      <td>NaN</td>\n",
       "      <td>NaN</td>\n",
       "      <td>Dubai Cycling Course</td>\n",
       "      <td>0.0</td>\n",
       "      <td>0.0</td>\n",
       "      <td>NaN</td>\n",
       "      <td>DAMAC HILLS (2) - ODORA</td>\n",
       "    </tr>\n",
       "    <tr>\n",
       "      <th>1</th>\n",
       "      <td>13-7699-2022</td>\n",
       "      <td>02/06/2022 16:14</td>\n",
       "      <td>44014284</td>\n",
       "      <td>Mortgage</td>\n",
       "      <td>Mortgage Registration</td>\n",
       "      <td>Ready</td>\n",
       "      <td>Free Hold</td>\n",
       "      <td>Residential</td>\n",
       "      <td>AKOYA OXYGEN</td>\n",
       "      <td>Land</td>\n",
       "      <td>...</td>\n",
       "      <td>174.8</td>\n",
       "      <td>NaN</td>\n",
       "      <td>NaN</td>\n",
       "      <td>NaN</td>\n",
       "      <td>NaN</td>\n",
       "      <td>Dubai Cycling Course</td>\n",
       "      <td>0.0</td>\n",
       "      <td>0.0</td>\n",
       "      <td>NaN</td>\n",
       "      <td>DAMAC HILLS (2) - ZINNIA</td>\n",
       "    </tr>\n",
       "  </tbody>\n",
       "</table>\n",
       "<p>2 rows × 23 columns</p>\n",
       "</div>"
      ],
      "text/plain": [
       "  Transaction Number  Transaction Date  Property ID Transaction Type  \\\n",
       "0       13-7700-2022  02/06/2022 16:18     44581083         Mortgage   \n",
       "1       13-7699-2022  02/06/2022 16:14     44014284         Mortgage   \n",
       "\n",
       "    Transaction sub type Registration type Is Free Hold?        Usage  \\\n",
       "0  Mortgage Registration             Ready     Free Hold  Residential   \n",
       "1  Mortgage Registration             Ready     Free Hold  Residential   \n",
       "\n",
       "           Area Property Type  ... Property Size (sq.m)  Room(s)  Parking  \\\n",
       "0  AKOYA OXYGEN          Land  ...                174.8      NaN      NaN   \n",
       "1  AKOYA OXYGEN          Land  ...                174.8      NaN      NaN   \n",
       "\n",
       "   Nearest Metro Nearest Mall      Nearest Landmark No. of Buyer  \\\n",
       "0            NaN          NaN  Dubai Cycling Course          0.0   \n",
       "1            NaN          NaN  Dubai Cycling Course          0.0   \n",
       "\n",
       "  No. of Seller Master Project                    Project  \n",
       "0           0.0            NaN   DAMAC HILLS (2) - ODORA   \n",
       "1           0.0            NaN  DAMAC HILLS (2) - ZINNIA   \n",
       "\n",
       "[2 rows x 23 columns]"
      ]
     },
     "execution_count": 16,
     "metadata": {},
     "output_type": "execute_result"
    }
   ],
   "source": [
    "optimized_transactions_df = data_processor.optimize_dataframe_memory(transactions_df)\n",
    "data_processor.display_dataframe_info(optimized_transactions_df)"
   ]
  },
  {
   "cell_type": "markdown",
   "metadata": {},
   "source": [
    "**Transactions Data Schema** table with missing percentages and data compression details:\n",
    "\n",
    "| **Field Name**              | **Description**                                           | **Optimized Data Type** | **Notes**                              |\n",
    "|-----------------------------|----------------------------------------------------------|-------------------------|---------------------------------------|\n",
    "| Transaction Number          | Unique identifier for the transaction                     | `object`               | No missing values                     |\n",
    "| Transaction Date            | Date and time of the transaction                          | `object`               | Convertible to datetime; no missing   |\n",
    "| Property ID                 | Unique identifier for the property                        | `int32`                | No missing values                     |\n",
    "| Transaction Type            | Type of transaction (Sales, Gifts, Mortgage)             | `category`             | Converted from `String`; no missing   |\n",
    "| Transaction sub type         | Subtype of the transaction (e.g., Delayed Sell, Mortgage) | `category`             | Converted from `String`; no missing   |\n",
    "| Registration type           | Type of registration (Ready, Off-Plan)                   | `category`             | Converted from `String`; no missing   |\n",
    "| Is Free Hold?               | Indicates if the property is freehold                    | `category`             | Converted from `String`; no missing   |\n",
    "| Usage                       | Usage of the property (Commercial, Residential)          | `category`             | Converted from `String`; no missing   |\n",
    "| Area                        | Area of Dubai where the property is located              | `category`             | Converted from `String`; no missing   |\n",
    "| Property Type               | General type of property (Unit, Land, Building)          | `category`             | Converted from `String`; no missing   |\n",
    "| Property Sub Type           | Specific subtype of property (e.g., Flat, Villa, Shop)   | `category`             | Converted from `String`; 2.23% missing |\n",
    "| Amount                      | Transaction amount in AED                                 | `float64`              | No missing values                     |\n",
    "| Transaction Size (sq.m)     | Area of the transaction in square meters                 | `float64`              | 12.62% missing                        |\n",
    "| Property Size (sq.m)        | Area of the property in square meters                    | `float64`              | No missing values                     |\n",
    "| Room(s)                     | Property layout (e.g., Studio, 1 B/R, 5 B/R)             | `category`             | Converted from `String`; 23.88% missing |\n",
    "| Parking                     | Number of parking spaces                                 | `category`             | Converted from `String`; 49.53% missing |\n",
    "| Nearest Metro               | Name of the nearest metro                                | `category`             | Converted from `String`; 21.70% missing |\n",
    "| Nearest Mall                | Name of the nearest mall                                 | `category`             | Converted from `String`; 22.10% missing |\n",
    "| Nearest Landmark            | Name of the nearest landmark                             | `category`             | Converted from `String`; 10.38% missing |\n",
    "| No. of Buyer                | Number of buyers in the transaction                      | `float32`              | 0.02% missing                         |\n",
    "| No. of Seller               | Number of sellers in the transaction                    | `float32`              | 0.02% missing                         |\n",
    "| Master Project              | Name of the master project                               | `category`             | Converted from `String`; 99.97% missing |\n",
    "| Project                     | Name of the project                                      | `category`             | Converted from `String`; 40.89% missing |\n",
    "\n",
    "---\n",
    "\n",
    "1. **Missing Data Indicators**:\n",
    "   - Missing percentages are explicitly listed for each field.\n",
    "   - Fields like `Master Project` and `Parking` have significant missing data and might need to be excluded or imputed.\n",
    "   \n",
    "2. **Compression Details**:\n",
    "   - Several fields (e.g., `Transaction Type`, `Usage`, `Nearest Metro`) were optimized from `String` to `Category`, significantly reducing memory usage.\n",
    "\n",
    "3. **Key Insights**:\n",
    "   - Memory usage reduced from **174.77 MB** to **71.09 MB** (60% improvement).\n",
    "   - Duplicates: **0**, indicating no redundancy.\n",
    "   - Total missing data: **12.32%**, concentrated in fields like `Transaction Size`, `Room(s)`, and `Parking`.\n"
   ]
  },
  {
   "cell_type": "code",
   "execution_count": 17,
   "metadata": {},
   "outputs": [
    {
     "data": {
      "text/html": [
       "<div>\n",
       "<style scoped>\n",
       "    .dataframe tbody tr th:only-of-type {\n",
       "        vertical-align: middle;\n",
       "    }\n",
       "\n",
       "    .dataframe tbody tr th {\n",
       "        vertical-align: top;\n",
       "    }\n",
       "\n",
       "    .dataframe thead th {\n",
       "        text-align: right;\n",
       "    }\n",
       "</style>\n",
       "<table border=\"1\" class=\"dataframe\">\n",
       "  <thead>\n",
       "    <tr style=\"text-align: right;\">\n",
       "      <th></th>\n",
       "      <th>Transaction Number</th>\n",
       "      <th>Transaction Date</th>\n",
       "    </tr>\n",
       "  </thead>\n",
       "  <tbody>\n",
       "    <tr>\n",
       "      <th>0</th>\n",
       "      <td>13-7700-2022</td>\n",
       "      <td>02/06/2022 16:18</td>\n",
       "    </tr>\n",
       "    <tr>\n",
       "      <th>1</th>\n",
       "      <td>13-7699-2022</td>\n",
       "      <td>02/06/2022 16:14</td>\n",
       "    </tr>\n",
       "    <tr>\n",
       "      <th>2</th>\n",
       "      <td>14-563-2022</td>\n",
       "      <td>02/06/2022 15:42</td>\n",
       "    </tr>\n",
       "    <tr>\n",
       "      <th>3</th>\n",
       "      <td>11-12317-2022</td>\n",
       "      <td>02/06/2022 15:22</td>\n",
       "    </tr>\n",
       "    <tr>\n",
       "      <th>4</th>\n",
       "      <td>11-12316-2022</td>\n",
       "      <td>02/06/2022 15:07</td>\n",
       "    </tr>\n",
       "    <tr>\n",
       "      <th>...</th>\n",
       "      <td>...</td>\n",
       "      <td>...</td>\n",
       "    </tr>\n",
       "    <tr>\n",
       "      <th>995970</th>\n",
       "      <td>13-1699-1996</td>\n",
       "      <td>14/02/1996 00:00</td>\n",
       "    </tr>\n",
       "    <tr>\n",
       "      <th>995971</th>\n",
       "      <td>13-1701-1996</td>\n",
       "      <td>24/01/1996 00:00</td>\n",
       "    </tr>\n",
       "    <tr>\n",
       "      <th>995972</th>\n",
       "      <td>13-1742-1995</td>\n",
       "      <td>26/10/1995 00:00</td>\n",
       "    </tr>\n",
       "    <tr>\n",
       "      <th>995973</th>\n",
       "      <td>13-1746-1995</td>\n",
       "      <td>18/10/1995 00:00</td>\n",
       "    </tr>\n",
       "    <tr>\n",
       "      <th>995974</th>\n",
       "      <td>13-1744-1995</td>\n",
       "      <td>07/03/1995 00:00</td>\n",
       "    </tr>\n",
       "  </tbody>\n",
       "</table>\n",
       "<p>995975 rows × 2 columns</p>\n",
       "</div>"
      ],
      "text/plain": [
       "       Transaction Number  Transaction Date\n",
       "0            13-7700-2022  02/06/2022 16:18\n",
       "1            13-7699-2022  02/06/2022 16:14\n",
       "2             14-563-2022  02/06/2022 15:42\n",
       "3           11-12317-2022  02/06/2022 15:22\n",
       "4           11-12316-2022  02/06/2022 15:07\n",
       "...                   ...               ...\n",
       "995970       13-1699-1996  14/02/1996 00:00\n",
       "995971       13-1701-1996  24/01/1996 00:00\n",
       "995972       13-1742-1995  26/10/1995 00:00\n",
       "995973       13-1746-1995  18/10/1995 00:00\n",
       "995974       13-1744-1995  07/03/1995 00:00\n",
       "\n",
       "[995975 rows x 2 columns]"
      ]
     },
     "execution_count": 17,
     "metadata": {},
     "output_type": "execute_result"
    }
   ],
   "source": [
    "# transactions_df['Room(s)'].unique()\n",
    "transactions_df[['Transaction Number','Transaction Date']]"
   ]
  },
  {
   "cell_type": "code",
   "execution_count": 18,
   "metadata": {},
   "outputs": [],
   "source": [
    "# Specify columns to format\n",
    "# datetime_cols = [\"Transaction Date\"]\n",
    "numeric_cols = [\"Parking\"]\n",
    "\n",
    "processed_transactions_df = data_processor.format_and_clean_table(df=optimized_transactions_df, missing_threshold=0.8)\n"
   ]
  },
  {
   "cell_type": "markdown",
   "metadata": {},
   "source": [
    "- `Master Projects` eliminated now. `Project` will dropped later, possibly."
   ]
  },
  {
   "cell_type": "markdown",
   "metadata": {},
   "source": [
    "- **Consumer Price Index**"
   ]
  },
  {
   "cell_type": "markdown",
   "metadata": {},
   "source": [
    "#### 4.3 `Consumer_Price_Index_Annually.csv`"
   ]
  },
  {
   "cell_type": "code",
   "execution_count": 19,
   "metadata": {},
   "outputs": [
    {
     "name": "stdout",
     "output_type": "stream",
     "text": [
      "Loading 03_cpi_annual from ../datasets/raw/Consumer Price Index/Consumer_Price_Index_Annually.csv...\n"
     ]
    },
    {
     "name": "stderr",
     "output_type": "stream",
     "text": [
      "Loading files in parallel: 100%|██████████| 1/1 [00:03<00:00,  3.95s/it]\n"
     ]
    },
    {
     "name": "stdout",
     "output_type": "stream",
     "text": [
      "Shape of 03_cpi_annual: (369, 12)\n",
      "Columns in 03_cpi_annual:\n",
      "Index(['DATAFLOW', 'MEASURE', 'UNIT_MEASURE', 'REF_AREA', 'FREQ', 'CPI_DIV',\n",
      "       'SOURCE_DETAIL', 'TIME_PERIOD', 'OBS_VALUE', 'DECIMALS', 'OBS_STATUS',\n",
      "       'UNIT_MULT'],\n",
      "      dtype='object')\n"
     ]
    }
   ],
   "source": [
    "cpi_annual_df = data_loader.inspect_data(\"03_cpi_annual\", delimiter=\",\", show_progress=False,loading_method='parallel')\n"
   ]
  },
  {
   "cell_type": "code",
   "execution_count": null,
   "metadata": {},
   "outputs": [],
   "source": []
  },
  {
   "cell_type": "code",
   "execution_count": 20,
   "metadata": {},
   "outputs": [
    {
     "data": {
      "text/plain": [
       "DATAFLOW           0.0\n",
       "MEASURE            0.0\n",
       "UNIT_MEASURE       0.0\n",
       "REF_AREA           0.0\n",
       "FREQ               0.0\n",
       "CPI_DIV            0.0\n",
       "SOURCE_DETAIL      0.0\n",
       "TIME_PERIOD        0.0\n",
       "OBS_VALUE          0.0\n",
       "DECIMALS           0.0\n",
       "OBS_STATUS       100.0\n",
       "UNIT_MULT        100.0\n",
       "dtype: float64"
      ]
     },
     "execution_count": 20,
     "metadata": {},
     "output_type": "execute_result"
    }
   ],
   "source": [
    "cpi_annual_df.isnull().mean() * 100"
   ]
  },
  {
   "cell_type": "code",
   "execution_count": null,
   "metadata": {},
   "outputs": [
    {
     "data": {
      "text/html": [
       "<div>\n",
       "<style scoped>\n",
       "    .dataframe tbody tr th:only-of-type {\n",
       "        vertical-align: middle;\n",
       "    }\n",
       "\n",
       "    .dataframe tbody tr th {\n",
       "        vertical-align: top;\n",
       "    }\n",
       "\n",
       "    .dataframe thead th {\n",
       "        text-align: right;\n",
       "    }\n",
       "</style>\n",
       "<table border=\"1\" class=\"dataframe\">\n",
       "  <thead>\n",
       "    <tr style=\"text-align: right;\">\n",
       "      <th></th>\n",
       "      <th>DATAFLOW</th>\n",
       "      <th>MEASURE</th>\n",
       "      <th>UNIT_MEASURE</th>\n",
       "      <th>REF_AREA</th>\n",
       "      <th>FREQ</th>\n",
       "      <th>CPI_DIV</th>\n",
       "      <th>SOURCE_DETAIL</th>\n",
       "      <th>TIME_PERIOD</th>\n",
       "      <th>OBS_VALUE</th>\n",
       "      <th>DECIMALS</th>\n",
       "      <th>OBS_STATUS</th>\n",
       "      <th>UNIT_MULT</th>\n",
       "    </tr>\n",
       "  </thead>\n",
       "  <tbody>\n",
       "    <tr>\n",
       "      <th>0</th>\n",
       "      <td>FCSA:DF_CPI_ANN(3.2.0)</td>\n",
       "      <td>CPI_INDEX21</td>\n",
       "      <td>INDX</td>\n",
       "      <td>AE</td>\n",
       "      <td>A</td>\n",
       "      <td>FUR</td>\n",
       "      <td>FCSA</td>\n",
       "      <td>2021</td>\n",
       "      <td>100.000000</td>\n",
       "      <td>2</td>\n",
       "      <td>NaN</td>\n",
       "      <td>NaN</td>\n",
       "    </tr>\n",
       "    <tr>\n",
       "      <th>1</th>\n",
       "      <td>FCSA:DF_CPI_ANN(3.2.0)</td>\n",
       "      <td>CPI_INDEX21</td>\n",
       "      <td>INDX</td>\n",
       "      <td>AE</td>\n",
       "      <td>A</td>\n",
       "      <td>FUR</td>\n",
       "      <td>FCSA</td>\n",
       "      <td>2022</td>\n",
       "      <td>100.020000</td>\n",
       "      <td>2</td>\n",
       "      <td>NaN</td>\n",
       "      <td>NaN</td>\n",
       "    </tr>\n",
       "    <tr>\n",
       "      <th>2</th>\n",
       "      <td>FCSA:DF_CPI_ANN(3.2.0)</td>\n",
       "      <td>CPI_INDEX21</td>\n",
       "      <td>INDX</td>\n",
       "      <td>AE</td>\n",
       "      <td>A</td>\n",
       "      <td>FUR</td>\n",
       "      <td>FCSA</td>\n",
       "      <td>2023</td>\n",
       "      <td>103.223874</td>\n",
       "      <td>2</td>\n",
       "      <td>NaN</td>\n",
       "      <td>NaN</td>\n",
       "    </tr>\n",
       "    <tr>\n",
       "      <th>3</th>\n",
       "      <td>FCSA:DF_CPI_ANN(3.2.0)</td>\n",
       "      <td>CPI_ANNCHG</td>\n",
       "      <td>PERCENT</td>\n",
       "      <td>AE</td>\n",
       "      <td>A</td>\n",
       "      <td>TEX</td>\n",
       "      <td>FCSA</td>\n",
       "      <td>2010</td>\n",
       "      <td>-4.960000</td>\n",
       "      <td>2</td>\n",
       "      <td>NaN</td>\n",
       "      <td>NaN</td>\n",
       "    </tr>\n",
       "    <tr>\n",
       "      <th>4</th>\n",
       "      <td>FCSA:DF_CPI_ANN(3.2.0)</td>\n",
       "      <td>CPI_ANNCHG</td>\n",
       "      <td>PERCENT</td>\n",
       "      <td>AE</td>\n",
       "      <td>A</td>\n",
       "      <td>TEX</td>\n",
       "      <td>FCSA</td>\n",
       "      <td>2011</td>\n",
       "      <td>-1.870000</td>\n",
       "      <td>2</td>\n",
       "      <td>NaN</td>\n",
       "      <td>NaN</td>\n",
       "    </tr>\n",
       "    <tr>\n",
       "      <th>...</th>\n",
       "      <td>...</td>\n",
       "      <td>...</td>\n",
       "      <td>...</td>\n",
       "      <td>...</td>\n",
       "      <td>...</td>\n",
       "      <td>...</td>\n",
       "      <td>...</td>\n",
       "      <td>...</td>\n",
       "      <td>...</td>\n",
       "      <td>...</td>\n",
       "      <td>...</td>\n",
       "      <td>...</td>\n",
       "    </tr>\n",
       "    <tr>\n",
       "      <th>364</th>\n",
       "      <td>FCSA:DF_CPI_ANN(3.2.0)</td>\n",
       "      <td>CPI_ANNCHG</td>\n",
       "      <td>PERCENT</td>\n",
       "      <td>AE</td>\n",
       "      <td>A</td>\n",
       "      <td>REC</td>\n",
       "      <td>FCSA</td>\n",
       "      <td>2021</td>\n",
       "      <td>3.110000</td>\n",
       "      <td>2</td>\n",
       "      <td>NaN</td>\n",
       "      <td>NaN</td>\n",
       "    </tr>\n",
       "    <tr>\n",
       "      <th>365</th>\n",
       "      <td>FCSA:DF_CPI_ANN(3.2.0)</td>\n",
       "      <td>CPI_ANNCHG21</td>\n",
       "      <td>PERCENT</td>\n",
       "      <td>AE</td>\n",
       "      <td>A</td>\n",
       "      <td>EDU</td>\n",
       "      <td>FCSA</td>\n",
       "      <td>2022</td>\n",
       "      <td>0.950000</td>\n",
       "      <td>2</td>\n",
       "      <td>NaN</td>\n",
       "      <td>NaN</td>\n",
       "    </tr>\n",
       "    <tr>\n",
       "      <th>366</th>\n",
       "      <td>FCSA:DF_CPI_ANN(3.2.0)</td>\n",
       "      <td>CPI_ANNCHG21</td>\n",
       "      <td>PERCENT</td>\n",
       "      <td>AE</td>\n",
       "      <td>A</td>\n",
       "      <td>EDU</td>\n",
       "      <td>FCSA</td>\n",
       "      <td>2023</td>\n",
       "      <td>1.372461</td>\n",
       "      <td>2</td>\n",
       "      <td>NaN</td>\n",
       "      <td>NaN</td>\n",
       "    </tr>\n",
       "    <tr>\n",
       "      <th>367</th>\n",
       "      <td>FCSA:DF_CPI_ANN(3.2.0)</td>\n",
       "      <td>CPI_ANNCHG21</td>\n",
       "      <td>PERCENT</td>\n",
       "      <td>AE</td>\n",
       "      <td>A</td>\n",
       "      <td>RES</td>\n",
       "      <td>FCSA</td>\n",
       "      <td>2022</td>\n",
       "      <td>7.190000</td>\n",
       "      <td>2</td>\n",
       "      <td>NaN</td>\n",
       "      <td>NaN</td>\n",
       "    </tr>\n",
       "    <tr>\n",
       "      <th>368</th>\n",
       "      <td>FCSA:DF_CPI_ANN(3.2.0)</td>\n",
       "      <td>CPI_ANNCHG21</td>\n",
       "      <td>PERCENT</td>\n",
       "      <td>AE</td>\n",
       "      <td>A</td>\n",
       "      <td>RES</td>\n",
       "      <td>FCSA</td>\n",
       "      <td>2023</td>\n",
       "      <td>6.625620</td>\n",
       "      <td>2</td>\n",
       "      <td>NaN</td>\n",
       "      <td>NaN</td>\n",
       "    </tr>\n",
       "  </tbody>\n",
       "</table>\n",
       "<p>369 rows × 12 columns</p>\n",
       "</div>"
      ],
      "text/plain": [
       "                   DATAFLOW       MEASURE UNIT_MEASURE REF_AREA FREQ CPI_DIV  \\\n",
       "0    FCSA:DF_CPI_ANN(3.2.0)   CPI_INDEX21         INDX       AE    A     FUR   \n",
       "1    FCSA:DF_CPI_ANN(3.2.0)   CPI_INDEX21         INDX       AE    A     FUR   \n",
       "2    FCSA:DF_CPI_ANN(3.2.0)   CPI_INDEX21         INDX       AE    A     FUR   \n",
       "3    FCSA:DF_CPI_ANN(3.2.0)    CPI_ANNCHG      PERCENT       AE    A     TEX   \n",
       "4    FCSA:DF_CPI_ANN(3.2.0)    CPI_ANNCHG      PERCENT       AE    A     TEX   \n",
       "..                      ...           ...          ...      ...  ...     ...   \n",
       "364  FCSA:DF_CPI_ANN(3.2.0)    CPI_ANNCHG      PERCENT       AE    A     REC   \n",
       "365  FCSA:DF_CPI_ANN(3.2.0)  CPI_ANNCHG21      PERCENT       AE    A     EDU   \n",
       "366  FCSA:DF_CPI_ANN(3.2.0)  CPI_ANNCHG21      PERCENT       AE    A     EDU   \n",
       "367  FCSA:DF_CPI_ANN(3.2.0)  CPI_ANNCHG21      PERCENT       AE    A     RES   \n",
       "368  FCSA:DF_CPI_ANN(3.2.0)  CPI_ANNCHG21      PERCENT       AE    A     RES   \n",
       "\n",
       "    SOURCE_DETAIL  TIME_PERIOD   OBS_VALUE  DECIMALS  OBS_STATUS  UNIT_MULT  \n",
       "0            FCSA         2021  100.000000         2         NaN        NaN  \n",
       "1            FCSA         2022  100.020000         2         NaN        NaN  \n",
       "2            FCSA         2023  103.223874         2         NaN        NaN  \n",
       "3            FCSA         2010   -4.960000         2         NaN        NaN  \n",
       "4            FCSA         2011   -1.870000         2         NaN        NaN  \n",
       "..            ...          ...         ...       ...         ...        ...  \n",
       "364          FCSA         2021    3.110000         2         NaN        NaN  \n",
       "365          FCSA         2022    0.950000         2         NaN        NaN  \n",
       "366          FCSA         2023    1.372461         2         NaN        NaN  \n",
       "367          FCSA         2022    7.190000         2         NaN        NaN  \n",
       "368          FCSA         2023    6.625620         2         NaN        NaN  \n",
       "\n",
       "[369 rows x 12 columns]"
      ]
     },
     "execution_count": 21,
     "metadata": {},
     "output_type": "execute_result"
    }
   ],
   "source": [
    "cpi_annual_df"
   ]
  },
  {
   "cell_type": "code",
   "execution_count": 22,
   "metadata": {},
   "outputs": [],
   "source": [
    "# datetime_cols = [\"TIME_PERIOD\"]\n",
    "# numeric_cols = [\"Transaction Number\"]\n",
    "\n",
    "processed_cpi_annual_df = data_processor.format_and_clean_table(df=cpi_annual_df, missing_threshold=0.8)\n"
   ]
  },
  {
   "cell_type": "code",
   "execution_count": 23,
   "metadata": {},
   "outputs": [
    {
     "data": {
      "text/plain": [
       "DATAFLOW         0.0\n",
       "MEASURE          0.0\n",
       "UNIT_MEASURE     0.0\n",
       "REF_AREA         0.0\n",
       "FREQ             0.0\n",
       "CPI_DIV          0.0\n",
       "SOURCE_DETAIL    0.0\n",
       "TIME_PERIOD      0.0\n",
       "OBS_VALUE        0.0\n",
       "DECIMALS         0.0\n",
       "dtype: float64"
      ]
     },
     "execution_count": 23,
     "metadata": {},
     "output_type": "execute_result"
    }
   ],
   "source": [
    "processed_cpi_annual_df.isnull().mean() * 100"
   ]
  },
  {
   "cell_type": "code",
   "execution_count": 24,
   "metadata": {},
   "outputs": [
    {
     "name": "stdout",
     "output_type": "stream",
     "text": [
      "Shape: (369, 10)\n",
      "Dtypes: ['DATAFLOW:object', 'MEASURE:object', 'UNIT_MEASURE:object', 'REF_AREA:object', 'FREQ:object', 'CPI_DIV:object', 'SOURCE_DETAIL:object', 'TIME_PERIOD:int64', 'OBS_VALUE:float64', 'DECIMALS:int64']\n",
      "Missings (%): ['DATAFLOW:0.00%', 'MEASURE:0.00%', 'UNIT_MEASURE:0.00%', 'REF_AREA:0.00%', 'FREQ:0.00%', 'CPI_DIV:0.00%', 'SOURCE_DETAIL:0.00%', 'TIME_PERIOD:0.00%', 'OBS_VALUE:0.00%', 'DECIMALS:0.00%']\n",
      "Total missings (%): 0.00%\n",
      "total duplicates: 0\n",
      "Total memory usage: 0.03 MB\n"
     ]
    },
    {
     "data": {
      "text/html": [
       "<div>\n",
       "<style scoped>\n",
       "    .dataframe tbody tr th:only-of-type {\n",
       "        vertical-align: middle;\n",
       "    }\n",
       "\n",
       "    .dataframe tbody tr th {\n",
       "        vertical-align: top;\n",
       "    }\n",
       "\n",
       "    .dataframe thead th {\n",
       "        text-align: right;\n",
       "    }\n",
       "</style>\n",
       "<table border=\"1\" class=\"dataframe\">\n",
       "  <thead>\n",
       "    <tr style=\"text-align: right;\">\n",
       "      <th></th>\n",
       "      <th>DATAFLOW</th>\n",
       "      <th>MEASURE</th>\n",
       "      <th>UNIT_MEASURE</th>\n",
       "      <th>REF_AREA</th>\n",
       "      <th>FREQ</th>\n",
       "      <th>CPI_DIV</th>\n",
       "      <th>SOURCE_DETAIL</th>\n",
       "      <th>TIME_PERIOD</th>\n",
       "      <th>OBS_VALUE</th>\n",
       "      <th>DECIMALS</th>\n",
       "    </tr>\n",
       "  </thead>\n",
       "  <tbody>\n",
       "    <tr>\n",
       "      <th>0</th>\n",
       "      <td>FCSA:DF_CPI_ANN(3.2.0)</td>\n",
       "      <td>CPI_INDEX21</td>\n",
       "      <td>INDX</td>\n",
       "      <td>AE</td>\n",
       "      <td>A</td>\n",
       "      <td>FUR</td>\n",
       "      <td>FCSA</td>\n",
       "      <td>2021</td>\n",
       "      <td>100.00</td>\n",
       "      <td>2</td>\n",
       "    </tr>\n",
       "    <tr>\n",
       "      <th>1</th>\n",
       "      <td>FCSA:DF_CPI_ANN(3.2.0)</td>\n",
       "      <td>CPI_INDEX21</td>\n",
       "      <td>INDX</td>\n",
       "      <td>AE</td>\n",
       "      <td>A</td>\n",
       "      <td>FUR</td>\n",
       "      <td>FCSA</td>\n",
       "      <td>2022</td>\n",
       "      <td>100.02</td>\n",
       "      <td>2</td>\n",
       "    </tr>\n",
       "  </tbody>\n",
       "</table>\n",
       "</div>"
      ],
      "text/plain": [
       "                 DATAFLOW      MEASURE UNIT_MEASURE REF_AREA FREQ CPI_DIV  \\\n",
       "0  FCSA:DF_CPI_ANN(3.2.0)  CPI_INDEX21         INDX       AE    A     FUR   \n",
       "1  FCSA:DF_CPI_ANN(3.2.0)  CPI_INDEX21         INDX       AE    A     FUR   \n",
       "\n",
       "  SOURCE_DETAIL  TIME_PERIOD  OBS_VALUE  DECIMALS  \n",
       "0          FCSA         2021     100.00         2  \n",
       "1          FCSA         2022     100.02         2  "
      ]
     },
     "execution_count": 24,
     "metadata": {},
     "output_type": "execute_result"
    }
   ],
   "source": [
    "# optimized_cpi_annual_df = data_processor.optimize_dataframe_memory(cpi_annual_df)\n",
    "data_processor.display_dataframe_info(processed_cpi_annual_df)\n"
   ]
  },
  {
   "cell_type": "markdown",
   "metadata": {},
   "source": [
    "#### 4.4 `Consumer_Price_Index_Monthly.csv`"
   ]
  },
  {
   "cell_type": "code",
   "execution_count": 25,
   "metadata": {},
   "outputs": [
    {
     "name": "stdout",
     "output_type": "stream",
     "text": [
      "Loading 04_cpi_monthly from ../datasets/raw/Consumer Price Index/Consumer_Price_Index_Monthly.csv...\n"
     ]
    },
    {
     "name": "stderr",
     "output_type": "stream",
     "text": [
      "Loading files in parallel: 100%|██████████| 1/1 [00:03<00:00,  3.47s/it]\n"
     ]
    },
    {
     "name": "stdout",
     "output_type": "stream",
     "text": [
      "Shape of 04_cpi_monthly: (7361, 12)\n",
      "Columns in 04_cpi_monthly:\n",
      "Index(['DATAFLOW', 'MEASURE', 'UNIT_MEASURE', 'REF_AREA', 'FREQ', 'CPI_DIV',\n",
      "       'SOURCE_DETAIL', 'TIME_PERIOD', 'OBS_VALUE', 'DECIMALS', 'OBS_STATUS',\n",
      "       'UNIT_MULT'],\n",
      "      dtype='object')\n"
     ]
    }
   ],
   "source": [
    "cpi_monthly_df = data_loader.inspect_data(\"04_cpi_monthly\", delimiter=\",\", show_progress=False,loading_method='parallel')\n"
   ]
  },
  {
   "cell_type": "code",
   "execution_count": 26,
   "metadata": {},
   "outputs": [
    {
     "data": {
      "text/plain": [
       "DATAFLOW           0.0\n",
       "MEASURE            0.0\n",
       "UNIT_MEASURE       0.0\n",
       "REF_AREA           0.0\n",
       "FREQ               0.0\n",
       "CPI_DIV            0.0\n",
       "SOURCE_DETAIL      0.0\n",
       "TIME_PERIOD        0.0\n",
       "OBS_VALUE          0.0\n",
       "DECIMALS           0.0\n",
       "OBS_STATUS       100.0\n",
       "UNIT_MULT        100.0\n",
       "dtype: float64"
      ]
     },
     "execution_count": 26,
     "metadata": {},
     "output_type": "execute_result"
    }
   ],
   "source": [
    "cpi_monthly_df.isnull().mean() * 100"
   ]
  },
  {
   "cell_type": "code",
   "execution_count": 27,
   "metadata": {},
   "outputs": [
    {
     "data": {
      "text/html": [
       "<div>\n",
       "<style scoped>\n",
       "    .dataframe tbody tr th:only-of-type {\n",
       "        vertical-align: middle;\n",
       "    }\n",
       "\n",
       "    .dataframe tbody tr th {\n",
       "        vertical-align: top;\n",
       "    }\n",
       "\n",
       "    .dataframe thead th {\n",
       "        text-align: right;\n",
       "    }\n",
       "</style>\n",
       "<table border=\"1\" class=\"dataframe\">\n",
       "  <thead>\n",
       "    <tr style=\"text-align: right;\">\n",
       "      <th></th>\n",
       "      <th>DATAFLOW</th>\n",
       "      <th>MEASURE</th>\n",
       "      <th>UNIT_MEASURE</th>\n",
       "      <th>REF_AREA</th>\n",
       "      <th>FREQ</th>\n",
       "      <th>CPI_DIV</th>\n",
       "      <th>SOURCE_DETAIL</th>\n",
       "      <th>TIME_PERIOD</th>\n",
       "      <th>OBS_VALUE</th>\n",
       "      <th>DECIMALS</th>\n",
       "      <th>OBS_STATUS</th>\n",
       "      <th>UNIT_MULT</th>\n",
       "    </tr>\n",
       "  </thead>\n",
       "  <tbody>\n",
       "    <tr>\n",
       "      <th>0</th>\n",
       "      <td>FCSA:DF_CPI(3.2.0)</td>\n",
       "      <td>CPI_ANNCHG</td>\n",
       "      <td>PERCENT</td>\n",
       "      <td>AE</td>\n",
       "      <td>M</td>\n",
       "      <td>FUR</td>\n",
       "      <td>FCSA</td>\n",
       "      <td>2009-01</td>\n",
       "      <td>7.250000</td>\n",
       "      <td>2</td>\n",
       "      <td>NaN</td>\n",
       "      <td>NaN</td>\n",
       "    </tr>\n",
       "    <tr>\n",
       "      <th>1</th>\n",
       "      <td>FCSA:DF_CPI(3.2.0)</td>\n",
       "      <td>CPI_ANNCHG</td>\n",
       "      <td>PERCENT</td>\n",
       "      <td>AE</td>\n",
       "      <td>M</td>\n",
       "      <td>FUR</td>\n",
       "      <td>FCSA</td>\n",
       "      <td>2009-02</td>\n",
       "      <td>3.870000</td>\n",
       "      <td>2</td>\n",
       "      <td>NaN</td>\n",
       "      <td>NaN</td>\n",
       "    </tr>\n",
       "    <tr>\n",
       "      <th>2</th>\n",
       "      <td>FCSA:DF_CPI(3.2.0)</td>\n",
       "      <td>CPI_ANNCHG</td>\n",
       "      <td>PERCENT</td>\n",
       "      <td>AE</td>\n",
       "      <td>M</td>\n",
       "      <td>FUR</td>\n",
       "      <td>FCSA</td>\n",
       "      <td>2009-03</td>\n",
       "      <td>4.700000</td>\n",
       "      <td>2</td>\n",
       "      <td>NaN</td>\n",
       "      <td>NaN</td>\n",
       "    </tr>\n",
       "    <tr>\n",
       "      <th>3</th>\n",
       "      <td>FCSA:DF_CPI(3.2.0)</td>\n",
       "      <td>CPI_ANNCHG</td>\n",
       "      <td>PERCENT</td>\n",
       "      <td>AE</td>\n",
       "      <td>M</td>\n",
       "      <td>FUR</td>\n",
       "      <td>FCSA</td>\n",
       "      <td>2009-04</td>\n",
       "      <td>1.900000</td>\n",
       "      <td>2</td>\n",
       "      <td>NaN</td>\n",
       "      <td>NaN</td>\n",
       "    </tr>\n",
       "    <tr>\n",
       "      <th>4</th>\n",
       "      <td>FCSA:DF_CPI(3.2.0)</td>\n",
       "      <td>CPI_ANNCHG</td>\n",
       "      <td>PERCENT</td>\n",
       "      <td>AE</td>\n",
       "      <td>M</td>\n",
       "      <td>FUR</td>\n",
       "      <td>FCSA</td>\n",
       "      <td>2009-05</td>\n",
       "      <td>5.250000</td>\n",
       "      <td>2</td>\n",
       "      <td>NaN</td>\n",
       "      <td>NaN</td>\n",
       "    </tr>\n",
       "    <tr>\n",
       "      <th>...</th>\n",
       "      <td>...</td>\n",
       "      <td>...</td>\n",
       "      <td>...</td>\n",
       "      <td>...</td>\n",
       "      <td>...</td>\n",
       "      <td>...</td>\n",
       "      <td>...</td>\n",
       "      <td>...</td>\n",
       "      <td>...</td>\n",
       "      <td>...</td>\n",
       "      <td>...</td>\n",
       "      <td>...</td>\n",
       "    </tr>\n",
       "    <tr>\n",
       "      <th>7356</th>\n",
       "      <td>FCSA:DF_CPI(3.2.0)</td>\n",
       "      <td>CPI_MTHCHG</td>\n",
       "      <td>PERCENT</td>\n",
       "      <td>AE</td>\n",
       "      <td>M</td>\n",
       "      <td>INS</td>\n",
       "      <td>FCSA</td>\n",
       "      <td>2024-03</td>\n",
       "      <td>-1.114635</td>\n",
       "      <td>2</td>\n",
       "      <td>NaN</td>\n",
       "      <td>NaN</td>\n",
       "    </tr>\n",
       "    <tr>\n",
       "      <th>7357</th>\n",
       "      <td>FCSA:DF_CPI(3.2.0)</td>\n",
       "      <td>CPI_MTHCHG</td>\n",
       "      <td>PERCENT</td>\n",
       "      <td>AE</td>\n",
       "      <td>M</td>\n",
       "      <td>INS</td>\n",
       "      <td>FCSA</td>\n",
       "      <td>2024-04</td>\n",
       "      <td>-0.022338</td>\n",
       "      <td>2</td>\n",
       "      <td>NaN</td>\n",
       "      <td>NaN</td>\n",
       "    </tr>\n",
       "    <tr>\n",
       "      <th>7358</th>\n",
       "      <td>FCSA:DF_CPI(3.2.0)</td>\n",
       "      <td>CPI_MTHCHG</td>\n",
       "      <td>PERCENT</td>\n",
       "      <td>AE</td>\n",
       "      <td>M</td>\n",
       "      <td>INS</td>\n",
       "      <td>FCSA</td>\n",
       "      <td>2024-05</td>\n",
       "      <td>-0.005594</td>\n",
       "      <td>2</td>\n",
       "      <td>NaN</td>\n",
       "      <td>NaN</td>\n",
       "    </tr>\n",
       "    <tr>\n",
       "      <th>7359</th>\n",
       "      <td>FCSA:DF_CPI(3.2.0)</td>\n",
       "      <td>CPI_MTHCHG</td>\n",
       "      <td>PERCENT</td>\n",
       "      <td>AE</td>\n",
       "      <td>M</td>\n",
       "      <td>INS</td>\n",
       "      <td>FCSA</td>\n",
       "      <td>2024-06</td>\n",
       "      <td>2.137716</td>\n",
       "      <td>2</td>\n",
       "      <td>NaN</td>\n",
       "      <td>NaN</td>\n",
       "    </tr>\n",
       "    <tr>\n",
       "      <th>7360</th>\n",
       "      <td>FCSA:DF_CPI(3.2.0)</td>\n",
       "      <td>CPI_MTHCHG</td>\n",
       "      <td>PERCENT</td>\n",
       "      <td>AE</td>\n",
       "      <td>M</td>\n",
       "      <td>INS</td>\n",
       "      <td>FCSA</td>\n",
       "      <td>2024-07</td>\n",
       "      <td>0.299637</td>\n",
       "      <td>2</td>\n",
       "      <td>NaN</td>\n",
       "      <td>NaN</td>\n",
       "    </tr>\n",
       "  </tbody>\n",
       "</table>\n",
       "<p>7361 rows × 12 columns</p>\n",
       "</div>"
      ],
      "text/plain": [
       "                DATAFLOW     MEASURE UNIT_MEASURE REF_AREA FREQ CPI_DIV  \\\n",
       "0     FCSA:DF_CPI(3.2.0)  CPI_ANNCHG      PERCENT       AE    M     FUR   \n",
       "1     FCSA:DF_CPI(3.2.0)  CPI_ANNCHG      PERCENT       AE    M     FUR   \n",
       "2     FCSA:DF_CPI(3.2.0)  CPI_ANNCHG      PERCENT       AE    M     FUR   \n",
       "3     FCSA:DF_CPI(3.2.0)  CPI_ANNCHG      PERCENT       AE    M     FUR   \n",
       "4     FCSA:DF_CPI(3.2.0)  CPI_ANNCHG      PERCENT       AE    M     FUR   \n",
       "...                  ...         ...          ...      ...  ...     ...   \n",
       "7356  FCSA:DF_CPI(3.2.0)  CPI_MTHCHG      PERCENT       AE    M     INS   \n",
       "7357  FCSA:DF_CPI(3.2.0)  CPI_MTHCHG      PERCENT       AE    M     INS   \n",
       "7358  FCSA:DF_CPI(3.2.0)  CPI_MTHCHG      PERCENT       AE    M     INS   \n",
       "7359  FCSA:DF_CPI(3.2.0)  CPI_MTHCHG      PERCENT       AE    M     INS   \n",
       "7360  FCSA:DF_CPI(3.2.0)  CPI_MTHCHG      PERCENT       AE    M     INS   \n",
       "\n",
       "     SOURCE_DETAIL TIME_PERIOD  OBS_VALUE  DECIMALS  OBS_STATUS  UNIT_MULT  \n",
       "0             FCSA     2009-01   7.250000         2         NaN        NaN  \n",
       "1             FCSA     2009-02   3.870000         2         NaN        NaN  \n",
       "2             FCSA     2009-03   4.700000         2         NaN        NaN  \n",
       "3             FCSA     2009-04   1.900000         2         NaN        NaN  \n",
       "4             FCSA     2009-05   5.250000         2         NaN        NaN  \n",
       "...            ...         ...        ...       ...         ...        ...  \n",
       "7356          FCSA     2024-03  -1.114635         2         NaN        NaN  \n",
       "7357          FCSA     2024-04  -0.022338         2         NaN        NaN  \n",
       "7358          FCSA     2024-05  -0.005594         2         NaN        NaN  \n",
       "7359          FCSA     2024-06   2.137716         2         NaN        NaN  \n",
       "7360          FCSA     2024-07   0.299637         2         NaN        NaN  \n",
       "\n",
       "[7361 rows x 12 columns]"
      ]
     },
     "execution_count": 27,
     "metadata": {},
     "output_type": "execute_result"
    }
   ],
   "source": [
    "cpi_monthly_df"
   ]
  },
  {
   "cell_type": "code",
   "execution_count": 28,
   "metadata": {},
   "outputs": [],
   "source": [
    "processed_cpi_monthly_df = data_processor.format_and_clean_table(df=cpi_monthly_df, missing_threshold=0.8)\n"
   ]
  },
  {
   "cell_type": "code",
   "execution_count": 29,
   "metadata": {},
   "outputs": [
    {
     "name": "stdout",
     "output_type": "stream",
     "text": [
      "Shape: (7361, 10)\n",
      "Dtypes: ['DATAFLOW:object', 'MEASURE:object', 'UNIT_MEASURE:object', 'REF_AREA:object', 'FREQ:object', 'CPI_DIV:object', 'SOURCE_DETAIL:object', 'TIME_PERIOD:object', 'OBS_VALUE:float64', 'DECIMALS:int64']\n",
      "Missings (%): ['DATAFLOW:0.00%', 'MEASURE:0.00%', 'UNIT_MEASURE:0.00%', 'REF_AREA:0.00%', 'FREQ:0.00%', 'CPI_DIV:0.00%', 'SOURCE_DETAIL:0.00%', 'TIME_PERIOD:0.00%', 'OBS_VALUE:0.00%', 'DECIMALS:0.00%']\n",
      "Total missings (%): 0.00%\n",
      "total duplicates: 0\n",
      "Total memory usage: 0.56 MB\n"
     ]
    },
    {
     "data": {
      "text/html": [
       "<div>\n",
       "<style scoped>\n",
       "    .dataframe tbody tr th:only-of-type {\n",
       "        vertical-align: middle;\n",
       "    }\n",
       "\n",
       "    .dataframe tbody tr th {\n",
       "        vertical-align: top;\n",
       "    }\n",
       "\n",
       "    .dataframe thead th {\n",
       "        text-align: right;\n",
       "    }\n",
       "</style>\n",
       "<table border=\"1\" class=\"dataframe\">\n",
       "  <thead>\n",
       "    <tr style=\"text-align: right;\">\n",
       "      <th></th>\n",
       "      <th>DATAFLOW</th>\n",
       "      <th>MEASURE</th>\n",
       "      <th>UNIT_MEASURE</th>\n",
       "      <th>REF_AREA</th>\n",
       "      <th>FREQ</th>\n",
       "      <th>CPI_DIV</th>\n",
       "      <th>SOURCE_DETAIL</th>\n",
       "      <th>TIME_PERIOD</th>\n",
       "      <th>OBS_VALUE</th>\n",
       "      <th>DECIMALS</th>\n",
       "    </tr>\n",
       "  </thead>\n",
       "  <tbody>\n",
       "    <tr>\n",
       "      <th>0</th>\n",
       "      <td>FCSA:DF_CPI(3.2.0)</td>\n",
       "      <td>CPI_ANNCHG</td>\n",
       "      <td>PERCENT</td>\n",
       "      <td>AE</td>\n",
       "      <td>M</td>\n",
       "      <td>FUR</td>\n",
       "      <td>FCSA</td>\n",
       "      <td>2009-01</td>\n",
       "      <td>7.25</td>\n",
       "      <td>2</td>\n",
       "    </tr>\n",
       "    <tr>\n",
       "      <th>1</th>\n",
       "      <td>FCSA:DF_CPI(3.2.0)</td>\n",
       "      <td>CPI_ANNCHG</td>\n",
       "      <td>PERCENT</td>\n",
       "      <td>AE</td>\n",
       "      <td>M</td>\n",
       "      <td>FUR</td>\n",
       "      <td>FCSA</td>\n",
       "      <td>2009-02</td>\n",
       "      <td>3.87</td>\n",
       "      <td>2</td>\n",
       "    </tr>\n",
       "  </tbody>\n",
       "</table>\n",
       "</div>"
      ],
      "text/plain": [
       "             DATAFLOW     MEASURE UNIT_MEASURE REF_AREA FREQ CPI_DIV  \\\n",
       "0  FCSA:DF_CPI(3.2.0)  CPI_ANNCHG      PERCENT       AE    M     FUR   \n",
       "1  FCSA:DF_CPI(3.2.0)  CPI_ANNCHG      PERCENT       AE    M     FUR   \n",
       "\n",
       "  SOURCE_DETAIL TIME_PERIOD  OBS_VALUE  DECIMALS  \n",
       "0          FCSA     2009-01       7.25         2  \n",
       "1          FCSA     2009-02       3.87         2  "
      ]
     },
     "execution_count": 29,
     "metadata": {},
     "output_type": "execute_result"
    }
   ],
   "source": [
    "# optimized_cpi_monthly_df = data_processor.optimize_dataframe_memory(cpi_monthly_df)\n",
    "data_processor.display_dataframe_info(processed_cpi_monthly_df)\n"
   ]
  },
  {
   "cell_type": "markdown",
   "metadata": {},
   "source": [
    "#### 4.5 `Consumer_Price_Index_Quarterly.csv`"
   ]
  },
  {
   "cell_type": "code",
   "execution_count": 30,
   "metadata": {},
   "outputs": [
    {
     "name": "stdout",
     "output_type": "stream",
     "text": [
      "Loading 05_cpi_quarterly from ../datasets/raw/Consumer Price Index/Consumer_Price_Index_Quarterly.csv...\n"
     ]
    },
    {
     "name": "stderr",
     "output_type": "stream",
     "text": [
      "Loading files in parallel:   0%|          | 0/1 [00:00<?, ?it/s]"
     ]
    },
    {
     "name": "stderr",
     "output_type": "stream",
     "text": [
      "Loading files in parallel: 100%|██████████| 1/1 [00:03<00:00,  3.23s/it]\n"
     ]
    },
    {
     "name": "stdout",
     "output_type": "stream",
     "text": [
      "Shape of 05_cpi_quarterly: (112, 12)\n",
      "Columns in 05_cpi_quarterly:\n",
      "Index(['DATAFLOW', 'MEASURE', 'UNIT_MEASURE', 'REF_AREA', 'FREQ', 'CPI_DIV',\n",
      "       'SOURCE_DETAIL', 'TIME_PERIOD', 'OBS_VALUE', 'DECIMALS', 'OBS_STATUS',\n",
      "       'UNIT_MULT'],\n",
      "      dtype='object')\n"
     ]
    }
   ],
   "source": [
    "cpi_quarterly_df = data_loader.inspect_data(\"05_cpi_quarterly\", delimiter=\",\", show_progress=False,loading_method='parallel')\n"
   ]
  },
  {
   "cell_type": "code",
   "execution_count": 31,
   "metadata": {},
   "outputs": [
    {
     "data": {
      "text/html": [
       "<div>\n",
       "<style scoped>\n",
       "    .dataframe tbody tr th:only-of-type {\n",
       "        vertical-align: middle;\n",
       "    }\n",
       "\n",
       "    .dataframe tbody tr th {\n",
       "        vertical-align: top;\n",
       "    }\n",
       "\n",
       "    .dataframe thead th {\n",
       "        text-align: right;\n",
       "    }\n",
       "</style>\n",
       "<table border=\"1\" class=\"dataframe\">\n",
       "  <thead>\n",
       "    <tr style=\"text-align: right;\">\n",
       "      <th></th>\n",
       "      <th>DATAFLOW</th>\n",
       "      <th>MEASURE</th>\n",
       "      <th>UNIT_MEASURE</th>\n",
       "      <th>REF_AREA</th>\n",
       "      <th>FREQ</th>\n",
       "      <th>CPI_DIV</th>\n",
       "      <th>SOURCE_DETAIL</th>\n",
       "      <th>TIME_PERIOD</th>\n",
       "      <th>OBS_VALUE</th>\n",
       "      <th>DECIMALS</th>\n",
       "      <th>OBS_STATUS</th>\n",
       "      <th>UNIT_MULT</th>\n",
       "    </tr>\n",
       "  </thead>\n",
       "  <tbody>\n",
       "    <tr>\n",
       "      <th>0</th>\n",
       "      <td>FCSA:DF_CPI_Q(3.2.0)</td>\n",
       "      <td>CPI_QCHNG</td>\n",
       "      <td>PERCENT</td>\n",
       "      <td>AE</td>\n",
       "      <td>Q</td>\n",
       "      <td>HOU</td>\n",
       "      <td>FCSA</td>\n",
       "      <td>2022-Q1</td>\n",
       "      <td>-1.851788</td>\n",
       "      <td>2</td>\n",
       "      <td>NaN</td>\n",
       "      <td>NaN</td>\n",
       "    </tr>\n",
       "    <tr>\n",
       "      <th>1</th>\n",
       "      <td>FCSA:DF_CPI_Q(3.2.0)</td>\n",
       "      <td>CPI_QCHNG</td>\n",
       "      <td>PERCENT</td>\n",
       "      <td>AE</td>\n",
       "      <td>Q</td>\n",
       "      <td>HOU</td>\n",
       "      <td>FCSA</td>\n",
       "      <td>2022-Q2</td>\n",
       "      <td>-1.001258</td>\n",
       "      <td>2</td>\n",
       "      <td>NaN</td>\n",
       "      <td>NaN</td>\n",
       "    </tr>\n",
       "    <tr>\n",
       "      <th>2</th>\n",
       "      <td>FCSA:DF_CPI_Q(3.2.0)</td>\n",
       "      <td>CPI_QCHNG</td>\n",
       "      <td>PERCENT</td>\n",
       "      <td>AE</td>\n",
       "      <td>Q</td>\n",
       "      <td>HOU</td>\n",
       "      <td>FCSA</td>\n",
       "      <td>2022-Q3</td>\n",
       "      <td>0.119038</td>\n",
       "      <td>2</td>\n",
       "      <td>NaN</td>\n",
       "      <td>NaN</td>\n",
       "    </tr>\n",
       "    <tr>\n",
       "      <th>3</th>\n",
       "      <td>FCSA:DF_CPI_Q(3.2.0)</td>\n",
       "      <td>CPI_QCHNG</td>\n",
       "      <td>PERCENT</td>\n",
       "      <td>AE</td>\n",
       "      <td>Q</td>\n",
       "      <td>HOU</td>\n",
       "      <td>FCSA</td>\n",
       "      <td>2022-Q4</td>\n",
       "      <td>1.605925</td>\n",
       "      <td>2</td>\n",
       "      <td>NaN</td>\n",
       "      <td>NaN</td>\n",
       "    </tr>\n",
       "    <tr>\n",
       "      <th>4</th>\n",
       "      <td>FCSA:DF_CPI_Q(3.2.0)</td>\n",
       "      <td>CPI_QCHNG</td>\n",
       "      <td>PERCENT</td>\n",
       "      <td>AE</td>\n",
       "      <td>Q</td>\n",
       "      <td>HOU</td>\n",
       "      <td>FCSA</td>\n",
       "      <td>2023-Q1</td>\n",
       "      <td>2.451617</td>\n",
       "      <td>2</td>\n",
       "      <td>NaN</td>\n",
       "      <td>NaN</td>\n",
       "    </tr>\n",
       "    <tr>\n",
       "      <th>...</th>\n",
       "      <td>...</td>\n",
       "      <td>...</td>\n",
       "      <td>...</td>\n",
       "      <td>...</td>\n",
       "      <td>...</td>\n",
       "      <td>...</td>\n",
       "      <td>...</td>\n",
       "      <td>...</td>\n",
       "      <td>...</td>\n",
       "      <td>...</td>\n",
       "      <td>...</td>\n",
       "      <td>...</td>\n",
       "    </tr>\n",
       "    <tr>\n",
       "      <th>107</th>\n",
       "      <td>FCSA:DF_CPI_Q(3.2.0)</td>\n",
       "      <td>CPI_QCHNG</td>\n",
       "      <td>PERCENT</td>\n",
       "      <td>AE</td>\n",
       "      <td>Q</td>\n",
       "      <td>TEX</td>\n",
       "      <td>FCSA</td>\n",
       "      <td>2022-Q4</td>\n",
       "      <td>4.129407</td>\n",
       "      <td>2</td>\n",
       "      <td>NaN</td>\n",
       "      <td>NaN</td>\n",
       "    </tr>\n",
       "    <tr>\n",
       "      <th>108</th>\n",
       "      <td>FCSA:DF_CPI_Q(3.2.0)</td>\n",
       "      <td>CPI_QCHNG</td>\n",
       "      <td>PERCENT</td>\n",
       "      <td>AE</td>\n",
       "      <td>Q</td>\n",
       "      <td>TEX</td>\n",
       "      <td>FCSA</td>\n",
       "      <td>2023-Q1</td>\n",
       "      <td>4.650506</td>\n",
       "      <td>2</td>\n",
       "      <td>NaN</td>\n",
       "      <td>NaN</td>\n",
       "    </tr>\n",
       "    <tr>\n",
       "      <th>109</th>\n",
       "      <td>FCSA:DF_CPI_Q(3.2.0)</td>\n",
       "      <td>CPI_QCHNG</td>\n",
       "      <td>PERCENT</td>\n",
       "      <td>AE</td>\n",
       "      <td>Q</td>\n",
       "      <td>TEX</td>\n",
       "      <td>FCSA</td>\n",
       "      <td>2023-Q2</td>\n",
       "      <td>3.903968</td>\n",
       "      <td>2</td>\n",
       "      <td>NaN</td>\n",
       "      <td>NaN</td>\n",
       "    </tr>\n",
       "    <tr>\n",
       "      <th>110</th>\n",
       "      <td>FCSA:DF_CPI_Q(3.2.0)</td>\n",
       "      <td>CPI_QCHNG</td>\n",
       "      <td>PERCENT</td>\n",
       "      <td>AE</td>\n",
       "      <td>Q</td>\n",
       "      <td>TEX</td>\n",
       "      <td>FCSA</td>\n",
       "      <td>2023-Q3</td>\n",
       "      <td>2.964095</td>\n",
       "      <td>2</td>\n",
       "      <td>NaN</td>\n",
       "      <td>NaN</td>\n",
       "    </tr>\n",
       "    <tr>\n",
       "      <th>111</th>\n",
       "      <td>FCSA:DF_CPI_Q(3.2.0)</td>\n",
       "      <td>CPI_QCHNG</td>\n",
       "      <td>PERCENT</td>\n",
       "      <td>AE</td>\n",
       "      <td>Q</td>\n",
       "      <td>TEX</td>\n",
       "      <td>FCSA</td>\n",
       "      <td>2023-Q4</td>\n",
       "      <td>1.252795</td>\n",
       "      <td>2</td>\n",
       "      <td>NaN</td>\n",
       "      <td>NaN</td>\n",
       "    </tr>\n",
       "  </tbody>\n",
       "</table>\n",
       "<p>112 rows × 12 columns</p>\n",
       "</div>"
      ],
      "text/plain": [
       "                 DATAFLOW    MEASURE UNIT_MEASURE REF_AREA FREQ CPI_DIV  \\\n",
       "0    FCSA:DF_CPI_Q(3.2.0)  CPI_QCHNG      PERCENT       AE    Q     HOU   \n",
       "1    FCSA:DF_CPI_Q(3.2.0)  CPI_QCHNG      PERCENT       AE    Q     HOU   \n",
       "2    FCSA:DF_CPI_Q(3.2.0)  CPI_QCHNG      PERCENT       AE    Q     HOU   \n",
       "3    FCSA:DF_CPI_Q(3.2.0)  CPI_QCHNG      PERCENT       AE    Q     HOU   \n",
       "4    FCSA:DF_CPI_Q(3.2.0)  CPI_QCHNG      PERCENT       AE    Q     HOU   \n",
       "..                    ...        ...          ...      ...  ...     ...   \n",
       "107  FCSA:DF_CPI_Q(3.2.0)  CPI_QCHNG      PERCENT       AE    Q     TEX   \n",
       "108  FCSA:DF_CPI_Q(3.2.0)  CPI_QCHNG      PERCENT       AE    Q     TEX   \n",
       "109  FCSA:DF_CPI_Q(3.2.0)  CPI_QCHNG      PERCENT       AE    Q     TEX   \n",
       "110  FCSA:DF_CPI_Q(3.2.0)  CPI_QCHNG      PERCENT       AE    Q     TEX   \n",
       "111  FCSA:DF_CPI_Q(3.2.0)  CPI_QCHNG      PERCENT       AE    Q     TEX   \n",
       "\n",
       "    SOURCE_DETAIL TIME_PERIOD  OBS_VALUE  DECIMALS  OBS_STATUS  UNIT_MULT  \n",
       "0            FCSA     2022-Q1  -1.851788         2         NaN        NaN  \n",
       "1            FCSA     2022-Q2  -1.001258         2         NaN        NaN  \n",
       "2            FCSA     2022-Q3   0.119038         2         NaN        NaN  \n",
       "3            FCSA     2022-Q4   1.605925         2         NaN        NaN  \n",
       "4            FCSA     2023-Q1   2.451617         2         NaN        NaN  \n",
       "..            ...         ...        ...       ...         ...        ...  \n",
       "107          FCSA     2022-Q4   4.129407         2         NaN        NaN  \n",
       "108          FCSA     2023-Q1   4.650506         2         NaN        NaN  \n",
       "109          FCSA     2023-Q2   3.903968         2         NaN        NaN  \n",
       "110          FCSA     2023-Q3   2.964095         2         NaN        NaN  \n",
       "111          FCSA     2023-Q4   1.252795         2         NaN        NaN  \n",
       "\n",
       "[112 rows x 12 columns]"
      ]
     },
     "execution_count": 31,
     "metadata": {},
     "output_type": "execute_result"
    }
   ],
   "source": [
    "cpi_quarterly_df"
   ]
  },
  {
   "cell_type": "code",
   "execution_count": 32,
   "metadata": {},
   "outputs": [
    {
     "data": {
      "text/plain": [
       "DATAFLOW           0.0\n",
       "MEASURE            0.0\n",
       "UNIT_MEASURE       0.0\n",
       "REF_AREA           0.0\n",
       "FREQ               0.0\n",
       "CPI_DIV            0.0\n",
       "SOURCE_DETAIL      0.0\n",
       "TIME_PERIOD        0.0\n",
       "OBS_VALUE          0.0\n",
       "DECIMALS           0.0\n",
       "OBS_STATUS       100.0\n",
       "UNIT_MULT        100.0\n",
       "dtype: float64"
      ]
     },
     "execution_count": 32,
     "metadata": {},
     "output_type": "execute_result"
    }
   ],
   "source": [
    "cpi_quarterly_df.isnull().mean() * 100"
   ]
  },
  {
   "cell_type": "code",
   "execution_count": 33,
   "metadata": {},
   "outputs": [],
   "source": [
    "processed_cpi_quarterly_df = data_processor.format_and_clean_table(df=cpi_quarterly_df, missing_threshold=0.8)\n"
   ]
  },
  {
   "cell_type": "code",
   "execution_count": 34,
   "metadata": {},
   "outputs": [
    {
     "name": "stdout",
     "output_type": "stream",
     "text": [
      "Shape: (112, 10)\n",
      "Dtypes: ['DATAFLOW:object', 'MEASURE:object', 'UNIT_MEASURE:object', 'REF_AREA:object', 'FREQ:object', 'CPI_DIV:object', 'SOURCE_DETAIL:object', 'TIME_PERIOD:object', 'OBS_VALUE:float64', 'DECIMALS:int64']\n",
      "Missings (%): ['DATAFLOW:0.00%', 'MEASURE:0.00%', 'UNIT_MEASURE:0.00%', 'REF_AREA:0.00%', 'FREQ:0.00%', 'CPI_DIV:0.00%', 'SOURCE_DETAIL:0.00%', 'TIME_PERIOD:0.00%', 'OBS_VALUE:0.00%', 'DECIMALS:0.00%']\n",
      "Total missings (%): 0.00%\n",
      "total duplicates: 0\n",
      "Total memory usage: 0.01 MB\n"
     ]
    },
    {
     "data": {
      "text/html": [
       "<div>\n",
       "<style scoped>\n",
       "    .dataframe tbody tr th:only-of-type {\n",
       "        vertical-align: middle;\n",
       "    }\n",
       "\n",
       "    .dataframe tbody tr th {\n",
       "        vertical-align: top;\n",
       "    }\n",
       "\n",
       "    .dataframe thead th {\n",
       "        text-align: right;\n",
       "    }\n",
       "</style>\n",
       "<table border=\"1\" class=\"dataframe\">\n",
       "  <thead>\n",
       "    <tr style=\"text-align: right;\">\n",
       "      <th></th>\n",
       "      <th>DATAFLOW</th>\n",
       "      <th>MEASURE</th>\n",
       "      <th>UNIT_MEASURE</th>\n",
       "      <th>REF_AREA</th>\n",
       "      <th>FREQ</th>\n",
       "      <th>CPI_DIV</th>\n",
       "      <th>SOURCE_DETAIL</th>\n",
       "      <th>TIME_PERIOD</th>\n",
       "      <th>OBS_VALUE</th>\n",
       "      <th>DECIMALS</th>\n",
       "    </tr>\n",
       "  </thead>\n",
       "  <tbody>\n",
       "    <tr>\n",
       "      <th>0</th>\n",
       "      <td>FCSA:DF_CPI_Q(3.2.0)</td>\n",
       "      <td>CPI_QCHNG</td>\n",
       "      <td>PERCENT</td>\n",
       "      <td>AE</td>\n",
       "      <td>Q</td>\n",
       "      <td>HOU</td>\n",
       "      <td>FCSA</td>\n",
       "      <td>2022-Q1</td>\n",
       "      <td>-1.851788</td>\n",
       "      <td>2</td>\n",
       "    </tr>\n",
       "    <tr>\n",
       "      <th>1</th>\n",
       "      <td>FCSA:DF_CPI_Q(3.2.0)</td>\n",
       "      <td>CPI_QCHNG</td>\n",
       "      <td>PERCENT</td>\n",
       "      <td>AE</td>\n",
       "      <td>Q</td>\n",
       "      <td>HOU</td>\n",
       "      <td>FCSA</td>\n",
       "      <td>2022-Q2</td>\n",
       "      <td>-1.001258</td>\n",
       "      <td>2</td>\n",
       "    </tr>\n",
       "  </tbody>\n",
       "</table>\n",
       "</div>"
      ],
      "text/plain": [
       "               DATAFLOW    MEASURE UNIT_MEASURE REF_AREA FREQ CPI_DIV  \\\n",
       "0  FCSA:DF_CPI_Q(3.2.0)  CPI_QCHNG      PERCENT       AE    Q     HOU   \n",
       "1  FCSA:DF_CPI_Q(3.2.0)  CPI_QCHNG      PERCENT       AE    Q     HOU   \n",
       "\n",
       "  SOURCE_DETAIL TIME_PERIOD  OBS_VALUE  DECIMALS  \n",
       "0          FCSA     2022-Q1  -1.851788         2  \n",
       "1          FCSA     2022-Q2  -1.001258         2  "
      ]
     },
     "execution_count": 34,
     "metadata": {},
     "output_type": "execute_result"
    }
   ],
   "source": [
    "# optimized_cpi_monthly_df = data_processor.optimize_dataframe_memory(cpi_monthly_df)\n",
    "data_processor.display_dataframe_info(processed_cpi_quarterly_df)\n"
   ]
  },
  {
   "cell_type": "markdown",
   "metadata": {},
   "source": [
    "- Population"
   ]
  },
  {
   "cell_type": "markdown",
   "metadata": {},
   "source": [
    "#### 4.6 `Population_Estimates_and_Growth_by_Gender.csv`"
   ]
  },
  {
   "cell_type": "code",
   "execution_count": 35,
   "metadata": {},
   "outputs": [
    {
     "name": "stdout",
     "output_type": "stream",
     "text": [
      "Loading 06_population_estimates from ../datasets/raw/Population/Population_Estimates_and_Growth_by_Gender.csv...\n"
     ]
    },
    {
     "name": "stderr",
     "output_type": "stream",
     "text": [
      "Loading files in parallel: 100%|██████████| 1/1 [00:03<00:00,  3.42s/it]\n"
     ]
    },
    {
     "name": "stdout",
     "output_type": "stream",
     "text": [
      "Shape of 06_population_estimates: (162, 11)\n",
      "Columns in 06_population_estimates:\n",
      "Index(['DATAFLOW', 'MEASURE', 'POP_IND', 'UNIT_MEASURE', 'REF_AREA', 'FREQ',\n",
      "       'GENDER', 'SOURCE_DETAIL', 'TIME_PERIOD', 'OBS_VALUE', 'DECIMALS'],\n",
      "      dtype='object')\n"
     ]
    }
   ],
   "source": [
    "pop_estimates_df = data_loader.inspect_data(\"06_population_estimates\", delimiter=\",\", show_progress=False,loading_method='parallel')\n"
   ]
  },
  {
   "cell_type": "code",
   "execution_count": 36,
   "metadata": {},
   "outputs": [
    {
     "name": "stdout",
     "output_type": "stream",
     "text": [
      "['AE']\n"
     ]
    }
   ],
   "source": [
    "# Check unique values in REF_AREA column\n",
    "print(pop_estimates_df['REF_AREA'].unique())\n"
   ]
  },
  {
   "cell_type": "code",
   "execution_count": 37,
   "metadata": {},
   "outputs": [
    {
     "data": {
      "text/plain": [
       "DATAFLOW           0.0\n",
       "MEASURE            0.0\n",
       "POP_IND            0.0\n",
       "UNIT_MEASURE       0.0\n",
       "REF_AREA           0.0\n",
       "FREQ               0.0\n",
       "GENDER             0.0\n",
       "SOURCE_DETAIL      0.0\n",
       "TIME_PERIOD        0.0\n",
       "OBS_VALUE          0.0\n",
       "DECIMALS         100.0\n",
       "dtype: float64"
      ]
     },
     "execution_count": 37,
     "metadata": {},
     "output_type": "execute_result"
    }
   ],
   "source": [
    "pop_estimates_df.isnull().mean() * 100"
   ]
  },
  {
   "cell_type": "code",
   "execution_count": 38,
   "metadata": {},
   "outputs": [
    {
     "data": {
      "text/html": [
       "<div>\n",
       "<style scoped>\n",
       "    .dataframe tbody tr th:only-of-type {\n",
       "        vertical-align: middle;\n",
       "    }\n",
       "\n",
       "    .dataframe tbody tr th {\n",
       "        vertical-align: top;\n",
       "    }\n",
       "\n",
       "    .dataframe thead th {\n",
       "        text-align: right;\n",
       "    }\n",
       "</style>\n",
       "<table border=\"1\" class=\"dataframe\">\n",
       "  <thead>\n",
       "    <tr style=\"text-align: right;\">\n",
       "      <th></th>\n",
       "      <th>DATAFLOW</th>\n",
       "      <th>MEASURE</th>\n",
       "      <th>POP_IND</th>\n",
       "      <th>UNIT_MEASURE</th>\n",
       "      <th>REF_AREA</th>\n",
       "      <th>FREQ</th>\n",
       "      <th>GENDER</th>\n",
       "      <th>SOURCE_DETAIL</th>\n",
       "      <th>TIME_PERIOD</th>\n",
       "      <th>OBS_VALUE</th>\n",
       "      <th>DECIMALS</th>\n",
       "    </tr>\n",
       "  </thead>\n",
       "  <tbody>\n",
       "    <tr>\n",
       "      <th>0</th>\n",
       "      <td>FCSA:DF_POP(2.7.0)</td>\n",
       "      <td>POP</td>\n",
       "      <td>_Z</td>\n",
       "      <td>PS</td>\n",
       "      <td>AE</td>\n",
       "      <td>A</td>\n",
       "      <td>M</td>\n",
       "      <td>FCSC</td>\n",
       "      <td>1970</td>\n",
       "      <td>149195</td>\n",
       "      <td>NaN</td>\n",
       "    </tr>\n",
       "    <tr>\n",
       "      <th>1</th>\n",
       "      <td>FCSA:DF_POP(2.7.0)</td>\n",
       "      <td>POP</td>\n",
       "      <td>_Z</td>\n",
       "      <td>PS</td>\n",
       "      <td>AE</td>\n",
       "      <td>A</td>\n",
       "      <td>M</td>\n",
       "      <td>FCSC</td>\n",
       "      <td>1971</td>\n",
       "      <td>181473</td>\n",
       "      <td>NaN</td>\n",
       "    </tr>\n",
       "    <tr>\n",
       "      <th>2</th>\n",
       "      <td>FCSA:DF_POP(2.7.0)</td>\n",
       "      <td>POP</td>\n",
       "      <td>_Z</td>\n",
       "      <td>PS</td>\n",
       "      <td>AE</td>\n",
       "      <td>A</td>\n",
       "      <td>M</td>\n",
       "      <td>FCSC</td>\n",
       "      <td>1972</td>\n",
       "      <td>221774</td>\n",
       "      <td>NaN</td>\n",
       "    </tr>\n",
       "    <tr>\n",
       "      <th>3</th>\n",
       "      <td>FCSA:DF_POP(2.7.0)</td>\n",
       "      <td>POP</td>\n",
       "      <td>_Z</td>\n",
       "      <td>PS</td>\n",
       "      <td>AE</td>\n",
       "      <td>A</td>\n",
       "      <td>M</td>\n",
       "      <td>FCSC</td>\n",
       "      <td>1973</td>\n",
       "      <td>268398</td>\n",
       "      <td>NaN</td>\n",
       "    </tr>\n",
       "    <tr>\n",
       "      <th>4</th>\n",
       "      <td>FCSA:DF_POP(2.7.0)</td>\n",
       "      <td>POP</td>\n",
       "      <td>_Z</td>\n",
       "      <td>PS</td>\n",
       "      <td>AE</td>\n",
       "      <td>A</td>\n",
       "      <td>M</td>\n",
       "      <td>FCSC</td>\n",
       "      <td>1974</td>\n",
       "      <td>322544</td>\n",
       "      <td>NaN</td>\n",
       "    </tr>\n",
       "    <tr>\n",
       "      <th>...</th>\n",
       "      <td>...</td>\n",
       "      <td>...</td>\n",
       "      <td>...</td>\n",
       "      <td>...</td>\n",
       "      <td>...</td>\n",
       "      <td>...</td>\n",
       "      <td>...</td>\n",
       "      <td>...</td>\n",
       "      <td>...</td>\n",
       "      <td>...</td>\n",
       "      <td>...</td>\n",
       "    </tr>\n",
       "    <tr>\n",
       "      <th>157</th>\n",
       "      <td>FCSA:DF_POP(2.7.0)</td>\n",
       "      <td>POP</td>\n",
       "      <td>_Z</td>\n",
       "      <td>PS</td>\n",
       "      <td>AE</td>\n",
       "      <td>A</td>\n",
       "      <td>_T</td>\n",
       "      <td>FCSC</td>\n",
       "      <td>2019</td>\n",
       "      <td>9512778</td>\n",
       "      <td>NaN</td>\n",
       "    </tr>\n",
       "    <tr>\n",
       "      <th>158</th>\n",
       "      <td>FCSA:DF_POP(2.7.0)</td>\n",
       "      <td>POP</td>\n",
       "      <td>_Z</td>\n",
       "      <td>PS</td>\n",
       "      <td>AE</td>\n",
       "      <td>A</td>\n",
       "      <td>_T</td>\n",
       "      <td>FCSC</td>\n",
       "      <td>2020</td>\n",
       "      <td>9289297</td>\n",
       "      <td>NaN</td>\n",
       "    </tr>\n",
       "    <tr>\n",
       "      <th>159</th>\n",
       "      <td>FCSA:DF_POP(2.7.0)</td>\n",
       "      <td>POP</td>\n",
       "      <td>_Z</td>\n",
       "      <td>PS</td>\n",
       "      <td>AE</td>\n",
       "      <td>A</td>\n",
       "      <td>_T</td>\n",
       "      <td>FCSC</td>\n",
       "      <td>2021</td>\n",
       "      <td>9861007</td>\n",
       "      <td>NaN</td>\n",
       "    </tr>\n",
       "    <tr>\n",
       "      <th>160</th>\n",
       "      <td>FCSA:DF_POP(2.7.0)</td>\n",
       "      <td>POP</td>\n",
       "      <td>_Z</td>\n",
       "      <td>PS</td>\n",
       "      <td>AE</td>\n",
       "      <td>A</td>\n",
       "      <td>_T</td>\n",
       "      <td>FCSC</td>\n",
       "      <td>2022</td>\n",
       "      <td>10288946</td>\n",
       "      <td>NaN</td>\n",
       "    </tr>\n",
       "    <tr>\n",
       "      <th>161</th>\n",
       "      <td>FCSA:DF_POP(2.7.0)</td>\n",
       "      <td>POP</td>\n",
       "      <td>_Z</td>\n",
       "      <td>PS</td>\n",
       "      <td>AE</td>\n",
       "      <td>A</td>\n",
       "      <td>_T</td>\n",
       "      <td>FCSC</td>\n",
       "      <td>2023</td>\n",
       "      <td>10678556</td>\n",
       "      <td>NaN</td>\n",
       "    </tr>\n",
       "  </tbody>\n",
       "</table>\n",
       "<p>162 rows × 11 columns</p>\n",
       "</div>"
      ],
      "text/plain": [
       "               DATAFLOW MEASURE POP_IND UNIT_MEASURE REF_AREA FREQ GENDER  \\\n",
       "0    FCSA:DF_POP(2.7.0)     POP      _Z           PS       AE    A      M   \n",
       "1    FCSA:DF_POP(2.7.0)     POP      _Z           PS       AE    A      M   \n",
       "2    FCSA:DF_POP(2.7.0)     POP      _Z           PS       AE    A      M   \n",
       "3    FCSA:DF_POP(2.7.0)     POP      _Z           PS       AE    A      M   \n",
       "4    FCSA:DF_POP(2.7.0)     POP      _Z           PS       AE    A      M   \n",
       "..                  ...     ...     ...          ...      ...  ...    ...   \n",
       "157  FCSA:DF_POP(2.7.0)     POP      _Z           PS       AE    A     _T   \n",
       "158  FCSA:DF_POP(2.7.0)     POP      _Z           PS       AE    A     _T   \n",
       "159  FCSA:DF_POP(2.7.0)     POP      _Z           PS       AE    A     _T   \n",
       "160  FCSA:DF_POP(2.7.0)     POP      _Z           PS       AE    A     _T   \n",
       "161  FCSA:DF_POP(2.7.0)     POP      _Z           PS       AE    A     _T   \n",
       "\n",
       "    SOURCE_DETAIL  TIME_PERIOD  OBS_VALUE  DECIMALS  \n",
       "0            FCSC         1970     149195       NaN  \n",
       "1            FCSC         1971     181473       NaN  \n",
       "2            FCSC         1972     221774       NaN  \n",
       "3            FCSC         1973     268398       NaN  \n",
       "4            FCSC         1974     322544       NaN  \n",
       "..            ...          ...        ...       ...  \n",
       "157          FCSC         2019    9512778       NaN  \n",
       "158          FCSC         2020    9289297       NaN  \n",
       "159          FCSC         2021    9861007       NaN  \n",
       "160          FCSC         2022   10288946       NaN  \n",
       "161          FCSC         2023   10678556       NaN  \n",
       "\n",
       "[162 rows x 11 columns]"
      ]
     },
     "execution_count": 38,
     "metadata": {},
     "output_type": "execute_result"
    }
   ],
   "source": [
    "pop_estimates_df"
   ]
  },
  {
   "cell_type": "code",
   "execution_count": 39,
   "metadata": {},
   "outputs": [],
   "source": [
    "processed_pop_estimates_df = data_processor.format_and_clean_table(df=pop_estimates_df, missing_threshold=0.8)\n"
   ]
  },
  {
   "cell_type": "code",
   "execution_count": 40,
   "metadata": {},
   "outputs": [
    {
     "name": "stdout",
     "output_type": "stream",
     "text": [
      "Shape: (162, 10)\n",
      "Dtypes: ['DATAFLOW:object', 'MEASURE:object', 'POP_IND:object', 'UNIT_MEASURE:object', 'REF_AREA:object', 'FREQ:object', 'GENDER:object', 'SOURCE_DETAIL:object', 'TIME_PERIOD:int64', 'OBS_VALUE:int64']\n",
      "Missings (%): ['DATAFLOW:0.00%', 'MEASURE:0.00%', 'POP_IND:0.00%', 'UNIT_MEASURE:0.00%', 'REF_AREA:0.00%', 'FREQ:0.00%', 'GENDER:0.00%', 'SOURCE_DETAIL:0.00%', 'TIME_PERIOD:0.00%', 'OBS_VALUE:0.00%']\n",
      "Total missings (%): 0.00%\n",
      "total duplicates: 0\n",
      "Total memory usage: 0.01 MB\n"
     ]
    },
    {
     "data": {
      "text/html": [
       "<div>\n",
       "<style scoped>\n",
       "    .dataframe tbody tr th:only-of-type {\n",
       "        vertical-align: middle;\n",
       "    }\n",
       "\n",
       "    .dataframe tbody tr th {\n",
       "        vertical-align: top;\n",
       "    }\n",
       "\n",
       "    .dataframe thead th {\n",
       "        text-align: right;\n",
       "    }\n",
       "</style>\n",
       "<table border=\"1\" class=\"dataframe\">\n",
       "  <thead>\n",
       "    <tr style=\"text-align: right;\">\n",
       "      <th></th>\n",
       "      <th>DATAFLOW</th>\n",
       "      <th>MEASURE</th>\n",
       "      <th>POP_IND</th>\n",
       "      <th>UNIT_MEASURE</th>\n",
       "      <th>REF_AREA</th>\n",
       "      <th>FREQ</th>\n",
       "      <th>GENDER</th>\n",
       "      <th>SOURCE_DETAIL</th>\n",
       "      <th>TIME_PERIOD</th>\n",
       "      <th>OBS_VALUE</th>\n",
       "    </tr>\n",
       "  </thead>\n",
       "  <tbody>\n",
       "    <tr>\n",
       "      <th>0</th>\n",
       "      <td>FCSA:DF_POP(2.7.0)</td>\n",
       "      <td>POP</td>\n",
       "      <td>_Z</td>\n",
       "      <td>PS</td>\n",
       "      <td>AE</td>\n",
       "      <td>A</td>\n",
       "      <td>M</td>\n",
       "      <td>FCSC</td>\n",
       "      <td>1970</td>\n",
       "      <td>149195</td>\n",
       "    </tr>\n",
       "    <tr>\n",
       "      <th>1</th>\n",
       "      <td>FCSA:DF_POP(2.7.0)</td>\n",
       "      <td>POP</td>\n",
       "      <td>_Z</td>\n",
       "      <td>PS</td>\n",
       "      <td>AE</td>\n",
       "      <td>A</td>\n",
       "      <td>M</td>\n",
       "      <td>FCSC</td>\n",
       "      <td>1971</td>\n",
       "      <td>181473</td>\n",
       "    </tr>\n",
       "  </tbody>\n",
       "</table>\n",
       "</div>"
      ],
      "text/plain": [
       "             DATAFLOW MEASURE POP_IND UNIT_MEASURE REF_AREA FREQ GENDER  \\\n",
       "0  FCSA:DF_POP(2.7.0)     POP      _Z           PS       AE    A      M   \n",
       "1  FCSA:DF_POP(2.7.0)     POP      _Z           PS       AE    A      M   \n",
       "\n",
       "  SOURCE_DETAIL  TIME_PERIOD  OBS_VALUE  \n",
       "0          FCSC         1970     149195  \n",
       "1          FCSC         1971     181473  "
      ]
     },
     "execution_count": 40,
     "metadata": {},
     "output_type": "execute_result"
    }
   ],
   "source": [
    "# optimized_cpi_monthly_df = data_processor.optimize_dataframe_memory(cpi_monthly_df)\n",
    "data_processor.display_dataframe_info(processed_pop_estimates_df)\n"
   ]
  },
  {
   "cell_type": "markdown",
   "metadata": {},
   "source": [
    "#### 4.7 `Population_Indicators.csv`"
   ]
  },
  {
   "cell_type": "code",
   "execution_count": 41,
   "metadata": {},
   "outputs": [
    {
     "name": "stdout",
     "output_type": "stream",
     "text": [
      "Loading 07_population_indicators from ../datasets/raw/Population/Population_Indicators.csv...\n"
     ]
    },
    {
     "name": "stderr",
     "output_type": "stream",
     "text": [
      "Loading files in parallel: 100%|██████████| 1/1 [00:03<00:00,  3.53s/it]\n"
     ]
    },
    {
     "name": "stdout",
     "output_type": "stream",
     "text": [
      "Shape of 07_population_indicators: (18, 11)\n",
      "Columns in 07_population_indicators:\n",
      "Index(['DATAFLOW', 'MEASURE', 'POP_IND', 'UNIT_MEASURE', 'REF_AREA', 'FREQ',\n",
      "       'GENDER', 'SOURCE_DETAIL', 'TIME_PERIOD', 'OBS_VALUE', 'DECIMALS'],\n",
      "      dtype='object')\n"
     ]
    }
   ],
   "source": [
    "pop_indicators_df = data_loader.inspect_data(\"07_population_indicators\", delimiter=\",\", show_progress=False,loading_method='parallel')\n"
   ]
  },
  {
   "cell_type": "code",
   "execution_count": 42,
   "metadata": {},
   "outputs": [
    {
     "data": {
      "text/plain": [
       "DATAFLOW         0.0\n",
       "MEASURE          0.0\n",
       "POP_IND          0.0\n",
       "UNIT_MEASURE     0.0\n",
       "REF_AREA         0.0\n",
       "FREQ             0.0\n",
       "GENDER           0.0\n",
       "SOURCE_DETAIL    0.0\n",
       "TIME_PERIOD      0.0\n",
       "OBS_VALUE        0.0\n",
       "DECIMALS         0.0\n",
       "dtype: float64"
      ]
     },
     "execution_count": 42,
     "metadata": {},
     "output_type": "execute_result"
    }
   ],
   "source": [
    "pop_indicators_df.isnull().mean() * 100"
   ]
  },
  {
   "cell_type": "code",
   "execution_count": 43,
   "metadata": {},
   "outputs": [
    {
     "name": "stdout",
     "output_type": "stream",
     "text": [
      "Shape: (18, 11)\n",
      "Dtypes: ['DATAFLOW:object', 'MEASURE:object', 'POP_IND:object', 'UNIT_MEASURE:object', 'REF_AREA:object', 'FREQ:object', 'GENDER:object', 'SOURCE_DETAIL:object', 'TIME_PERIOD:int64', 'OBS_VALUE:float64', 'DECIMALS:int64']\n",
      "Missings (%): ['DATAFLOW:0.00%', 'MEASURE:0.00%', 'POP_IND:0.00%', 'UNIT_MEASURE:0.00%', 'REF_AREA:0.00%', 'FREQ:0.00%', 'GENDER:0.00%', 'SOURCE_DETAIL:0.00%', 'TIME_PERIOD:0.00%', 'OBS_VALUE:0.00%', 'DECIMALS:0.00%']\n",
      "Total missings (%): 0.00%\n",
      "total duplicates: 0\n",
      "Total memory usage: 0.00 MB\n"
     ]
    },
    {
     "data": {
      "text/html": [
       "<div>\n",
       "<style scoped>\n",
       "    .dataframe tbody tr th:only-of-type {\n",
       "        vertical-align: middle;\n",
       "    }\n",
       "\n",
       "    .dataframe tbody tr th {\n",
       "        vertical-align: top;\n",
       "    }\n",
       "\n",
       "    .dataframe thead th {\n",
       "        text-align: right;\n",
       "    }\n",
       "</style>\n",
       "<table border=\"1\" class=\"dataframe\">\n",
       "  <thead>\n",
       "    <tr style=\"text-align: right;\">\n",
       "      <th></th>\n",
       "      <th>DATAFLOW</th>\n",
       "      <th>MEASURE</th>\n",
       "      <th>POP_IND</th>\n",
       "      <th>UNIT_MEASURE</th>\n",
       "      <th>REF_AREA</th>\n",
       "      <th>FREQ</th>\n",
       "      <th>GENDER</th>\n",
       "      <th>SOURCE_DETAIL</th>\n",
       "      <th>TIME_PERIOD</th>\n",
       "      <th>OBS_VALUE</th>\n",
       "      <th>DECIMALS</th>\n",
       "    </tr>\n",
       "  </thead>\n",
       "  <tbody>\n",
       "    <tr>\n",
       "      <th>0</th>\n",
       "      <td>FCSA:DF_POP_IND(2.7.0)</td>\n",
       "      <td>POPIND</td>\n",
       "      <td>MED</td>\n",
       "      <td>YEARS</td>\n",
       "      <td>AE</td>\n",
       "      <td>A</td>\n",
       "      <td>_Z</td>\n",
       "      <td>FCSC</td>\n",
       "      <td>2019</td>\n",
       "      <td>31.3</td>\n",
       "      <td>1</td>\n",
       "    </tr>\n",
       "    <tr>\n",
       "      <th>1</th>\n",
       "      <td>FCSA:DF_POP_IND(2.7.0)</td>\n",
       "      <td>POPIND</td>\n",
       "      <td>MED</td>\n",
       "      <td>YEARS</td>\n",
       "      <td>AE</td>\n",
       "      <td>A</td>\n",
       "      <td>_Z</td>\n",
       "      <td>FCSC</td>\n",
       "      <td>2020</td>\n",
       "      <td>32.8</td>\n",
       "      <td>1</td>\n",
       "    </tr>\n",
       "  </tbody>\n",
       "</table>\n",
       "</div>"
      ],
      "text/plain": [
       "                 DATAFLOW MEASURE POP_IND UNIT_MEASURE REF_AREA FREQ GENDER  \\\n",
       "0  FCSA:DF_POP_IND(2.7.0)  POPIND     MED        YEARS       AE    A     _Z   \n",
       "1  FCSA:DF_POP_IND(2.7.0)  POPIND     MED        YEARS       AE    A     _Z   \n",
       "\n",
       "  SOURCE_DETAIL  TIME_PERIOD  OBS_VALUE  DECIMALS  \n",
       "0          FCSC         2019       31.3         1  \n",
       "1          FCSC         2020       32.8         1  "
      ]
     },
     "execution_count": 43,
     "metadata": {},
     "output_type": "execute_result"
    }
   ],
   "source": [
    "data_processor.display_dataframe_info(pop_indicators_df)"
   ]
  },
  {
   "cell_type": "markdown",
   "metadata": {},
   "source": [
    "- Tourism"
   ]
  },
  {
   "cell_type": "markdown",
   "metadata": {},
   "source": [
    "#### 4.8 `Guests_by_Hotel_Type_by_Region.csv`"
   ]
  },
  {
   "cell_type": "code",
   "execution_count": 44,
   "metadata": {},
   "outputs": [
    {
     "name": "stdout",
     "output_type": "stream",
     "text": [
      "Loading 08_tourism_regions from ../datasets/raw/Tourism/Guests_by_Hotel_Type_by_Region.csv...\n"
     ]
    },
    {
     "name": "stderr",
     "output_type": "stream",
     "text": [
      "Loading files in parallel: 100%|██████████| 1/1 [00:03<00:00,  3.15s/it]\n"
     ]
    },
    {
     "name": "stdout",
     "output_type": "stream",
     "text": [
      "Shape of 08_tourism_regions: (664, 15)\n",
      "Columns in 08_tourism_regions:\n",
      "Index(['DATAFLOW', 'MEASURE', 'UNIT_MEASURE', 'REF_AREA', 'FREQ', 'H_TYPE',\n",
      "       'H_INDICATOR', 'GUEST_REGION', 'SOURCE_DETAIL', 'TIME_PERIOD',\n",
      "       'OBS_VALUE', 'DECIMALS', 'OBS_STATUS', 'OBS_COMMENT', 'UNIT_MULT'],\n",
      "      dtype='object')\n"
     ]
    }
   ],
   "source": [
    "tourism_regions_df = data_loader.inspect_data(\"08_tourism_regions\", delimiter=\",\", show_progress=False,loading_method='parallel')\n"
   ]
  },
  {
   "cell_type": "code",
   "execution_count": 45,
   "metadata": {},
   "outputs": [
    {
     "data": {
      "text/plain": [
       "DATAFLOW           0.0\n",
       "MEASURE            0.0\n",
       "UNIT_MEASURE       0.0\n",
       "REF_AREA           0.0\n",
       "FREQ               0.0\n",
       "H_TYPE             0.0\n",
       "H_INDICATOR        0.0\n",
       "GUEST_REGION       0.0\n",
       "SOURCE_DETAIL      0.0\n",
       "TIME_PERIOD        0.0\n",
       "OBS_VALUE          0.0\n",
       "DECIMALS         100.0\n",
       "OBS_STATUS       100.0\n",
       "OBS_COMMENT      100.0\n",
       "UNIT_MULT        100.0\n",
       "dtype: float64"
      ]
     },
     "execution_count": 45,
     "metadata": {},
     "output_type": "execute_result"
    }
   ],
   "source": [
    "tourism_regions_df.isnull().mean() * 100"
   ]
  },
  {
   "cell_type": "code",
   "execution_count": 46,
   "metadata": {},
   "outputs": [],
   "source": [
    "processed_tourism_regions_df = data_processor.format_and_clean_table(df=tourism_regions_df, missing_threshold=0.8)\n"
   ]
  },
  {
   "cell_type": "code",
   "execution_count": 47,
   "metadata": {},
   "outputs": [
    {
     "name": "stdout",
     "output_type": "stream",
     "text": [
      "Shape: (664, 11)\n",
      "Dtypes: ['DATAFLOW:object', 'MEASURE:object', 'UNIT_MEASURE:object', 'REF_AREA:object', 'FREQ:object', 'H_TYPE:object', 'H_INDICATOR:object', 'GUEST_REGION:object', 'SOURCE_DETAIL:object', 'TIME_PERIOD:int64', 'OBS_VALUE:int64']\n",
      "Missings (%): ['DATAFLOW:0.00%', 'MEASURE:0.00%', 'UNIT_MEASURE:0.00%', 'REF_AREA:0.00%', 'FREQ:0.00%', 'H_TYPE:0.00%', 'H_INDICATOR:0.00%', 'GUEST_REGION:0.00%', 'SOURCE_DETAIL:0.00%', 'TIME_PERIOD:0.00%', 'OBS_VALUE:0.00%']\n",
      "Total missings (%): 0.00%\n",
      "total duplicates: 0\n",
      "Total memory usage: 0.06 MB\n"
     ]
    },
    {
     "data": {
      "text/html": [
       "<div>\n",
       "<style scoped>\n",
       "    .dataframe tbody tr th:only-of-type {\n",
       "        vertical-align: middle;\n",
       "    }\n",
       "\n",
       "    .dataframe tbody tr th {\n",
       "        vertical-align: top;\n",
       "    }\n",
       "\n",
       "    .dataframe thead th {\n",
       "        text-align: right;\n",
       "    }\n",
       "</style>\n",
       "<table border=\"1\" class=\"dataframe\">\n",
       "  <thead>\n",
       "    <tr style=\"text-align: right;\">\n",
       "      <th></th>\n",
       "      <th>DATAFLOW</th>\n",
       "      <th>MEASURE</th>\n",
       "      <th>UNIT_MEASURE</th>\n",
       "      <th>REF_AREA</th>\n",
       "      <th>FREQ</th>\n",
       "      <th>H_TYPE</th>\n",
       "      <th>H_INDICATOR</th>\n",
       "      <th>GUEST_REGION</th>\n",
       "      <th>SOURCE_DETAIL</th>\n",
       "      <th>TIME_PERIOD</th>\n",
       "      <th>OBS_VALUE</th>\n",
       "    </tr>\n",
       "  </thead>\n",
       "  <tbody>\n",
       "    <tr>\n",
       "      <th>0</th>\n",
       "      <td>FCSA:DF_GUEST_REGION(4.3.0)</td>\n",
       "      <td>H</td>\n",
       "      <td>NUMBER</td>\n",
       "      <td>AE</td>\n",
       "      <td>A</td>\n",
       "      <td>_Z</td>\n",
       "      <td>GHH</td>\n",
       "      <td>OC</td>\n",
       "      <td>FCSC</td>\n",
       "      <td>2015</td>\n",
       "      <td>399751</td>\n",
       "    </tr>\n",
       "    <tr>\n",
       "      <th>1</th>\n",
       "      <td>FCSA:DF_GUEST_REGION(4.3.0)</td>\n",
       "      <td>H</td>\n",
       "      <td>NUMBER</td>\n",
       "      <td>AE</td>\n",
       "      <td>A</td>\n",
       "      <td>_Z</td>\n",
       "      <td>GHH</td>\n",
       "      <td>OC</td>\n",
       "      <td>FCSC</td>\n",
       "      <td>2016</td>\n",
       "      <td>380717</td>\n",
       "    </tr>\n",
       "  </tbody>\n",
       "</table>\n",
       "</div>"
      ],
      "text/plain": [
       "                      DATAFLOW MEASURE UNIT_MEASURE REF_AREA FREQ H_TYPE  \\\n",
       "0  FCSA:DF_GUEST_REGION(4.3.0)       H       NUMBER       AE    A     _Z   \n",
       "1  FCSA:DF_GUEST_REGION(4.3.0)       H       NUMBER       AE    A     _Z   \n",
       "\n",
       "  H_INDICATOR GUEST_REGION SOURCE_DETAIL  TIME_PERIOD  OBS_VALUE  \n",
       "0         GHH           OC          FCSC         2015     399751  \n",
       "1         GHH           OC          FCSC         2016     380717  "
      ]
     },
     "execution_count": 47,
     "metadata": {},
     "output_type": "execute_result"
    }
   ],
   "source": [
    "data_processor.display_dataframe_info(processed_tourism_regions_df)"
   ]
  },
  {
   "cell_type": "markdown",
   "metadata": {},
   "source": [
    "#### 4.9 `Hotel_Establishments_and_Rooms_by_Rating_Type.csv`"
   ]
  },
  {
   "cell_type": "code",
   "execution_count": 48,
   "metadata": {},
   "outputs": [
    {
     "name": "stdout",
     "output_type": "stream",
     "text": [
      "Loading 09_tourism_ratings from ../datasets/raw/Tourism/Hotel_Establishments_and_Rooms_by_Rating_Type.csv...\n"
     ]
    },
    {
     "name": "stderr",
     "output_type": "stream",
     "text": [
      "Loading files in parallel: 100%|██████████| 1/1 [00:03<00:00,  3.07s/it]\n"
     ]
    },
    {
     "name": "stdout",
     "output_type": "stream",
     "text": [
      "Shape of 09_tourism_ratings: (400, 15)\n",
      "Columns in 09_tourism_ratings:\n",
      "Index(['DATAFLOW', 'MEASURE', 'UNIT_MEASURE', 'REF_AREA', 'FREQ', 'H_TYPE',\n",
      "       'H_INDICATOR', 'GUEST_REGION', 'SOURCE_DETAIL', 'TIME_PERIOD',\n",
      "       'OBS_VALUE', 'DECIMALS', 'OBS_STATUS', 'OBS_COMMENT', 'UNIT_MULT'],\n",
      "      dtype='object')\n"
     ]
    }
   ],
   "source": [
    "tourism_ratings_df = data_loader.inspect_data(\"09_tourism_ratings\", delimiter=\",\", show_progress=False,loading_method='parallel')\n"
   ]
  },
  {
   "cell_type": "code",
   "execution_count": 49,
   "metadata": {},
   "outputs": [
    {
     "data": {
      "text/plain": [
       "DATAFLOW           0.0\n",
       "MEASURE            0.0\n",
       "UNIT_MEASURE       0.0\n",
       "REF_AREA           0.0\n",
       "FREQ               0.0\n",
       "H_TYPE             0.0\n",
       "H_INDICATOR        0.0\n",
       "GUEST_REGION       0.0\n",
       "SOURCE_DETAIL      0.0\n",
       "TIME_PERIOD        0.0\n",
       "OBS_VALUE          0.0\n",
       "DECIMALS         100.0\n",
       "OBS_STATUS       100.0\n",
       "OBS_COMMENT      100.0\n",
       "UNIT_MULT        100.0\n",
       "dtype: float64"
      ]
     },
     "execution_count": 49,
     "metadata": {},
     "output_type": "execute_result"
    }
   ],
   "source": [
    "tourism_ratings_df.isnull().mean() * 100"
   ]
  },
  {
   "cell_type": "code",
   "execution_count": 50,
   "metadata": {},
   "outputs": [],
   "source": [
    "processed_tourism_ratings_df = data_processor.format_and_clean_table(df=tourism_ratings_df, missing_threshold=0.8)\n"
   ]
  },
  {
   "cell_type": "code",
   "execution_count": 51,
   "metadata": {},
   "outputs": [
    {
     "name": "stdout",
     "output_type": "stream",
     "text": [
      "Shape: (400, 11)\n",
      "Dtypes: ['DATAFLOW:object', 'MEASURE:object', 'UNIT_MEASURE:object', 'REF_AREA:object', 'FREQ:object', 'H_TYPE:object', 'H_INDICATOR:object', 'GUEST_REGION:object', 'SOURCE_DETAIL:object', 'TIME_PERIOD:int64', 'OBS_VALUE:int64']\n",
      "Missings (%): ['DATAFLOW:0.00%', 'MEASURE:0.00%', 'UNIT_MEASURE:0.00%', 'REF_AREA:0.00%', 'FREQ:0.00%', 'H_TYPE:0.00%', 'H_INDICATOR:0.00%', 'GUEST_REGION:0.00%', 'SOURCE_DETAIL:0.00%', 'TIME_PERIOD:0.00%', 'OBS_VALUE:0.00%']\n",
      "Total missings (%): 0.00%\n",
      "total duplicates: 0\n",
      "Total memory usage: 0.03 MB\n"
     ]
    },
    {
     "data": {
      "text/html": [
       "<div>\n",
       "<style scoped>\n",
       "    .dataframe tbody tr th:only-of-type {\n",
       "        vertical-align: middle;\n",
       "    }\n",
       "\n",
       "    .dataframe tbody tr th {\n",
       "        vertical-align: top;\n",
       "    }\n",
       "\n",
       "    .dataframe thead th {\n",
       "        text-align: right;\n",
       "    }\n",
       "</style>\n",
       "<table border=\"1\" class=\"dataframe\">\n",
       "  <thead>\n",
       "    <tr style=\"text-align: right;\">\n",
       "      <th></th>\n",
       "      <th>DATAFLOW</th>\n",
       "      <th>MEASURE</th>\n",
       "      <th>UNIT_MEASURE</th>\n",
       "      <th>REF_AREA</th>\n",
       "      <th>FREQ</th>\n",
       "      <th>H_TYPE</th>\n",
       "      <th>H_INDICATOR</th>\n",
       "      <th>GUEST_REGION</th>\n",
       "      <th>SOURCE_DETAIL</th>\n",
       "      <th>TIME_PERIOD</th>\n",
       "      <th>OBS_VALUE</th>\n",
       "    </tr>\n",
       "  </thead>\n",
       "  <tbody>\n",
       "    <tr>\n",
       "      <th>0</th>\n",
       "      <td>FCSA:DF_HOT_TYPE(4.3.0)</td>\n",
       "      <td>H</td>\n",
       "      <td>NUMBER</td>\n",
       "      <td>AE</td>\n",
       "      <td>A</td>\n",
       "      <td>_T</td>\n",
       "      <td>EST</td>\n",
       "      <td>_Z</td>\n",
       "      <td>FCSC</td>\n",
       "      <td>2014</td>\n",
       "      <td>1027</td>\n",
       "    </tr>\n",
       "    <tr>\n",
       "      <th>1</th>\n",
       "      <td>FCSA:DF_HOT_TYPE(4.3.0)</td>\n",
       "      <td>H</td>\n",
       "      <td>NUMBER</td>\n",
       "      <td>AE</td>\n",
       "      <td>A</td>\n",
       "      <td>_T</td>\n",
       "      <td>EST</td>\n",
       "      <td>_Z</td>\n",
       "      <td>FCSC</td>\n",
       "      <td>2015</td>\n",
       "      <td>1056</td>\n",
       "    </tr>\n",
       "  </tbody>\n",
       "</table>\n",
       "</div>"
      ],
      "text/plain": [
       "                  DATAFLOW MEASURE UNIT_MEASURE REF_AREA FREQ H_TYPE  \\\n",
       "0  FCSA:DF_HOT_TYPE(4.3.0)       H       NUMBER       AE    A     _T   \n",
       "1  FCSA:DF_HOT_TYPE(4.3.0)       H       NUMBER       AE    A     _T   \n",
       "\n",
       "  H_INDICATOR GUEST_REGION SOURCE_DETAIL  TIME_PERIOD  OBS_VALUE  \n",
       "0         EST           _Z          FCSC         2014       1027  \n",
       "1         EST           _Z          FCSC         2015       1056  "
      ]
     },
     "execution_count": 51,
     "metadata": {},
     "output_type": "execute_result"
    }
   ],
   "source": [
    "data_processor.display_dataframe_info(processed_tourism_ratings_df)"
   ]
  },
  {
   "cell_type": "markdown",
   "metadata": {},
   "source": [
    "#### 4.10 `Hotel_Establishments_Main_Indicators.csv`"
   ]
  },
  {
   "cell_type": "code",
   "execution_count": 52,
   "metadata": {},
   "outputs": [
    {
     "name": "stdout",
     "output_type": "stream",
     "text": [
      "Loading 10_tourism_indicators from ../datasets/raw/Tourism/Hotel_Establishments_Main_Indicators.csv...\n"
     ]
    },
    {
     "name": "stderr",
     "output_type": "stream",
     "text": [
      "Loading files in parallel: 100%|██████████| 1/1 [00:06<00:00,  6.35s/it]\n"
     ]
    },
    {
     "name": "stdout",
     "output_type": "stream",
     "text": [
      "Shape of 10_tourism_indicators: (201, 15)\n",
      "Columns in 10_tourism_indicators:\n",
      "Index(['DATAFLOW', 'MEASURE', 'UNIT_MEASURE', 'REF_AREA', 'FREQ', 'H_TYPE',\n",
      "       'H_INDICATOR', 'GUEST_REGION', 'SOURCE_DETAIL', 'TIME_PERIOD',\n",
      "       'OBS_VALUE', 'DECIMALS', 'OBS_STATUS', 'OBS_COMMENT', 'UNIT_MULT'],\n",
      "      dtype='object')\n"
     ]
    }
   ],
   "source": [
    "tourism_indicators_df = data_loader.inspect_data(\"10_tourism_indicators\", delimiter=\",\", show_progress=False,loading_method='parallel')\n"
   ]
  },
  {
   "cell_type": "code",
   "execution_count": 53,
   "metadata": {},
   "outputs": [
    {
     "data": {
      "text/plain": [
       "array([nan,  2.,  0.])"
      ]
     },
     "execution_count": 53,
     "metadata": {},
     "output_type": "execute_result"
    }
   ],
   "source": [
    "tourism_indicators_df['DECIMALS'].unique()"
   ]
  },
  {
   "cell_type": "code",
   "execution_count": 54,
   "metadata": {},
   "outputs": [
    {
     "data": {
      "text/plain": [
       "DATAFLOW           0.000000\n",
       "MEASURE            0.000000\n",
       "UNIT_MEASURE       0.000000\n",
       "REF_AREA           0.000000\n",
       "FREQ               0.000000\n",
       "H_TYPE             0.000000\n",
       "H_INDICATOR        0.000000\n",
       "GUEST_REGION       0.000000\n",
       "SOURCE_DETAIL      0.000000\n",
       "TIME_PERIOD        0.000000\n",
       "OBS_VALUE          0.000000\n",
       "DECIMALS          82.089552\n",
       "OBS_STATUS       100.000000\n",
       "OBS_COMMENT      100.000000\n",
       "UNIT_MULT        100.000000\n",
       "dtype: float64"
      ]
     },
     "execution_count": 54,
     "metadata": {},
     "output_type": "execute_result"
    }
   ],
   "source": [
    "tourism_indicators_df.isnull().mean() * 100"
   ]
  },
  {
   "cell_type": "code",
   "execution_count": 55,
   "metadata": {},
   "outputs": [],
   "source": [
    "processed_tourism_indicators_df = data_processor.format_and_clean_table(df=tourism_indicators_df, missing_threshold=0.8)\n"
   ]
  },
  {
   "cell_type": "markdown",
   "metadata": {},
   "source": [
    "- GDP"
   ]
  },
  {
   "cell_type": "markdown",
   "metadata": {},
   "source": [
    "#### 4.11 `GDP_Quarterly_Constant_Prices.csv`"
   ]
  },
  {
   "cell_type": "code",
   "execution_count": 56,
   "metadata": {},
   "outputs": [
    {
     "name": "stdout",
     "output_type": "stream",
     "text": [
      "Loading 11_gdp_quarterly_constant from ../datasets/raw/Gross Domestic Product/GDP_Quarterly_Constant_Prices.csv...\n"
     ]
    },
    {
     "name": "stderr",
     "output_type": "stream",
     "text": [
      "Loading files in parallel: 100%|██████████| 1/1 [00:04<00:00,  4.39s/it]\n"
     ]
    },
    {
     "name": "stdout",
     "output_type": "stream",
     "text": [
      "Shape of 11_gdp_quarterly_constant: (1920, 15)\n",
      "Columns in 11_gdp_quarterly_constant:\n",
      "Index(['DATAFLOW', 'REF_AREA', 'FREQ', 'UNIT_MEASURE', 'SOURCE_DETAIL',\n",
      "       'MEASURE', 'QUARTER', 'QGDP_SYS', 'QGDP_UNIT', 'TIME_PERIOD',\n",
      "       'OBS_VALUE', 'OBS_STATUS', 'UNIT_MULT', 'OBS_COMMENT', 'DECIMALS'],\n",
      "      dtype='object')\n"
     ]
    }
   ],
   "source": [
    "gdp_quarterly_constant_df = data_loader.inspect_data(\"11_gdp_quarterly_constant\", delimiter=\",\", show_progress=False,loading_method='parallel')\n"
   ]
  },
  {
   "cell_type": "code",
   "execution_count": 57,
   "metadata": {},
   "outputs": [
    {
     "data": {
      "text/plain": [
       "DATAFLOW           0.0\n",
       "REF_AREA           0.0\n",
       "FREQ               0.0\n",
       "UNIT_MEASURE       0.0\n",
       "SOURCE_DETAIL      0.0\n",
       "MEASURE            0.0\n",
       "QUARTER            0.0\n",
       "QGDP_SYS           0.0\n",
       "QGDP_UNIT          0.0\n",
       "TIME_PERIOD        0.0\n",
       "OBS_VALUE          0.0\n",
       "OBS_STATUS       100.0\n",
       "UNIT_MULT        100.0\n",
       "OBS_COMMENT      100.0\n",
       "DECIMALS           0.0\n",
       "dtype: float64"
      ]
     },
     "execution_count": 57,
     "metadata": {},
     "output_type": "execute_result"
    }
   ],
   "source": [
    "gdp_quarterly_constant_df.isnull().mean() * 100"
   ]
  },
  {
   "cell_type": "code",
   "execution_count": 58,
   "metadata": {},
   "outputs": [],
   "source": [
    "processed_gdp_quarterly_constant_df = data_processor.format_and_clean_table(df=gdp_quarterly_constant_df, missing_threshold=0.8)\n"
   ]
  },
  {
   "cell_type": "markdown",
   "metadata": {},
   "source": [
    "#### 4.12 `GDP_Quarterly_Current_Prices.csv`"
   ]
  },
  {
   "cell_type": "code",
   "execution_count": 59,
   "metadata": {},
   "outputs": [
    {
     "name": "stdout",
     "output_type": "stream",
     "text": [
      "Loading 12_gdp_quarterly_current from ../datasets/raw/Gross Domestic Product/GDP_Quarterly_Current_Prices.csv...\n"
     ]
    },
    {
     "name": "stderr",
     "output_type": "stream",
     "text": [
      "Loading files in parallel: 100%|██████████| 1/1 [00:02<00:00,  2.96s/it]\n"
     ]
    },
    {
     "name": "stdout",
     "output_type": "stream",
     "text": [
      "Shape of 12_gdp_quarterly_current: (1920, 15)\n",
      "Columns in 12_gdp_quarterly_current:\n",
      "Index(['DATAFLOW', 'REF_AREA', 'FREQ', 'UNIT_MEASURE', 'SOURCE_DETAIL',\n",
      "       'MEASURE', 'QUARTER', 'QGDP_SYS', 'QGDP_UNIT', 'TIME_PERIOD',\n",
      "       'OBS_VALUE', 'OBS_STATUS', 'UNIT_MULT', 'OBS_COMMENT', 'DECIMALS'],\n",
      "      dtype='object')\n"
     ]
    }
   ],
   "source": [
    "gdp_quarterly_current_df = data_loader.inspect_data(\"12_gdp_quarterly_current\", delimiter=\",\", show_progress=False,loading_method='parallel')\n"
   ]
  },
  {
   "cell_type": "code",
   "execution_count": 60,
   "metadata": {},
   "outputs": [
    {
     "data": {
      "text/plain": [
       "DATAFLOW           0.0\n",
       "REF_AREA           0.0\n",
       "FREQ               0.0\n",
       "UNIT_MEASURE       0.0\n",
       "SOURCE_DETAIL      0.0\n",
       "MEASURE            0.0\n",
       "QUARTER            0.0\n",
       "QGDP_SYS           0.0\n",
       "QGDP_UNIT          0.0\n",
       "TIME_PERIOD        0.0\n",
       "OBS_VALUE          0.0\n",
       "OBS_STATUS       100.0\n",
       "UNIT_MULT        100.0\n",
       "OBS_COMMENT      100.0\n",
       "DECIMALS           0.0\n",
       "dtype: float64"
      ]
     },
     "execution_count": 60,
     "metadata": {},
     "output_type": "execute_result"
    }
   ],
   "source": [
    "gdp_quarterly_current_df.isnull().mean() * 100"
   ]
  },
  {
   "cell_type": "code",
   "execution_count": 61,
   "metadata": {},
   "outputs": [],
   "source": [
    "processed_gdp_quarterly_current_df = data_processor.format_and_clean_table(df=gdp_quarterly_current_df, missing_threshold=0.8)\n"
   ]
  },
  {
   "cell_type": "code",
   "execution_count": 62,
   "metadata": {},
   "outputs": [
    {
     "name": "stdout",
     "output_type": "stream",
     "text": [
      "Shape: (1920, 12)\n",
      "Dtypes: ['DATAFLOW:object', 'REF_AREA:object', 'FREQ:object', 'UNIT_MEASURE:object', 'SOURCE_DETAIL:object', 'MEASURE:object', 'QUARTER:object', 'QGDP_SYS:object', 'QGDP_UNIT:object', 'TIME_PERIOD:int64', 'OBS_VALUE:float64', 'DECIMALS:int64']\n",
      "Missings (%): ['DATAFLOW:0.00%', 'REF_AREA:0.00%', 'FREQ:0.00%', 'UNIT_MEASURE:0.00%', 'SOURCE_DETAIL:0.00%', 'MEASURE:0.00%', 'QUARTER:0.00%', 'QGDP_SYS:0.00%', 'QGDP_UNIT:0.00%', 'TIME_PERIOD:0.00%', 'OBS_VALUE:0.00%', 'DECIMALS:0.00%']\n",
      "Total missings (%): 0.00%\n",
      "total duplicates: 0\n",
      "Total memory usage: 0.18 MB\n"
     ]
    },
    {
     "data": {
      "text/html": [
       "<div>\n",
       "<style scoped>\n",
       "    .dataframe tbody tr th:only-of-type {\n",
       "        vertical-align: middle;\n",
       "    }\n",
       "\n",
       "    .dataframe tbody tr th {\n",
       "        vertical-align: top;\n",
       "    }\n",
       "\n",
       "    .dataframe thead th {\n",
       "        text-align: right;\n",
       "    }\n",
       "</style>\n",
       "<table border=\"1\" class=\"dataframe\">\n",
       "  <thead>\n",
       "    <tr style=\"text-align: right;\">\n",
       "      <th></th>\n",
       "      <th>DATAFLOW</th>\n",
       "      <th>REF_AREA</th>\n",
       "      <th>FREQ</th>\n",
       "      <th>UNIT_MEASURE</th>\n",
       "      <th>SOURCE_DETAIL</th>\n",
       "      <th>MEASURE</th>\n",
       "      <th>QUARTER</th>\n",
       "      <th>QGDP_SYS</th>\n",
       "      <th>QGDP_UNIT</th>\n",
       "      <th>TIME_PERIOD</th>\n",
       "      <th>OBS_VALUE</th>\n",
       "      <th>DECIMALS</th>\n",
       "    </tr>\n",
       "  </thead>\n",
       "  <tbody>\n",
       "    <tr>\n",
       "      <th>0</th>\n",
       "      <td>FCSA:DF_QGDP_CUR(1.8.0)</td>\n",
       "      <td>AE</td>\n",
       "      <td>Q</td>\n",
       "      <td>PERCENT</td>\n",
       "      <td>FCSC</td>\n",
       "      <td>NFC</td>\n",
       "      <td>Q3</td>\n",
       "      <td>CUR</td>\n",
       "      <td>GWTH_RATE</td>\n",
       "      <td>2013</td>\n",
       "      <td>4.355075</td>\n",
       "      <td>1</td>\n",
       "    </tr>\n",
       "    <tr>\n",
       "      <th>1</th>\n",
       "      <td>FCSA:DF_QGDP_CUR(1.8.0)</td>\n",
       "      <td>AE</td>\n",
       "      <td>Q</td>\n",
       "      <td>PERCENT</td>\n",
       "      <td>FCSC</td>\n",
       "      <td>NFC</td>\n",
       "      <td>Q3</td>\n",
       "      <td>CUR</td>\n",
       "      <td>GWTH_RATE</td>\n",
       "      <td>2014</td>\n",
       "      <td>4.394883</td>\n",
       "      <td>1</td>\n",
       "    </tr>\n",
       "  </tbody>\n",
       "</table>\n",
       "</div>"
      ],
      "text/plain": [
       "                  DATAFLOW REF_AREA FREQ UNIT_MEASURE SOURCE_DETAIL MEASURE  \\\n",
       "0  FCSA:DF_QGDP_CUR(1.8.0)       AE    Q      PERCENT          FCSC     NFC   \n",
       "1  FCSA:DF_QGDP_CUR(1.8.0)       AE    Q      PERCENT          FCSC     NFC   \n",
       "\n",
       "  QUARTER QGDP_SYS  QGDP_UNIT  TIME_PERIOD  OBS_VALUE  DECIMALS  \n",
       "0      Q3      CUR  GWTH_RATE         2013   4.355075         1  \n",
       "1      Q3      CUR  GWTH_RATE         2014   4.394883         1  "
      ]
     },
     "execution_count": 62,
     "metadata": {},
     "output_type": "execute_result"
    }
   ],
   "source": [
    "data_processor.display_dataframe_info(processed_gdp_quarterly_current_df)"
   ]
  },
  {
   "cell_type": "markdown",
   "metadata": {},
   "source": [
    "- World Development Indicators"
   ]
  },
  {
   "cell_type": "markdown",
   "metadata": {},
   "source": [
    "#### 4.13 `Metadata_World_Development_Indicator.csv`"
   ]
  },
  {
   "cell_type": "code",
   "execution_count": 63,
   "metadata": {},
   "outputs": [
    {
     "name": "stdout",
     "output_type": "stream",
     "text": [
      "Loading 13_world_dev_metadata from ../datasets/raw/World Development Indicators/Metadata_World_Development_Indicator.csv...\n"
     ]
    },
    {
     "name": "stderr",
     "output_type": "stream",
     "text": [
      "Loading files in parallel: 100%|██████████| 1/1 [00:04<00:00,  4.33s/it]\n"
     ]
    },
    {
     "name": "stdout",
     "output_type": "stream",
     "text": [
      "Shape of 13_world_dev_metadata: (1496, 5)\n",
      "Columns in 13_world_dev_metadata:\n",
      "Index(['INDICATOR_CODE', 'INDICATOR_NAME', 'SOURCE_NOTE',\n",
      "       'SOURCE_ORGANIZATION', 'Unnamed: 4'],\n",
      "      dtype='object')\n"
     ]
    }
   ],
   "source": [
    "world_dev_metadata_df = data_loader.inspect_data(\"13_world_dev_metadata\", delimiter=\",\", show_progress=False,loading_method='parallel')\n"
   ]
  },
  {
   "cell_type": "code",
   "execution_count": 64,
   "metadata": {},
   "outputs": [
    {
     "data": {
      "text/plain": [
       "INDICATOR_CODE           0.0\n",
       "INDICATOR_NAME           0.0\n",
       "SOURCE_NOTE              0.0\n",
       "SOURCE_ORGANIZATION      0.0\n",
       "Unnamed: 4             100.0\n",
       "dtype: float64"
      ]
     },
     "execution_count": 64,
     "metadata": {},
     "output_type": "execute_result"
    }
   ],
   "source": [
    "world_dev_metadata_df.isnull().mean() * 100"
   ]
  },
  {
   "cell_type": "code",
   "execution_count": 65,
   "metadata": {},
   "outputs": [],
   "source": [
    "processed_world_dev_metadata_df = data_processor.format_and_clean_table(df=world_dev_metadata_df, missing_threshold=0.8)\n"
   ]
  },
  {
   "cell_type": "markdown",
   "metadata": {},
   "source": [
    "#### 4.14 `World_Development_Indicator.csv`"
   ]
  },
  {
   "cell_type": "code",
   "execution_count": 66,
   "metadata": {},
   "outputs": [
    {
     "name": "stdout",
     "output_type": "stream",
     "text": [
      "Loading 14_world_dev_indicators from ../datasets/raw/World Development Indicators/World_Development_Indicator.csv...\n"
     ]
    },
    {
     "name": "stderr",
     "output_type": "stream",
     "text": [
      "Loading files in parallel: 100%|██████████| 1/1 [00:03<00:00,  3.47s/it]\n"
     ]
    },
    {
     "name": "stdout",
     "output_type": "stream",
     "text": [
      "Shape of 14_world_dev_indicators: (1496, 69)\n",
      "Columns in 14_world_dev_indicators:\n",
      "Index(['Country Name', 'Country Code', 'Indicator Name', 'Indicator Code',\n",
      "       '1960', '1961', '1962', '1963', '1964', '1965', '1966', '1967', '1968',\n",
      "       '1969', '1970', '1971', '1972', '1973', '1974', '1975', '1976', '1977',\n",
      "       '1978', '1979', '1980', '1981', '1982', '1983', '1984', '1985', '1986',\n",
      "       '1987', '1988', '1989', '1990', '1991', '1992', '1993', '1994', '1995',\n",
      "       '1996', '1997', '1998', '1999', '2000', '2001', '2002', '2003', '2004',\n",
      "       '2005', '2006', '2007', '2008', '2009', '2010', '2011', '2012', '2013',\n",
      "       '2014', '2015', '2016', '2017', '2018', '2019', '2020', '2021', '2022',\n",
      "       '2023', 'Unnamed: 68'],\n",
      "      dtype='object')\n"
     ]
    }
   ],
   "source": [
    "world_dev_indicators_df = data_loader.inspect_data(\"14_world_dev_indicators\", delimiter=\",\", show_progress=False,loading_method='parallel', skiprows=4)\n"
   ]
  },
  {
   "cell_type": "code",
   "execution_count": 67,
   "metadata": {},
   "outputs": [
    {
     "data": {
      "text/html": [
       "<div>\n",
       "<style scoped>\n",
       "    .dataframe tbody tr th:only-of-type {\n",
       "        vertical-align: middle;\n",
       "    }\n",
       "\n",
       "    .dataframe tbody tr th {\n",
       "        vertical-align: top;\n",
       "    }\n",
       "\n",
       "    .dataframe thead th {\n",
       "        text-align: right;\n",
       "    }\n",
       "</style>\n",
       "<table border=\"1\" class=\"dataframe\">\n",
       "  <thead>\n",
       "    <tr style=\"text-align: right;\">\n",
       "      <th></th>\n",
       "      <th>Country Name</th>\n",
       "      <th>Country Code</th>\n",
       "      <th>Indicator Name</th>\n",
       "      <th>Indicator Code</th>\n",
       "      <th>1960</th>\n",
       "      <th>1961</th>\n",
       "      <th>1962</th>\n",
       "      <th>1963</th>\n",
       "      <th>1964</th>\n",
       "      <th>1965</th>\n",
       "      <th>...</th>\n",
       "      <th>2015</th>\n",
       "      <th>2016</th>\n",
       "      <th>2017</th>\n",
       "      <th>2018</th>\n",
       "      <th>2019</th>\n",
       "      <th>2020</th>\n",
       "      <th>2021</th>\n",
       "      <th>2022</th>\n",
       "      <th>2023</th>\n",
       "      <th>Unnamed: 68</th>\n",
       "    </tr>\n",
       "  </thead>\n",
       "  <tbody>\n",
       "    <tr>\n",
       "      <th>0</th>\n",
       "      <td>United Arab Emirates</td>\n",
       "      <td>ARE</td>\n",
       "      <td>International migrant stock, total</td>\n",
       "      <td>SM.POP.TOTL</td>\n",
       "      <td>2194.0</td>\n",
       "      <td>NaN</td>\n",
       "      <td>NaN</td>\n",
       "      <td>NaN</td>\n",
       "      <td>NaN</td>\n",
       "      <td>25981.0</td>\n",
       "      <td>...</td>\n",
       "      <td>8.095126e+06</td>\n",
       "      <td>NaN</td>\n",
       "      <td>NaN</td>\n",
       "      <td>NaN</td>\n",
       "      <td>NaN</td>\n",
       "      <td>NaN</td>\n",
       "      <td>NaN</td>\n",
       "      <td>NaN</td>\n",
       "      <td>NaN</td>\n",
       "      <td>NaN</td>\n",
       "    </tr>\n",
       "    <tr>\n",
       "      <th>1</th>\n",
       "      <td>United Arab Emirates</td>\n",
       "      <td>ARE</td>\n",
       "      <td>Children in employment, wage workers (% of chi...</td>\n",
       "      <td>SL.WAG.0714.ZS</td>\n",
       "      <td>NaN</td>\n",
       "      <td>NaN</td>\n",
       "      <td>NaN</td>\n",
       "      <td>NaN</td>\n",
       "      <td>NaN</td>\n",
       "      <td>NaN</td>\n",
       "      <td>...</td>\n",
       "      <td>NaN</td>\n",
       "      <td>NaN</td>\n",
       "      <td>NaN</td>\n",
       "      <td>NaN</td>\n",
       "      <td>NaN</td>\n",
       "      <td>NaN</td>\n",
       "      <td>NaN</td>\n",
       "      <td>NaN</td>\n",
       "      <td>NaN</td>\n",
       "      <td>NaN</td>\n",
       "    </tr>\n",
       "    <tr>\n",
       "      <th>2</th>\n",
       "      <td>United Arab Emirates</td>\n",
       "      <td>ARE</td>\n",
       "      <td>Unemployment, total (% of total labor force) (...</td>\n",
       "      <td>SL.UEM.TOTL.NE.ZS</td>\n",
       "      <td>NaN</td>\n",
       "      <td>NaN</td>\n",
       "      <td>NaN</td>\n",
       "      <td>NaN</td>\n",
       "      <td>NaN</td>\n",
       "      <td>NaN</td>\n",
       "      <td>...</td>\n",
       "      <td>NaN</td>\n",
       "      <td>1.640000</td>\n",
       "      <td>2.462000</td>\n",
       "      <td>2.236000</td>\n",
       "      <td>2.331000</td>\n",
       "      <td>4.294000</td>\n",
       "      <td>3.105000</td>\n",
       "      <td>2.873000</td>\n",
       "      <td>2.151</td>\n",
       "      <td>NaN</td>\n",
       "    </tr>\n",
       "    <tr>\n",
       "      <th>3</th>\n",
       "      <td>United Arab Emirates</td>\n",
       "      <td>ARE</td>\n",
       "      <td>Unemployment, female (% of female labor force)...</td>\n",
       "      <td>SL.UEM.TOTL.FE.NE.ZS</td>\n",
       "      <td>NaN</td>\n",
       "      <td>NaN</td>\n",
       "      <td>NaN</td>\n",
       "      <td>NaN</td>\n",
       "      <td>NaN</td>\n",
       "      <td>NaN</td>\n",
       "      <td>...</td>\n",
       "      <td>NaN</td>\n",
       "      <td>4.020000</td>\n",
       "      <td>7.135000</td>\n",
       "      <td>5.950000</td>\n",
       "      <td>5.348000</td>\n",
       "      <td>5.715000</td>\n",
       "      <td>6.186000</td>\n",
       "      <td>7.066000</td>\n",
       "      <td>4.266</td>\n",
       "      <td>NaN</td>\n",
       "    </tr>\n",
       "    <tr>\n",
       "      <th>4</th>\n",
       "      <td>United Arab Emirates</td>\n",
       "      <td>ARE</td>\n",
       "      <td>Share of youth not in education, employment or...</td>\n",
       "      <td>SL.UEM.NEET.MA.ME.ZS</td>\n",
       "      <td>NaN</td>\n",
       "      <td>NaN</td>\n",
       "      <td>NaN</td>\n",
       "      <td>NaN</td>\n",
       "      <td>NaN</td>\n",
       "      <td>NaN</td>\n",
       "      <td>...</td>\n",
       "      <td>5.381000e+00</td>\n",
       "      <td>5.313000</td>\n",
       "      <td>5.290000</td>\n",
       "      <td>4.183000</td>\n",
       "      <td>4.647000</td>\n",
       "      <td>10.508000</td>\n",
       "      <td>6.179000</td>\n",
       "      <td>5.253000</td>\n",
       "      <td>5.035</td>\n",
       "      <td>NaN</td>\n",
       "    </tr>\n",
       "    <tr>\n",
       "      <th>...</th>\n",
       "      <td>...</td>\n",
       "      <td>...</td>\n",
       "      <td>...</td>\n",
       "      <td>...</td>\n",
       "      <td>...</td>\n",
       "      <td>...</td>\n",
       "      <td>...</td>\n",
       "      <td>...</td>\n",
       "      <td>...</td>\n",
       "      <td>...</td>\n",
       "      <td>...</td>\n",
       "      <td>...</td>\n",
       "      <td>...</td>\n",
       "      <td>...</td>\n",
       "      <td>...</td>\n",
       "      <td>...</td>\n",
       "      <td>...</td>\n",
       "      <td>...</td>\n",
       "      <td>...</td>\n",
       "      <td>...</td>\n",
       "      <td>...</td>\n",
       "    </tr>\n",
       "    <tr>\n",
       "      <th>1491</th>\n",
       "      <td>United Arab Emirates</td>\n",
       "      <td>ARE</td>\n",
       "      <td>Carbon dioxide (CO2) emissions excluding LULUC...</td>\n",
       "      <td>EN.GHG.CO2.PC.CE.AR5</td>\n",
       "      <td>NaN</td>\n",
       "      <td>NaN</td>\n",
       "      <td>NaN</td>\n",
       "      <td>NaN</td>\n",
       "      <td>NaN</td>\n",
       "      <td>NaN</td>\n",
       "      <td>...</td>\n",
       "      <td>2.328592e+01</td>\n",
       "      <td>23.704610</td>\n",
       "      <td>22.627856</td>\n",
       "      <td>20.558285</td>\n",
       "      <td>21.553343</td>\n",
       "      <td>21.642710</td>\n",
       "      <td>22.898877</td>\n",
       "      <td>23.175120</td>\n",
       "      <td>NaN</td>\n",
       "      <td>NaN</td>\n",
       "    </tr>\n",
       "    <tr>\n",
       "      <th>1492</th>\n",
       "      <td>United Arab Emirates</td>\n",
       "      <td>ARE</td>\n",
       "      <td>Carbon dioxide (CO2) net fluxes from LULUCF - ...</td>\n",
       "      <td>EN.GHG.CO2.LU.MT.CE.AR5</td>\n",
       "      <td>NaN</td>\n",
       "      <td>NaN</td>\n",
       "      <td>NaN</td>\n",
       "      <td>NaN</td>\n",
       "      <td>NaN</td>\n",
       "      <td>NaN</td>\n",
       "      <td>...</td>\n",
       "      <td>-8.434400e+00</td>\n",
       "      <td>-8.434400</td>\n",
       "      <td>-8.434400</td>\n",
       "      <td>-8.434400</td>\n",
       "      <td>-8.434400</td>\n",
       "      <td>-8.434400</td>\n",
       "      <td>NaN</td>\n",
       "      <td>NaN</td>\n",
       "      <td>NaN</td>\n",
       "      <td>NaN</td>\n",
       "    </tr>\n",
       "    <tr>\n",
       "      <th>1493</th>\n",
       "      <td>United Arab Emirates</td>\n",
       "      <td>ARE</td>\n",
       "      <td>Carbon dioxide (CO2) emissions from Industrial...</td>\n",
       "      <td>EN.GHG.CO2.IC.MT.CE.AR5</td>\n",
       "      <td>NaN</td>\n",
       "      <td>NaN</td>\n",
       "      <td>NaN</td>\n",
       "      <td>NaN</td>\n",
       "      <td>NaN</td>\n",
       "      <td>NaN</td>\n",
       "      <td>...</td>\n",
       "      <td>8.217120e+01</td>\n",
       "      <td>84.610400</td>\n",
       "      <td>71.186200</td>\n",
       "      <td>54.390600</td>\n",
       "      <td>69.183300</td>\n",
       "      <td>74.882400</td>\n",
       "      <td>82.139800</td>\n",
       "      <td>81.851200</td>\n",
       "      <td>NaN</td>\n",
       "      <td>NaN</td>\n",
       "    </tr>\n",
       "    <tr>\n",
       "      <th>1494</th>\n",
       "      <td>United Arab Emirates</td>\n",
       "      <td>ARE</td>\n",
       "      <td>Methane (CH4) emissions (total) excluding LULU...</td>\n",
       "      <td>EN.GHG.CH4.ZG.AR5</td>\n",
       "      <td>NaN</td>\n",
       "      <td>NaN</td>\n",
       "      <td>NaN</td>\n",
       "      <td>NaN</td>\n",
       "      <td>NaN</td>\n",
       "      <td>NaN</td>\n",
       "      <td>...</td>\n",
       "      <td>9.503487e+01</td>\n",
       "      <td>100.559367</td>\n",
       "      <td>87.282672</td>\n",
       "      <td>80.649212</td>\n",
       "      <td>92.270737</td>\n",
       "      <td>87.426273</td>\n",
       "      <td>88.506287</td>\n",
       "      <td>96.481777</td>\n",
       "      <td>NaN</td>\n",
       "      <td>NaN</td>\n",
       "    </tr>\n",
       "    <tr>\n",
       "      <th>1495</th>\n",
       "      <td>United Arab Emirates</td>\n",
       "      <td>ARE</td>\n",
       "      <td>Methane (CH4) emissions (total) excluding LULU...</td>\n",
       "      <td>EN.GHG.CH4.MT.CE.AR5</td>\n",
       "      <td>NaN</td>\n",
       "      <td>NaN</td>\n",
       "      <td>NaN</td>\n",
       "      <td>NaN</td>\n",
       "      <td>NaN</td>\n",
       "      <td>NaN</td>\n",
       "      <td>...</td>\n",
       "      <td>5.188220e+01</td>\n",
       "      <td>53.351800</td>\n",
       "      <td>49.820000</td>\n",
       "      <td>48.055400</td>\n",
       "      <td>51.146900</td>\n",
       "      <td>49.858200</td>\n",
       "      <td>50.145500</td>\n",
       "      <td>52.267100</td>\n",
       "      <td>NaN</td>\n",
       "      <td>NaN</td>\n",
       "    </tr>\n",
       "  </tbody>\n",
       "</table>\n",
       "<p>1496 rows × 69 columns</p>\n",
       "</div>"
      ],
      "text/plain": [
       "              Country Name Country Code  \\\n",
       "0     United Arab Emirates          ARE   \n",
       "1     United Arab Emirates          ARE   \n",
       "2     United Arab Emirates          ARE   \n",
       "3     United Arab Emirates          ARE   \n",
       "4     United Arab Emirates          ARE   \n",
       "...                    ...          ...   \n",
       "1491  United Arab Emirates          ARE   \n",
       "1492  United Arab Emirates          ARE   \n",
       "1493  United Arab Emirates          ARE   \n",
       "1494  United Arab Emirates          ARE   \n",
       "1495  United Arab Emirates          ARE   \n",
       "\n",
       "                                         Indicator Name  \\\n",
       "0                    International migrant stock, total   \n",
       "1     Children in employment, wage workers (% of chi...   \n",
       "2     Unemployment, total (% of total labor force) (...   \n",
       "3     Unemployment, female (% of female labor force)...   \n",
       "4     Share of youth not in education, employment or...   \n",
       "...                                                 ...   \n",
       "1491  Carbon dioxide (CO2) emissions excluding LULUC...   \n",
       "1492  Carbon dioxide (CO2) net fluxes from LULUCF - ...   \n",
       "1493  Carbon dioxide (CO2) emissions from Industrial...   \n",
       "1494  Methane (CH4) emissions (total) excluding LULU...   \n",
       "1495  Methane (CH4) emissions (total) excluding LULU...   \n",
       "\n",
       "               Indicator Code    1960  1961  1962  1963  1964     1965  ...  \\\n",
       "0                 SM.POP.TOTL  2194.0   NaN   NaN   NaN   NaN  25981.0  ...   \n",
       "1              SL.WAG.0714.ZS     NaN   NaN   NaN   NaN   NaN      NaN  ...   \n",
       "2           SL.UEM.TOTL.NE.ZS     NaN   NaN   NaN   NaN   NaN      NaN  ...   \n",
       "3        SL.UEM.TOTL.FE.NE.ZS     NaN   NaN   NaN   NaN   NaN      NaN  ...   \n",
       "4        SL.UEM.NEET.MA.ME.ZS     NaN   NaN   NaN   NaN   NaN      NaN  ...   \n",
       "...                       ...     ...   ...   ...   ...   ...      ...  ...   \n",
       "1491     EN.GHG.CO2.PC.CE.AR5     NaN   NaN   NaN   NaN   NaN      NaN  ...   \n",
       "1492  EN.GHG.CO2.LU.MT.CE.AR5     NaN   NaN   NaN   NaN   NaN      NaN  ...   \n",
       "1493  EN.GHG.CO2.IC.MT.CE.AR5     NaN   NaN   NaN   NaN   NaN      NaN  ...   \n",
       "1494        EN.GHG.CH4.ZG.AR5     NaN   NaN   NaN   NaN   NaN      NaN  ...   \n",
       "1495     EN.GHG.CH4.MT.CE.AR5     NaN   NaN   NaN   NaN   NaN      NaN  ...   \n",
       "\n",
       "              2015        2016       2017       2018       2019       2020  \\\n",
       "0     8.095126e+06         NaN        NaN        NaN        NaN        NaN   \n",
       "1              NaN         NaN        NaN        NaN        NaN        NaN   \n",
       "2              NaN    1.640000   2.462000   2.236000   2.331000   4.294000   \n",
       "3              NaN    4.020000   7.135000   5.950000   5.348000   5.715000   \n",
       "4     5.381000e+00    5.313000   5.290000   4.183000   4.647000  10.508000   \n",
       "...            ...         ...        ...        ...        ...        ...   \n",
       "1491  2.328592e+01   23.704610  22.627856  20.558285  21.553343  21.642710   \n",
       "1492 -8.434400e+00   -8.434400  -8.434400  -8.434400  -8.434400  -8.434400   \n",
       "1493  8.217120e+01   84.610400  71.186200  54.390600  69.183300  74.882400   \n",
       "1494  9.503487e+01  100.559367  87.282672  80.649212  92.270737  87.426273   \n",
       "1495  5.188220e+01   53.351800  49.820000  48.055400  51.146900  49.858200   \n",
       "\n",
       "           2021       2022   2023  Unnamed: 68  \n",
       "0           NaN        NaN    NaN          NaN  \n",
       "1           NaN        NaN    NaN          NaN  \n",
       "2      3.105000   2.873000  2.151          NaN  \n",
       "3      6.186000   7.066000  4.266          NaN  \n",
       "4      6.179000   5.253000  5.035          NaN  \n",
       "...         ...        ...    ...          ...  \n",
       "1491  22.898877  23.175120    NaN          NaN  \n",
       "1492        NaN        NaN    NaN          NaN  \n",
       "1493  82.139800  81.851200    NaN          NaN  \n",
       "1494  88.506287  96.481777    NaN          NaN  \n",
       "1495  50.145500  52.267100    NaN          NaN  \n",
       "\n",
       "[1496 rows x 69 columns]"
      ]
     },
     "execution_count": 67,
     "metadata": {},
     "output_type": "execute_result"
    }
   ],
   "source": [
    "world_dev_indicators_df"
   ]
  },
  {
   "cell_type": "code",
   "execution_count": 68,
   "metadata": {},
   "outputs": [],
   "source": [
    "world_dev_indicators_melted_df = world_dev_indicators_df.melt(\n",
    "    id_vars=[\"Country Name\", \"Country Code\", \"Indicator Name\", \"Indicator Code\"],\n",
    "    var_name=\"Year\",\n",
    "    value_name=\"Value\"\n",
    ")\n"
   ]
  },
  {
   "cell_type": "code",
   "execution_count": 69,
   "metadata": {},
   "outputs": [
    {
     "data": {
      "text/html": [
       "<div>\n",
       "<style scoped>\n",
       "    .dataframe tbody tr th:only-of-type {\n",
       "        vertical-align: middle;\n",
       "    }\n",
       "\n",
       "    .dataframe tbody tr th {\n",
       "        vertical-align: top;\n",
       "    }\n",
       "\n",
       "    .dataframe thead th {\n",
       "        text-align: right;\n",
       "    }\n",
       "</style>\n",
       "<table border=\"1\" class=\"dataframe\">\n",
       "  <thead>\n",
       "    <tr style=\"text-align: right;\">\n",
       "      <th></th>\n",
       "      <th>Country Name</th>\n",
       "      <th>Country Code</th>\n",
       "      <th>Indicator Name</th>\n",
       "      <th>Indicator Code</th>\n",
       "      <th>Year</th>\n",
       "      <th>Value</th>\n",
       "    </tr>\n",
       "  </thead>\n",
       "  <tbody>\n",
       "    <tr>\n",
       "      <th>0</th>\n",
       "      <td>United Arab Emirates</td>\n",
       "      <td>ARE</td>\n",
       "      <td>International migrant stock, total</td>\n",
       "      <td>SM.POP.TOTL</td>\n",
       "      <td>1960</td>\n",
       "      <td>2194.0</td>\n",
       "    </tr>\n",
       "    <tr>\n",
       "      <th>1</th>\n",
       "      <td>United Arab Emirates</td>\n",
       "      <td>ARE</td>\n",
       "      <td>Children in employment, wage workers (% of chi...</td>\n",
       "      <td>SL.WAG.0714.ZS</td>\n",
       "      <td>1960</td>\n",
       "      <td>NaN</td>\n",
       "    </tr>\n",
       "    <tr>\n",
       "      <th>2</th>\n",
       "      <td>United Arab Emirates</td>\n",
       "      <td>ARE</td>\n",
       "      <td>Unemployment, total (% of total labor force) (...</td>\n",
       "      <td>SL.UEM.TOTL.NE.ZS</td>\n",
       "      <td>1960</td>\n",
       "      <td>NaN</td>\n",
       "    </tr>\n",
       "    <tr>\n",
       "      <th>3</th>\n",
       "      <td>United Arab Emirates</td>\n",
       "      <td>ARE</td>\n",
       "      <td>Unemployment, female (% of female labor force)...</td>\n",
       "      <td>SL.UEM.TOTL.FE.NE.ZS</td>\n",
       "      <td>1960</td>\n",
       "      <td>NaN</td>\n",
       "    </tr>\n",
       "    <tr>\n",
       "      <th>4</th>\n",
       "      <td>United Arab Emirates</td>\n",
       "      <td>ARE</td>\n",
       "      <td>Share of youth not in education, employment or...</td>\n",
       "      <td>SL.UEM.NEET.MA.ME.ZS</td>\n",
       "      <td>1960</td>\n",
       "      <td>NaN</td>\n",
       "    </tr>\n",
       "    <tr>\n",
       "      <th>...</th>\n",
       "      <td>...</td>\n",
       "      <td>...</td>\n",
       "      <td>...</td>\n",
       "      <td>...</td>\n",
       "      <td>...</td>\n",
       "      <td>...</td>\n",
       "    </tr>\n",
       "    <tr>\n",
       "      <th>97235</th>\n",
       "      <td>United Arab Emirates</td>\n",
       "      <td>ARE</td>\n",
       "      <td>Carbon dioxide (CO2) emissions excluding LULUC...</td>\n",
       "      <td>EN.GHG.CO2.PC.CE.AR5</td>\n",
       "      <td>Unnamed: 68</td>\n",
       "      <td>NaN</td>\n",
       "    </tr>\n",
       "    <tr>\n",
       "      <th>97236</th>\n",
       "      <td>United Arab Emirates</td>\n",
       "      <td>ARE</td>\n",
       "      <td>Carbon dioxide (CO2) net fluxes from LULUCF - ...</td>\n",
       "      <td>EN.GHG.CO2.LU.MT.CE.AR5</td>\n",
       "      <td>Unnamed: 68</td>\n",
       "      <td>NaN</td>\n",
       "    </tr>\n",
       "    <tr>\n",
       "      <th>97237</th>\n",
       "      <td>United Arab Emirates</td>\n",
       "      <td>ARE</td>\n",
       "      <td>Carbon dioxide (CO2) emissions from Industrial...</td>\n",
       "      <td>EN.GHG.CO2.IC.MT.CE.AR5</td>\n",
       "      <td>Unnamed: 68</td>\n",
       "      <td>NaN</td>\n",
       "    </tr>\n",
       "    <tr>\n",
       "      <th>97238</th>\n",
       "      <td>United Arab Emirates</td>\n",
       "      <td>ARE</td>\n",
       "      <td>Methane (CH4) emissions (total) excluding LULU...</td>\n",
       "      <td>EN.GHG.CH4.ZG.AR5</td>\n",
       "      <td>Unnamed: 68</td>\n",
       "      <td>NaN</td>\n",
       "    </tr>\n",
       "    <tr>\n",
       "      <th>97239</th>\n",
       "      <td>United Arab Emirates</td>\n",
       "      <td>ARE</td>\n",
       "      <td>Methane (CH4) emissions (total) excluding LULU...</td>\n",
       "      <td>EN.GHG.CH4.MT.CE.AR5</td>\n",
       "      <td>Unnamed: 68</td>\n",
       "      <td>NaN</td>\n",
       "    </tr>\n",
       "  </tbody>\n",
       "</table>\n",
       "<p>97240 rows × 6 columns</p>\n",
       "</div>"
      ],
      "text/plain": [
       "               Country Name Country Code  \\\n",
       "0      United Arab Emirates          ARE   \n",
       "1      United Arab Emirates          ARE   \n",
       "2      United Arab Emirates          ARE   \n",
       "3      United Arab Emirates          ARE   \n",
       "4      United Arab Emirates          ARE   \n",
       "...                     ...          ...   \n",
       "97235  United Arab Emirates          ARE   \n",
       "97236  United Arab Emirates          ARE   \n",
       "97237  United Arab Emirates          ARE   \n",
       "97238  United Arab Emirates          ARE   \n",
       "97239  United Arab Emirates          ARE   \n",
       "\n",
       "                                          Indicator Name  \\\n",
       "0                     International migrant stock, total   \n",
       "1      Children in employment, wage workers (% of chi...   \n",
       "2      Unemployment, total (% of total labor force) (...   \n",
       "3      Unemployment, female (% of female labor force)...   \n",
       "4      Share of youth not in education, employment or...   \n",
       "...                                                  ...   \n",
       "97235  Carbon dioxide (CO2) emissions excluding LULUC...   \n",
       "97236  Carbon dioxide (CO2) net fluxes from LULUCF - ...   \n",
       "97237  Carbon dioxide (CO2) emissions from Industrial...   \n",
       "97238  Methane (CH4) emissions (total) excluding LULU...   \n",
       "97239  Methane (CH4) emissions (total) excluding LULU...   \n",
       "\n",
       "                Indicator Code         Year   Value  \n",
       "0                  SM.POP.TOTL         1960  2194.0  \n",
       "1               SL.WAG.0714.ZS         1960     NaN  \n",
       "2            SL.UEM.TOTL.NE.ZS         1960     NaN  \n",
       "3         SL.UEM.TOTL.FE.NE.ZS         1960     NaN  \n",
       "4         SL.UEM.NEET.MA.ME.ZS         1960     NaN  \n",
       "...                        ...          ...     ...  \n",
       "97235     EN.GHG.CO2.PC.CE.AR5  Unnamed: 68     NaN  \n",
       "97236  EN.GHG.CO2.LU.MT.CE.AR5  Unnamed: 68     NaN  \n",
       "97237  EN.GHG.CO2.IC.MT.CE.AR5  Unnamed: 68     NaN  \n",
       "97238        EN.GHG.CH4.ZG.AR5  Unnamed: 68     NaN  \n",
       "97239     EN.GHG.CH4.MT.CE.AR5  Unnamed: 68     NaN  \n",
       "\n",
       "[97240 rows x 6 columns]"
      ]
     },
     "execution_count": 69,
     "metadata": {},
     "output_type": "execute_result"
    }
   ],
   "source": [
    "world_dev_indicators_melted_df"
   ]
  },
  {
   "cell_type": "code",
   "execution_count": 70,
   "metadata": {},
   "outputs": [
    {
     "data": {
      "text/plain": [
       "Country Name       0.000000\n",
       "Country Code       0.000000\n",
       "Indicator Name     0.000000\n",
       "Indicator Code     0.000000\n",
       "Year               0.000000\n",
       "Value             69.714109\n",
       "dtype: float64"
      ]
     },
     "execution_count": 70,
     "metadata": {},
     "output_type": "execute_result"
    }
   ],
   "source": [
    "world_dev_indicators_melted_df.isnull().mean() * 100"
   ]
  },
  {
   "cell_type": "markdown",
   "metadata": {},
   "source": [
    "- Currency Strength"
   ]
  },
  {
   "cell_type": "markdown",
   "metadata": {},
   "source": [
    "#### 4.15 `AED-USD.csv`"
   ]
  },
  {
   "cell_type": "code",
   "execution_count": 71,
   "metadata": {},
   "outputs": [
    {
     "name": "stdout",
     "output_type": "stream",
     "text": [
      "Loading 15_currency from ../datasets/raw/Currency Strength/AED-USD.csv...\n"
     ]
    },
    {
     "name": "stderr",
     "output_type": "stream",
     "text": [
      "Loading files in parallel: 100%|██████████| 1/1 [00:03<00:00,  3.23s/it]\n"
     ]
    },
    {
     "name": "stdout",
     "output_type": "stream",
     "text": [
      "Shape of 15_currency: (5468, 9)\n",
      "Columns in 15_currency:\n",
      "Index(['Unnamed: 0', 'Open', 'High', 'Low', 'Close', 'Adj Close', 'Volume',\n",
      "       'Date', 'Return'],\n",
      "      dtype='object')\n"
     ]
    }
   ],
   "source": [
    "currency_strength_df = data_loader.inspect_data(\"15_currency\", delimiter=\",\", show_progress=False,loading_method='parallel')\n"
   ]
  },
  {
   "cell_type": "code",
   "execution_count": 72,
   "metadata": {},
   "outputs": [
    {
     "data": {
      "text/html": [
       "<div>\n",
       "<style scoped>\n",
       "    .dataframe tbody tr th:only-of-type {\n",
       "        vertical-align: middle;\n",
       "    }\n",
       "\n",
       "    .dataframe tbody tr th {\n",
       "        vertical-align: top;\n",
       "    }\n",
       "\n",
       "    .dataframe thead th {\n",
       "        text-align: right;\n",
       "    }\n",
       "</style>\n",
       "<table border=\"1\" class=\"dataframe\">\n",
       "  <thead>\n",
       "    <tr style=\"text-align: right;\">\n",
       "      <th></th>\n",
       "      <th>Unnamed: 0</th>\n",
       "      <th>Open</th>\n",
       "      <th>High</th>\n",
       "      <th>Low</th>\n",
       "      <th>Close</th>\n",
       "      <th>Adj Close</th>\n",
       "      <th>Volume</th>\n",
       "      <th>Date</th>\n",
       "      <th>Return</th>\n",
       "    </tr>\n",
       "  </thead>\n",
       "  <tbody>\n",
       "    <tr>\n",
       "      <th>0</th>\n",
       "      <td>0</td>\n",
       "      <td>0.272331</td>\n",
       "      <td>0.272368</td>\n",
       "      <td>0.272331</td>\n",
       "      <td>0.272368</td>\n",
       "      <td>0.272368</td>\n",
       "      <td>0</td>\n",
       "      <td>2003-12-01</td>\n",
       "      <td>NaN</td>\n",
       "    </tr>\n",
       "    <tr>\n",
       "      <th>1</th>\n",
       "      <td>1</td>\n",
       "      <td>0.272413</td>\n",
       "      <td>0.272420</td>\n",
       "      <td>0.272331</td>\n",
       "      <td>0.272368</td>\n",
       "      <td>0.272368</td>\n",
       "      <td>0</td>\n",
       "      <td>2003-12-02</td>\n",
       "      <td>0.000000</td>\n",
       "    </tr>\n",
       "    <tr>\n",
       "      <th>2</th>\n",
       "      <td>2</td>\n",
       "      <td>0.272339</td>\n",
       "      <td>0.272368</td>\n",
       "      <td>0.272331</td>\n",
       "      <td>0.272368</td>\n",
       "      <td>0.272368</td>\n",
       "      <td>0</td>\n",
       "      <td>2003-12-03</td>\n",
       "      <td>0.000000</td>\n",
       "    </tr>\n",
       "    <tr>\n",
       "      <th>3</th>\n",
       "      <td>3</td>\n",
       "      <td>0.272346</td>\n",
       "      <td>0.272368</td>\n",
       "      <td>0.272331</td>\n",
       "      <td>0.272368</td>\n",
       "      <td>0.272368</td>\n",
       "      <td>0</td>\n",
       "      <td>2003-12-04</td>\n",
       "      <td>0.000000</td>\n",
       "    </tr>\n",
       "    <tr>\n",
       "      <th>4</th>\n",
       "      <td>4</td>\n",
       "      <td>0.272339</td>\n",
       "      <td>0.272346</td>\n",
       "      <td>0.272331</td>\n",
       "      <td>0.272346</td>\n",
       "      <td>0.272346</td>\n",
       "      <td>0</td>\n",
       "      <td>2003-12-05</td>\n",
       "      <td>-0.008174</td>\n",
       "    </tr>\n",
       "    <tr>\n",
       "      <th>...</th>\n",
       "      <td>...</td>\n",
       "      <td>...</td>\n",
       "      <td>...</td>\n",
       "      <td>...</td>\n",
       "      <td>...</td>\n",
       "      <td>...</td>\n",
       "      <td>...</td>\n",
       "      <td>...</td>\n",
       "      <td>...</td>\n",
       "    </tr>\n",
       "    <tr>\n",
       "      <th>5463</th>\n",
       "      <td>5463</td>\n",
       "      <td>0.272331</td>\n",
       "      <td>0.272331</td>\n",
       "      <td>0.272264</td>\n",
       "      <td>0.272331</td>\n",
       "      <td>0.272331</td>\n",
       "      <td>0</td>\n",
       "      <td>2024-11-26</td>\n",
       "      <td>0.019056</td>\n",
       "    </tr>\n",
       "    <tr>\n",
       "      <th>5464</th>\n",
       "      <td>5464</td>\n",
       "      <td>0.272331</td>\n",
       "      <td>0.272331</td>\n",
       "      <td>0.272264</td>\n",
       "      <td>0.272331</td>\n",
       "      <td>0.272331</td>\n",
       "      <td>0</td>\n",
       "      <td>2024-11-27</td>\n",
       "      <td>0.000000</td>\n",
       "    </tr>\n",
       "    <tr>\n",
       "      <th>5465</th>\n",
       "      <td>5465</td>\n",
       "      <td>0.272331</td>\n",
       "      <td>0.272331</td>\n",
       "      <td>0.272270</td>\n",
       "      <td>0.272331</td>\n",
       "      <td>0.272331</td>\n",
       "      <td>0</td>\n",
       "      <td>2024-11-28</td>\n",
       "      <td>0.000000</td>\n",
       "    </tr>\n",
       "    <tr>\n",
       "      <th>5466</th>\n",
       "      <td>5466</td>\n",
       "      <td>0.272331</td>\n",
       "      <td>0.272331</td>\n",
       "      <td>0.272264</td>\n",
       "      <td>0.272331</td>\n",
       "      <td>0.272331</td>\n",
       "      <td>0</td>\n",
       "      <td>2024-11-29</td>\n",
       "      <td>0.000000</td>\n",
       "    </tr>\n",
       "    <tr>\n",
       "      <th>5467</th>\n",
       "      <td>5467</td>\n",
       "      <td>0.272272</td>\n",
       "      <td>0.272280</td>\n",
       "      <td>0.272271</td>\n",
       "      <td>0.272279</td>\n",
       "      <td>0.272279</td>\n",
       "      <td>0</td>\n",
       "      <td>2024-12-02</td>\n",
       "      <td>-0.019052</td>\n",
       "    </tr>\n",
       "  </tbody>\n",
       "</table>\n",
       "<p>5468 rows × 9 columns</p>\n",
       "</div>"
      ],
      "text/plain": [
       "      Unnamed: 0      Open      High       Low     Close  Adj Close  Volume  \\\n",
       "0              0  0.272331  0.272368  0.272331  0.272368   0.272368       0   \n",
       "1              1  0.272413  0.272420  0.272331  0.272368   0.272368       0   \n",
       "2              2  0.272339  0.272368  0.272331  0.272368   0.272368       0   \n",
       "3              3  0.272346  0.272368  0.272331  0.272368   0.272368       0   \n",
       "4              4  0.272339  0.272346  0.272331  0.272346   0.272346       0   \n",
       "...          ...       ...       ...       ...       ...        ...     ...   \n",
       "5463        5463  0.272331  0.272331  0.272264  0.272331   0.272331       0   \n",
       "5464        5464  0.272331  0.272331  0.272264  0.272331   0.272331       0   \n",
       "5465        5465  0.272331  0.272331  0.272270  0.272331   0.272331       0   \n",
       "5466        5466  0.272331  0.272331  0.272264  0.272331   0.272331       0   \n",
       "5467        5467  0.272272  0.272280  0.272271  0.272279   0.272279       0   \n",
       "\n",
       "            Date    Return  \n",
       "0     2003-12-01       NaN  \n",
       "1     2003-12-02  0.000000  \n",
       "2     2003-12-03  0.000000  \n",
       "3     2003-12-04  0.000000  \n",
       "4     2003-12-05 -0.008174  \n",
       "...          ...       ...  \n",
       "5463  2024-11-26  0.019056  \n",
       "5464  2024-11-27  0.000000  \n",
       "5465  2024-11-28  0.000000  \n",
       "5466  2024-11-29  0.000000  \n",
       "5467  2024-12-02 -0.019052  \n",
       "\n",
       "[5468 rows x 9 columns]"
      ]
     },
     "execution_count": 72,
     "metadata": {},
     "output_type": "execute_result"
    }
   ],
   "source": [
    "currency_strength_df"
   ]
  },
  {
   "cell_type": "code",
   "execution_count": 73,
   "metadata": {},
   "outputs": [
    {
     "data": {
      "text/plain": [
       "Unnamed: 0    0.000000\n",
       "Open          0.000000\n",
       "High          0.000000\n",
       "Low           0.000000\n",
       "Close         0.000000\n",
       "Adj Close     0.000000\n",
       "Volume        0.000000\n",
       "Date          0.000000\n",
       "Return        0.018288\n",
       "dtype: float64"
      ]
     },
     "execution_count": 73,
     "metadata": {},
     "output_type": "execute_result"
    }
   ],
   "source": [
    "currency_strength_df.isnull().mean() * 100"
   ]
  },
  {
   "cell_type": "code",
   "execution_count": 74,
   "metadata": {},
   "outputs": [
    {
     "name": "stdout",
     "output_type": "stream",
     "text": [
      "Loading 03_cpi_annual from ../datasets/raw/Consumer Price Index/Consumer_Price_Index_Annually.csv...\n"
     ]
    },
    {
     "name": "stderr",
     "output_type": "stream",
     "text": [
      "Loading files in parallel: 100%|██████████| 1/1 [00:04<00:00,  4.22s/it]\n"
     ]
    },
    {
     "name": "stdout",
     "output_type": "stream",
     "text": [
      "Shape of 03_cpi_annual: (369, 12)\n",
      "Columns in 03_cpi_annual:\n",
      "Index(['DATAFLOW', 'MEASURE', 'UNIT_MEASURE', 'REF_AREA', 'FREQ', 'CPI_DIV',\n",
      "       'SOURCE_DETAIL', 'TIME_PERIOD', 'OBS_VALUE', 'DECIMALS', 'OBS_STATUS',\n",
      "       'UNIT_MULT'],\n",
      "      dtype='object')\n"
     ]
    }
   ],
   "source": [
    "cpi_annual_df = data_loader.inspect_data(\"03_cpi_annual\", delimiter=\",\", show_progress=False,loading_method='parallel')"
   ]
  },
  {
   "cell_type": "code",
   "execution_count": 75,
   "metadata": {},
   "outputs": [
    {
     "name": "stdout",
     "output_type": "stream",
     "text": [
      "Shape: (369, 12)\n",
      "Dtypes: ['DATAFLOW:object', 'MEASURE:object', 'UNIT_MEASURE:object', 'REF_AREA:object', 'FREQ:object', 'CPI_DIV:object', 'SOURCE_DETAIL:object', 'TIME_PERIOD:int64', 'OBS_VALUE:float64', 'DECIMALS:int64', 'OBS_STATUS:float64', 'UNIT_MULT:float64']\n",
      "Missings (%): ['DATAFLOW:0.00%', 'MEASURE:0.00%', 'UNIT_MEASURE:0.00%', 'REF_AREA:0.00%', 'FREQ:0.00%', 'CPI_DIV:0.00%', 'SOURCE_DETAIL:0.00%', 'TIME_PERIOD:0.00%', 'OBS_VALUE:0.00%', 'DECIMALS:0.00%', 'OBS_STATUS:100.00%', 'UNIT_MULT:100.00%']\n",
      "Total missings (%): 16.67%\n",
      "total duplicates: 0\n",
      "Total memory usage: 0.03 MB\n"
     ]
    },
    {
     "data": {
      "text/html": [
       "<div>\n",
       "<style scoped>\n",
       "    .dataframe tbody tr th:only-of-type {\n",
       "        vertical-align: middle;\n",
       "    }\n",
       "\n",
       "    .dataframe tbody tr th {\n",
       "        vertical-align: top;\n",
       "    }\n",
       "\n",
       "    .dataframe thead th {\n",
       "        text-align: right;\n",
       "    }\n",
       "</style>\n",
       "<table border=\"1\" class=\"dataframe\">\n",
       "  <thead>\n",
       "    <tr style=\"text-align: right;\">\n",
       "      <th></th>\n",
       "      <th>DATAFLOW</th>\n",
       "      <th>MEASURE</th>\n",
       "      <th>UNIT_MEASURE</th>\n",
       "      <th>REF_AREA</th>\n",
       "      <th>FREQ</th>\n",
       "      <th>CPI_DIV</th>\n",
       "      <th>SOURCE_DETAIL</th>\n",
       "      <th>TIME_PERIOD</th>\n",
       "      <th>OBS_VALUE</th>\n",
       "      <th>DECIMALS</th>\n",
       "      <th>OBS_STATUS</th>\n",
       "      <th>UNIT_MULT</th>\n",
       "    </tr>\n",
       "  </thead>\n",
       "  <tbody>\n",
       "    <tr>\n",
       "      <th>0</th>\n",
       "      <td>FCSA:DF_CPI_ANN(3.2.0)</td>\n",
       "      <td>CPI_INDEX21</td>\n",
       "      <td>INDX</td>\n",
       "      <td>AE</td>\n",
       "      <td>A</td>\n",
       "      <td>FUR</td>\n",
       "      <td>FCSA</td>\n",
       "      <td>2021</td>\n",
       "      <td>100.00</td>\n",
       "      <td>2</td>\n",
       "      <td>NaN</td>\n",
       "      <td>NaN</td>\n",
       "    </tr>\n",
       "    <tr>\n",
       "      <th>1</th>\n",
       "      <td>FCSA:DF_CPI_ANN(3.2.0)</td>\n",
       "      <td>CPI_INDEX21</td>\n",
       "      <td>INDX</td>\n",
       "      <td>AE</td>\n",
       "      <td>A</td>\n",
       "      <td>FUR</td>\n",
       "      <td>FCSA</td>\n",
       "      <td>2022</td>\n",
       "      <td>100.02</td>\n",
       "      <td>2</td>\n",
       "      <td>NaN</td>\n",
       "      <td>NaN</td>\n",
       "    </tr>\n",
       "  </tbody>\n",
       "</table>\n",
       "</div>"
      ],
      "text/plain": [
       "                 DATAFLOW      MEASURE UNIT_MEASURE REF_AREA FREQ CPI_DIV  \\\n",
       "0  FCSA:DF_CPI_ANN(3.2.0)  CPI_INDEX21         INDX       AE    A     FUR   \n",
       "1  FCSA:DF_CPI_ANN(3.2.0)  CPI_INDEX21         INDX       AE    A     FUR   \n",
       "\n",
       "  SOURCE_DETAIL  TIME_PERIOD  OBS_VALUE  DECIMALS  OBS_STATUS  UNIT_MULT  \n",
       "0          FCSA         2021     100.00         2         NaN        NaN  \n",
       "1          FCSA         2022     100.02         2         NaN        NaN  "
      ]
     },
     "execution_count": 75,
     "metadata": {},
     "output_type": "execute_result"
    }
   ],
   "source": [
    "data_processor.display_dataframe_info(cpi_annual_df)"
   ]
  },
  {
   "cell_type": "code",
   "execution_count": 76,
   "metadata": {},
   "outputs": [
    {
     "name": "stdout",
     "output_type": "stream",
     "text": [
      "<class 'pandas.core.frame.DataFrame'>\n",
      "RangeIndex: 369 entries, 0 to 368\n",
      "Data columns (total 10 columns):\n",
      " #   Column         Non-Null Count  Dtype  \n",
      "---  ------         --------------  -----  \n",
      " 0   DATAFLOW       369 non-null    object \n",
      " 1   MEASURE        369 non-null    object \n",
      " 2   UNIT_MEASURE   369 non-null    object \n",
      " 3   REF_AREA       369 non-null    object \n",
      " 4   FREQ           369 non-null    object \n",
      " 5   CPI_DIV        369 non-null    object \n",
      " 6   SOURCE_DETAIL  369 non-null    object \n",
      " 7   TIME_PERIOD    369 non-null    int64  \n",
      " 8   OBS_VALUE      369 non-null    float64\n",
      " 9   DECIMALS       369 non-null    int64  \n",
      "dtypes: float64(1), int64(2), object(7)\n",
      "memory usage: 29.0+ KB\n"
     ]
    }
   ],
   "source": [
    "processed_cpi_annual_df = data_processor.format_and_clean_table(df=cpi_annual_df, missing_threshold=0.8)\n",
    "processed_cpi_annual_df.info()\n"
   ]
  },
  {
   "cell_type": "code",
   "execution_count": 77,
   "metadata": {},
   "outputs": [
    {
     "name": "stdout",
     "output_type": "stream",
     "text": [
      "Loading 04_cpi_monthly from ../datasets/raw/Consumer Price Index/Consumer_Price_Index_Monthly.csv...\n"
     ]
    },
    {
     "name": "stderr",
     "output_type": "stream",
     "text": [
      "Loading files in parallel: 100%|██████████| 1/1 [00:03<00:00,  3.51s/it]\n"
     ]
    },
    {
     "name": "stdout",
     "output_type": "stream",
     "text": [
      "Shape of 04_cpi_monthly: (7361, 12)\n",
      "Columns in 04_cpi_monthly:\n",
      "Index(['DATAFLOW', 'MEASURE', 'UNIT_MEASURE', 'REF_AREA', 'FREQ', 'CPI_DIV',\n",
      "       'SOURCE_DETAIL', 'TIME_PERIOD', 'OBS_VALUE', 'DECIMALS', 'OBS_STATUS',\n",
      "       'UNIT_MULT'],\n",
      "      dtype='object')\n"
     ]
    }
   ],
   "source": [
    "cpi_monthly_df = data_loader.inspect_data(\"04_cpi_monthly\", delimiter=\",\", show_progress=False,loading_method='parallel')"
   ]
  },
  {
   "cell_type": "code",
   "execution_count": 78,
   "metadata": {},
   "outputs": [
    {
     "name": "stdout",
     "output_type": "stream",
     "text": [
      "<class 'pandas.core.frame.DataFrame'>\n",
      "RangeIndex: 7361 entries, 0 to 7360\n",
      "Data columns (total 10 columns):\n",
      " #   Column         Non-Null Count  Dtype  \n",
      "---  ------         --------------  -----  \n",
      " 0   DATAFLOW       7361 non-null   object \n",
      " 1   MEASURE        7361 non-null   object \n",
      " 2   UNIT_MEASURE   7361 non-null   object \n",
      " 3   REF_AREA       7361 non-null   object \n",
      " 4   FREQ           7361 non-null   object \n",
      " 5   CPI_DIV        7361 non-null   object \n",
      " 6   SOURCE_DETAIL  7361 non-null   object \n",
      " 7   TIME_PERIOD    7361 non-null   object \n",
      " 8   OBS_VALUE      7361 non-null   float64\n",
      " 9   DECIMALS       7361 non-null   int64  \n",
      "dtypes: float64(1), int64(1), object(8)\n",
      "memory usage: 575.2+ KB\n"
     ]
    }
   ],
   "source": [
    "processed_cpi_monthly_df = data_processor.format_and_clean_table(df=cpi_monthly_df, missing_threshold=0.8)\n",
    "processed_cpi_monthly_df.info()\n",
    "\n"
   ]
  },
  {
   "cell_type": "code",
   "execution_count": 79,
   "metadata": {},
   "outputs": [
    {
     "name": "stdout",
     "output_type": "stream",
     "text": [
      "Loading 05_cpi_quarterly from ../datasets/raw/Consumer Price Index/Consumer_Price_Index_Quarterly.csv...\n"
     ]
    },
    {
     "name": "stderr",
     "output_type": "stream",
     "text": [
      "Loading files in parallel: 100%|██████████| 1/1 [00:02<00:00,  2.19s/it]\n"
     ]
    },
    {
     "name": "stdout",
     "output_type": "stream",
     "text": [
      "Shape of 05_cpi_quarterly: (112, 12)\n",
      "Columns in 05_cpi_quarterly:\n",
      "Index(['DATAFLOW', 'MEASURE', 'UNIT_MEASURE', 'REF_AREA', 'FREQ', 'CPI_DIV',\n",
      "       'SOURCE_DETAIL', 'TIME_PERIOD', 'OBS_VALUE', 'DECIMALS', 'OBS_STATUS',\n",
      "       'UNIT_MULT'],\n",
      "      dtype='object')\n"
     ]
    }
   ],
   "source": [
    "cpi_quarterly_df = data_loader.inspect_data(\"05_cpi_quarterly\", delimiter=\",\", show_progress=False,loading_method='parallel')"
   ]
  },
  {
   "cell_type": "code",
   "execution_count": 80,
   "metadata": {},
   "outputs": [
    {
     "name": "stdout",
     "output_type": "stream",
     "text": [
      "<class 'pandas.core.frame.DataFrame'>\n",
      "RangeIndex: 112 entries, 0 to 111\n",
      "Data columns (total 10 columns):\n",
      " #   Column         Non-Null Count  Dtype  \n",
      "---  ------         --------------  -----  \n",
      " 0   DATAFLOW       112 non-null    object \n",
      " 1   MEASURE        112 non-null    object \n",
      " 2   UNIT_MEASURE   112 non-null    object \n",
      " 3   REF_AREA       112 non-null    object \n",
      " 4   FREQ           112 non-null    object \n",
      " 5   CPI_DIV        112 non-null    object \n",
      " 6   SOURCE_DETAIL  112 non-null    object \n",
      " 7   TIME_PERIOD    112 non-null    object \n",
      " 8   OBS_VALUE      112 non-null    float64\n",
      " 9   DECIMALS       112 non-null    int64  \n",
      "dtypes: float64(1), int64(1), object(8)\n",
      "memory usage: 8.9+ KB\n"
     ]
    }
   ],
   "source": [
    "processed_cpi_quarterly_df = data_processor.format_and_clean_table(df=cpi_quarterly_df, missing_threshold=0.8)\n",
    "processed_cpi_quarterly_df.info()"
   ]
  },
  {
   "cell_type": "markdown",
   "metadata": {},
   "source": [
    "#### 4.10 `Extra Data On Coordinates.csv`"
   ]
  },
  {
   "cell_type": "code",
   "execution_count": 81,
   "metadata": {},
   "outputs": [],
   "source": [
    "areas_cooords = pd.read_csv(\"../datasets/external/Areas_Coord.csv\")\n",
    "projects_cooords = pd.read_csv(\"../datasets/external/Projects_Coord.csv\")"
   ]
  },
  {
   "cell_type": "code",
   "execution_count": 82,
   "metadata": {},
   "outputs": [
    {
     "name": "stdout",
     "output_type": "stream",
     "text": [
      "<class 'pandas.core.frame.DataFrame'>\n",
      "RangeIndex: 1475 entries, 0 to 1474\n",
      "Data columns (total 3 columns):\n",
      " #   Column             Non-Null Count  Dtype  \n",
      "---  ------             --------------  -----  \n",
      " 0   Project            1474 non-null   object \n",
      " 1   Latitude_Project   1475 non-null   float64\n",
      " 2   Longitude_Project  1475 non-null   float64\n",
      "dtypes: float64(2), object(1)\n",
      "memory usage: 34.7+ KB\n"
     ]
    }
   ],
   "source": [
    "projects_cooords.info()"
   ]
  },
  {
   "cell_type": "code",
   "execution_count": 83,
   "metadata": {},
   "outputs": [
    {
     "name": "stdout",
     "output_type": "stream",
     "text": [
      "<class 'pandas.core.frame.DataFrame'>\n",
      "RangeIndex: 258 entries, 0 to 257\n",
      "Data columns (total 3 columns):\n",
      " #   Column          Non-Null Count  Dtype  \n",
      "---  ------          --------------  -----  \n",
      " 0   Area            258 non-null    object \n",
      " 1   Latitude_Area   258 non-null    float64\n",
      " 2   Longitude_Area  258 non-null    float64\n",
      "dtypes: float64(2), object(1)\n",
      "memory usage: 6.2+ KB\n"
     ]
    }
   ],
   "source": [
    "areas_cooords.info()"
   ]
  },
  {
   "cell_type": "markdown",
   "metadata": {},
   "source": [
    "### **5. ` Initial Cleaning`**"
   ]
  },
  {
   "cell_type": "code",
   "execution_count": null,
   "metadata": {},
   "outputs": [],
   "source": []
  },
  {
   "cell_type": "code",
   "execution_count": 84,
   "metadata": {},
   "outputs": [
    {
     "name": "stdout",
     "output_type": "stream",
     "text": [
      "[1960 1961 1962 1963 1964 1965 1966 1967 1968 1969 1970 1971 1972 1973\n",
      " 1974 1975 1976 1977 1978 1979 1980 1981 1982 1983 1984 1985 1986 1987\n",
      " 1988 1989 1990 1991 1992 1993 1994 1995 1996 1997 1998 1999 2000 2001\n",
      " 2002 2003 2004 2005 2006 2007 2008 2009 2010 2011 2012 2013 2014 2015\n",
      " 2016 2017 2018 2019 2020 2021 2022 2023]\n"
     ]
    },
    {
     "data": {
      "text/plain": [
       "array([1960, 1961, 1962, 1963, 1964, 1965, 1966, 1967, 1968, 1969, 1970,\n",
       "       1971, 1972, 1973, 1974, 1975, 1976, 1977, 1978, 1979, 1980, 1981,\n",
       "       1982, 1983, 1984, 1985, 1986, 1987, 1988, 1989, 1990, 1991, 1992,\n",
       "       1993, 1994, 1995, 1996, 1997, 1998, 1999, 2000, 2001, 2002, 2003,\n",
       "       2004, 2005, 2006, 2007, 2008, 2009, 2010, 2011, 2012, 2013, 2014,\n",
       "       2015, 2016, 2017, 2018, 2019, 2020, 2021, 2022, 2023])"
      ]
     },
     "execution_count": 84,
     "metadata": {},
     "output_type": "execute_result"
    }
   ],
   "source": [
    "# world_dev_indicators_melted_df.isnull().mean() *100\n",
    "#\n",
    "world_dev_indicators_melted_df = world_dev_indicators_melted_df[world_dev_indicators_melted_df[\"Year\"] != \"Unnamed: 68\"]\n",
    "world_dev_indicators_melted_df[\"Year\"] = world_dev_indicators_melted_df[\"Year\"].astype(int)\n",
    "print(world_dev_indicators_melted_df[\"Year\"].unique())\n",
    "\n",
    "world_dev_indicators_melted_df['Year'].unique()"
   ]
  },
  {
   "cell_type": "code",
   "execution_count": 85,
   "metadata": {},
   "outputs": [
    {
     "data": {
      "text/html": [
       "<div>\n",
       "<style scoped>\n",
       "    .dataframe tbody tr th:only-of-type {\n",
       "        vertical-align: middle;\n",
       "    }\n",
       "\n",
       "    .dataframe tbody tr th {\n",
       "        vertical-align: top;\n",
       "    }\n",
       "\n",
       "    .dataframe thead th {\n",
       "        text-align: right;\n",
       "    }\n",
       "</style>\n",
       "<table border=\"1\" class=\"dataframe\">\n",
       "  <thead>\n",
       "    <tr style=\"text-align: right;\">\n",
       "      <th></th>\n",
       "      <th>Column</th>\n",
       "      <th>Mixed Types</th>\n",
       "      <th>Abnormal Types Count</th>\n",
       "      <th>Abnormal Types (%)</th>\n",
       "      <th>Abnormal Values Count</th>\n",
       "      <th>Abnormal Values (%)</th>\n",
       "    </tr>\n",
       "  </thead>\n",
       "  <tbody>\n",
       "    <tr>\n",
       "      <th>5</th>\n",
       "      <td>Value</td>\n",
       "      <td>False</td>\n",
       "      <td>0</td>\n",
       "      <td>0.0</td>\n",
       "      <td>7184</td>\n",
       "      <td>7.503342</td>\n",
       "    </tr>\n",
       "  </tbody>\n",
       "</table>\n",
       "</div>"
      ],
      "text/plain": [
       "  Column  Mixed Types  Abnormal Types Count  Abnormal Types (%)  \\\n",
       "5  Value        False                     0                 0.0   \n",
       "\n",
       "   Abnormal Values Count  Abnormal Values (%)  \n",
       "5                   7184             7.503342  "
      ]
     },
     "execution_count": 85,
     "metadata": {},
     "output_type": "execute_result"
    }
   ],
   "source": [
    "# world_dev_indicators_melted_df['Year'].describe()\n",
    "# Detect mixed and abnormal types/values\n",
    "full_report, flagged = data_processor.detect_mixed_and_abnormal_types(world_dev_indicators_melted_df)\n",
    "flagged    "
   ]
  },
  {
   "cell_type": "code",
   "execution_count": 86,
   "metadata": {},
   "outputs": [
    {
     "data": {
      "text/html": [
       "<div>\n",
       "<style scoped>\n",
       "    .dataframe tbody tr th:only-of-type {\n",
       "        vertical-align: middle;\n",
       "    }\n",
       "\n",
       "    .dataframe tbody tr th {\n",
       "        vertical-align: top;\n",
       "    }\n",
       "\n",
       "    .dataframe thead th {\n",
       "        text-align: right;\n",
       "    }\n",
       "</style>\n",
       "<table border=\"1\" class=\"dataframe\">\n",
       "  <thead>\n",
       "    <tr style=\"text-align: right;\">\n",
       "      <th></th>\n",
       "      <th>Column</th>\n",
       "      <th>Mixed Types</th>\n",
       "      <th>Abnormal Types Count</th>\n",
       "      <th>Abnormal Types (%)</th>\n",
       "      <th>Abnormal Values Count</th>\n",
       "      <th>Abnormal Values (%)</th>\n",
       "    </tr>\n",
       "  </thead>\n",
       "  <tbody>\n",
       "    <tr>\n",
       "      <th>0</th>\n",
       "      <td>Country Name</td>\n",
       "      <td>False</td>\n",
       "      <td>0</td>\n",
       "      <td>0.0</td>\n",
       "      <td>0</td>\n",
       "      <td>0.000000</td>\n",
       "    </tr>\n",
       "    <tr>\n",
       "      <th>1</th>\n",
       "      <td>Country Code</td>\n",
       "      <td>False</td>\n",
       "      <td>0</td>\n",
       "      <td>0.0</td>\n",
       "      <td>0</td>\n",
       "      <td>0.000000</td>\n",
       "    </tr>\n",
       "    <tr>\n",
       "      <th>2</th>\n",
       "      <td>Indicator Name</td>\n",
       "      <td>False</td>\n",
       "      <td>0</td>\n",
       "      <td>0.0</td>\n",
       "      <td>0</td>\n",
       "      <td>0.000000</td>\n",
       "    </tr>\n",
       "    <tr>\n",
       "      <th>3</th>\n",
       "      <td>Indicator Code</td>\n",
       "      <td>False</td>\n",
       "      <td>0</td>\n",
       "      <td>0.0</td>\n",
       "      <td>0</td>\n",
       "      <td>0.000000</td>\n",
       "    </tr>\n",
       "    <tr>\n",
       "      <th>4</th>\n",
       "      <td>Year</td>\n",
       "      <td>False</td>\n",
       "      <td>0</td>\n",
       "      <td>0.0</td>\n",
       "      <td>0</td>\n",
       "      <td>0.000000</td>\n",
       "    </tr>\n",
       "    <tr>\n",
       "      <th>5</th>\n",
       "      <td>Value</td>\n",
       "      <td>False</td>\n",
       "      <td>0</td>\n",
       "      <td>0.0</td>\n",
       "      <td>7184</td>\n",
       "      <td>7.503342</td>\n",
       "    </tr>\n",
       "  </tbody>\n",
       "</table>\n",
       "</div>"
      ],
      "text/plain": [
       "           Column  Mixed Types  Abnormal Types Count  Abnormal Types (%)  \\\n",
       "0    Country Name        False                     0                 0.0   \n",
       "1    Country Code        False                     0                 0.0   \n",
       "2  Indicator Name        False                     0                 0.0   \n",
       "3  Indicator Code        False                     0                 0.0   \n",
       "4            Year        False                     0                 0.0   \n",
       "5           Value        False                     0                 0.0   \n",
       "\n",
       "   Abnormal Values Count  Abnormal Values (%)  \n",
       "0                      0             0.000000  \n",
       "1                      0             0.000000  \n",
       "2                      0             0.000000  \n",
       "3                      0             0.000000  \n",
       "4                      0             0.000000  \n",
       "5                   7184             7.503342  "
      ]
     },
     "execution_count": 86,
     "metadata": {},
     "output_type": "execute_result"
    }
   ],
   "source": [
    "full_report"
   ]
  },
  {
   "cell_type": "code",
   "execution_count": 87,
   "metadata": {},
   "outputs": [
    {
     "data": {
      "text/plain": [
       "array(['International migrant stock, total',\n",
       "       'Children in employment, wage workers (% of children in employment, ages 7-14)',\n",
       "       'Unemployment, total (% of total labor force) (national estimate)',\n",
       "       ...,\n",
       "       'Carbon dioxide (CO2) emissions from Industrial Combustion (Energy) (Mt CO2e)',\n",
       "       'Methane (CH4) emissions (total) excluding LULUCF (% change from 1990)',\n",
       "       'Methane (CH4) emissions (total) excluding LULUCF (Mt CO2e)'],\n",
       "      dtype=object)"
      ]
     },
     "execution_count": 87,
     "metadata": {},
     "output_type": "execute_result"
    }
   ],
   "source": [
    "world_dev_indicators_melted_df['Indicator Name'].unique()"
   ]
  },
  {
   "cell_type": "markdown",
   "metadata": {},
   "source": [
    "- Missingness by Indicator"
   ]
  },
  {
   "cell_type": "code",
   "execution_count": 88,
   "metadata": {},
   "outputs": [
    {
     "name": "stdout",
     "output_type": "stream",
     "text": [
      "                                      Indicator Name  Missing Count\n",
      "0  ARI treatment (% of children under 5 taken to ...             64\n",
      "1  Net bilateral aid flows from DAC donors, Denma...             64\n",
      "2  Net ODA received (% of central government expe...             64\n",
      "3    Net ODA received (% of gross capital formation)             64\n",
      "4  Net ODA received (% of imports of goods, servi...             64\n",
      "5  Net bilateral aid flows from DAC donors, Austr...             64\n",
      "6  Net bilateral aid flows from DAC donors, Canad...             64\n",
      "7  Net bilateral aid flows from DAC donors, Czech...             64\n",
      "8  Net bilateral aid flows from DAC donors, Eston...             64\n",
      "9        Net ODA provided, total (constant 2021 US$)             64\n"
     ]
    }
   ],
   "source": [
    "missing_by_indicator = world_dev_indicators_melted_df.groupby(\"Indicator Name\")[\"Value\"].apply(lambda x: x.isnull().sum()).sort_values(ascending=False)\n",
    "\n",
    "missing_by_indicator_df = missing_by_indicator.reset_index()\n",
    "missing_by_indicator_df.columns = [\"Indicator Name\", \"Missing Count\"]\n",
    "\n",
    "print(missing_by_indicator_df.head(10))\n"
   ]
  },
  {
   "cell_type": "markdown",
   "metadata": {},
   "source": [
    "- Missingness by Year"
   ]
  },
  {
   "cell_type": "code",
   "execution_count": 89,
   "metadata": {},
   "outputs": [
    {
     "data": {
      "image/png": "[encoded data removed]",
      "text/plain": [
       "<Figure size 1600x400 with 1 Axes>"
      ]
     },
     "metadata": {},
     "output_type": "display_data"
    }
   ],
   "source": [
    "\n",
    "import matplotlib.pyplot as plt\n",
    "\n",
    "# Count missing values per year\n",
    "wdi_missing_by_year = world_dev_indicators_melted_df.groupby(\"Year\")[\"Value\"].apply(lambda x: x.isnull().sum())\n",
    "\n",
    "# Plot missing values over time\n",
    "plt.figure(figsize=(16, 4))\n",
    "plt.bar(wdi_missing_by_year.index, wdi_missing_by_year.values, color=\"red\")\n",
    "plt.xlabel(\"Year\")\n",
    "plt.ylabel(\"Missing Value Count\")\n",
    "plt.title(\"Missing Data per Year\")\n",
    "plt.xticks(rotation=45)\n",
    "plt.show()\n"
   ]
  },
  {
   "cell_type": "code",
   "execution_count": 90,
   "metadata": {},
   "outputs": [
    {
     "data": {
      "image/png": "[encoded data removed]",
      "text/plain": [
       "<Figure size 1400x400 with 1 Axes>"
      ]
     },
     "metadata": {},
     "output_type": "display_data"
    }
   ],
   "source": [
    "import seaborn as sns\n",
    "\n",
    "# Sample 5000 rows to make the heatmap readable\n",
    "wdi_missingness_sample_df = world_dev_indicators_melted_df.sample(5000, random_state=42)\n",
    "\n",
    "# Visualize missing values\n",
    "plt.figure(figsize=(14, 4))\n",
    "sns.heatmap(wdi_missingness_sample_df.isnull(), cmap=\"viridis\", cbar=False, yticklabels=False)\n",
    "plt.title(\"WDI Missing Values Heatmap (Sample of 5000 rows)\")\n",
    "plt.show()\n"
   ]
  },
  {
   "cell_type": "code",
   "execution_count": 91,
   "metadata": {},
   "outputs": [
    {
     "data": {
      "text/html": [
       "<div>\n",
       "<style scoped>\n",
       "    .dataframe tbody tr th:only-of-type {\n",
       "        vertical-align: middle;\n",
       "    }\n",
       "\n",
       "    .dataframe tbody tr th {\n",
       "        vertical-align: top;\n",
       "    }\n",
       "\n",
       "    .dataframe thead th {\n",
       "        text-align: right;\n",
       "    }\n",
       "</style>\n",
       "<table border=\"1\" class=\"dataframe\">\n",
       "  <thead>\n",
       "    <tr style=\"text-align: right;\">\n",
       "      <th></th>\n",
       "      <th>Country Name</th>\n",
       "      <th>Country Code</th>\n",
       "      <th>Indicator Name</th>\n",
       "      <th>Indicator Code</th>\n",
       "      <th>Year</th>\n",
       "      <th>Value</th>\n",
       "    </tr>\n",
       "  </thead>\n",
       "  <tbody>\n",
       "    <tr>\n",
       "      <th>65288</th>\n",
       "      <td>United Arab Emirates</td>\n",
       "      <td>ARE</td>\n",
       "      <td>Government expenditure on education, total (% ...</td>\n",
       "      <td>SE.XPD.TOTL.GB.ZS</td>\n",
       "      <td>2003</td>\n",
       "      <td>NaN</td>\n",
       "    </tr>\n",
       "    <tr>\n",
       "      <th>37328</th>\n",
       "      <td>United Arab Emirates</td>\n",
       "      <td>ARE</td>\n",
       "      <td>Methane (CH4) emissions from Power Industry (E...</td>\n",
       "      <td>EN.GHG.CH4.PI.MT.CE.AR5</td>\n",
       "      <td>1984</td>\n",
       "      <td>8.900000e-03</td>\n",
       "    </tr>\n",
       "    <tr>\n",
       "      <th>47255</th>\n",
       "      <td>United Arab Emirates</td>\n",
       "      <td>ARE</td>\n",
       "      <td>Share of youth not in education, employment or...</td>\n",
       "      <td>SL.UEM.NEET.MA.ZS</td>\n",
       "      <td>1991</td>\n",
       "      <td>NaN</td>\n",
       "    </tr>\n",
       "    <tr>\n",
       "      <th>75738</th>\n",
       "      <td>United Arab Emirates</td>\n",
       "      <td>ARE</td>\n",
       "      <td>Mortality rate attributed to household and amb...</td>\n",
       "      <td>SH.STA.AIRP.P5</td>\n",
       "      <td>2010</td>\n",
       "      <td>NaN</td>\n",
       "    </tr>\n",
       "    <tr>\n",
       "      <th>78546</th>\n",
       "      <td>United Arab Emirates</td>\n",
       "      <td>ARE</td>\n",
       "      <td>Broad money (current LCU)</td>\n",
       "      <td>FM.LBL.BMNY.CN</td>\n",
       "      <td>2012</td>\n",
       "      <td>8.496560e+11</td>\n",
       "    </tr>\n",
       "    <tr>\n",
       "      <th>44603</th>\n",
       "      <td>United Arab Emirates</td>\n",
       "      <td>ARE</td>\n",
       "      <td>Human capital index (HCI), male (scale 0-1)</td>\n",
       "      <td>HD.HCI.OVRL.MA</td>\n",
       "      <td>1989</td>\n",
       "      <td>NaN</td>\n",
       "    </tr>\n",
       "    <tr>\n",
       "      <th>5757</th>\n",
       "      <td>United Arab Emirates</td>\n",
       "      <td>ARE</td>\n",
       "      <td>Access to electricity (% of population)</td>\n",
       "      <td>EG.ELC.ACCS.ZS</td>\n",
       "      <td>1963</td>\n",
       "      <td>NaN</td>\n",
       "    </tr>\n",
       "    <tr>\n",
       "      <th>36416</th>\n",
       "      <td>United Arab Emirates</td>\n",
       "      <td>ARE</td>\n",
       "      <td>Adjusted savings: energy depletion (current US$)</td>\n",
       "      <td>NY.ADJ.DNGY.CD</td>\n",
       "      <td>1984</td>\n",
       "      <td>3.934782e+09</td>\n",
       "    </tr>\n",
       "    <tr>\n",
       "      <th>22018</th>\n",
       "      <td>United Arab Emirates</td>\n",
       "      <td>ARE</td>\n",
       "      <td>Manufactures imports (% of merchandise imports)</td>\n",
       "      <td>TM.VAL.MANF.ZS.UN</td>\n",
       "      <td>1974</td>\n",
       "      <td>NaN</td>\n",
       "    </tr>\n",
       "    <tr>\n",
       "      <th>52704</th>\n",
       "      <td>United Arab Emirates</td>\n",
       "      <td>ARE</td>\n",
       "      <td>Intentional homicides, male (per 100,000 male)</td>\n",
       "      <td>VC.IHR.PSRC.MA.P5</td>\n",
       "      <td>1995</td>\n",
       "      <td>NaN</td>\n",
       "    </tr>\n",
       "    <tr>\n",
       "      <th>26963</th>\n",
       "      <td>United Arab Emirates</td>\n",
       "      <td>ARE</td>\n",
       "      <td>Poverty gap at $6.85 a day (2017 PPP) (%)</td>\n",
       "      <td>SI.POV.UMIC.GP</td>\n",
       "      <td>1978</td>\n",
       "      <td>NaN</td>\n",
       "    </tr>\n",
       "    <tr>\n",
       "      <th>83855</th>\n",
       "      <td>United Arab Emirates</td>\n",
       "      <td>ARE</td>\n",
       "      <td>Discrepancy in expenditure estimate of GDP (co...</td>\n",
       "      <td>NY.GDP.DISC.KN</td>\n",
       "      <td>2016</td>\n",
       "      <td>5.978519e+10</td>\n",
       "    </tr>\n",
       "    <tr>\n",
       "      <th>23322</th>\n",
       "      <td>United Arab Emirates</td>\n",
       "      <td>ARE</td>\n",
       "      <td>Unemployment with advanced education, female (...</td>\n",
       "      <td>SL.UEM.ADVN.FE.ZS</td>\n",
       "      <td>1975</td>\n",
       "      <td>NaN</td>\n",
       "    </tr>\n",
       "    <tr>\n",
       "      <th>42155</th>\n",
       "      <td>United Arab Emirates</td>\n",
       "      <td>ARE</td>\n",
       "      <td>Coverage of unemployment benefits and ALMP (% ...</td>\n",
       "      <td>per_lm_alllm.cov_pop_tot</td>\n",
       "      <td>1988</td>\n",
       "      <td>NaN</td>\n",
       "    </tr>\n",
       "    <tr>\n",
       "      <th>47270</th>\n",
       "      <td>United Arab Emirates</td>\n",
       "      <td>ARE</td>\n",
       "      <td>Average working hours of children, study and w...</td>\n",
       "      <td>SL.TLF.0714.SW.MA.TM</td>\n",
       "      <td>1991</td>\n",
       "      <td>NaN</td>\n",
       "    </tr>\n",
       "    <tr>\n",
       "      <th>27402</th>\n",
       "      <td>United Arab Emirates</td>\n",
       "      <td>ARE</td>\n",
       "      <td>Net bilateral aid flows from DAC donors, Portu...</td>\n",
       "      <td>DC.DAC.PRTL.CD</td>\n",
       "      <td>1978</td>\n",
       "      <td>NaN</td>\n",
       "    </tr>\n",
       "    <tr>\n",
       "      <th>75169</th>\n",
       "      <td>United Arab Emirates</td>\n",
       "      <td>ARE</td>\n",
       "      <td>International tourism, receipts for passenger ...</td>\n",
       "      <td>ST.INT.TRNR.CD</td>\n",
       "      <td>2010</td>\n",
       "      <td>NaN</td>\n",
       "    </tr>\n",
       "    <tr>\n",
       "      <th>25340</th>\n",
       "      <td>United Arab Emirates</td>\n",
       "      <td>ARE</td>\n",
       "      <td>Adjusted net enrollment rate, primary, female ...</td>\n",
       "      <td>SE.PRM.TENR.FE</td>\n",
       "      <td>1976</td>\n",
       "      <td>NaN</td>\n",
       "    </tr>\n",
       "    <tr>\n",
       "      <th>85361</th>\n",
       "      <td>United Arab Emirates</td>\n",
       "      <td>ARE</td>\n",
       "      <td>Services, value added (current LCU)</td>\n",
       "      <td>NV.SRV.TOTL.CN</td>\n",
       "      <td>2017</td>\n",
       "      <td>8.133225e+11</td>\n",
       "    </tr>\n",
       "    <tr>\n",
       "      <th>78760</th>\n",
       "      <td>United Arab Emirates</td>\n",
       "      <td>ARE</td>\n",
       "      <td>Secondary education, teachers, female</td>\n",
       "      <td>SE.SEC.TCHR.FE</td>\n",
       "      <td>2012</td>\n",
       "      <td>NaN</td>\n",
       "    </tr>\n",
       "  </tbody>\n",
       "</table>\n",
       "</div>"
      ],
      "text/plain": [
       "               Country Name Country Code  \\\n",
       "65288  United Arab Emirates          ARE   \n",
       "37328  United Arab Emirates          ARE   \n",
       "47255  United Arab Emirates          ARE   \n",
       "75738  United Arab Emirates          ARE   \n",
       "78546  United Arab Emirates          ARE   \n",
       "44603  United Arab Emirates          ARE   \n",
       "5757   United Arab Emirates          ARE   \n",
       "36416  United Arab Emirates          ARE   \n",
       "22018  United Arab Emirates          ARE   \n",
       "52704  United Arab Emirates          ARE   \n",
       "26963  United Arab Emirates          ARE   \n",
       "83855  United Arab Emirates          ARE   \n",
       "23322  United Arab Emirates          ARE   \n",
       "42155  United Arab Emirates          ARE   \n",
       "47270  United Arab Emirates          ARE   \n",
       "27402  United Arab Emirates          ARE   \n",
       "75169  United Arab Emirates          ARE   \n",
       "25340  United Arab Emirates          ARE   \n",
       "85361  United Arab Emirates          ARE   \n",
       "78760  United Arab Emirates          ARE   \n",
       "\n",
       "                                          Indicator Name  \\\n",
       "65288  Government expenditure on education, total (% ...   \n",
       "37328  Methane (CH4) emissions from Power Industry (E...   \n",
       "47255  Share of youth not in education, employment or...   \n",
       "75738  Mortality rate attributed to household and amb...   \n",
       "78546                          Broad money (current LCU)   \n",
       "44603        Human capital index (HCI), male (scale 0-1)   \n",
       "5757             Access to electricity (% of population)   \n",
       "36416   Adjusted savings: energy depletion (current US$)   \n",
       "22018    Manufactures imports (% of merchandise imports)   \n",
       "52704     Intentional homicides, male (per 100,000 male)   \n",
       "26963          Poverty gap at $6.85 a day (2017 PPP) (%)   \n",
       "83855  Discrepancy in expenditure estimate of GDP (co...   \n",
       "23322  Unemployment with advanced education, female (...   \n",
       "42155  Coverage of unemployment benefits and ALMP (% ...   \n",
       "47270  Average working hours of children, study and w...   \n",
       "27402  Net bilateral aid flows from DAC donors, Portu...   \n",
       "75169  International tourism, receipts for passenger ...   \n",
       "25340  Adjusted net enrollment rate, primary, female ...   \n",
       "85361                Services, value added (current LCU)   \n",
       "78760              Secondary education, teachers, female   \n",
       "\n",
       "                 Indicator Code  Year         Value  \n",
       "65288         SE.XPD.TOTL.GB.ZS  2003           NaN  \n",
       "37328   EN.GHG.CH4.PI.MT.CE.AR5  1984  8.900000e-03  \n",
       "47255         SL.UEM.NEET.MA.ZS  1991           NaN  \n",
       "75738            SH.STA.AIRP.P5  2010           NaN  \n",
       "78546            FM.LBL.BMNY.CN  2012  8.496560e+11  \n",
       "44603            HD.HCI.OVRL.MA  1989           NaN  \n",
       "5757             EG.ELC.ACCS.ZS  1963           NaN  \n",
       "36416            NY.ADJ.DNGY.CD  1984  3.934782e+09  \n",
       "22018         TM.VAL.MANF.ZS.UN  1974           NaN  \n",
       "52704         VC.IHR.PSRC.MA.P5  1995           NaN  \n",
       "26963            SI.POV.UMIC.GP  1978           NaN  \n",
       "83855            NY.GDP.DISC.KN  2016  5.978519e+10  \n",
       "23322         SL.UEM.ADVN.FE.ZS  1975           NaN  \n",
       "42155  per_lm_alllm.cov_pop_tot  1988           NaN  \n",
       "47270      SL.TLF.0714.SW.MA.TM  1991           NaN  \n",
       "27402            DC.DAC.PRTL.CD  1978           NaN  \n",
       "75169            ST.INT.TRNR.CD  2010           NaN  \n",
       "25340            SE.PRM.TENR.FE  1976           NaN  \n",
       "85361            NV.SRV.TOTL.CN  2017  8.133225e+11  \n",
       "78760            SE.SEC.TCHR.FE  2012           NaN  "
      ]
     },
     "execution_count": 91,
     "metadata": {},
     "output_type": "execute_result"
    }
   ],
   "source": [
    "wdi_missingness_sample_df.head(20)"
   ]
  },
  {
   "cell_type": "markdown",
   "metadata": {},
   "source": [
    "\n",
    "**1. Possible Missing Completely at Random (MCAR) Indicators:**\n",
    "   - Some missing indicators appear scattered across various years without an obvious pattern.\n",
    "   - Examples:\n",
    "     - **Arms imports (1967)**\n",
    "     - **Control of Corruption (1968)**\n",
    "     - **Discrepancy in GDP expenditure estimate (1992)**  \n",
    "   - These could be missing due to **lack of data collection in certain years** or **random reporting issues**.\n",
    "\n",
    "**2. Possible Missing at Random (MAR):**\n",
    "   - Some missing values seem **time-dependent** or **policy-related**:\n",
    "     - **Vulnerable employment (female) is missing in 1970** – possibly due to labor data not being recorded at that time.\n",
    "     - **Educational attainment (Master’s level) missing in 2001** – perhaps this was introduced later.\n",
    "     - **Average working hours of children missing in 2020** – could be due to regulatory or survey changes.\n",
    "   - These could be explained by factors like **changes in reporting standards** or **economic policy changes**.\n",
    "\n",
    "**3. Possible Missing Not at Random (MNAR):**\n",
    "   - Some missing values might be **intentionally left out** due to sensitivity or political reasons:\n",
    "     - **Voice & Accountability (1977)** and **Control of Corruption (1968)** – Government-related indicators may be excluded due to political reasons.\n",
    "     - **Rural land area missing in 2019** – Possible that this is not reported for strategic land use planning.\n",
    "   - These values might be missing due to **non-random reasons like confidentiality or policy decisions**.\n",
    "\n",
    "---\n",
    "**Next Steps for Handling Missing Data**\n",
    "1. **Check Correlation Between Missing Values and Other Variables**  \n",
    "  \n",
    "   - If missingness correlates with time (e.g., missing mostly in earlier years), we might **impute based on trends**.\n",
    "   - If missingness is correlated with specific indicators, we might **use regression-based imputation**.\n",
    "\n",
    "2. **Perform Statistical Tests for Missingness:**\n",
    "   - **Little’s MCAR Test** (if we can import it from `statsmodels` or use an alternative method).\n",
    "   - **Logistic regression on missingness (already done, accuracy = 0.82)**:\n",
    "     - High accuracy suggests that missingness is **not random**, meaning MAR or MNAR.\n",
    "\n",
    "3. **Imputation Strategies:**\n",
    "   - **For MCAR:** Drop missing values.\n",
    "   - **For MAR:** Use predictive imputation (e.g., KNN, regression imputation).\n",
    "   - **For MNAR:** Investigate external factors or use advanced imputation (e.g., multiple imputation with chained equations)."
   ]
  },
  {
   "cell_type": "code",
   "execution_count": 92,
   "metadata": {},
   "outputs": [
    {
     "data": {
      "text/plain": [
       "array([2003, 1984, 1991, 2010, 2012, 1989, 1963, 1974, 1995, 1978, 2016,\n",
       "       1975, 1988, 1976, 2017, 2004, 1972, 2001, 1981, 1987, 1977, 2006,\n",
       "       2005, 1990, 1999, 2021, 2002, 1986, 1996, 2023, 2008, 1968, 2011,\n",
       "       1983, 1971, 1962, 2007, 2014, 1960, 1993, 1969, 2022, 1982, 1979,\n",
       "       1964, 1967, 1970, 1966, 1992, 2015, 2018, 2013, 1965, 1994, 1961,\n",
       "       1980, 2009, 1973, 1985, 2019, 1997, 1998, 2020, 2000])"
      ]
     },
     "execution_count": 92,
     "metadata": {},
     "output_type": "execute_result"
    }
   ],
   "source": [
    "\n",
    "wdi_missingness_sample_df['Year'].unique()"
   ]
  },
  {
   "cell_type": "code",
   "execution_count": 93,
   "metadata": {},
   "outputs": [
    {
     "data": {
      "image/png": "[encoded data removed]",
      "text/plain": [
       "<Figure size 1000x600 with 2 Axes>"
      ]
     },
     "metadata": {},
     "output_type": "display_data"
    },
    {
     "name": "stdout",
     "output_type": "stream",
     "text": [
      "wdi_missingness_corr_matrix:\n"
     ]
    },
    {
     "data": {
      "text/html": [
       "<div>\n",
       "<style scoped>\n",
       "    .dataframe tbody tr th:only-of-type {\n",
       "        vertical-align: middle;\n",
       "    }\n",
       "\n",
       "    .dataframe tbody tr th {\n",
       "        vertical-align: top;\n",
       "    }\n",
       "\n",
       "    .dataframe thead th {\n",
       "        text-align: right;\n",
       "    }\n",
       "</style>\n",
       "<table border=\"1\" class=\"dataframe\">\n",
       "  <thead>\n",
       "    <tr style=\"text-align: right;\">\n",
       "      <th></th>\n",
       "      <th>Year</th>\n",
       "      <th>Value</th>\n",
       "    </tr>\n",
       "  </thead>\n",
       "  <tbody>\n",
       "    <tr>\n",
       "      <th>Year</th>\n",
       "      <td>1.000000</td>\n",
       "      <td>0.131651</td>\n",
       "    </tr>\n",
       "    <tr>\n",
       "      <th>Value</th>\n",
       "      <td>0.131651</td>\n",
       "      <td>1.000000</td>\n",
       "    </tr>\n",
       "  </tbody>\n",
       "</table>\n",
       "</div>"
      ],
      "text/plain": [
       "           Year     Value\n",
       "Year   1.000000  0.131651\n",
       "Value  0.131651  1.000000"
      ]
     },
     "execution_count": 93,
     "metadata": {},
     "output_type": "execute_result"
    }
   ],
   "source": [
    "import seaborn as sns\n",
    "import matplotlib.pyplot as plt\n",
    "\n",
    "wdi_missingness_corr_matrix = world_dev_indicators_melted_df.drop(\n",
    "    columns=[\"Country Name\", \"Country Code\", \"Indicator Name\", \"Indicator Code\"]).corr()\n",
    "plt.figure(figsize=(10, 6))\n",
    "sns.heatmap(wdi_missingness_corr_matrix, annot=True, cmap=\"coolwarm\", fmt=\".2f\")\n",
    "plt.title(\"Correlation Matrix of Missingness with Other Variables\")\n",
    "plt.show()\n",
    "\n",
    "print(\"wdi_missingness_corr_matrix:\")\n",
    "wdi_missingness_corr_matrix"
   ]
  },
  {
   "cell_type": "markdown",
   "metadata": {},
   "source": [
    "**Interpreting the Missingness Correlation Matrix**  \n",
    "\n",
    "1. **Missing vs. Year (-0.321 correlation)**\n",
    "   - A moderate negative correlation suggests that missing values **decrease over time**.\n",
    "   - This could indicate **systematic missingness**, meaning older records have more missing values than recent ones.\n",
    "\n",
    "2. **Missing vs. Value (NaN correlation)**\n",
    "   - The NaN correlation means that missingness **does not vary linearly** with Value.\n",
    "   - It suggests that missingness might **not depend directly on Value**, or that there are too many missing values to compute a valid correlation.\n",
    "\n",
    "3. **Year vs. Value (0.132 correlation)**\n",
    "   - A weak positive correlation suggests that as the years progress, the **indicator values might be increasing slightly**.\n",
    "\n",
    "---\n",
    "\n",
    "- Since **Missing is correlated with Year**, it indicates that **missingness is not random (not MCAR)**.\n",
    "- The missingness **depends on time**, meaning **older data is more incomplete**.\n",
    "- This suggests **Missing at Random (MAR)**—data is missing due to an external factor (e.g., historical data collection issues).\n",
    "\n",
    "---\n"
   ]
  },
  {
   "cell_type": "code",
   "execution_count": null,
   "metadata": {},
   "outputs": [],
   "source": [
    "# from sklearn.linear_model import LogisticRegression\n",
    "# from sklearn.model_selection import train_test_split\n",
    "# from sklearn.metrics import accuracy_score\n",
    "\n",
    "\n",
    "# df_encoded = pd.get_dummies(world_dev_indicators_melted_df.drop(columns=[\"Value\", \"Missing\"]), drop_first=True)\n",
    "# df_encoded.fillna(df_encoded.mean(), inplace=True)\n",
    "\n",
    "# X = df_encoded\n",
    "# y = world_dev_indicators_melted_df[\"Missing\"]\n",
    "\n",
    "# X_train, X_test, y_train, y_test = train_test_split(X, y, test_size=0.2, random_state=42)\n",
    "# model = LogisticRegression(max_iter=10)\n",
    "# model.fit(X_train, y_train)\n",
    "\n",
    "# y_pred = model.predict(X_test)\n",
    "\n",
    "# # Measure accuracy \n",
    "# accuracy = accuracy_score(y_test, y_pred)\n",
    "# print(f\"Logistic Regression Accuracy for Missingness: {accuracy:.2f}\")\n"
   ]
  },
  {
   "cell_type": "markdown",
   "metadata": {},
   "source": [
    "- 82% accuracy indicates that a logistic regression model can predict whether a value is missing or not with high confidence.\n",
    "- This suggests that the missing data is not missing completely at random (MCAR).\n",
    "- Instead, it is likely to be Missing at Random (MAR) or Missing Not at Random (MNAR)."
   ]
  },
  {
   "cell_type": "code",
   "execution_count": null,
   "metadata": {},
   "outputs": [],
   "source": []
  },
  {
   "cell_type": "code",
   "execution_count": null,
   "metadata": {},
   "outputs": [],
   "source": [
    "\n",
    "\n",
    "\n",
    "# def missingness_pipeline(df, target_column=\"Value\", impute_method=\"mean\", test_size=0.2, random_state=42):\n",
    "#     \"\"\"\n",
    "#     A complete pipeline to handle missingness analysis, modeling, correlation, and imputation.\n",
    "    \n",
    "#     Parameters:\n",
    "#     - df: The input DataFrame with missing values.\n",
    "#     - target_column: The column to predict missingness (default is \"Value\").\n",
    "#     - impute_method: The method to use for imputing missing values ('mean', 'median', 'ffill', 'bfill').\n",
    "#     - test_size: The size of the test set for the logistic regression model (default is 0.2).\n",
    "#     - random_state: Random state for reproducibility (default is 42).\n",
    "    \n",
    "#     Returns:\n",
    "#     - model: The trained logistic regression model for missingness prediction.\n",
    "#     - accuracy: Accuracy score of the model.\n",
    "#     - corr_matrix: The correlation matrix of the variables.\n",
    "#     - df_imputed: The DataFrame with imputed missing values.\n",
    "#     \"\"\"\n",
    "    \n",
    "#     # Step 1: Encode and prepare data for missingness modeling\n",
    "#     def prepare_missingness_data(df, target_column):\n",
    "#         df_encoded = pd.get_dummies(df.drop(columns=[target_column, \"Missing\"]), drop_first=True)\n",
    "#         df_encoded.fillna(df_encoded.mean(), inplace=True)  # Fill NaNs in numeric columns\n",
    "#         X = df_encoded\n",
    "#         y = df[\"Missing\"]\n",
    "#         return X, y\n",
    "    \n",
    "#     # Step 2: Train and evaluate logistic regression model for missingness prediction\n",
    "#     def train_missingness_model(X, y, test_size, random_state):\n",
    "#         X_train, X_test, y_train, y_test = train_test_split(X, y, test_size=test_size, random_state=random_state)\n",
    "#         model = LogisticRegression(max_iter=10)\n",
    "#         model.fit(X_train, y_train)\n",
    "#         y_pred = model.predict(X_test)\n",
    "#         accuracy = accuracy_score(y_test, y_pred)\n",
    "#         return model, accuracy\n",
    "    \n",
    "#     # Step 3: Plot the correlation matrix\n",
    "#     def plot_missingness_correlation(df):\n",
    "#         corr_matrix = df.drop(columns=[\"Country Name\", \"Country Code\", \"Indicator Name\", \"Indicator Code\"]).corr()\n",
    "#         plt.figure(figsize=(10, 6))\n",
    "#         sns.heatmap(corr_matrix, annot=True, cmap=\"coolwarm\", fmt=\".2f\")\n",
    "#         plt.title(\"Correlation Matrix of Missingness with Other Variables\")\n",
    "#         plt.show()\n",
    "#         return corr_matrix\n",
    "    \n",
    "#     # Step 4: Impute missing values based on the chosen method\n",
    "#     def impute_missing_values(df, method):\n",
    "#         df_imputed = df.copy()\n",
    "#         if method == \"mean\":\n",
    "#             df_imputed[\"Value\"].fillna(df_imputed[\"Value\"].mean(), inplace=True)\n",
    "#         elif method == \"median\":\n",
    "#             df_imputed[\"Value\"].fillna(df_imputed[\"Value\"].median(), inplace=True)\n",
    "#         elif method == \"ffill\":\n",
    "#             df_imputed[\"Value\"].fillna(method=\"ffill\", inplace=True)\n",
    "#         elif method == \"bfill\":\n",
    "#             df_imputed[\"Value\"].fillna(method=\"bfill\", inplace=True)\n",
    "#         else:\n",
    "#             raise ValueError(\"Invalid imputation method. Choose from 'mean', 'median', 'ffill', 'bfill'.\")\n",
    "#         return df_imputed\n",
    "    \n",
    "#     # Execute Steps\n",
    "#     X, y = prepare_missingness_data(df, target_column)\n",
    "#     model, accuracy = train_missingness_model(X, y, test_size, random_state)\n",
    "#     corr_matrix = plot_missingness_correlation(df)\n",
    "#     df_imputed = impute_missing_values(df, method=impute_method)\n",
    "    \n",
    "#     # Return results\n",
    "#     return model, accuracy, corr_matrix, df_imputed\n",
    "\n",
    "# # Run the pipeline\n",
    "# model, accuracy, corr_matrix, wdi_df_imputed = missingness_pipeline(world_dev_indicators_melted_df, impute_method=\"mean\")\n",
    "\n",
    "# # Print the results\n",
    "# print(f\"Logistic Regression Accuracy for Missingness: {accuracy:.2f}\")\n",
    "# print(\"\\nCorrelation Matrix:\\n\", corr_matrix)\n"
   ]
  },
  {
   "cell_type": "code",
   "execution_count": null,
   "metadata": {},
   "outputs": [],
   "source": []
  },
  {
   "cell_type": "code",
   "execution_count": 96,
   "metadata": {},
   "outputs": [],
   "source": [
    "def map_indicator_names_to_shorter_names(df, indicator_names, short_name_mapping):\n",
    "    \"\"\"\n",
    "    Maps long indicator names to shorter names and filters the DataFrame based on a list of indicator names.\n",
    "    \n",
    "    Parameters:\n",
    "    - df (pd.DataFrame): The DataFrame containing World Development Indicators.\n",
    "    - indicator_names (list): A list of indicator names to filter by.\n",
    "    - short_name_mapping (dict): A dictionary that maps long indicator names to shorter names.\n",
    "    \n",
    "    Returns:\n",
    "    - pd.DataFrame: A DataFrame with only the selected indicators and their corresponding shorter names.\n",
    "    \"\"\"\n",
    "    # Filter the original DataFrame to include only rows with the indicator names in the list\n",
    "    filtered_df = df[df['Indicator Name'].isin(indicator_names)]\n",
    "    \n",
    "    # Map the 'Indicator Name' to shorter names using the short_name_mapping dictionary\n",
    "    filtered_df['Short Indicator Name'] = filtered_df['Indicator Name'].map(short_name_mapping)\n",
    "    \n",
    "    # Optional: Drop the original 'Indicator Name' column if no longer needed\n",
    "    filtered_df = filtered_df.drop(columns=['Indicator Name'])\n",
    "    \n",
    "    return filtered_df\n"
   ]
  },
  {
   "cell_type": "code",
   "execution_count": 97,
   "metadata": {},
   "outputs": [
    {
     "data": {
      "text/html": [
       "<div>\n",
       "<style scoped>\n",
       "    .dataframe tbody tr th:only-of-type {\n",
       "        vertical-align: middle;\n",
       "    }\n",
       "\n",
       "    .dataframe tbody tr th {\n",
       "        vertical-align: top;\n",
       "    }\n",
       "\n",
       "    .dataframe thead th {\n",
       "        text-align: right;\n",
       "    }\n",
       "</style>\n",
       "<table border=\"1\" class=\"dataframe\">\n",
       "  <thead>\n",
       "    <tr style=\"text-align: right;\">\n",
       "      <th></th>\n",
       "      <th>Country Name</th>\n",
       "      <th>Country Code</th>\n",
       "      <th>Indicator Code</th>\n",
       "      <th>Year</th>\n",
       "      <th>Value</th>\n",
       "      <th>Short Indicator Name</th>\n",
       "    </tr>\n",
       "  </thead>\n",
       "  <tbody>\n",
       "    <tr>\n",
       "      <th>68</th>\n",
       "      <td>United Arab Emirates</td>\n",
       "      <td>ARE</td>\n",
       "      <td>NY.GNP.PCAP.PP.KD</td>\n",
       "      <td>1960</td>\n",
       "      <td>NaN</td>\n",
       "      <td>GNI per Capita (PPP)</td>\n",
       "    </tr>\n",
       "    <tr>\n",
       "      <th>336</th>\n",
       "      <td>United Arab Emirates</td>\n",
       "      <td>ARE</td>\n",
       "      <td>IE.PPN.ENGY.CD</td>\n",
       "      <td>1960</td>\n",
       "      <td>NaN</td>\n",
       "      <td>PPP Investment in Energy</td>\n",
       "    </tr>\n",
       "    <tr>\n",
       "      <th>337</th>\n",
       "      <td>United Arab Emirates</td>\n",
       "      <td>ARE</td>\n",
       "      <td>IE.PPI.ENGY.CD</td>\n",
       "      <td>1960</td>\n",
       "      <td>NaN</td>\n",
       "      <td>Private Participation in Energy</td>\n",
       "    </tr>\n",
       "    <tr>\n",
       "      <th>500</th>\n",
       "      <td>United Arab Emirates</td>\n",
       "      <td>ARE</td>\n",
       "      <td>NY.GDP.PETR.RT.ZS</td>\n",
       "      <td>1960</td>\n",
       "      <td>NaN</td>\n",
       "      <td>Oil Rents (% of GDP)</td>\n",
       "    </tr>\n",
       "    <tr>\n",
       "      <th>501</th>\n",
       "      <td>United Arab Emirates</td>\n",
       "      <td>ARE</td>\n",
       "      <td>NY.GDP.PCAP.KD.ZG</td>\n",
       "      <td>1960</td>\n",
       "      <td>NaN</td>\n",
       "      <td>GDP per Capita Growth (%)</td>\n",
       "    </tr>\n",
       "  </tbody>\n",
       "</table>\n",
       "</div>"
      ],
      "text/plain": [
       "             Country Name Country Code     Indicator Code  Year  Value  \\\n",
       "68   United Arab Emirates          ARE  NY.GNP.PCAP.PP.KD  1960    NaN   \n",
       "336  United Arab Emirates          ARE     IE.PPN.ENGY.CD  1960    NaN   \n",
       "337  United Arab Emirates          ARE     IE.PPI.ENGY.CD  1960    NaN   \n",
       "500  United Arab Emirates          ARE  NY.GDP.PETR.RT.ZS  1960    NaN   \n",
       "501  United Arab Emirates          ARE  NY.GDP.PCAP.KD.ZG  1960    NaN   \n",
       "\n",
       "                Short Indicator Name  \n",
       "68              GNI per Capita (PPP)  \n",
       "336         PPP Investment in Energy  \n",
       "337  Private Participation in Energy  \n",
       "500             Oil Rents (% of GDP)  \n",
       "501        GDP per Capita Growth (%)  "
      ]
     },
     "execution_count": 97,
     "metadata": {},
     "output_type": "execute_result"
    }
   ],
   "source": [
    "# Define the list of selected indicator names (already provided)\n",
    "indicator_names = [\n",
    "    \"Public private partnerships investment in energy (current US$)\",\n",
    "    \"Investment in energy with private participation (current US$)\",\n",
    "    \"Methane (CH4) emissions from Power Industry (Energy) (Mt CO2e)\",\n",
    "    \"Methane (CH4) emissions from Fugitive Emissions (Energy) (Mt CO2e)\",\n",
    "    \"Alternative and nuclear energy (% of total energy use)\",\n",
    "    \"Carbon dioxide (CO2) emissions from Industrial Combustion (Energy) (Mt CO2e)\",\n",
    "    \"Oil rents (% of GDP)\",\n",
    "    \"Natural gas rents (% of GDP)\",\n",
    "    \"GDP per capita growth (annual %)\",\n",
    "    \"GDP growth (annual %)\",\n",
    "    \"Unemployment, total (% of total labor force) (modeled ILO estimate)\",\n",
    "    \"Birth rate, crude (per 1,000 people)\",\n",
    "    \"Urban land area (sq. km)\",\n",
    "    \"Foreign direct investment, net inflows (BoP, current US$)\",\n",
    "    \"GNI per capita, PPP (constant 2021 international $)\",\n",
    "    \"Inflation, consumer prices (annual %)\"\n",
    "]\n",
    "\n",
    "# Define the mapping of long names to short names (already provided)\n",
    "short_name_mapping = {\n",
    "    \"Public private partnerships investment in energy (current US$)\": \"PPP Investment in Energy\",\n",
    "    \"Investment in energy with private participation (current US$)\": \"Private Participation in Energy\",\n",
    "    \"Methane (CH4) emissions from Power Industry (Energy) (Mt CO2e)\": \"Methane Emissions (Power)\",\n",
    "    \"Methane (CH4) emissions from Fugitive Emissions (Energy) (Mt CO2e)\": \"Methane Emissions (Fugitive)\",\n",
    "    \"Alternative and nuclear energy (% of total energy use)\": \"Alternative & Nuclear Energy (%)\",\n",
    "    \"Carbon dioxide (CO2) emissions from Industrial Combustion (Energy) (Mt CO2e)\": \"CO2 Emissions (Industrial Combustion)\",\n",
    "    \"Oil rents (% of GDP)\": \"Oil Rents (% of GDP)\",\n",
    "    \"Natural gas rents (% of GDP)\": \"Natural Gas Rents (% of GDP)\",\n",
    "    \"GDP per capita growth (annual %)\": \"GDP per Capita Growth (%)\",\n",
    "    \"GDP growth (annual %)\": \"GDP Growth (%)\",\n",
    "    \"Unemployment, total (% of total labor force) (modeled ILO estimate)\": \"Unemployment Rate (%)\",\n",
    "    \"Birth rate, crude (per 1,000 people)\": \"Crude Birth Rate\",\n",
    "    \"Urban land area (sq. km)\": \"Urban Land Area (sq. km)\",\n",
    "    \"Foreign direct investment, net inflows (BoP, current US$)\": \"FDI Net Inflows (current US$)\",\n",
    "    \"GNI per capita, PPP (constant 2021 international $)\": \"GNI per Capita (PPP)\",\n",
    "    \"Inflation, consumer prices (annual %)\": \"Inflation Rate (%)\"\n",
    "}\n",
    "\n",
    "# Apply the function\n",
    "selected_wdi_df = map_indicator_names_to_shorter_names(world_dev_indicators_melted_df, indicator_names, short_name_mapping)\n",
    "\n",
    "# View the resulting DataFrame\n",
    "selected_wdi_df.head()\n"
   ]
  },
  {
   "cell_type": "code",
   "execution_count": 98,
   "metadata": {},
   "outputs": [
    {
     "data": {
      "text/plain": [
       "Country Name             0.000000\n",
       "Country Code             0.000000\n",
       "Indicator Code           0.000000\n",
       "Year                     0.000000\n",
       "Value                   43.945312\n",
       "Short Indicator Name     0.000000\n",
       "dtype: float64"
      ]
     },
     "execution_count": 98,
     "metadata": {},
     "output_type": "execute_result"
    }
   ],
   "source": [
    "selected_wdi_df.isnull().mean() * 100"
   ]
  },
  {
   "cell_type": "code",
   "execution_count": null,
   "metadata": {},
   "outputs": [],
   "source": []
  },
  {
   "cell_type": "code",
   "execution_count": null,
   "metadata": {},
   "outputs": [],
   "source": [
    "# wdi_df_imputed[wdi_df_imputed['Indicator Name'] == \"Public private partnerships investment in energy (current US$)\"]"
   ]
  },
  {
   "cell_type": "code",
   "execution_count": null,
   "metadata": {},
   "outputs": [],
   "source": []
  },
  {
   "cell_type": "code",
   "execution_count": null,
   "metadata": {},
   "outputs": [],
   "source": []
  },
  {
   "cell_type": "code",
   "execution_count": 100,
   "metadata": {},
   "outputs": [
    {
     "data": {
      "text/plain": [
       "Index(['Open', 'High', 'Low', 'Close', 'Adj Close', 'Volume', 'Date',\n",
       "       'Return'],\n",
       "      dtype='object')"
      ]
     },
     "execution_count": 100,
     "metadata": {},
     "output_type": "execute_result"
    }
   ],
   "source": [
    "# Perform initial cleaning\n",
    "\n",
    "currency_strength_df.drop(columns='Unnamed: 0', inplace=True)\n",
    "currency_strength_df.columns"
   ]
  },
  {
   "cell_type": "markdown",
   "metadata": {},
   "source": [
    "### **5. `  Save Cleaned Data`**"
   ]
  },
  {
   "cell_type": "code",
   "execution_count": 101,
   "metadata": {},
   "outputs": [],
   "source": [
    "selected_wdi_df.to_parquet(\"../datasets/processed/processed_wdi_df.parquet\")\n",
    "world_dev_metadata_df.to_parquet(\"../datasets/processed/processed_wdi_metadata_df.parquet\")"
   ]
  },
  {
   "cell_type": "code",
   "execution_count": 87,
   "metadata": {},
   "outputs": [],
   "source": [
    "areas_cooords.to_parquet(\"../datasets/processed/processed_areas_coords_df.parquet\")\n",
    "projects_cooords.to_parquet(\"../datasets/processed/processed_projects_coords_df.parquet\")"
   ]
  },
  {
   "cell_type": "code",
   "execution_count": 88,
   "metadata": {},
   "outputs": [],
   "source": [
    "processed_rents_df.to_parquet(\"../datasets/processed/processed_rents_df.parquet\")\n",
    "processed_transactions_df.to_parquet(\"../datasets/processed/processed_transactions_df.parquet\")"
   ]
  },
  {
   "cell_type": "code",
   "execution_count": 89,
   "metadata": {},
   "outputs": [],
   "source": [
    "processed_gdp_quarterly_constant_df.to_parquet(\"../datasets/processed/processed_gdp_quarterly_constant_df.parquet\")\n",
    "processed_gdp_quarterly_current_df.to_parquet(\"../datasets/processed/processed_gdp_quarterly_current_df.parquet\")\n"
   ]
  },
  {
   "cell_type": "code",
   "execution_count": 90,
   "metadata": {},
   "outputs": [],
   "source": [
    "processed_tourism_indicators_df.to_parquet(\"../datasets/processed/processed_tourism_indicators_df.parquet\")\n",
    "processed_tourism_regions_df.to_parquet(\"../datasets/processed/processed_tourism_regions_df.parquet\")\n",
    "processed_tourism_ratings_df.to_parquet(\"../datasets/processed/processed_tourism_ratings_df.parquet\")"
   ]
  },
  {
   "cell_type": "code",
   "execution_count": 91,
   "metadata": {},
   "outputs": [],
   "source": [
    "processed_pop_estimates_df.to_parquet(\"../datasets/processed/processed_pop_estimates_df.parquet\")\n",
    "pop_indicators_df.to_parquet(\"../datasets/processed/pop_indicators.parquet\")\n",
    "currency_strength_df.to_parquet(\"../datasets/processed/currency_strength_df.parquet\")\n"
   ]
  },
  {
   "cell_type": "code",
   "execution_count": 92,
   "metadata": {},
   "outputs": [],
   "source": [
    "processed_cpi_annual_df.to_parquet(\"../datasets/processed/processed_cpi_annual_df.parquet\")\n",
    "processed_cpi_quarterly_df.to_parquet(\"../datasets/processed/processed_cpi_quarterly_df.parquet\")\n",
    "processed_cpi_monthly_df.to_parquet(\"../datasets/processed/processed_cpi_monthly_df.parquet\")\n"
   ]
  }
 ],
 "metadata": {
  "kernelspec": {
   "display_name": "dubai_env",
   "language": "python",
   "name": "python3"
  },
  "language_info": {
   "codemirror_mode": {
    "name": "ipython",
    "version": 3
   },
   "file_extension": ".py",
   "mimetype": "text/x-python",
   "name": "python",
   "nbconvert_exporter": "python",
   "pygments_lexer": "ipython3",
   "version": "3.9.6"
  }
 },
 "nbformat": 4,
 "nbformat_minor": 2
}
