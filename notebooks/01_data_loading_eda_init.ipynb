{
 "cells": [
  {
   "cell_type": "markdown",
   "metadata": {
    "vscode": {
     "languageId": "plaintext"
    }
   },
   "source": [
    "Outline in this Notebook (**`01_data_loading.ipynb`**):\n",
    "\n",
    "#### **Sections**\n",
    "1. **Introduction**\n",
    "   - Brief explanation of the datasets being loaded.\n",
    "\n",
    "2. **Library Imports**\n",
    "   - Import necessary libraries.\n",
    "\n",
    "3. **Configuration Setup**\n",
    "   - Load `config.yaml`.\n",
    "\n",
    "4. **Dataset Loading**\n",
    "   - Use the `data_loader.py` utility to load raw datasets.\n",
    "\n",
    "5. **Initial Inspection**\n",
    "   - Display basic stats and preview data.\n",
    "\n",
    "6. **Save Cleaned Data**\n",
    "   - Save cleaned datasets to `datasets/processed/`.\n",
    "\n"
   ]
  },
  {
   "cell_type": "markdown",
   "metadata": {},
   "source": [
    "### **1. `Introduction`**\n",
    "This notebook focuses on loading the raw datasets for the Dubai Real Estate Prediction project. We will:\n",
    "1. Load datasets using `utils/data_loader.py`.\n",
    "2. Inspect the structure and contents of the datasets.\n",
    "3. Perform initial cleaning where necessary.\n",
    "4. Save cleaned datasets to `datasets/processed/`.\n"
   ]
  },
  {
   "cell_type": "markdown",
   "metadata": {},
   "source": [
    "### **2. `Library Imports`**"
   ]
  },
  {
   "cell_type": "code",
   "execution_count": 1,
   "metadata": {},
   "outputs": [],
   "source": [
    "# Import necessary libraries\n",
    "import os\n",
    "import pandas as pd\n",
    "import yaml\n",
    "import sys\n",
    "\n",
    "# Display settings\n",
    "pd.set_option('display.max_colwidth', 50)  # Limit column width for better readability\n",
    "\n",
    "# Import the data_loader module\n",
    "import sys\n",
    "import os\n",
    "\n",
    "# Add the utils folder to sys.path to import data_loader\n",
    "sys.path.append(\"../utils\")\n",
    "\n",
    "# Import the data_loader module\n",
    "import data_loader\n",
    "import data_processor\n",
    "import seaborn as sns; sns.set_theme()\n"
   ]
  },
  {
   "cell_type": "markdown",
   "metadata": {},
   "source": [
    "### **3. `Load Configuration`**"
   ]
  },
  {
   "cell_type": "code",
   "execution_count": 2,
   "metadata": {},
   "outputs": [
    {
     "name": "stdout",
     "output_type": "stream",
     "text": [
      "Raw Data Path: ../datasets/raw\n",
      "Processed Data Path: ../datasets/processed\n"
     ]
    }
   ],
   "source": [
    "from data_loader import load_dataset\n",
    "\n",
    "# Load configuration\n",
    "config_path = \"../configs/config.yaml\"\n",
    "with open(config_path, \"r\") as file:\n",
    "    config = yaml.safe_load(file)\n",
    "\n",
    "# Print paths and file structure for reference\n",
    "raw_data_path = config[\"paths\"][\"raw_data\"]\n",
    "processed_data_path = config[\"paths\"][\"processed_data\"]\n",
    "\n",
    "print(f\"Raw Data Path: {raw_data_path}\")\n",
    "print(f\"Processed Data Path: {processed_data_path}\")\n"
   ]
  },
  {
   "cell_type": "markdown",
   "metadata": {},
   "source": [
    "### **4. `Dataset Loading and Inspection`**"
   ]
  },
  {
   "cell_type": "markdown",
   "metadata": {},
   "source": [
    "- Expecting 7 Folders and 15 datasets as supplied and retrieved"
   ]
  },
  {
   "cell_type": "markdown",
   "metadata": {},
   "source": [
    "#### 4.1 `rents.csv`"
   ]
  },
  {
   "cell_type": "code",
   "execution_count": 3,
   "metadata": {},
   "outputs": [
    {
     "name": "stdout",
     "output_type": "stream",
     "text": [
      "Loading 01_real_estate_rents from ../datasets/raw/Rents & Transactions/rents.csv...\n"
     ]
    },
    {
     "name": "stderr",
     "output_type": "stream",
     "text": [
      "Loading files in parallel: 100%|██████████| 1/1 [01:13<00:00, 73.78s/it]\n"
     ]
    },
    {
     "name": "stdout",
     "output_type": "stream",
     "text": [
      "Shape of 01_real_estate_rents: (5475131, 22)\n",
      "Columns in 01_real_estate_rents:\n",
      "Index(['Ejari Contract Number', 'Registration Date', 'Start Date', 'End Date',\n",
      "       'Property ID', 'Version', 'Area', 'Contract Amount', 'Annual Amount',\n",
      "       'Is Free Hold?', 'Property Size (sq.m)', 'Property Type',\n",
      "       'Property Sub Type', 'Number of Rooms', 'Usage', 'Nearest Metro',\n",
      "       'Nearest Mall', 'Nearest Landmark', 'Parking', 'No of Units',\n",
      "       'Master Project', 'Project'],\n",
      "      dtype='object')\n"
     ]
    }
   ],
   "source": [
    "rents_df = data_loader.inspect_data(\"01_real_estate_rents\", delimiter=\";\", show_progress=False,loading_method='parallel')"
   ]
  },
  {
   "cell_type": "markdown",
   "metadata": {},
   "source": [
    "- Original state of rents.csv"
   ]
  },
  {
   "cell_type": "code",
   "execution_count": 4,
   "metadata": {},
   "outputs": [
    {
     "name": "stdout",
     "output_type": "stream",
     "text": [
      "Original memory usage: 918.98 MB\n",
      "Optimized memory usage: 346.39 MB\n",
      "Shape: (5475131, 22)\n",
      "Dtypes: ['Ejari Contract Number:int64', 'Registration Date:object', 'Start Date:category', 'End Date:category', 'Property ID:int64', 'Version:category', 'Area:category', 'Contract Amount:category', 'Annual Amount:category', 'Is Free Hold?:category', 'Property Size (sq.m):category', 'Property Type:category', 'Property Sub Type:category', 'Number of Rooms:float32', 'Usage:category', 'Nearest Metro:category', 'Nearest Mall:category', 'Nearest Landmark:category', 'Parking:float32', 'No of Units:int16', 'Master Project:category', 'Project:category']\n",
      "Missings (%): ['Ejari Contract Number:0.00%', 'Registration Date:0.00%', 'Start Date:0.00%', 'End Date:0.00%', 'Property ID:0.00%', 'Version:0.00%', 'Area:0.01%', 'Contract Amount:0.00%', 'Annual Amount:0.00%', 'Is Free Hold?:0.00%', 'Property Size (sq.m):0.23%', 'Property Type:0.00%', 'Property Sub Type:0.73%', 'Number of Rooms:96.53%', 'Usage:1.01%', 'Nearest Metro:10.27%', 'Nearest Mall:10.94%', 'Nearest Landmark:6.33%', 'Parking:96.93%', 'No of Units:0.00%', 'Master Project:100.00%', 'Project:85.49%']\n",
      "Total missings (%): 18.57%\n",
      "total duplicates: 6398\n",
      "Total memory usage: 346.39 MB\n"
     ]
    },
    {
     "data": {
      "text/html": [
       "<div>\n",
       "<style scoped>\n",
       "    .dataframe tbody tr th:only-of-type {\n",
       "        vertical-align: middle;\n",
       "    }\n",
       "\n",
       "    .dataframe tbody tr th {\n",
       "        vertical-align: top;\n",
       "    }\n",
       "\n",
       "    .dataframe thead th {\n",
       "        text-align: right;\n",
       "    }\n",
       "</style>\n",
       "<table border=\"1\" class=\"dataframe\">\n",
       "  <thead>\n",
       "    <tr style=\"text-align: right;\">\n",
       "      <th></th>\n",
       "      <th>Ejari Contract Number</th>\n",
       "      <th>Registration Date</th>\n",
       "      <th>Start Date</th>\n",
       "      <th>End Date</th>\n",
       "      <th>Property ID</th>\n",
       "      <th>Version</th>\n",
       "      <th>Area</th>\n",
       "      <th>Contract Amount</th>\n",
       "      <th>Annual Amount</th>\n",
       "      <th>Is Free Hold?</th>\n",
       "      <th>...</th>\n",
       "      <th>Property Sub Type</th>\n",
       "      <th>Number of Rooms</th>\n",
       "      <th>Usage</th>\n",
       "      <th>Nearest Metro</th>\n",
       "      <th>Nearest Mall</th>\n",
       "      <th>Nearest Landmark</th>\n",
       "      <th>Parking</th>\n",
       "      <th>No of Units</th>\n",
       "      <th>Master Project</th>\n",
       "      <th>Project</th>\n",
       "    </tr>\n",
       "  </thead>\n",
       "  <tbody>\n",
       "    <tr>\n",
       "      <th>0</th>\n",
       "      <td>120210425000238</td>\n",
       "      <td>25/04/2021 09:36:31</td>\n",
       "      <td>13/04/2021 00:00:00</td>\n",
       "      <td>12/04/2026 00:00:00</td>\n",
       "      <td>1058329686</td>\n",
       "      <td>New</td>\n",
       "      <td>Dubai Investment Park Second</td>\n",
       "      <td>25000</td>\n",
       "      <td>5000</td>\n",
       "      <td>Free Hold</td>\n",
       "      <td>...</td>\n",
       "      <td>Factory</td>\n",
       "      <td>NaN</td>\n",
       "      <td>Industrial</td>\n",
       "      <td>NaN</td>\n",
       "      <td>NaN</td>\n",
       "      <td>Expo 2020 Site</td>\n",
       "      <td>NaN</td>\n",
       "      <td>1</td>\n",
       "      <td>NaN</td>\n",
       "      <td>NaN</td>\n",
       "    </tr>\n",
       "    <tr>\n",
       "      <th>1</th>\n",
       "      <td>120210526001582</td>\n",
       "      <td>26/05/2021 12:12:22</td>\n",
       "      <td>01/06/2021 00:00:00</td>\n",
       "      <td>30/11/2025 00:00:00</td>\n",
       "      <td>99539298</td>\n",
       "      <td>New</td>\n",
       "      <td>Um Nahad Third</td>\n",
       "      <td>16000000</td>\n",
       "      <td>4000000</td>\n",
       "      <td>Free Hold</td>\n",
       "      <td>...</td>\n",
       "      <td>Building</td>\n",
       "      <td>NaN</td>\n",
       "      <td>Residential</td>\n",
       "      <td>NaN</td>\n",
       "      <td>NaN</td>\n",
       "      <td>NaN</td>\n",
       "      <td>NaN</td>\n",
       "      <td>1</td>\n",
       "      <td>NaN</td>\n",
       "      <td>NaN</td>\n",
       "    </tr>\n",
       "  </tbody>\n",
       "</table>\n",
       "<p>2 rows × 22 columns</p>\n",
       "</div>"
      ],
      "text/plain": [
       "   Ejari Contract Number    Registration Date           Start Date  \\\n",
       "0        120210425000238  25/04/2021 09:36:31  13/04/2021 00:00:00   \n",
       "1        120210526001582  26/05/2021 12:12:22  01/06/2021 00:00:00   \n",
       "\n",
       "              End Date  Property ID Version                          Area  \\\n",
       "0  12/04/2026 00:00:00   1058329686     New  Dubai Investment Park Second   \n",
       "1  30/11/2025 00:00:00     99539298     New                Um Nahad Third   \n",
       "\n",
       "  Contract Amount Annual Amount Is Free Hold?  ... Property Sub Type  \\\n",
       "0           25000          5000     Free Hold  ...           Factory   \n",
       "1        16000000       4000000     Free Hold  ...          Building   \n",
       "\n",
       "  Number of Rooms        Usage  Nearest Metro Nearest Mall Nearest Landmark  \\\n",
       "0             NaN   Industrial            NaN          NaN   Expo 2020 Site   \n",
       "1             NaN  Residential            NaN          NaN              NaN   \n",
       "\n",
       "  Parking No of Units  Master Project  Project  \n",
       "0     NaN           1             NaN      NaN  \n",
       "1     NaN           1             NaN      NaN  \n",
       "\n",
       "[2 rows x 22 columns]"
      ]
     },
     "execution_count": 4,
     "metadata": {},
     "output_type": "execute_result"
    }
   ],
   "source": [
    "optimized_rents_df = data_processor.optimize_dataframe_memory(rents_df)\n",
    "data_processor.display_dataframe_info(optimized_rents_df)"
   ]
  },
  {
   "cell_type": "markdown",
   "metadata": {},
   "source": [
    "***Initial Processing Summary for `rents.csv`***"
   ]
  },
  {
   "cell_type": "markdown",
   "metadata": {},
   "source": [
    "\n",
    "---\n",
    "\n",
    "**2. Data Types Overview**\n",
    "**Rental Transactions Schema** table with the missing percentages indicated and notes about data compression from `String` to `Category` where applicable:\n",
    "\n",
    "| **Field Name**              | **Description**                                      | **Optimized Data Type** | **Notes**                              |\n",
    "|-----------------------------|----------------------------------------------------|-------------------------|---------------------------------------|\n",
    "| Ejari Contract Number       | Unique identifier for the rental contract           | `int64`                | No missing values                     |\n",
    "| Registration Date           | Date of contract registration                       | `object`               | Convertible to datetime; no missing   |\n",
    "| Start Date                  | Start date of the rental agreement                  | `category`             | Converted from `String`; no missing   |\n",
    "| End Date                    | End date of the rental agreement                    | `category`             | Converted from `String`; no missing   |\n",
    "| Property ID                 | Unique identifier for the property                  | `int64`                | No missing values                     |\n",
    "| Version                     | Version of the contract                             | `category`             | Converted from `String`; no missing   |\n",
    "| Area                        | Area of Dubai where the property is located         | `category`             | Converted from `String`; 0.01% missing |\n",
    "| Contract Amount             | Total contract amount in AED                        | `category`             | Converted from `String`; no missing   |\n",
    "| Annual Amount               | Annual rental amount in AED                         | `category`             | Converted from `String`; no missing   |\n",
    "| Is Free Hold?               | Indicates if the property is freehold               | `category`             | Converted from `String`; no missing   |\n",
    "| Property Size (sq.m)        | Area of the property in square meters               | `category`             | Converted from `String`; 0.23% missing |\n",
    "| Property Type               | General type of property (Building, Land, Unit)     | `category`             | Converted from `String`; no missing   |\n",
    "| Property Sub Type           | Specific subtype of property (e.g., Workshop, Studio) | `category`           | Converted from `String`; 0.73% missing |\n",
    "| Number of Rooms             | Number of rooms in the property                     | `float32`             | 96.53% missing                        |\n",
    "| Usage                       | Usage of the property (Commercial, Industrial, Residential) | `category`     | Converted from `String`; 1.01% missing |\n",
    "| Nearest Metro               | Name of the nearest metro                           | `category`             | Converted from `String`; 10.27% missing |\n",
    "| Nearest Mall                | Name of the nearest mall                            | `category`             | Converted from `String`; 10.94% missing |\n",
    "| Nearest Landmark            | Name of the nearest landmark                        | `category`             | Converted from `String`; 6.33% missing |\n",
    "| Parking                     | Number of parking spaces                            | `float32`             | 96.93% missing                        |\n",
    "| No of Units                 | Number of units in the property                     | `int16`               | No missing values                     |\n",
    "| Master Project              | Name of the master project                          | `category`             | Converted from `String`; 100% missing |\n",
    "| Project                     | Name of the project                                 | `category`             | Converted from `String`; 85.49% missing |\n",
    "\n",
    "\n",
    "---\n",
    "\n",
    " **3. Missing Values**\n",
    "- **Total Missing Values (%):** 18.57% of the data.\n",
    "- **Key Columns with High Missing Percentages:**\n",
    "  - `Number of Rooms`: 96.53% missing  \n",
    "  - `Parking`: 96.93% missing  \n",
    "  - `Master Project`: 100% missing (may require exclusion)  \n",
    "  - `Project`: 85.49% missing  \n",
    "\n",
    "---\n",
    "\n",
    " **4. Duplicates**\n",
    "- **Total Duplicates:** 6,398 rows (0.12% of total rows).  \n",
    "\n",
    "---\n",
    "\n",
    "**5. Initial Insights**\n",
    "1. **Memory Optimization** significantly reduces dataset size, making it more efficient for analysis.  \n",
    "2. High missing percentages in some columns (e.g., `Number of Rooms`, `Parking`, `Master Project`) suggest these fields may not be useful for modeling or analysis without imputation or further validation.  \n",
    "3. Duplicates should be reviewed for removal, ensuring they don’t bias results.  \n",
    "4. Categorical conversion for appropriate fields helps in reducing memory while preserving information.  \n",
    "\n",
    "---\n",
    "\n",
    "**6. Further Actions**\n",
    "1. **Handle Missing Data:** \n",
    "   - Considering removal of columns like `Master Project` with 100% missing values. Others with over 90% can also be removed\n",
    "   - Exploreing imputation strategies for other critical columns especially compulsory ones required for modeling.  \n",
    "2. **Remove Duplicates:** Dropping duplicate rows to maintain data integrity.  \n",
    "3. **Datetime Parsing:** Converting `Registration Date`, `Start Date`, and `End Date` into proper datetime objects.  \n",
    "4. **Further Validation:** Checking for inconsistencies in categorical values and ensure data quality."
   ]
  },
  {
   "cell_type": "code",
   "execution_count": null,
   "metadata": {},
   "outputs": [
    {
     "data": {
      "text/plain": [
       "<Axes: >"
      ]
     },
     "execution_count": 6,
     "metadata": {},
     "output_type": "execute_result"
    }
   ],
   "source": [
    "# sns.heatmap(rents_df.isnull(), cbar=False, cmap='viridis')"
   ]
  },
  {
   "cell_type": "code",
   "execution_count": 6,
   "metadata": {},
   "outputs": [
    {
     "data": {
      "text/plain": [
       "Usage                1.007684\n",
       "Nearest Metro       10.266184\n",
       "Nearest Mall        10.938898\n",
       "Nearest Landmark     6.333273\n",
       "dtype: float64"
      ]
     },
     "execution_count": 6,
     "metadata": {},
     "output_type": "execute_result"
    }
   ],
   "source": [
    "optimized_rents_df[['Usage','Nearest Metro','Nearest Mall','Nearest Landmark']].isnull().mean() * 100"
   ]
  },
  {
   "cell_type": "markdown",
   "metadata": {},
   "source": [
    "<!-- Property Type or/and Property Sub Type\n",
    "Number of rooms/bedrooms\n",
    "Property Size (sq.m)\n",
    "Area/Neighborhood\n",
    "Nearest Metro\n",
    "Nearest Mall\n",
    "Nearest Landmark\n",
    "Usage (commercial/residential)\n",
    "Average prices the previous month/week (for the same kind of property) -->\n"
   ]
  },
  {
   "cell_type": "code",
   "execution_count": 7,
   "metadata": {},
   "outputs": [
    {
     "name": "stdout",
     "output_type": "stream",
     "text": [
      "Warning: Start Date could not be fully converted to datetime. Check data for inconsistencies.\n",
      "Formatted and Cleaned Data Overview:\n",
      "<class 'pandas.core.frame.DataFrame'>\n",
      "Index: 5380162 entries, 0 to 5475130\n",
      "Data columns (total 18 columns):\n",
      " #   Column                 Dtype         \n",
      "---  ------                 -----         \n",
      " 0   Ejari Contract Number  int64         \n",
      " 1   Registration Date      datetime64[ns]\n",
      " 2   Start Date             category      \n",
      " 3   End Date               datetime64[ns]\n",
      " 4   Property ID            int64         \n",
      " 5   Version                category      \n",
      " 6   Area                   category      \n",
      " 7   Contract Amount        float64       \n",
      " 8   Annual Amount          float64       \n",
      " 9   Is Free Hold?          category      \n",
      " 10  Property Size (sq.m)   float64       \n",
      " 11  Property Type          category      \n",
      " 12  Property Sub Type      category      \n",
      " 13  Usage                  category      \n",
      " 14  Nearest Metro          category      \n",
      " 15  Nearest Mall           category      \n",
      " 16  Nearest Landmark       category      \n",
      " 17  No of Units            int64         \n",
      "dtypes: category(10), datetime64[ns](2), float64(3), int64(3)\n",
      "memory usage: 431.3 MB\n",
      "None\n",
      "Original memory usage: 431.32 MB\n",
      "Optimized memory usage: 400.53 MB\n",
      "Shape: (5380162, 18)\n",
      "Dtypes: ['Ejari Contract Number:int64', 'Registration Date:datetime64[ns]', 'Start Date:category', 'End Date:datetime64[ns]', 'Property ID:int64', 'Version:category', 'Area:category', 'Contract Amount:float64', 'Annual Amount:float64', 'Is Free Hold?:category', 'Property Size (sq.m):float64', 'Property Type:category', 'Property Sub Type:category', 'Usage:category', 'Nearest Metro:category', 'Nearest Mall:category', 'Nearest Landmark:category', 'No of Units:int16']\n",
      "Missings (%): ['Ejari Contract Number:0.00%', 'Registration Date:0.00%', 'Start Date:0.00%', 'End Date:0.00%', 'Property ID:0.00%', 'Version:0.00%', 'Area:0.01%', 'Contract Amount:2.79%', 'Annual Amount:5.82%', 'Is Free Hold?:0.00%', 'Property Size (sq.m):50.15%', 'Property Type:0.00%', 'Property Sub Type:0.74%', 'Usage:1.02%', 'Nearest Metro:9.55%', 'Nearest Mall:10.23%', 'Nearest Landmark:6.43%', 'No of Units:0.00%']\n",
      "Total missings (%): 4.82%\n",
      "total duplicates: 0\n",
      "Total memory usage: 400.53 MB\n"
     ]
    },
    {
     "data": {
      "text/html": [
       "<div>\n",
       "<style scoped>\n",
       "    .dataframe tbody tr th:only-of-type {\n",
       "        vertical-align: middle;\n",
       "    }\n",
       "\n",
       "    .dataframe tbody tr th {\n",
       "        vertical-align: top;\n",
       "    }\n",
       "\n",
       "    .dataframe thead th {\n",
       "        text-align: right;\n",
       "    }\n",
       "</style>\n",
       "<table border=\"1\" class=\"dataframe\">\n",
       "  <thead>\n",
       "    <tr style=\"text-align: right;\">\n",
       "      <th></th>\n",
       "      <th>Ejari Contract Number</th>\n",
       "      <th>Registration Date</th>\n",
       "      <th>Start Date</th>\n",
       "      <th>End Date</th>\n",
       "      <th>Property ID</th>\n",
       "      <th>Version</th>\n",
       "      <th>Area</th>\n",
       "      <th>Contract Amount</th>\n",
       "      <th>Annual Amount</th>\n",
       "      <th>Is Free Hold?</th>\n",
       "      <th>Property Size (sq.m)</th>\n",
       "      <th>Property Type</th>\n",
       "      <th>Property Sub Type</th>\n",
       "      <th>Usage</th>\n",
       "      <th>Nearest Metro</th>\n",
       "      <th>Nearest Mall</th>\n",
       "      <th>Nearest Landmark</th>\n",
       "      <th>No of Units</th>\n",
       "    </tr>\n",
       "  </thead>\n",
       "  <tbody>\n",
       "    <tr>\n",
       "      <th>0</th>\n",
       "      <td>120210425000238</td>\n",
       "      <td>2021-04-25 09:36:31</td>\n",
       "      <td>2021-04-13</td>\n",
       "      <td>2026-04-12</td>\n",
       "      <td>1058329686</td>\n",
       "      <td>New</td>\n",
       "      <td>Dubai Investment Park Second</td>\n",
       "      <td>25000.0</td>\n",
       "      <td>5000.0</td>\n",
       "      <td>Free Hold</td>\n",
       "      <td>NaN</td>\n",
       "      <td>Building</td>\n",
       "      <td>Factory</td>\n",
       "      <td>Industrial</td>\n",
       "      <td>NaN</td>\n",
       "      <td>NaN</td>\n",
       "      <td>Expo 2020 Site</td>\n",
       "      <td>1</td>\n",
       "    </tr>\n",
       "    <tr>\n",
       "      <th>1</th>\n",
       "      <td>120210526001582</td>\n",
       "      <td>2021-05-26 12:12:22</td>\n",
       "      <td>2021-06-01</td>\n",
       "      <td>2025-11-30</td>\n",
       "      <td>99539298</td>\n",
       "      <td>New</td>\n",
       "      <td>Um Nahad Third</td>\n",
       "      <td>16000000.0</td>\n",
       "      <td>4000000.0</td>\n",
       "      <td>Free Hold</td>\n",
       "      <td>6792.0</td>\n",
       "      <td>Building</td>\n",
       "      <td>Building</td>\n",
       "      <td>Residential</td>\n",
       "      <td>NaN</td>\n",
       "      <td>NaN</td>\n",
       "      <td>NaN</td>\n",
       "      <td>1</td>\n",
       "    </tr>\n",
       "  </tbody>\n",
       "</table>\n",
       "</div>"
      ],
      "text/plain": [
       "   Ejari Contract Number   Registration Date Start Date   End Date  \\\n",
       "0        120210425000238 2021-04-25 09:36:31 2021-04-13 2026-04-12   \n",
       "1        120210526001582 2021-05-26 12:12:22 2021-06-01 2025-11-30   \n",
       "\n",
       "   Property ID Version                          Area  Contract Amount  \\\n",
       "0   1058329686     New  Dubai Investment Park Second          25000.0   \n",
       "1     99539298     New                Um Nahad Third       16000000.0   \n",
       "\n",
       "   Annual Amount Is Free Hold?  Property Size (sq.m) Property Type  \\\n",
       "0         5000.0     Free Hold                   NaN      Building   \n",
       "1      4000000.0     Free Hold                6792.0      Building   \n",
       "\n",
       "  Property Sub Type        Usage Nearest Metro Nearest Mall Nearest Landmark  \\\n",
       "0           Factory   Industrial           NaN          NaN   Expo 2020 Site   \n",
       "1          Building  Residential           NaN          NaN              NaN   \n",
       "\n",
       "   No of Units  \n",
       "0            1  \n",
       "1            1  "
      ]
     },
     "execution_count": 7,
     "metadata": {},
     "output_type": "execute_result"
    }
   ],
   "source": [
    "# Specify columns to format\n",
    "datetime_cols = [\"Registration Date\", \"Start Date\", \"End Date\"]\n",
    "numeric_cols = [\"Contract Amount\", \"Annual Amount\", \"Property Size (sq.m)\", \"Number of Rooms\"]\n",
    "\n",
    "processed_rents_df = data_processor.format_and_clean_table(df=optimized_rents_df, datetime_columns=datetime_cols, numeric_columns=numeric_cols, missing_threshold=0.8)\n",
    "processed_rents_df = data_processor.optimize_dataframe_memory(processed_rents_df)\n",
    "data_processor.display_dataframe_info(processed_rents_df)"
   ]
  },
  {
   "cell_type": "code",
   "execution_count": 8,
   "metadata": {},
   "outputs": [
    {
     "name": "stdout",
     "output_type": "stream",
     "text": [
      "Cleaned Data Preview:\n"
     ]
    },
    {
     "data": {
      "text/plain": [
       "Ejari Contract Number     0.000000\n",
       "Registration Date         0.000000\n",
       "Start Date                0.000000\n",
       "End Date                  0.000037\n",
       "Property ID               0.000000\n",
       "Version                   0.000000\n",
       "Area                      0.005911\n",
       "Contract Amount           2.789674\n",
       "Annual Amount             5.823691\n",
       "Is Free Hold?             0.000000\n",
       "Property Size (sq.m)     50.145367\n",
       "Property Type             0.000000\n",
       "Property Sub Type         0.741929\n",
       "Usage                     1.024226\n",
       "Nearest Metro             9.545475\n",
       "Nearest Mall             10.229785\n",
       "Nearest Landmark          6.427706\n",
       "No of Units               0.000000\n",
       "dtype: float64"
      ]
     },
     "execution_count": 8,
     "metadata": {},
     "output_type": "execute_result"
    }
   ],
   "source": [
    "print(\"Cleaned Data Preview:\")\n",
    "processed_rents_df.isnull().mean() * 100"
   ]
  },
  {
   "cell_type": "code",
   "execution_count": 9,
   "metadata": {},
   "outputs": [
    {
     "name": "stdout",
     "output_type": "stream",
     "text": [
      "Invalid date entries in 'Start Date':\n",
      "Empty DataFrame\n",
      "Columns: [Ejari Contract Number, Registration Date, Start Date, End Date, Property ID, Version, Area, Contract Amount, Annual Amount, Is Free Hold?, Property Size (sq.m), Property Type, Property Sub Type, Usage, Nearest Metro, Nearest Mall, Nearest Landmark, No of Units]\n",
      "Index: []\n"
     ]
    }
   ],
   "source": [
    "invalid_dates = processed_rents_df[pd.to_datetime(processed_rents_df[\"Start Date\"], format=\"%d/%m/%Y %H:%M:%S\", errors='coerce').isna()]\n",
    "print(\"Invalid date entries in 'Start Date':\")\n",
    "print(invalid_dates)\n"
   ]
  },
  {
   "cell_type": "markdown",
   "metadata": {},
   "source": [
    "#### 4.2 `transactions.csv`"
   ]
  },
  {
   "cell_type": "code",
   "execution_count": 10,
   "metadata": {},
   "outputs": [
    {
     "name": "stdout",
     "output_type": "stream",
     "text": [
      "Loading 02_real_estate_transactions from ../datasets/raw/Rents & Transactions/transactions.csv...\n"
     ]
    },
    {
     "name": "stderr",
     "output_type": "stream",
     "text": [
      "Loading files in parallel: 100%|██████████| 1/1 [00:11<00:00, 11.12s/it]"
     ]
    },
    {
     "name": "stdout",
     "output_type": "stream",
     "text": [
      "Shape of 02_real_estate_transactions: (995975, 23)\n",
      "Columns in 02_real_estate_transactions:\n",
      "Index(['Transaction Number', 'Transaction Date', 'Property ID',\n",
      "       'Transaction Type', 'Transaction sub type', 'Registration type',\n",
      "       'Is Free Hold?', 'Usage', 'Area', 'Property Type', 'Property Sub Type',\n",
      "       'Amount', 'Transaction Size (sq.m)', 'Property Size (sq.m)', 'Room(s)',\n",
      "       'Parking', 'Nearest Metro', 'Nearest Mall', 'Nearest Landmark',\n",
      "       'No. of Buyer', 'No. of Seller', 'Master Project', 'Project'],\n",
      "      dtype='object')\n"
     ]
    },
    {
     "name": "stderr",
     "output_type": "stream",
     "text": [
      "\n"
     ]
    }
   ],
   "source": [
    "transactions_df = data_loader.inspect_data(\"02_real_estate_transactions\", delimiter=\";\", show_progress=False,loading_method='parallel')"
   ]
  },
  {
   "cell_type": "code",
   "execution_count": 11,
   "metadata": {},
   "outputs": [
    {
     "name": "stdout",
     "output_type": "stream",
     "text": [
      "Original memory usage: 174.77 MB\n",
      "Optimized memory usage: 71.09 MB\n",
      "Shape: (995975, 23)\n",
      "Dtypes: ['Transaction Number:object', 'Transaction Date:object', 'Property ID:int32', 'Transaction Type:category', 'Transaction sub type:category', 'Registration type:category', 'Is Free Hold?:category', 'Usage:category', 'Area:category', 'Property Type:category', 'Property Sub Type:category', 'Amount:float64', 'Transaction Size (sq.m):float64', 'Property Size (sq.m):float64', 'Room(s):category', 'Parking:category', 'Nearest Metro:category', 'Nearest Mall:category', 'Nearest Landmark:category', 'No. of Buyer:float32', 'No. of Seller:float32', 'Master Project:category', 'Project:category']\n",
      "Missings (%): ['Transaction Number:0.00%', 'Transaction Date:0.00%', 'Property ID:0.00%', 'Transaction Type:0.00%', 'Transaction sub type:0.00%', 'Registration type:0.00%', 'Is Free Hold?:0.00%', 'Usage:0.00%', 'Area:0.00%', 'Property Type:0.00%', 'Property Sub Type:2.23%', 'Amount:0.00%', 'Transaction Size (sq.m):12.62%', 'Property Size (sq.m):0.00%', 'Room(s):23.88%', 'Parking:49.53%', 'Nearest Metro:21.70%', 'Nearest Mall:22.10%', 'Nearest Landmark:10.38%', 'No. of Buyer:0.02%', 'No. of Seller:0.02%', 'Master Project:99.97%', 'Project:40.89%']\n",
      "Total missings (%): 12.32%\n",
      "total duplicates: 0\n",
      "Total memory usage: 71.09 MB\n"
     ]
    },
    {
     "data": {
      "text/html": [
       "<div>\n",
       "<style scoped>\n",
       "    .dataframe tbody tr th:only-of-type {\n",
       "        vertical-align: middle;\n",
       "    }\n",
       "\n",
       "    .dataframe tbody tr th {\n",
       "        vertical-align: top;\n",
       "    }\n",
       "\n",
       "    .dataframe thead th {\n",
       "        text-align: right;\n",
       "    }\n",
       "</style>\n",
       "<table border=\"1\" class=\"dataframe\">\n",
       "  <thead>\n",
       "    <tr style=\"text-align: right;\">\n",
       "      <th></th>\n",
       "      <th>Transaction Number</th>\n",
       "      <th>Transaction Date</th>\n",
       "      <th>Property ID</th>\n",
       "      <th>Transaction Type</th>\n",
       "      <th>Transaction sub type</th>\n",
       "      <th>Registration type</th>\n",
       "      <th>Is Free Hold?</th>\n",
       "      <th>Usage</th>\n",
       "      <th>Area</th>\n",
       "      <th>Property Type</th>\n",
       "      <th>...</th>\n",
       "      <th>Property Size (sq.m)</th>\n",
       "      <th>Room(s)</th>\n",
       "      <th>Parking</th>\n",
       "      <th>Nearest Metro</th>\n",
       "      <th>Nearest Mall</th>\n",
       "      <th>Nearest Landmark</th>\n",
       "      <th>No. of Buyer</th>\n",
       "      <th>No. of Seller</th>\n",
       "      <th>Master Project</th>\n",
       "      <th>Project</th>\n",
       "    </tr>\n",
       "  </thead>\n",
       "  <tbody>\n",
       "    <tr>\n",
       "      <th>0</th>\n",
       "      <td>13-7700-2022</td>\n",
       "      <td>02/06/2022 16:18</td>\n",
       "      <td>44581083</td>\n",
       "      <td>Mortgage</td>\n",
       "      <td>Mortgage Registration</td>\n",
       "      <td>Ready</td>\n",
       "      <td>Free Hold</td>\n",
       "      <td>Residential</td>\n",
       "      <td>AKOYA OXYGEN</td>\n",
       "      <td>Land</td>\n",
       "      <td>...</td>\n",
       "      <td>174.8</td>\n",
       "      <td>NaN</td>\n",
       "      <td>NaN</td>\n",
       "      <td>NaN</td>\n",
       "      <td>NaN</td>\n",
       "      <td>Dubai Cycling Course</td>\n",
       "      <td>0.0</td>\n",
       "      <td>0.0</td>\n",
       "      <td>NaN</td>\n",
       "      <td>DAMAC HILLS (2) - ODORA</td>\n",
       "    </tr>\n",
       "    <tr>\n",
       "      <th>1</th>\n",
       "      <td>13-7699-2022</td>\n",
       "      <td>02/06/2022 16:14</td>\n",
       "      <td>44014284</td>\n",
       "      <td>Mortgage</td>\n",
       "      <td>Mortgage Registration</td>\n",
       "      <td>Ready</td>\n",
       "      <td>Free Hold</td>\n",
       "      <td>Residential</td>\n",
       "      <td>AKOYA OXYGEN</td>\n",
       "      <td>Land</td>\n",
       "      <td>...</td>\n",
       "      <td>174.8</td>\n",
       "      <td>NaN</td>\n",
       "      <td>NaN</td>\n",
       "      <td>NaN</td>\n",
       "      <td>NaN</td>\n",
       "      <td>Dubai Cycling Course</td>\n",
       "      <td>0.0</td>\n",
       "      <td>0.0</td>\n",
       "      <td>NaN</td>\n",
       "      <td>DAMAC HILLS (2) - ZINNIA</td>\n",
       "    </tr>\n",
       "  </tbody>\n",
       "</table>\n",
       "<p>2 rows × 23 columns</p>\n",
       "</div>"
      ],
      "text/plain": [
       "  Transaction Number  Transaction Date  Property ID Transaction Type  \\\n",
       "0       13-7700-2022  02/06/2022 16:18     44581083         Mortgage   \n",
       "1       13-7699-2022  02/06/2022 16:14     44014284         Mortgage   \n",
       "\n",
       "    Transaction sub type Registration type Is Free Hold?        Usage  \\\n",
       "0  Mortgage Registration             Ready     Free Hold  Residential   \n",
       "1  Mortgage Registration             Ready     Free Hold  Residential   \n",
       "\n",
       "           Area Property Type  ... Property Size (sq.m)  Room(s)  Parking  \\\n",
       "0  AKOYA OXYGEN          Land  ...                174.8      NaN      NaN   \n",
       "1  AKOYA OXYGEN          Land  ...                174.8      NaN      NaN   \n",
       "\n",
       "   Nearest Metro Nearest Mall      Nearest Landmark No. of Buyer  \\\n",
       "0            NaN          NaN  Dubai Cycling Course          0.0   \n",
       "1            NaN          NaN  Dubai Cycling Course          0.0   \n",
       "\n",
       "  No. of Seller Master Project                    Project  \n",
       "0           0.0            NaN   DAMAC HILLS (2) - ODORA   \n",
       "1           0.0            NaN  DAMAC HILLS (2) - ZINNIA   \n",
       "\n",
       "[2 rows x 23 columns]"
      ]
     },
     "execution_count": 11,
     "metadata": {},
     "output_type": "execute_result"
    }
   ],
   "source": [
    "optimized_transactions_df = data_processor.optimize_dataframe_memory(transactions_df)\n",
    "data_processor.display_dataframe_info(optimized_transactions_df)"
   ]
  },
  {
   "cell_type": "markdown",
   "metadata": {},
   "source": [
    "**Transactions Data Schema** table with missing percentages and data compression details:\n",
    "\n",
    "| **Field Name**              | **Description**                                           | **Optimized Data Type** | **Notes**                              |\n",
    "|-----------------------------|----------------------------------------------------------|-------------------------|---------------------------------------|\n",
    "| Transaction Number          | Unique identifier for the transaction                     | `object`               | No missing values                     |\n",
    "| Transaction Date            | Date and time of the transaction                          | `object`               | Convertible to datetime; no missing   |\n",
    "| Property ID                 | Unique identifier for the property                        | `int32`                | No missing values                     |\n",
    "| Transaction Type            | Type of transaction (Sales, Gifts, Mortgage)             | `category`             | Converted from `String`; no missing   |\n",
    "| Transaction sub type         | Subtype of the transaction (e.g., Delayed Sell, Mortgage) | `category`             | Converted from `String`; no missing   |\n",
    "| Registration type           | Type of registration (Ready, Off-Plan)                   | `category`             | Converted from `String`; no missing   |\n",
    "| Is Free Hold?               | Indicates if the property is freehold                    | `category`             | Converted from `String`; no missing   |\n",
    "| Usage                       | Usage of the property (Commercial, Residential)          | `category`             | Converted from `String`; no missing   |\n",
    "| Area                        | Area of Dubai where the property is located              | `category`             | Converted from `String`; no missing   |\n",
    "| Property Type               | General type of property (Unit, Land, Building)          | `category`             | Converted from `String`; no missing   |\n",
    "| Property Sub Type           | Specific subtype of property (e.g., Flat, Villa, Shop)   | `category`             | Converted from `String`; 2.23% missing |\n",
    "| Amount                      | Transaction amount in AED                                 | `float64`              | No missing values                     |\n",
    "| Transaction Size (sq.m)     | Area of the transaction in square meters                 | `float64`              | 12.62% missing                        |\n",
    "| Property Size (sq.m)        | Area of the property in square meters                    | `float64`              | No missing values                     |\n",
    "| Room(s)                     | Property layout (e.g., Studio, 1 B/R, 5 B/R)             | `category`             | Converted from `String`; 23.88% missing |\n",
    "| Parking                     | Number of parking spaces                                 | `category`             | Converted from `String`; 49.53% missing |\n",
    "| Nearest Metro               | Name of the nearest metro                                | `category`             | Converted from `String`; 21.70% missing |\n",
    "| Nearest Mall                | Name of the nearest mall                                 | `category`             | Converted from `String`; 22.10% missing |\n",
    "| Nearest Landmark            | Name of the nearest landmark                             | `category`             | Converted from `String`; 10.38% missing |\n",
    "| No. of Buyer                | Number of buyers in the transaction                      | `float32`              | 0.02% missing                         |\n",
    "| No. of Seller               | Number of sellers in the transaction                    | `float32`              | 0.02% missing                         |\n",
    "| Master Project              | Name of the master project                               | `category`             | Converted from `String`; 99.97% missing |\n",
    "| Project                     | Name of the project                                      | `category`             | Converted from `String`; 40.89% missing |\n",
    "\n",
    "---\n",
    "\n",
    "1. **Missing Data Indicators**:\n",
    "   - Missing percentages are explicitly listed for each field.\n",
    "   - Fields like `Master Project` and `Parking` have significant missing data and might need to be excluded or imputed.\n",
    "   \n",
    "2. **Compression Details**:\n",
    "   - Several fields (e.g., `Transaction Type`, `Usage`, `Nearest Metro`) were optimized from `String` to `Category`, significantly reducing memory usage.\n",
    "\n",
    "3. **Key Insights**:\n",
    "   - Memory usage reduced from **174.77 MB** to **71.09 MB** (60% improvement).\n",
    "   - Duplicates: **0**, indicating no redundancy.\n",
    "   - Total missing data: **12.32%**, concentrated in fields like `Transaction Size`, `Room(s)`, and `Parking`.\n"
   ]
  },
  {
   "cell_type": "code",
   "execution_count": 12,
   "metadata": {},
   "outputs": [
    {
     "data": {
      "text/html": [
       "<div>\n",
       "<style scoped>\n",
       "    .dataframe tbody tr th:only-of-type {\n",
       "        vertical-align: middle;\n",
       "    }\n",
       "\n",
       "    .dataframe tbody tr th {\n",
       "        vertical-align: top;\n",
       "    }\n",
       "\n",
       "    .dataframe thead th {\n",
       "        text-align: right;\n",
       "    }\n",
       "</style>\n",
       "<table border=\"1\" class=\"dataframe\">\n",
       "  <thead>\n",
       "    <tr style=\"text-align: right;\">\n",
       "      <th></th>\n",
       "      <th>Transaction Number</th>\n",
       "      <th>Transaction Date</th>\n",
       "    </tr>\n",
       "  </thead>\n",
       "  <tbody>\n",
       "    <tr>\n",
       "      <th>0</th>\n",
       "      <td>13-7700-2022</td>\n",
       "      <td>02/06/2022 16:18</td>\n",
       "    </tr>\n",
       "    <tr>\n",
       "      <th>1</th>\n",
       "      <td>13-7699-2022</td>\n",
       "      <td>02/06/2022 16:14</td>\n",
       "    </tr>\n",
       "    <tr>\n",
       "      <th>2</th>\n",
       "      <td>14-563-2022</td>\n",
       "      <td>02/06/2022 15:42</td>\n",
       "    </tr>\n",
       "    <tr>\n",
       "      <th>3</th>\n",
       "      <td>11-12317-2022</td>\n",
       "      <td>02/06/2022 15:22</td>\n",
       "    </tr>\n",
       "    <tr>\n",
       "      <th>4</th>\n",
       "      <td>11-12316-2022</td>\n",
       "      <td>02/06/2022 15:07</td>\n",
       "    </tr>\n",
       "    <tr>\n",
       "      <th>...</th>\n",
       "      <td>...</td>\n",
       "      <td>...</td>\n",
       "    </tr>\n",
       "    <tr>\n",
       "      <th>995970</th>\n",
       "      <td>13-1699-1996</td>\n",
       "      <td>14/02/1996 00:00</td>\n",
       "    </tr>\n",
       "    <tr>\n",
       "      <th>995971</th>\n",
       "      <td>13-1701-1996</td>\n",
       "      <td>24/01/1996 00:00</td>\n",
       "    </tr>\n",
       "    <tr>\n",
       "      <th>995972</th>\n",
       "      <td>13-1742-1995</td>\n",
       "      <td>26/10/1995 00:00</td>\n",
       "    </tr>\n",
       "    <tr>\n",
       "      <th>995973</th>\n",
       "      <td>13-1746-1995</td>\n",
       "      <td>18/10/1995 00:00</td>\n",
       "    </tr>\n",
       "    <tr>\n",
       "      <th>995974</th>\n",
       "      <td>13-1744-1995</td>\n",
       "      <td>07/03/1995 00:00</td>\n",
       "    </tr>\n",
       "  </tbody>\n",
       "</table>\n",
       "<p>995975 rows × 2 columns</p>\n",
       "</div>"
      ],
      "text/plain": [
       "       Transaction Number  Transaction Date\n",
       "0            13-7700-2022  02/06/2022 16:18\n",
       "1            13-7699-2022  02/06/2022 16:14\n",
       "2             14-563-2022  02/06/2022 15:42\n",
       "3           11-12317-2022  02/06/2022 15:22\n",
       "4           11-12316-2022  02/06/2022 15:07\n",
       "...                   ...               ...\n",
       "995970       13-1699-1996  14/02/1996 00:00\n",
       "995971       13-1701-1996  24/01/1996 00:00\n",
       "995972       13-1742-1995  26/10/1995 00:00\n",
       "995973       13-1746-1995  18/10/1995 00:00\n",
       "995974       13-1744-1995  07/03/1995 00:00\n",
       "\n",
       "[995975 rows x 2 columns]"
      ]
     },
     "execution_count": 12,
     "metadata": {},
     "output_type": "execute_result"
    }
   ],
   "source": [
    "# transactions_df['Room(s)'].unique()\n",
    "transactions_df[['Transaction Number','Transaction Date']]"
   ]
  },
  {
   "cell_type": "code",
   "execution_count": 13,
   "metadata": {},
   "outputs": [
    {
     "name": "stdout",
     "output_type": "stream",
     "text": [
      "Formatted and Cleaned Data Overview:\n",
      "<class 'pandas.core.frame.DataFrame'>\n",
      "RangeIndex: 995975 entries, 0 to 995974\n",
      "Data columns (total 22 columns):\n",
      " #   Column                   Non-Null Count   Dtype   \n",
      "---  ------                   --------------   -----   \n",
      " 0   Transaction Number       995975 non-null  object  \n",
      " 1   Transaction Date         995975 non-null  object  \n",
      " 2   Property ID              995975 non-null  int64   \n",
      " 3   Transaction Type         995975 non-null  category\n",
      " 4   Transaction sub type     995975 non-null  category\n",
      " 5   Registration type        995975 non-null  category\n",
      " 6   Is Free Hold?            995975 non-null  category\n",
      " 7   Usage                    995975 non-null  category\n",
      " 8   Area                     995975 non-null  category\n",
      " 9   Property Type            995975 non-null  category\n",
      " 10  Property Sub Type        973723 non-null  category\n",
      " 11  Amount                   995975 non-null  float64 \n",
      " 12  Transaction Size (sq.m)  870248 non-null  float64 \n",
      " 13  Property Size (sq.m)     995972 non-null  float64 \n",
      " 14  Room(s)                  758158 non-null  category\n",
      " 15  Parking                  502633 non-null  object  \n",
      " 16  Nearest Metro            779839 non-null  category\n",
      " 17  Nearest Mall             775914 non-null  category\n",
      " 18  Nearest Landmark         892606 non-null  category\n",
      " 19  No. of Buyer             995787 non-null  float64 \n",
      " 20  No. of Seller            995787 non-null  float64 \n",
      " 21  Project                  588688 non-null  category\n",
      "dtypes: category(13), float64(5), int64(1), object(3)\n",
      "memory usage: 82.7+ MB\n",
      "None\n"
     ]
    }
   ],
   "source": [
    "# Specify columns to format\n",
    "# datetime_cols = [\"Transaction Date\"]\n",
    "# numeric_cols = [\"Transaction Number\"]\n",
    "\n",
    "processed_transactions_df = data_processor.format_and_clean_table(df=optimized_transactions_df, missing_threshold=0.8)\n"
   ]
  },
  {
   "cell_type": "markdown",
   "metadata": {},
   "source": [
    "- Consumer Price Index"
   ]
  },
  {
   "cell_type": "markdown",
   "metadata": {},
   "source": [
    "#### 4.3 `Consumer_Price_Index_Annually.csv`"
   ]
  },
  {
   "cell_type": "code",
   "execution_count": 20,
   "metadata": {},
   "outputs": [
    {
     "name": "stdout",
     "output_type": "stream",
     "text": [
      "Loading 03_cpi_annual from ../datasets/raw/Consumer Price Index/Consumer_Price_Index_Annually.csv...\n"
     ]
    },
    {
     "name": "stderr",
     "output_type": "stream",
     "text": [
      "Loading files in parallel: 100%|██████████| 1/1 [00:01<00:00,  1.04s/it]"
     ]
    },
    {
     "name": "stdout",
     "output_type": "stream",
     "text": [
      "Shape of 03_cpi_annual: (369, 12)\n",
      "Columns in 03_cpi_annual:\n",
      "Index(['DATAFLOW', 'MEASURE', 'UNIT_MEASURE', 'REF_AREA', 'FREQ', 'CPI_DIV',\n",
      "       'SOURCE_DETAIL', 'TIME_PERIOD', 'OBS_VALUE', 'DECIMALS', 'OBS_STATUS',\n",
      "       'UNIT_MULT'],\n",
      "      dtype='object')\n"
     ]
    },
    {
     "name": "stderr",
     "output_type": "stream",
     "text": [
      "\n"
     ]
    }
   ],
   "source": [
    "cpi_annual_df = data_loader.inspect_data(\"03_cpi_annual\", delimiter=\",\", show_progress=False,loading_method='parallel')\n"
   ]
  },
  {
   "cell_type": "code",
   "execution_count": null,
   "metadata": {},
   "outputs": [],
   "source": []
  },
  {
   "cell_type": "code",
   "execution_count": 21,
   "metadata": {},
   "outputs": [
    {
     "data": {
      "text/plain": [
       "DATAFLOW           0.0\n",
       "MEASURE            0.0\n",
       "UNIT_MEASURE       0.0\n",
       "REF_AREA           0.0\n",
       "FREQ               0.0\n",
       "CPI_DIV            0.0\n",
       "SOURCE_DETAIL      0.0\n",
       "TIME_PERIOD        0.0\n",
       "OBS_VALUE          0.0\n",
       "DECIMALS           0.0\n",
       "OBS_STATUS       100.0\n",
       "UNIT_MULT        100.0\n",
       "dtype: float64"
      ]
     },
     "execution_count": 21,
     "metadata": {},
     "output_type": "execute_result"
    }
   ],
   "source": [
    "cpi_annual_df.isnull().mean() * 100"
   ]
  },
  {
   "cell_type": "code",
   "execution_count": 22,
   "metadata": {},
   "outputs": [
    {
     "data": {
      "text/html": [
       "<div>\n",
       "<style scoped>\n",
       "    .dataframe tbody tr th:only-of-type {\n",
       "        vertical-align: middle;\n",
       "    }\n",
       "\n",
       "    .dataframe tbody tr th {\n",
       "        vertical-align: top;\n",
       "    }\n",
       "\n",
       "    .dataframe thead th {\n",
       "        text-align: right;\n",
       "    }\n",
       "</style>\n",
       "<table border=\"1\" class=\"dataframe\">\n",
       "  <thead>\n",
       "    <tr style=\"text-align: right;\">\n",
       "      <th></th>\n",
       "      <th>DATAFLOW</th>\n",
       "      <th>MEASURE</th>\n",
       "      <th>UNIT_MEASURE</th>\n",
       "      <th>REF_AREA</th>\n",
       "      <th>FREQ</th>\n",
       "      <th>CPI_DIV</th>\n",
       "      <th>SOURCE_DETAIL</th>\n",
       "      <th>TIME_PERIOD</th>\n",
       "      <th>OBS_VALUE</th>\n",
       "      <th>DECIMALS</th>\n",
       "      <th>OBS_STATUS</th>\n",
       "      <th>UNIT_MULT</th>\n",
       "    </tr>\n",
       "  </thead>\n",
       "  <tbody>\n",
       "    <tr>\n",
       "      <th>0</th>\n",
       "      <td>FCSA:DF_CPI_ANN(3.2.0)</td>\n",
       "      <td>CPI_INDEX21</td>\n",
       "      <td>INDX</td>\n",
       "      <td>AE</td>\n",
       "      <td>A</td>\n",
       "      <td>FUR</td>\n",
       "      <td>FCSA</td>\n",
       "      <td>2021</td>\n",
       "      <td>100.000000</td>\n",
       "      <td>2</td>\n",
       "      <td>NaN</td>\n",
       "      <td>NaN</td>\n",
       "    </tr>\n",
       "    <tr>\n",
       "      <th>1</th>\n",
       "      <td>FCSA:DF_CPI_ANN(3.2.0)</td>\n",
       "      <td>CPI_INDEX21</td>\n",
       "      <td>INDX</td>\n",
       "      <td>AE</td>\n",
       "      <td>A</td>\n",
       "      <td>FUR</td>\n",
       "      <td>FCSA</td>\n",
       "      <td>2022</td>\n",
       "      <td>100.020000</td>\n",
       "      <td>2</td>\n",
       "      <td>NaN</td>\n",
       "      <td>NaN</td>\n",
       "    </tr>\n",
       "    <tr>\n",
       "      <th>2</th>\n",
       "      <td>FCSA:DF_CPI_ANN(3.2.0)</td>\n",
       "      <td>CPI_INDEX21</td>\n",
       "      <td>INDX</td>\n",
       "      <td>AE</td>\n",
       "      <td>A</td>\n",
       "      <td>FUR</td>\n",
       "      <td>FCSA</td>\n",
       "      <td>2023</td>\n",
       "      <td>103.223874</td>\n",
       "      <td>2</td>\n",
       "      <td>NaN</td>\n",
       "      <td>NaN</td>\n",
       "    </tr>\n",
       "    <tr>\n",
       "      <th>3</th>\n",
       "      <td>FCSA:DF_CPI_ANN(3.2.0)</td>\n",
       "      <td>CPI_ANNCHG</td>\n",
       "      <td>PERCENT</td>\n",
       "      <td>AE</td>\n",
       "      <td>A</td>\n",
       "      <td>TEX</td>\n",
       "      <td>FCSA</td>\n",
       "      <td>2010</td>\n",
       "      <td>-4.960000</td>\n",
       "      <td>2</td>\n",
       "      <td>NaN</td>\n",
       "      <td>NaN</td>\n",
       "    </tr>\n",
       "    <tr>\n",
       "      <th>4</th>\n",
       "      <td>FCSA:DF_CPI_ANN(3.2.0)</td>\n",
       "      <td>CPI_ANNCHG</td>\n",
       "      <td>PERCENT</td>\n",
       "      <td>AE</td>\n",
       "      <td>A</td>\n",
       "      <td>TEX</td>\n",
       "      <td>FCSA</td>\n",
       "      <td>2011</td>\n",
       "      <td>-1.870000</td>\n",
       "      <td>2</td>\n",
       "      <td>NaN</td>\n",
       "      <td>NaN</td>\n",
       "    </tr>\n",
       "    <tr>\n",
       "      <th>...</th>\n",
       "      <td>...</td>\n",
       "      <td>...</td>\n",
       "      <td>...</td>\n",
       "      <td>...</td>\n",
       "      <td>...</td>\n",
       "      <td>...</td>\n",
       "      <td>...</td>\n",
       "      <td>...</td>\n",
       "      <td>...</td>\n",
       "      <td>...</td>\n",
       "      <td>...</td>\n",
       "      <td>...</td>\n",
       "    </tr>\n",
       "    <tr>\n",
       "      <th>364</th>\n",
       "      <td>FCSA:DF_CPI_ANN(3.2.0)</td>\n",
       "      <td>CPI_ANNCHG</td>\n",
       "      <td>PERCENT</td>\n",
       "      <td>AE</td>\n",
       "      <td>A</td>\n",
       "      <td>REC</td>\n",
       "      <td>FCSA</td>\n",
       "      <td>2021</td>\n",
       "      <td>3.110000</td>\n",
       "      <td>2</td>\n",
       "      <td>NaN</td>\n",
       "      <td>NaN</td>\n",
       "    </tr>\n",
       "    <tr>\n",
       "      <th>365</th>\n",
       "      <td>FCSA:DF_CPI_ANN(3.2.0)</td>\n",
       "      <td>CPI_ANNCHG21</td>\n",
       "      <td>PERCENT</td>\n",
       "      <td>AE</td>\n",
       "      <td>A</td>\n",
       "      <td>EDU</td>\n",
       "      <td>FCSA</td>\n",
       "      <td>2022</td>\n",
       "      <td>0.950000</td>\n",
       "      <td>2</td>\n",
       "      <td>NaN</td>\n",
       "      <td>NaN</td>\n",
       "    </tr>\n",
       "    <tr>\n",
       "      <th>366</th>\n",
       "      <td>FCSA:DF_CPI_ANN(3.2.0)</td>\n",
       "      <td>CPI_ANNCHG21</td>\n",
       "      <td>PERCENT</td>\n",
       "      <td>AE</td>\n",
       "      <td>A</td>\n",
       "      <td>EDU</td>\n",
       "      <td>FCSA</td>\n",
       "      <td>2023</td>\n",
       "      <td>1.372461</td>\n",
       "      <td>2</td>\n",
       "      <td>NaN</td>\n",
       "      <td>NaN</td>\n",
       "    </tr>\n",
       "    <tr>\n",
       "      <th>367</th>\n",
       "      <td>FCSA:DF_CPI_ANN(3.2.0)</td>\n",
       "      <td>CPI_ANNCHG21</td>\n",
       "      <td>PERCENT</td>\n",
       "      <td>AE</td>\n",
       "      <td>A</td>\n",
       "      <td>RES</td>\n",
       "      <td>FCSA</td>\n",
       "      <td>2022</td>\n",
       "      <td>7.190000</td>\n",
       "      <td>2</td>\n",
       "      <td>NaN</td>\n",
       "      <td>NaN</td>\n",
       "    </tr>\n",
       "    <tr>\n",
       "      <th>368</th>\n",
       "      <td>FCSA:DF_CPI_ANN(3.2.0)</td>\n",
       "      <td>CPI_ANNCHG21</td>\n",
       "      <td>PERCENT</td>\n",
       "      <td>AE</td>\n",
       "      <td>A</td>\n",
       "      <td>RES</td>\n",
       "      <td>FCSA</td>\n",
       "      <td>2023</td>\n",
       "      <td>6.625620</td>\n",
       "      <td>2</td>\n",
       "      <td>NaN</td>\n",
       "      <td>NaN</td>\n",
       "    </tr>\n",
       "  </tbody>\n",
       "</table>\n",
       "<p>369 rows × 12 columns</p>\n",
       "</div>"
      ],
      "text/plain": [
       "                   DATAFLOW       MEASURE UNIT_MEASURE REF_AREA FREQ CPI_DIV  \\\n",
       "0    FCSA:DF_CPI_ANN(3.2.0)   CPI_INDEX21         INDX       AE    A     FUR   \n",
       "1    FCSA:DF_CPI_ANN(3.2.0)   CPI_INDEX21         INDX       AE    A     FUR   \n",
       "2    FCSA:DF_CPI_ANN(3.2.0)   CPI_INDEX21         INDX       AE    A     FUR   \n",
       "3    FCSA:DF_CPI_ANN(3.2.0)    CPI_ANNCHG      PERCENT       AE    A     TEX   \n",
       "4    FCSA:DF_CPI_ANN(3.2.0)    CPI_ANNCHG      PERCENT       AE    A     TEX   \n",
       "..                      ...           ...          ...      ...  ...     ...   \n",
       "364  FCSA:DF_CPI_ANN(3.2.0)    CPI_ANNCHG      PERCENT       AE    A     REC   \n",
       "365  FCSA:DF_CPI_ANN(3.2.0)  CPI_ANNCHG21      PERCENT       AE    A     EDU   \n",
       "366  FCSA:DF_CPI_ANN(3.2.0)  CPI_ANNCHG21      PERCENT       AE    A     EDU   \n",
       "367  FCSA:DF_CPI_ANN(3.2.0)  CPI_ANNCHG21      PERCENT       AE    A     RES   \n",
       "368  FCSA:DF_CPI_ANN(3.2.0)  CPI_ANNCHG21      PERCENT       AE    A     RES   \n",
       "\n",
       "    SOURCE_DETAIL  TIME_PERIOD   OBS_VALUE  DECIMALS  OBS_STATUS  UNIT_MULT  \n",
       "0            FCSA         2021  100.000000         2         NaN        NaN  \n",
       "1            FCSA         2022  100.020000         2         NaN        NaN  \n",
       "2            FCSA         2023  103.223874         2         NaN        NaN  \n",
       "3            FCSA         2010   -4.960000         2         NaN        NaN  \n",
       "4            FCSA         2011   -1.870000         2         NaN        NaN  \n",
       "..            ...          ...         ...       ...         ...        ...  \n",
       "364          FCSA         2021    3.110000         2         NaN        NaN  \n",
       "365          FCSA         2022    0.950000         2         NaN        NaN  \n",
       "366          FCSA         2023    1.372461         2         NaN        NaN  \n",
       "367          FCSA         2022    7.190000         2         NaN        NaN  \n",
       "368          FCSA         2023    6.625620         2         NaN        NaN  \n",
       "\n",
       "[369 rows x 12 columns]"
      ]
     },
     "execution_count": 22,
     "metadata": {},
     "output_type": "execute_result"
    }
   ],
   "source": [
    "cpi_annual_df"
   ]
  },
  {
   "cell_type": "code",
   "execution_count": 23,
   "metadata": {},
   "outputs": [
    {
     "name": "stdout",
     "output_type": "stream",
     "text": [
      "Formatted and Cleaned Data Overview:\n",
      "<class 'pandas.core.frame.DataFrame'>\n",
      "RangeIndex: 369 entries, 0 to 368\n",
      "Data columns (total 10 columns):\n",
      " #   Column         Non-Null Count  Dtype  \n",
      "---  ------         --------------  -----  \n",
      " 0   DATAFLOW       369 non-null    object \n",
      " 1   MEASURE        369 non-null    object \n",
      " 2   UNIT_MEASURE   369 non-null    object \n",
      " 3   REF_AREA       369 non-null    object \n",
      " 4   FREQ           369 non-null    object \n",
      " 5   CPI_DIV        369 non-null    object \n",
      " 6   SOURCE_DETAIL  369 non-null    object \n",
      " 7   TIME_PERIOD    369 non-null    int64  \n",
      " 8   OBS_VALUE      369 non-null    float64\n",
      " 9   DECIMALS       369 non-null    int64  \n",
      "dtypes: float64(1), int64(2), object(7)\n",
      "memory usage: 29.0+ KB\n",
      "None\n"
     ]
    }
   ],
   "source": [
    "# datetime_cols = [\"TIME_PERIOD\"]\n",
    "# numeric_cols = [\"Transaction Number\"]\n",
    "\n",
    "processed_cpi_annual_df = data_processor.format_and_clean_table(df=cpi_annual_df, missing_threshold=0.8)\n"
   ]
  },
  {
   "cell_type": "code",
   "execution_count": 24,
   "metadata": {},
   "outputs": [
    {
     "data": {
      "text/plain": [
       "DATAFLOW         0.0\n",
       "MEASURE          0.0\n",
       "UNIT_MEASURE     0.0\n",
       "REF_AREA         0.0\n",
       "FREQ             0.0\n",
       "CPI_DIV          0.0\n",
       "SOURCE_DETAIL    0.0\n",
       "TIME_PERIOD      0.0\n",
       "OBS_VALUE        0.0\n",
       "DECIMALS         0.0\n",
       "dtype: float64"
      ]
     },
     "execution_count": 24,
     "metadata": {},
     "output_type": "execute_result"
    }
   ],
   "source": [
    "processed_cpi_annual_df.isnull().mean() * 100"
   ]
  },
  {
   "cell_type": "code",
   "execution_count": 25,
   "metadata": {},
   "outputs": [
    {
     "name": "stdout",
     "output_type": "stream",
     "text": [
      "Shape: (369, 10)\n",
      "Dtypes: ['DATAFLOW:object', 'MEASURE:object', 'UNIT_MEASURE:object', 'REF_AREA:object', 'FREQ:object', 'CPI_DIV:object', 'SOURCE_DETAIL:object', 'TIME_PERIOD:int64', 'OBS_VALUE:float64', 'DECIMALS:int64']\n",
      "Missings (%): ['DATAFLOW:0.00%', 'MEASURE:0.00%', 'UNIT_MEASURE:0.00%', 'REF_AREA:0.00%', 'FREQ:0.00%', 'CPI_DIV:0.00%', 'SOURCE_DETAIL:0.00%', 'TIME_PERIOD:0.00%', 'OBS_VALUE:0.00%', 'DECIMALS:0.00%']\n",
      "Total missings (%): 0.00%\n",
      "total duplicates: 0\n",
      "Total memory usage: 0.03 MB\n"
     ]
    },
    {
     "data": {
      "text/html": [
       "<div>\n",
       "<style scoped>\n",
       "    .dataframe tbody tr th:only-of-type {\n",
       "        vertical-align: middle;\n",
       "    }\n",
       "\n",
       "    .dataframe tbody tr th {\n",
       "        vertical-align: top;\n",
       "    }\n",
       "\n",
       "    .dataframe thead th {\n",
       "        text-align: right;\n",
       "    }\n",
       "</style>\n",
       "<table border=\"1\" class=\"dataframe\">\n",
       "  <thead>\n",
       "    <tr style=\"text-align: right;\">\n",
       "      <th></th>\n",
       "      <th>DATAFLOW</th>\n",
       "      <th>MEASURE</th>\n",
       "      <th>UNIT_MEASURE</th>\n",
       "      <th>REF_AREA</th>\n",
       "      <th>FREQ</th>\n",
       "      <th>CPI_DIV</th>\n",
       "      <th>SOURCE_DETAIL</th>\n",
       "      <th>TIME_PERIOD</th>\n",
       "      <th>OBS_VALUE</th>\n",
       "      <th>DECIMALS</th>\n",
       "    </tr>\n",
       "  </thead>\n",
       "  <tbody>\n",
       "    <tr>\n",
       "      <th>0</th>\n",
       "      <td>FCSA:DF_CPI_ANN(3.2.0)</td>\n",
       "      <td>CPI_INDEX21</td>\n",
       "      <td>INDX</td>\n",
       "      <td>AE</td>\n",
       "      <td>A</td>\n",
       "      <td>FUR</td>\n",
       "      <td>FCSA</td>\n",
       "      <td>2021</td>\n",
       "      <td>100.00</td>\n",
       "      <td>2</td>\n",
       "    </tr>\n",
       "    <tr>\n",
       "      <th>1</th>\n",
       "      <td>FCSA:DF_CPI_ANN(3.2.0)</td>\n",
       "      <td>CPI_INDEX21</td>\n",
       "      <td>INDX</td>\n",
       "      <td>AE</td>\n",
       "      <td>A</td>\n",
       "      <td>FUR</td>\n",
       "      <td>FCSA</td>\n",
       "      <td>2022</td>\n",
       "      <td>100.02</td>\n",
       "      <td>2</td>\n",
       "    </tr>\n",
       "  </tbody>\n",
       "</table>\n",
       "</div>"
      ],
      "text/plain": [
       "                 DATAFLOW      MEASURE UNIT_MEASURE REF_AREA FREQ CPI_DIV  \\\n",
       "0  FCSA:DF_CPI_ANN(3.2.0)  CPI_INDEX21         INDX       AE    A     FUR   \n",
       "1  FCSA:DF_CPI_ANN(3.2.0)  CPI_INDEX21         INDX       AE    A     FUR   \n",
       "\n",
       "  SOURCE_DETAIL  TIME_PERIOD  OBS_VALUE  DECIMALS  \n",
       "0          FCSA         2021     100.00         2  \n",
       "1          FCSA         2022     100.02         2  "
      ]
     },
     "execution_count": 25,
     "metadata": {},
     "output_type": "execute_result"
    }
   ],
   "source": [
    "# optimized_cpi_annual_df = data_processor.optimize_dataframe_memory(cpi_annual_df)\n",
    "data_processor.display_dataframe_info(processed_cpi_annual_df)\n"
   ]
  },
  {
   "cell_type": "markdown",
   "metadata": {},
   "source": [
    "#### 4.4 `Consumer_Price_Index_Monthly.csv`"
   ]
  },
  {
   "cell_type": "code",
   "execution_count": 26,
   "metadata": {},
   "outputs": [
    {
     "name": "stdout",
     "output_type": "stream",
     "text": [
      "Loading 04_cpi_monthly from ../datasets/raw/Consumer Price Index/Consumer_Price_Index_Monthly.csv...\n"
     ]
    },
    {
     "name": "stderr",
     "output_type": "stream",
     "text": [
      "Loading files in parallel: 100%|██████████| 1/1 [00:00<00:00,  1.12it/s]"
     ]
    },
    {
     "name": "stdout",
     "output_type": "stream",
     "text": [
      "Shape of 04_cpi_monthly: (7361, 12)\n",
      "Columns in 04_cpi_monthly:\n",
      "Index(['DATAFLOW', 'MEASURE', 'UNIT_MEASURE', 'REF_AREA', 'FREQ', 'CPI_DIV',\n",
      "       'SOURCE_DETAIL', 'TIME_PERIOD', 'OBS_VALUE', 'DECIMALS', 'OBS_STATUS',\n",
      "       'UNIT_MULT'],\n",
      "      dtype='object')\n"
     ]
    },
    {
     "name": "stderr",
     "output_type": "stream",
     "text": [
      "\n"
     ]
    }
   ],
   "source": [
    "cpi_monthly_df = data_loader.inspect_data(\"04_cpi_monthly\", delimiter=\",\", show_progress=False,loading_method='parallel')\n"
   ]
  },
  {
   "cell_type": "code",
   "execution_count": 27,
   "metadata": {},
   "outputs": [
    {
     "data": {
      "text/plain": [
       "DATAFLOW           0.0\n",
       "MEASURE            0.0\n",
       "UNIT_MEASURE       0.0\n",
       "REF_AREA           0.0\n",
       "FREQ               0.0\n",
       "CPI_DIV            0.0\n",
       "SOURCE_DETAIL      0.0\n",
       "TIME_PERIOD        0.0\n",
       "OBS_VALUE          0.0\n",
       "DECIMALS           0.0\n",
       "OBS_STATUS       100.0\n",
       "UNIT_MULT        100.0\n",
       "dtype: float64"
      ]
     },
     "execution_count": 27,
     "metadata": {},
     "output_type": "execute_result"
    }
   ],
   "source": [
    "cpi_monthly_df.isnull().mean() * 100"
   ]
  },
  {
   "cell_type": "code",
   "execution_count": 28,
   "metadata": {},
   "outputs": [
    {
     "data": {
      "text/html": [
       "<div>\n",
       "<style scoped>\n",
       "    .dataframe tbody tr th:only-of-type {\n",
       "        vertical-align: middle;\n",
       "    }\n",
       "\n",
       "    .dataframe tbody tr th {\n",
       "        vertical-align: top;\n",
       "    }\n",
       "\n",
       "    .dataframe thead th {\n",
       "        text-align: right;\n",
       "    }\n",
       "</style>\n",
       "<table border=\"1\" class=\"dataframe\">\n",
       "  <thead>\n",
       "    <tr style=\"text-align: right;\">\n",
       "      <th></th>\n",
       "      <th>DATAFLOW</th>\n",
       "      <th>MEASURE</th>\n",
       "      <th>UNIT_MEASURE</th>\n",
       "      <th>REF_AREA</th>\n",
       "      <th>FREQ</th>\n",
       "      <th>CPI_DIV</th>\n",
       "      <th>SOURCE_DETAIL</th>\n",
       "      <th>TIME_PERIOD</th>\n",
       "      <th>OBS_VALUE</th>\n",
       "      <th>DECIMALS</th>\n",
       "      <th>OBS_STATUS</th>\n",
       "      <th>UNIT_MULT</th>\n",
       "    </tr>\n",
       "  </thead>\n",
       "  <tbody>\n",
       "    <tr>\n",
       "      <th>0</th>\n",
       "      <td>FCSA:DF_CPI(3.2.0)</td>\n",
       "      <td>CPI_ANNCHG</td>\n",
       "      <td>PERCENT</td>\n",
       "      <td>AE</td>\n",
       "      <td>M</td>\n",
       "      <td>FUR</td>\n",
       "      <td>FCSA</td>\n",
       "      <td>2009-01</td>\n",
       "      <td>7.250000</td>\n",
       "      <td>2</td>\n",
       "      <td>NaN</td>\n",
       "      <td>NaN</td>\n",
       "    </tr>\n",
       "    <tr>\n",
       "      <th>1</th>\n",
       "      <td>FCSA:DF_CPI(3.2.0)</td>\n",
       "      <td>CPI_ANNCHG</td>\n",
       "      <td>PERCENT</td>\n",
       "      <td>AE</td>\n",
       "      <td>M</td>\n",
       "      <td>FUR</td>\n",
       "      <td>FCSA</td>\n",
       "      <td>2009-02</td>\n",
       "      <td>3.870000</td>\n",
       "      <td>2</td>\n",
       "      <td>NaN</td>\n",
       "      <td>NaN</td>\n",
       "    </tr>\n",
       "    <tr>\n",
       "      <th>2</th>\n",
       "      <td>FCSA:DF_CPI(3.2.0)</td>\n",
       "      <td>CPI_ANNCHG</td>\n",
       "      <td>PERCENT</td>\n",
       "      <td>AE</td>\n",
       "      <td>M</td>\n",
       "      <td>FUR</td>\n",
       "      <td>FCSA</td>\n",
       "      <td>2009-03</td>\n",
       "      <td>4.700000</td>\n",
       "      <td>2</td>\n",
       "      <td>NaN</td>\n",
       "      <td>NaN</td>\n",
       "    </tr>\n",
       "    <tr>\n",
       "      <th>3</th>\n",
       "      <td>FCSA:DF_CPI(3.2.0)</td>\n",
       "      <td>CPI_ANNCHG</td>\n",
       "      <td>PERCENT</td>\n",
       "      <td>AE</td>\n",
       "      <td>M</td>\n",
       "      <td>FUR</td>\n",
       "      <td>FCSA</td>\n",
       "      <td>2009-04</td>\n",
       "      <td>1.900000</td>\n",
       "      <td>2</td>\n",
       "      <td>NaN</td>\n",
       "      <td>NaN</td>\n",
       "    </tr>\n",
       "    <tr>\n",
       "      <th>4</th>\n",
       "      <td>FCSA:DF_CPI(3.2.0)</td>\n",
       "      <td>CPI_ANNCHG</td>\n",
       "      <td>PERCENT</td>\n",
       "      <td>AE</td>\n",
       "      <td>M</td>\n",
       "      <td>FUR</td>\n",
       "      <td>FCSA</td>\n",
       "      <td>2009-05</td>\n",
       "      <td>5.250000</td>\n",
       "      <td>2</td>\n",
       "      <td>NaN</td>\n",
       "      <td>NaN</td>\n",
       "    </tr>\n",
       "    <tr>\n",
       "      <th>...</th>\n",
       "      <td>...</td>\n",
       "      <td>...</td>\n",
       "      <td>...</td>\n",
       "      <td>...</td>\n",
       "      <td>...</td>\n",
       "      <td>...</td>\n",
       "      <td>...</td>\n",
       "      <td>...</td>\n",
       "      <td>...</td>\n",
       "      <td>...</td>\n",
       "      <td>...</td>\n",
       "      <td>...</td>\n",
       "    </tr>\n",
       "    <tr>\n",
       "      <th>7356</th>\n",
       "      <td>FCSA:DF_CPI(3.2.0)</td>\n",
       "      <td>CPI_MTHCHG</td>\n",
       "      <td>PERCENT</td>\n",
       "      <td>AE</td>\n",
       "      <td>M</td>\n",
       "      <td>INS</td>\n",
       "      <td>FCSA</td>\n",
       "      <td>2024-03</td>\n",
       "      <td>-1.114635</td>\n",
       "      <td>2</td>\n",
       "      <td>NaN</td>\n",
       "      <td>NaN</td>\n",
       "    </tr>\n",
       "    <tr>\n",
       "      <th>7357</th>\n",
       "      <td>FCSA:DF_CPI(3.2.0)</td>\n",
       "      <td>CPI_MTHCHG</td>\n",
       "      <td>PERCENT</td>\n",
       "      <td>AE</td>\n",
       "      <td>M</td>\n",
       "      <td>INS</td>\n",
       "      <td>FCSA</td>\n",
       "      <td>2024-04</td>\n",
       "      <td>-0.022338</td>\n",
       "      <td>2</td>\n",
       "      <td>NaN</td>\n",
       "      <td>NaN</td>\n",
       "    </tr>\n",
       "    <tr>\n",
       "      <th>7358</th>\n",
       "      <td>FCSA:DF_CPI(3.2.0)</td>\n",
       "      <td>CPI_MTHCHG</td>\n",
       "      <td>PERCENT</td>\n",
       "      <td>AE</td>\n",
       "      <td>M</td>\n",
       "      <td>INS</td>\n",
       "      <td>FCSA</td>\n",
       "      <td>2024-05</td>\n",
       "      <td>-0.005594</td>\n",
       "      <td>2</td>\n",
       "      <td>NaN</td>\n",
       "      <td>NaN</td>\n",
       "    </tr>\n",
       "    <tr>\n",
       "      <th>7359</th>\n",
       "      <td>FCSA:DF_CPI(3.2.0)</td>\n",
       "      <td>CPI_MTHCHG</td>\n",
       "      <td>PERCENT</td>\n",
       "      <td>AE</td>\n",
       "      <td>M</td>\n",
       "      <td>INS</td>\n",
       "      <td>FCSA</td>\n",
       "      <td>2024-06</td>\n",
       "      <td>2.137716</td>\n",
       "      <td>2</td>\n",
       "      <td>NaN</td>\n",
       "      <td>NaN</td>\n",
       "    </tr>\n",
       "    <tr>\n",
       "      <th>7360</th>\n",
       "      <td>FCSA:DF_CPI(3.2.0)</td>\n",
       "      <td>CPI_MTHCHG</td>\n",
       "      <td>PERCENT</td>\n",
       "      <td>AE</td>\n",
       "      <td>M</td>\n",
       "      <td>INS</td>\n",
       "      <td>FCSA</td>\n",
       "      <td>2024-07</td>\n",
       "      <td>0.299637</td>\n",
       "      <td>2</td>\n",
       "      <td>NaN</td>\n",
       "      <td>NaN</td>\n",
       "    </tr>\n",
       "  </tbody>\n",
       "</table>\n",
       "<p>7361 rows × 12 columns</p>\n",
       "</div>"
      ],
      "text/plain": [
       "                DATAFLOW     MEASURE UNIT_MEASURE REF_AREA FREQ CPI_DIV  \\\n",
       "0     FCSA:DF_CPI(3.2.0)  CPI_ANNCHG      PERCENT       AE    M     FUR   \n",
       "1     FCSA:DF_CPI(3.2.0)  CPI_ANNCHG      PERCENT       AE    M     FUR   \n",
       "2     FCSA:DF_CPI(3.2.0)  CPI_ANNCHG      PERCENT       AE    M     FUR   \n",
       "3     FCSA:DF_CPI(3.2.0)  CPI_ANNCHG      PERCENT       AE    M     FUR   \n",
       "4     FCSA:DF_CPI(3.2.0)  CPI_ANNCHG      PERCENT       AE    M     FUR   \n",
       "...                  ...         ...          ...      ...  ...     ...   \n",
       "7356  FCSA:DF_CPI(3.2.0)  CPI_MTHCHG      PERCENT       AE    M     INS   \n",
       "7357  FCSA:DF_CPI(3.2.0)  CPI_MTHCHG      PERCENT       AE    M     INS   \n",
       "7358  FCSA:DF_CPI(3.2.0)  CPI_MTHCHG      PERCENT       AE    M     INS   \n",
       "7359  FCSA:DF_CPI(3.2.0)  CPI_MTHCHG      PERCENT       AE    M     INS   \n",
       "7360  FCSA:DF_CPI(3.2.0)  CPI_MTHCHG      PERCENT       AE    M     INS   \n",
       "\n",
       "     SOURCE_DETAIL TIME_PERIOD  OBS_VALUE  DECIMALS  OBS_STATUS  UNIT_MULT  \n",
       "0             FCSA     2009-01   7.250000         2         NaN        NaN  \n",
       "1             FCSA     2009-02   3.870000         2         NaN        NaN  \n",
       "2             FCSA     2009-03   4.700000         2         NaN        NaN  \n",
       "3             FCSA     2009-04   1.900000         2         NaN        NaN  \n",
       "4             FCSA     2009-05   5.250000         2         NaN        NaN  \n",
       "...            ...         ...        ...       ...         ...        ...  \n",
       "7356          FCSA     2024-03  -1.114635         2         NaN        NaN  \n",
       "7357          FCSA     2024-04  -0.022338         2         NaN        NaN  \n",
       "7358          FCSA     2024-05  -0.005594         2         NaN        NaN  \n",
       "7359          FCSA     2024-06   2.137716         2         NaN        NaN  \n",
       "7360          FCSA     2024-07   0.299637         2         NaN        NaN  \n",
       "\n",
       "[7361 rows x 12 columns]"
      ]
     },
     "execution_count": 28,
     "metadata": {},
     "output_type": "execute_result"
    }
   ],
   "source": [
    "cpi_monthly_df"
   ]
  },
  {
   "cell_type": "code",
   "execution_count": 29,
   "metadata": {},
   "outputs": [
    {
     "name": "stdout",
     "output_type": "stream",
     "text": [
      "Formatted and Cleaned Data Overview:\n",
      "<class 'pandas.core.frame.DataFrame'>\n",
      "RangeIndex: 7361 entries, 0 to 7360\n",
      "Data columns (total 10 columns):\n",
      " #   Column         Non-Null Count  Dtype  \n",
      "---  ------         --------------  -----  \n",
      " 0   DATAFLOW       7361 non-null   object \n",
      " 1   MEASURE        7361 non-null   object \n",
      " 2   UNIT_MEASURE   7361 non-null   object \n",
      " 3   REF_AREA       7361 non-null   object \n",
      " 4   FREQ           7361 non-null   object \n",
      " 5   CPI_DIV        7361 non-null   object \n",
      " 6   SOURCE_DETAIL  7361 non-null   object \n",
      " 7   TIME_PERIOD    7361 non-null   object \n",
      " 8   OBS_VALUE      7361 non-null   float64\n",
      " 9   DECIMALS       7361 non-null   int64  \n",
      "dtypes: float64(1), int64(1), object(8)\n",
      "memory usage: 575.2+ KB\n",
      "None\n"
     ]
    }
   ],
   "source": [
    "processed_cpi_monthly_df = data_processor.format_and_clean_table(df=cpi_monthly_df, missing_threshold=0.8)\n"
   ]
  },
  {
   "cell_type": "code",
   "execution_count": 30,
   "metadata": {},
   "outputs": [
    {
     "name": "stdout",
     "output_type": "stream",
     "text": [
      "Shape: (7361, 10)\n",
      "Dtypes: ['DATAFLOW:object', 'MEASURE:object', 'UNIT_MEASURE:object', 'REF_AREA:object', 'FREQ:object', 'CPI_DIV:object', 'SOURCE_DETAIL:object', 'TIME_PERIOD:object', 'OBS_VALUE:float64', 'DECIMALS:int64']\n",
      "Missings (%): ['DATAFLOW:0.00%', 'MEASURE:0.00%', 'UNIT_MEASURE:0.00%', 'REF_AREA:0.00%', 'FREQ:0.00%', 'CPI_DIV:0.00%', 'SOURCE_DETAIL:0.00%', 'TIME_PERIOD:0.00%', 'OBS_VALUE:0.00%', 'DECIMALS:0.00%']\n",
      "Total missings (%): 0.00%\n",
      "total duplicates: 0\n",
      "Total memory usage: 0.56 MB\n"
     ]
    },
    {
     "data": {
      "text/html": [
       "<div>\n",
       "<style scoped>\n",
       "    .dataframe tbody tr th:only-of-type {\n",
       "        vertical-align: middle;\n",
       "    }\n",
       "\n",
       "    .dataframe tbody tr th {\n",
       "        vertical-align: top;\n",
       "    }\n",
       "\n",
       "    .dataframe thead th {\n",
       "        text-align: right;\n",
       "    }\n",
       "</style>\n",
       "<table border=\"1\" class=\"dataframe\">\n",
       "  <thead>\n",
       "    <tr style=\"text-align: right;\">\n",
       "      <th></th>\n",
       "      <th>DATAFLOW</th>\n",
       "      <th>MEASURE</th>\n",
       "      <th>UNIT_MEASURE</th>\n",
       "      <th>REF_AREA</th>\n",
       "      <th>FREQ</th>\n",
       "      <th>CPI_DIV</th>\n",
       "      <th>SOURCE_DETAIL</th>\n",
       "      <th>TIME_PERIOD</th>\n",
       "      <th>OBS_VALUE</th>\n",
       "      <th>DECIMALS</th>\n",
       "    </tr>\n",
       "  </thead>\n",
       "  <tbody>\n",
       "    <tr>\n",
       "      <th>0</th>\n",
       "      <td>FCSA:DF_CPI(3.2.0)</td>\n",
       "      <td>CPI_ANNCHG</td>\n",
       "      <td>PERCENT</td>\n",
       "      <td>AE</td>\n",
       "      <td>M</td>\n",
       "      <td>FUR</td>\n",
       "      <td>FCSA</td>\n",
       "      <td>2009-01</td>\n",
       "      <td>7.25</td>\n",
       "      <td>2</td>\n",
       "    </tr>\n",
       "    <tr>\n",
       "      <th>1</th>\n",
       "      <td>FCSA:DF_CPI(3.2.0)</td>\n",
       "      <td>CPI_ANNCHG</td>\n",
       "      <td>PERCENT</td>\n",
       "      <td>AE</td>\n",
       "      <td>M</td>\n",
       "      <td>FUR</td>\n",
       "      <td>FCSA</td>\n",
       "      <td>2009-02</td>\n",
       "      <td>3.87</td>\n",
       "      <td>2</td>\n",
       "    </tr>\n",
       "  </tbody>\n",
       "</table>\n",
       "</div>"
      ],
      "text/plain": [
       "             DATAFLOW     MEASURE UNIT_MEASURE REF_AREA FREQ CPI_DIV  \\\n",
       "0  FCSA:DF_CPI(3.2.0)  CPI_ANNCHG      PERCENT       AE    M     FUR   \n",
       "1  FCSA:DF_CPI(3.2.0)  CPI_ANNCHG      PERCENT       AE    M     FUR   \n",
       "\n",
       "  SOURCE_DETAIL TIME_PERIOD  OBS_VALUE  DECIMALS  \n",
       "0          FCSA     2009-01       7.25         2  \n",
       "1          FCSA     2009-02       3.87         2  "
      ]
     },
     "execution_count": 30,
     "metadata": {},
     "output_type": "execute_result"
    }
   ],
   "source": [
    "# optimized_cpi_monthly_df = data_processor.optimize_dataframe_memory(cpi_monthly_df)\n",
    "data_processor.display_dataframe_info(processed_cpi_monthly_df)\n"
   ]
  },
  {
   "cell_type": "markdown",
   "metadata": {},
   "source": [
    "#### 4.5 `Consumer_Price_Index_Quarterly.csv`"
   ]
  },
  {
   "cell_type": "code",
   "execution_count": 31,
   "metadata": {},
   "outputs": [
    {
     "name": "stdout",
     "output_type": "stream",
     "text": [
      "Loading 05_cpi_quarterly from ../datasets/raw/Consumer Price Index/Consumer_Price_Index_Quarterly.csv...\n"
     ]
    },
    {
     "name": "stderr",
     "output_type": "stream",
     "text": [
      "Loading files in parallel: 100%|██████████| 1/1 [00:00<00:00,  1.10it/s]"
     ]
    },
    {
     "name": "stdout",
     "output_type": "stream",
     "text": [
      "Shape of 05_cpi_quarterly: (112, 12)\n",
      "Columns in 05_cpi_quarterly:\n",
      "Index(['DATAFLOW', 'MEASURE', 'UNIT_MEASURE', 'REF_AREA', 'FREQ', 'CPI_DIV',\n",
      "       'SOURCE_DETAIL', 'TIME_PERIOD', 'OBS_VALUE', 'DECIMALS', 'OBS_STATUS',\n",
      "       'UNIT_MULT'],\n",
      "      dtype='object')\n"
     ]
    },
    {
     "name": "stderr",
     "output_type": "stream",
     "text": [
      "\n"
     ]
    }
   ],
   "source": [
    "cpi_quarterly_df = data_loader.inspect_data(\"05_cpi_quarterly\", delimiter=\",\", show_progress=False,loading_method='parallel')\n"
   ]
  },
  {
   "cell_type": "code",
   "execution_count": 32,
   "metadata": {},
   "outputs": [
    {
     "data": {
      "text/html": [
       "<div>\n",
       "<style scoped>\n",
       "    .dataframe tbody tr th:only-of-type {\n",
       "        vertical-align: middle;\n",
       "    }\n",
       "\n",
       "    .dataframe tbody tr th {\n",
       "        vertical-align: top;\n",
       "    }\n",
       "\n",
       "    .dataframe thead th {\n",
       "        text-align: right;\n",
       "    }\n",
       "</style>\n",
       "<table border=\"1\" class=\"dataframe\">\n",
       "  <thead>\n",
       "    <tr style=\"text-align: right;\">\n",
       "      <th></th>\n",
       "      <th>DATAFLOW</th>\n",
       "      <th>MEASURE</th>\n",
       "      <th>UNIT_MEASURE</th>\n",
       "      <th>REF_AREA</th>\n",
       "      <th>FREQ</th>\n",
       "      <th>CPI_DIV</th>\n",
       "      <th>SOURCE_DETAIL</th>\n",
       "      <th>TIME_PERIOD</th>\n",
       "      <th>OBS_VALUE</th>\n",
       "      <th>DECIMALS</th>\n",
       "      <th>OBS_STATUS</th>\n",
       "      <th>UNIT_MULT</th>\n",
       "    </tr>\n",
       "  </thead>\n",
       "  <tbody>\n",
       "    <tr>\n",
       "      <th>0</th>\n",
       "      <td>FCSA:DF_CPI_Q(3.2.0)</td>\n",
       "      <td>CPI_QCHNG</td>\n",
       "      <td>PERCENT</td>\n",
       "      <td>AE</td>\n",
       "      <td>Q</td>\n",
       "      <td>HOU</td>\n",
       "      <td>FCSA</td>\n",
       "      <td>2022-Q1</td>\n",
       "      <td>-1.851788</td>\n",
       "      <td>2</td>\n",
       "      <td>NaN</td>\n",
       "      <td>NaN</td>\n",
       "    </tr>\n",
       "    <tr>\n",
       "      <th>1</th>\n",
       "      <td>FCSA:DF_CPI_Q(3.2.0)</td>\n",
       "      <td>CPI_QCHNG</td>\n",
       "      <td>PERCENT</td>\n",
       "      <td>AE</td>\n",
       "      <td>Q</td>\n",
       "      <td>HOU</td>\n",
       "      <td>FCSA</td>\n",
       "      <td>2022-Q2</td>\n",
       "      <td>-1.001258</td>\n",
       "      <td>2</td>\n",
       "      <td>NaN</td>\n",
       "      <td>NaN</td>\n",
       "    </tr>\n",
       "    <tr>\n",
       "      <th>2</th>\n",
       "      <td>FCSA:DF_CPI_Q(3.2.0)</td>\n",
       "      <td>CPI_QCHNG</td>\n",
       "      <td>PERCENT</td>\n",
       "      <td>AE</td>\n",
       "      <td>Q</td>\n",
       "      <td>HOU</td>\n",
       "      <td>FCSA</td>\n",
       "      <td>2022-Q3</td>\n",
       "      <td>0.119038</td>\n",
       "      <td>2</td>\n",
       "      <td>NaN</td>\n",
       "      <td>NaN</td>\n",
       "    </tr>\n",
       "    <tr>\n",
       "      <th>3</th>\n",
       "      <td>FCSA:DF_CPI_Q(3.2.0)</td>\n",
       "      <td>CPI_QCHNG</td>\n",
       "      <td>PERCENT</td>\n",
       "      <td>AE</td>\n",
       "      <td>Q</td>\n",
       "      <td>HOU</td>\n",
       "      <td>FCSA</td>\n",
       "      <td>2022-Q4</td>\n",
       "      <td>1.605925</td>\n",
       "      <td>2</td>\n",
       "      <td>NaN</td>\n",
       "      <td>NaN</td>\n",
       "    </tr>\n",
       "    <tr>\n",
       "      <th>4</th>\n",
       "      <td>FCSA:DF_CPI_Q(3.2.0)</td>\n",
       "      <td>CPI_QCHNG</td>\n",
       "      <td>PERCENT</td>\n",
       "      <td>AE</td>\n",
       "      <td>Q</td>\n",
       "      <td>HOU</td>\n",
       "      <td>FCSA</td>\n",
       "      <td>2023-Q1</td>\n",
       "      <td>2.451617</td>\n",
       "      <td>2</td>\n",
       "      <td>NaN</td>\n",
       "      <td>NaN</td>\n",
       "    </tr>\n",
       "    <tr>\n",
       "      <th>...</th>\n",
       "      <td>...</td>\n",
       "      <td>...</td>\n",
       "      <td>...</td>\n",
       "      <td>...</td>\n",
       "      <td>...</td>\n",
       "      <td>...</td>\n",
       "      <td>...</td>\n",
       "      <td>...</td>\n",
       "      <td>...</td>\n",
       "      <td>...</td>\n",
       "      <td>...</td>\n",
       "      <td>...</td>\n",
       "    </tr>\n",
       "    <tr>\n",
       "      <th>107</th>\n",
       "      <td>FCSA:DF_CPI_Q(3.2.0)</td>\n",
       "      <td>CPI_QCHNG</td>\n",
       "      <td>PERCENT</td>\n",
       "      <td>AE</td>\n",
       "      <td>Q</td>\n",
       "      <td>TEX</td>\n",
       "      <td>FCSA</td>\n",
       "      <td>2022-Q4</td>\n",
       "      <td>4.129407</td>\n",
       "      <td>2</td>\n",
       "      <td>NaN</td>\n",
       "      <td>NaN</td>\n",
       "    </tr>\n",
       "    <tr>\n",
       "      <th>108</th>\n",
       "      <td>FCSA:DF_CPI_Q(3.2.0)</td>\n",
       "      <td>CPI_QCHNG</td>\n",
       "      <td>PERCENT</td>\n",
       "      <td>AE</td>\n",
       "      <td>Q</td>\n",
       "      <td>TEX</td>\n",
       "      <td>FCSA</td>\n",
       "      <td>2023-Q1</td>\n",
       "      <td>4.650506</td>\n",
       "      <td>2</td>\n",
       "      <td>NaN</td>\n",
       "      <td>NaN</td>\n",
       "    </tr>\n",
       "    <tr>\n",
       "      <th>109</th>\n",
       "      <td>FCSA:DF_CPI_Q(3.2.0)</td>\n",
       "      <td>CPI_QCHNG</td>\n",
       "      <td>PERCENT</td>\n",
       "      <td>AE</td>\n",
       "      <td>Q</td>\n",
       "      <td>TEX</td>\n",
       "      <td>FCSA</td>\n",
       "      <td>2023-Q2</td>\n",
       "      <td>3.903968</td>\n",
       "      <td>2</td>\n",
       "      <td>NaN</td>\n",
       "      <td>NaN</td>\n",
       "    </tr>\n",
       "    <tr>\n",
       "      <th>110</th>\n",
       "      <td>FCSA:DF_CPI_Q(3.2.0)</td>\n",
       "      <td>CPI_QCHNG</td>\n",
       "      <td>PERCENT</td>\n",
       "      <td>AE</td>\n",
       "      <td>Q</td>\n",
       "      <td>TEX</td>\n",
       "      <td>FCSA</td>\n",
       "      <td>2023-Q3</td>\n",
       "      <td>2.964095</td>\n",
       "      <td>2</td>\n",
       "      <td>NaN</td>\n",
       "      <td>NaN</td>\n",
       "    </tr>\n",
       "    <tr>\n",
       "      <th>111</th>\n",
       "      <td>FCSA:DF_CPI_Q(3.2.0)</td>\n",
       "      <td>CPI_QCHNG</td>\n",
       "      <td>PERCENT</td>\n",
       "      <td>AE</td>\n",
       "      <td>Q</td>\n",
       "      <td>TEX</td>\n",
       "      <td>FCSA</td>\n",
       "      <td>2023-Q4</td>\n",
       "      <td>1.252795</td>\n",
       "      <td>2</td>\n",
       "      <td>NaN</td>\n",
       "      <td>NaN</td>\n",
       "    </tr>\n",
       "  </tbody>\n",
       "</table>\n",
       "<p>112 rows × 12 columns</p>\n",
       "</div>"
      ],
      "text/plain": [
       "                 DATAFLOW    MEASURE UNIT_MEASURE REF_AREA FREQ CPI_DIV  \\\n",
       "0    FCSA:DF_CPI_Q(3.2.0)  CPI_QCHNG      PERCENT       AE    Q     HOU   \n",
       "1    FCSA:DF_CPI_Q(3.2.0)  CPI_QCHNG      PERCENT       AE    Q     HOU   \n",
       "2    FCSA:DF_CPI_Q(3.2.0)  CPI_QCHNG      PERCENT       AE    Q     HOU   \n",
       "3    FCSA:DF_CPI_Q(3.2.0)  CPI_QCHNG      PERCENT       AE    Q     HOU   \n",
       "4    FCSA:DF_CPI_Q(3.2.0)  CPI_QCHNG      PERCENT       AE    Q     HOU   \n",
       "..                    ...        ...          ...      ...  ...     ...   \n",
       "107  FCSA:DF_CPI_Q(3.2.0)  CPI_QCHNG      PERCENT       AE    Q     TEX   \n",
       "108  FCSA:DF_CPI_Q(3.2.0)  CPI_QCHNG      PERCENT       AE    Q     TEX   \n",
       "109  FCSA:DF_CPI_Q(3.2.0)  CPI_QCHNG      PERCENT       AE    Q     TEX   \n",
       "110  FCSA:DF_CPI_Q(3.2.0)  CPI_QCHNG      PERCENT       AE    Q     TEX   \n",
       "111  FCSA:DF_CPI_Q(3.2.0)  CPI_QCHNG      PERCENT       AE    Q     TEX   \n",
       "\n",
       "    SOURCE_DETAIL TIME_PERIOD  OBS_VALUE  DECIMALS  OBS_STATUS  UNIT_MULT  \n",
       "0            FCSA     2022-Q1  -1.851788         2         NaN        NaN  \n",
       "1            FCSA     2022-Q2  -1.001258         2         NaN        NaN  \n",
       "2            FCSA     2022-Q3   0.119038         2         NaN        NaN  \n",
       "3            FCSA     2022-Q4   1.605925         2         NaN        NaN  \n",
       "4            FCSA     2023-Q1   2.451617         2         NaN        NaN  \n",
       "..            ...         ...        ...       ...         ...        ...  \n",
       "107          FCSA     2022-Q4   4.129407         2         NaN        NaN  \n",
       "108          FCSA     2023-Q1   4.650506         2         NaN        NaN  \n",
       "109          FCSA     2023-Q2   3.903968         2         NaN        NaN  \n",
       "110          FCSA     2023-Q3   2.964095         2         NaN        NaN  \n",
       "111          FCSA     2023-Q4   1.252795         2         NaN        NaN  \n",
       "\n",
       "[112 rows x 12 columns]"
      ]
     },
     "execution_count": 32,
     "metadata": {},
     "output_type": "execute_result"
    }
   ],
   "source": [
    "cpi_quarterly_df"
   ]
  },
  {
   "cell_type": "code",
   "execution_count": 33,
   "metadata": {},
   "outputs": [
    {
     "data": {
      "text/plain": [
       "DATAFLOW           0.0\n",
       "MEASURE            0.0\n",
       "UNIT_MEASURE       0.0\n",
       "REF_AREA           0.0\n",
       "FREQ               0.0\n",
       "CPI_DIV            0.0\n",
       "SOURCE_DETAIL      0.0\n",
       "TIME_PERIOD        0.0\n",
       "OBS_VALUE          0.0\n",
       "DECIMALS           0.0\n",
       "OBS_STATUS       100.0\n",
       "UNIT_MULT        100.0\n",
       "dtype: float64"
      ]
     },
     "execution_count": 33,
     "metadata": {},
     "output_type": "execute_result"
    }
   ],
   "source": [
    "cpi_quarterly_df.isnull().mean() * 100"
   ]
  },
  {
   "cell_type": "code",
   "execution_count": 34,
   "metadata": {},
   "outputs": [
    {
     "name": "stdout",
     "output_type": "stream",
     "text": [
      "Formatted and Cleaned Data Overview:\n",
      "<class 'pandas.core.frame.DataFrame'>\n",
      "RangeIndex: 112 entries, 0 to 111\n",
      "Data columns (total 10 columns):\n",
      " #   Column         Non-Null Count  Dtype  \n",
      "---  ------         --------------  -----  \n",
      " 0   DATAFLOW       112 non-null    object \n",
      " 1   MEASURE        112 non-null    object \n",
      " 2   UNIT_MEASURE   112 non-null    object \n",
      " 3   REF_AREA       112 non-null    object \n",
      " 4   FREQ           112 non-null    object \n",
      " 5   CPI_DIV        112 non-null    object \n",
      " 6   SOURCE_DETAIL  112 non-null    object \n",
      " 7   TIME_PERIOD    112 non-null    object \n",
      " 8   OBS_VALUE      112 non-null    float64\n",
      " 9   DECIMALS       112 non-null    int64  \n",
      "dtypes: float64(1), int64(1), object(8)\n",
      "memory usage: 8.9+ KB\n",
      "None\n"
     ]
    }
   ],
   "source": [
    "processed_cpi_quarterly_df = data_processor.format_and_clean_table(df=cpi_quarterly_df, missing_threshold=0.8)\n"
   ]
  },
  {
   "cell_type": "code",
   "execution_count": 35,
   "metadata": {},
   "outputs": [
    {
     "name": "stdout",
     "output_type": "stream",
     "text": [
      "Shape: (112, 10)\n",
      "Dtypes: ['DATAFLOW:object', 'MEASURE:object', 'UNIT_MEASURE:object', 'REF_AREA:object', 'FREQ:object', 'CPI_DIV:object', 'SOURCE_DETAIL:object', 'TIME_PERIOD:object', 'OBS_VALUE:float64', 'DECIMALS:int64']\n",
      "Missings (%): ['DATAFLOW:0.00%', 'MEASURE:0.00%', 'UNIT_MEASURE:0.00%', 'REF_AREA:0.00%', 'FREQ:0.00%', 'CPI_DIV:0.00%', 'SOURCE_DETAIL:0.00%', 'TIME_PERIOD:0.00%', 'OBS_VALUE:0.00%', 'DECIMALS:0.00%']\n",
      "Total missings (%): 0.00%\n",
      "total duplicates: 0\n",
      "Total memory usage: 0.01 MB\n"
     ]
    },
    {
     "data": {
      "text/html": [
       "<div>\n",
       "<style scoped>\n",
       "    .dataframe tbody tr th:only-of-type {\n",
       "        vertical-align: middle;\n",
       "    }\n",
       "\n",
       "    .dataframe tbody tr th {\n",
       "        vertical-align: top;\n",
       "    }\n",
       "\n",
       "    .dataframe thead th {\n",
       "        text-align: right;\n",
       "    }\n",
       "</style>\n",
       "<table border=\"1\" class=\"dataframe\">\n",
       "  <thead>\n",
       "    <tr style=\"text-align: right;\">\n",
       "      <th></th>\n",
       "      <th>DATAFLOW</th>\n",
       "      <th>MEASURE</th>\n",
       "      <th>UNIT_MEASURE</th>\n",
       "      <th>REF_AREA</th>\n",
       "      <th>FREQ</th>\n",
       "      <th>CPI_DIV</th>\n",
       "      <th>SOURCE_DETAIL</th>\n",
       "      <th>TIME_PERIOD</th>\n",
       "      <th>OBS_VALUE</th>\n",
       "      <th>DECIMALS</th>\n",
       "    </tr>\n",
       "  </thead>\n",
       "  <tbody>\n",
       "    <tr>\n",
       "      <th>0</th>\n",
       "      <td>FCSA:DF_CPI_Q(3.2.0)</td>\n",
       "      <td>CPI_QCHNG</td>\n",
       "      <td>PERCENT</td>\n",
       "      <td>AE</td>\n",
       "      <td>Q</td>\n",
       "      <td>HOU</td>\n",
       "      <td>FCSA</td>\n",
       "      <td>2022-Q1</td>\n",
       "      <td>-1.851788</td>\n",
       "      <td>2</td>\n",
       "    </tr>\n",
       "    <tr>\n",
       "      <th>1</th>\n",
       "      <td>FCSA:DF_CPI_Q(3.2.0)</td>\n",
       "      <td>CPI_QCHNG</td>\n",
       "      <td>PERCENT</td>\n",
       "      <td>AE</td>\n",
       "      <td>Q</td>\n",
       "      <td>HOU</td>\n",
       "      <td>FCSA</td>\n",
       "      <td>2022-Q2</td>\n",
       "      <td>-1.001258</td>\n",
       "      <td>2</td>\n",
       "    </tr>\n",
       "  </tbody>\n",
       "</table>\n",
       "</div>"
      ],
      "text/plain": [
       "               DATAFLOW    MEASURE UNIT_MEASURE REF_AREA FREQ CPI_DIV  \\\n",
       "0  FCSA:DF_CPI_Q(3.2.0)  CPI_QCHNG      PERCENT       AE    Q     HOU   \n",
       "1  FCSA:DF_CPI_Q(3.2.0)  CPI_QCHNG      PERCENT       AE    Q     HOU   \n",
       "\n",
       "  SOURCE_DETAIL TIME_PERIOD  OBS_VALUE  DECIMALS  \n",
       "0          FCSA     2022-Q1  -1.851788         2  \n",
       "1          FCSA     2022-Q2  -1.001258         2  "
      ]
     },
     "execution_count": 35,
     "metadata": {},
     "output_type": "execute_result"
    }
   ],
   "source": [
    "# optimized_cpi_monthly_df = data_processor.optimize_dataframe_memory(cpi_monthly_df)\n",
    "data_processor.display_dataframe_info(processed_cpi_quarterly_df)\n"
   ]
  },
  {
   "cell_type": "markdown",
   "metadata": {},
   "source": [
    "- Population"
   ]
  },
  {
   "cell_type": "markdown",
   "metadata": {},
   "source": [
    "#### 4.6 `Population_Estimates_and_Growth_by_Gender.csv`"
   ]
  },
  {
   "cell_type": "code",
   "execution_count": 36,
   "metadata": {},
   "outputs": [
    {
     "name": "stdout",
     "output_type": "stream",
     "text": [
      "Loading 06_population_estimates from ../datasets/raw/Population/Population_Estimates_and_Growth_by_Gender.csv...\n"
     ]
    },
    {
     "name": "stderr",
     "output_type": "stream",
     "text": [
      "Loading files in parallel: 100%|██████████| 1/1 [00:00<00:00,  1.09it/s]"
     ]
    },
    {
     "name": "stdout",
     "output_type": "stream",
     "text": [
      "Shape of 06_population_estimates: (162, 11)\n",
      "Columns in 06_population_estimates:\n",
      "Index(['DATAFLOW', 'MEASURE', 'POP_IND', 'UNIT_MEASURE', 'REF_AREA', 'FREQ',\n",
      "       'GENDER', 'SOURCE_DETAIL', 'TIME_PERIOD', 'OBS_VALUE', 'DECIMALS'],\n",
      "      dtype='object')\n"
     ]
    },
    {
     "name": "stderr",
     "output_type": "stream",
     "text": [
      "\n"
     ]
    }
   ],
   "source": [
    "pop_estimates_df = data_loader.inspect_data(\"06_population_estimates\", delimiter=\",\", show_progress=False,loading_method='parallel')\n"
   ]
  },
  {
   "cell_type": "code",
   "execution_count": 37,
   "metadata": {},
   "outputs": [
    {
     "data": {
      "text/plain": [
       "DATAFLOW           0.0\n",
       "MEASURE            0.0\n",
       "POP_IND            0.0\n",
       "UNIT_MEASURE       0.0\n",
       "REF_AREA           0.0\n",
       "FREQ               0.0\n",
       "GENDER             0.0\n",
       "SOURCE_DETAIL      0.0\n",
       "TIME_PERIOD        0.0\n",
       "OBS_VALUE          0.0\n",
       "DECIMALS         100.0\n",
       "dtype: float64"
      ]
     },
     "execution_count": 37,
     "metadata": {},
     "output_type": "execute_result"
    }
   ],
   "source": [
    "pop_estimates_df.isnull().mean() * 100"
   ]
  },
  {
   "cell_type": "code",
   "execution_count": 38,
   "metadata": {},
   "outputs": [
    {
     "data": {
      "text/html": [
       "<div>\n",
       "<style scoped>\n",
       "    .dataframe tbody tr th:only-of-type {\n",
       "        vertical-align: middle;\n",
       "    }\n",
       "\n",
       "    .dataframe tbody tr th {\n",
       "        vertical-align: top;\n",
       "    }\n",
       "\n",
       "    .dataframe thead th {\n",
       "        text-align: right;\n",
       "    }\n",
       "</style>\n",
       "<table border=\"1\" class=\"dataframe\">\n",
       "  <thead>\n",
       "    <tr style=\"text-align: right;\">\n",
       "      <th></th>\n",
       "      <th>DATAFLOW</th>\n",
       "      <th>MEASURE</th>\n",
       "      <th>POP_IND</th>\n",
       "      <th>UNIT_MEASURE</th>\n",
       "      <th>REF_AREA</th>\n",
       "      <th>FREQ</th>\n",
       "      <th>GENDER</th>\n",
       "      <th>SOURCE_DETAIL</th>\n",
       "      <th>TIME_PERIOD</th>\n",
       "      <th>OBS_VALUE</th>\n",
       "      <th>DECIMALS</th>\n",
       "    </tr>\n",
       "  </thead>\n",
       "  <tbody>\n",
       "    <tr>\n",
       "      <th>0</th>\n",
       "      <td>FCSA:DF_POP(2.7.0)</td>\n",
       "      <td>POP</td>\n",
       "      <td>_Z</td>\n",
       "      <td>PS</td>\n",
       "      <td>AE</td>\n",
       "      <td>A</td>\n",
       "      <td>M</td>\n",
       "      <td>FCSC</td>\n",
       "      <td>1970</td>\n",
       "      <td>149195</td>\n",
       "      <td>NaN</td>\n",
       "    </tr>\n",
       "    <tr>\n",
       "      <th>1</th>\n",
       "      <td>FCSA:DF_POP(2.7.0)</td>\n",
       "      <td>POP</td>\n",
       "      <td>_Z</td>\n",
       "      <td>PS</td>\n",
       "      <td>AE</td>\n",
       "      <td>A</td>\n",
       "      <td>M</td>\n",
       "      <td>FCSC</td>\n",
       "      <td>1971</td>\n",
       "      <td>181473</td>\n",
       "      <td>NaN</td>\n",
       "    </tr>\n",
       "    <tr>\n",
       "      <th>2</th>\n",
       "      <td>FCSA:DF_POP(2.7.0)</td>\n",
       "      <td>POP</td>\n",
       "      <td>_Z</td>\n",
       "      <td>PS</td>\n",
       "      <td>AE</td>\n",
       "      <td>A</td>\n",
       "      <td>M</td>\n",
       "      <td>FCSC</td>\n",
       "      <td>1972</td>\n",
       "      <td>221774</td>\n",
       "      <td>NaN</td>\n",
       "    </tr>\n",
       "    <tr>\n",
       "      <th>3</th>\n",
       "      <td>FCSA:DF_POP(2.7.0)</td>\n",
       "      <td>POP</td>\n",
       "      <td>_Z</td>\n",
       "      <td>PS</td>\n",
       "      <td>AE</td>\n",
       "      <td>A</td>\n",
       "      <td>M</td>\n",
       "      <td>FCSC</td>\n",
       "      <td>1973</td>\n",
       "      <td>268398</td>\n",
       "      <td>NaN</td>\n",
       "    </tr>\n",
       "    <tr>\n",
       "      <th>4</th>\n",
       "      <td>FCSA:DF_POP(2.7.0)</td>\n",
       "      <td>POP</td>\n",
       "      <td>_Z</td>\n",
       "      <td>PS</td>\n",
       "      <td>AE</td>\n",
       "      <td>A</td>\n",
       "      <td>M</td>\n",
       "      <td>FCSC</td>\n",
       "      <td>1974</td>\n",
       "      <td>322544</td>\n",
       "      <td>NaN</td>\n",
       "    </tr>\n",
       "    <tr>\n",
       "      <th>...</th>\n",
       "      <td>...</td>\n",
       "      <td>...</td>\n",
       "      <td>...</td>\n",
       "      <td>...</td>\n",
       "      <td>...</td>\n",
       "      <td>...</td>\n",
       "      <td>...</td>\n",
       "      <td>...</td>\n",
       "      <td>...</td>\n",
       "      <td>...</td>\n",
       "      <td>...</td>\n",
       "    </tr>\n",
       "    <tr>\n",
       "      <th>157</th>\n",
       "      <td>FCSA:DF_POP(2.7.0)</td>\n",
       "      <td>POP</td>\n",
       "      <td>_Z</td>\n",
       "      <td>PS</td>\n",
       "      <td>AE</td>\n",
       "      <td>A</td>\n",
       "      <td>_T</td>\n",
       "      <td>FCSC</td>\n",
       "      <td>2019</td>\n",
       "      <td>9512778</td>\n",
       "      <td>NaN</td>\n",
       "    </tr>\n",
       "    <tr>\n",
       "      <th>158</th>\n",
       "      <td>FCSA:DF_POP(2.7.0)</td>\n",
       "      <td>POP</td>\n",
       "      <td>_Z</td>\n",
       "      <td>PS</td>\n",
       "      <td>AE</td>\n",
       "      <td>A</td>\n",
       "      <td>_T</td>\n",
       "      <td>FCSC</td>\n",
       "      <td>2020</td>\n",
       "      <td>9289297</td>\n",
       "      <td>NaN</td>\n",
       "    </tr>\n",
       "    <tr>\n",
       "      <th>159</th>\n",
       "      <td>FCSA:DF_POP(2.7.0)</td>\n",
       "      <td>POP</td>\n",
       "      <td>_Z</td>\n",
       "      <td>PS</td>\n",
       "      <td>AE</td>\n",
       "      <td>A</td>\n",
       "      <td>_T</td>\n",
       "      <td>FCSC</td>\n",
       "      <td>2021</td>\n",
       "      <td>9861007</td>\n",
       "      <td>NaN</td>\n",
       "    </tr>\n",
       "    <tr>\n",
       "      <th>160</th>\n",
       "      <td>FCSA:DF_POP(2.7.0)</td>\n",
       "      <td>POP</td>\n",
       "      <td>_Z</td>\n",
       "      <td>PS</td>\n",
       "      <td>AE</td>\n",
       "      <td>A</td>\n",
       "      <td>_T</td>\n",
       "      <td>FCSC</td>\n",
       "      <td>2022</td>\n",
       "      <td>10288946</td>\n",
       "      <td>NaN</td>\n",
       "    </tr>\n",
       "    <tr>\n",
       "      <th>161</th>\n",
       "      <td>FCSA:DF_POP(2.7.0)</td>\n",
       "      <td>POP</td>\n",
       "      <td>_Z</td>\n",
       "      <td>PS</td>\n",
       "      <td>AE</td>\n",
       "      <td>A</td>\n",
       "      <td>_T</td>\n",
       "      <td>FCSC</td>\n",
       "      <td>2023</td>\n",
       "      <td>10678556</td>\n",
       "      <td>NaN</td>\n",
       "    </tr>\n",
       "  </tbody>\n",
       "</table>\n",
       "<p>162 rows × 11 columns</p>\n",
       "</div>"
      ],
      "text/plain": [
       "               DATAFLOW MEASURE POP_IND UNIT_MEASURE REF_AREA FREQ GENDER  \\\n",
       "0    FCSA:DF_POP(2.7.0)     POP      _Z           PS       AE    A      M   \n",
       "1    FCSA:DF_POP(2.7.0)     POP      _Z           PS       AE    A      M   \n",
       "2    FCSA:DF_POP(2.7.0)     POP      _Z           PS       AE    A      M   \n",
       "3    FCSA:DF_POP(2.7.0)     POP      _Z           PS       AE    A      M   \n",
       "4    FCSA:DF_POP(2.7.0)     POP      _Z           PS       AE    A      M   \n",
       "..                  ...     ...     ...          ...      ...  ...    ...   \n",
       "157  FCSA:DF_POP(2.7.0)     POP      _Z           PS       AE    A     _T   \n",
       "158  FCSA:DF_POP(2.7.0)     POP      _Z           PS       AE    A     _T   \n",
       "159  FCSA:DF_POP(2.7.0)     POP      _Z           PS       AE    A     _T   \n",
       "160  FCSA:DF_POP(2.7.0)     POP      _Z           PS       AE    A     _T   \n",
       "161  FCSA:DF_POP(2.7.0)     POP      _Z           PS       AE    A     _T   \n",
       "\n",
       "    SOURCE_DETAIL  TIME_PERIOD  OBS_VALUE  DECIMALS  \n",
       "0            FCSC         1970     149195       NaN  \n",
       "1            FCSC         1971     181473       NaN  \n",
       "2            FCSC         1972     221774       NaN  \n",
       "3            FCSC         1973     268398       NaN  \n",
       "4            FCSC         1974     322544       NaN  \n",
       "..            ...          ...        ...       ...  \n",
       "157          FCSC         2019    9512778       NaN  \n",
       "158          FCSC         2020    9289297       NaN  \n",
       "159          FCSC         2021    9861007       NaN  \n",
       "160          FCSC         2022   10288946       NaN  \n",
       "161          FCSC         2023   10678556       NaN  \n",
       "\n",
       "[162 rows x 11 columns]"
      ]
     },
     "execution_count": 38,
     "metadata": {},
     "output_type": "execute_result"
    }
   ],
   "source": [
    "pop_estimates_df"
   ]
  },
  {
   "cell_type": "code",
   "execution_count": 39,
   "metadata": {},
   "outputs": [
    {
     "name": "stdout",
     "output_type": "stream",
     "text": [
      "Formatted and Cleaned Data Overview:\n",
      "<class 'pandas.core.frame.DataFrame'>\n",
      "RangeIndex: 162 entries, 0 to 161\n",
      "Data columns (total 10 columns):\n",
      " #   Column         Non-Null Count  Dtype \n",
      "---  ------         --------------  ----- \n",
      " 0   DATAFLOW       162 non-null    object\n",
      " 1   MEASURE        162 non-null    object\n",
      " 2   POP_IND        162 non-null    object\n",
      " 3   UNIT_MEASURE   162 non-null    object\n",
      " 4   REF_AREA       162 non-null    object\n",
      " 5   FREQ           162 non-null    object\n",
      " 6   GENDER         162 non-null    object\n",
      " 7   SOURCE_DETAIL  162 non-null    object\n",
      " 8   TIME_PERIOD    162 non-null    int64 \n",
      " 9   OBS_VALUE      162 non-null    int64 \n",
      "dtypes: int64(2), object(8)\n",
      "memory usage: 12.8+ KB\n",
      "None\n"
     ]
    }
   ],
   "source": [
    "processed_pop_estimates_df = data_processor.format_and_clean_table(df=pop_estimates_df, missing_threshold=0.8)\n"
   ]
  },
  {
   "cell_type": "code",
   "execution_count": 40,
   "metadata": {},
   "outputs": [
    {
     "name": "stdout",
     "output_type": "stream",
     "text": [
      "Shape: (162, 10)\n",
      "Dtypes: ['DATAFLOW:object', 'MEASURE:object', 'POP_IND:object', 'UNIT_MEASURE:object', 'REF_AREA:object', 'FREQ:object', 'GENDER:object', 'SOURCE_DETAIL:object', 'TIME_PERIOD:int64', 'OBS_VALUE:int64']\n",
      "Missings (%): ['DATAFLOW:0.00%', 'MEASURE:0.00%', 'POP_IND:0.00%', 'UNIT_MEASURE:0.00%', 'REF_AREA:0.00%', 'FREQ:0.00%', 'GENDER:0.00%', 'SOURCE_DETAIL:0.00%', 'TIME_PERIOD:0.00%', 'OBS_VALUE:0.00%']\n",
      "Total missings (%): 0.00%\n",
      "total duplicates: 0\n",
      "Total memory usage: 0.01 MB\n"
     ]
    },
    {
     "data": {
      "text/html": [
       "<div>\n",
       "<style scoped>\n",
       "    .dataframe tbody tr th:only-of-type {\n",
       "        vertical-align: middle;\n",
       "    }\n",
       "\n",
       "    .dataframe tbody tr th {\n",
       "        vertical-align: top;\n",
       "    }\n",
       "\n",
       "    .dataframe thead th {\n",
       "        text-align: right;\n",
       "    }\n",
       "</style>\n",
       "<table border=\"1\" class=\"dataframe\">\n",
       "  <thead>\n",
       "    <tr style=\"text-align: right;\">\n",
       "      <th></th>\n",
       "      <th>DATAFLOW</th>\n",
       "      <th>MEASURE</th>\n",
       "      <th>POP_IND</th>\n",
       "      <th>UNIT_MEASURE</th>\n",
       "      <th>REF_AREA</th>\n",
       "      <th>FREQ</th>\n",
       "      <th>GENDER</th>\n",
       "      <th>SOURCE_DETAIL</th>\n",
       "      <th>TIME_PERIOD</th>\n",
       "      <th>OBS_VALUE</th>\n",
       "    </tr>\n",
       "  </thead>\n",
       "  <tbody>\n",
       "    <tr>\n",
       "      <th>0</th>\n",
       "      <td>FCSA:DF_POP(2.7.0)</td>\n",
       "      <td>POP</td>\n",
       "      <td>_Z</td>\n",
       "      <td>PS</td>\n",
       "      <td>AE</td>\n",
       "      <td>A</td>\n",
       "      <td>M</td>\n",
       "      <td>FCSC</td>\n",
       "      <td>1970</td>\n",
       "      <td>149195</td>\n",
       "    </tr>\n",
       "    <tr>\n",
       "      <th>1</th>\n",
       "      <td>FCSA:DF_POP(2.7.0)</td>\n",
       "      <td>POP</td>\n",
       "      <td>_Z</td>\n",
       "      <td>PS</td>\n",
       "      <td>AE</td>\n",
       "      <td>A</td>\n",
       "      <td>M</td>\n",
       "      <td>FCSC</td>\n",
       "      <td>1971</td>\n",
       "      <td>181473</td>\n",
       "    </tr>\n",
       "  </tbody>\n",
       "</table>\n",
       "</div>"
      ],
      "text/plain": [
       "             DATAFLOW MEASURE POP_IND UNIT_MEASURE REF_AREA FREQ GENDER  \\\n",
       "0  FCSA:DF_POP(2.7.0)     POP      _Z           PS       AE    A      M   \n",
       "1  FCSA:DF_POP(2.7.0)     POP      _Z           PS       AE    A      M   \n",
       "\n",
       "  SOURCE_DETAIL  TIME_PERIOD  OBS_VALUE  \n",
       "0          FCSC         1970     149195  \n",
       "1          FCSC         1971     181473  "
      ]
     },
     "execution_count": 40,
     "metadata": {},
     "output_type": "execute_result"
    }
   ],
   "source": [
    "# optimized_cpi_monthly_df = data_processor.optimize_dataframe_memory(cpi_monthly_df)\n",
    "data_processor.display_dataframe_info(processed_pop_estimates_df)\n"
   ]
  },
  {
   "cell_type": "markdown",
   "metadata": {},
   "source": [
    "#### 4.7 `Population_Indicators.csv`"
   ]
  },
  {
   "cell_type": "code",
   "execution_count": 41,
   "metadata": {},
   "outputs": [
    {
     "name": "stdout",
     "output_type": "stream",
     "text": [
      "Loading 07_population_indicators from ../datasets/raw/Population/Population_Indicators.csv...\n"
     ]
    },
    {
     "name": "stderr",
     "output_type": "stream",
     "text": [
      "Loading files in parallel: 100%|██████████| 1/1 [00:00<00:00,  1.08it/s]"
     ]
    },
    {
     "name": "stdout",
     "output_type": "stream",
     "text": [
      "Shape of 07_population_indicators: (18, 11)\n",
      "Columns in 07_population_indicators:\n",
      "Index(['DATAFLOW', 'MEASURE', 'POP_IND', 'UNIT_MEASURE', 'REF_AREA', 'FREQ',\n",
      "       'GENDER', 'SOURCE_DETAIL', 'TIME_PERIOD', 'OBS_VALUE', 'DECIMALS'],\n",
      "      dtype='object')\n"
     ]
    },
    {
     "name": "stderr",
     "output_type": "stream",
     "text": [
      "\n"
     ]
    }
   ],
   "source": [
    "pop_indicators_df = data_loader.inspect_data(\"07_population_indicators\", delimiter=\",\", show_progress=False,loading_method='parallel')\n"
   ]
  },
  {
   "cell_type": "code",
   "execution_count": 42,
   "metadata": {},
   "outputs": [
    {
     "data": {
      "text/plain": [
       "DATAFLOW         0.0\n",
       "MEASURE          0.0\n",
       "POP_IND          0.0\n",
       "UNIT_MEASURE     0.0\n",
       "REF_AREA         0.0\n",
       "FREQ             0.0\n",
       "GENDER           0.0\n",
       "SOURCE_DETAIL    0.0\n",
       "TIME_PERIOD      0.0\n",
       "OBS_VALUE        0.0\n",
       "DECIMALS         0.0\n",
       "dtype: float64"
      ]
     },
     "execution_count": 42,
     "metadata": {},
     "output_type": "execute_result"
    }
   ],
   "source": [
    "pop_indicators_df.isnull().mean() * 100"
   ]
  },
  {
   "cell_type": "code",
   "execution_count": 43,
   "metadata": {},
   "outputs": [
    {
     "name": "stdout",
     "output_type": "stream",
     "text": [
      "Shape: (18, 11)\n",
      "Dtypes: ['DATAFLOW:object', 'MEASURE:object', 'POP_IND:object', 'UNIT_MEASURE:object', 'REF_AREA:object', 'FREQ:object', 'GENDER:object', 'SOURCE_DETAIL:object', 'TIME_PERIOD:int64', 'OBS_VALUE:float64', 'DECIMALS:int64']\n",
      "Missings (%): ['DATAFLOW:0.00%', 'MEASURE:0.00%', 'POP_IND:0.00%', 'UNIT_MEASURE:0.00%', 'REF_AREA:0.00%', 'FREQ:0.00%', 'GENDER:0.00%', 'SOURCE_DETAIL:0.00%', 'TIME_PERIOD:0.00%', 'OBS_VALUE:0.00%', 'DECIMALS:0.00%']\n",
      "Total missings (%): 0.00%\n",
      "total duplicates: 0\n",
      "Total memory usage: 0.00 MB\n"
     ]
    },
    {
     "data": {
      "text/html": [
       "<div>\n",
       "<style scoped>\n",
       "    .dataframe tbody tr th:only-of-type {\n",
       "        vertical-align: middle;\n",
       "    }\n",
       "\n",
       "    .dataframe tbody tr th {\n",
       "        vertical-align: top;\n",
       "    }\n",
       "\n",
       "    .dataframe thead th {\n",
       "        text-align: right;\n",
       "    }\n",
       "</style>\n",
       "<table border=\"1\" class=\"dataframe\">\n",
       "  <thead>\n",
       "    <tr style=\"text-align: right;\">\n",
       "      <th></th>\n",
       "      <th>DATAFLOW</th>\n",
       "      <th>MEASURE</th>\n",
       "      <th>POP_IND</th>\n",
       "      <th>UNIT_MEASURE</th>\n",
       "      <th>REF_AREA</th>\n",
       "      <th>FREQ</th>\n",
       "      <th>GENDER</th>\n",
       "      <th>SOURCE_DETAIL</th>\n",
       "      <th>TIME_PERIOD</th>\n",
       "      <th>OBS_VALUE</th>\n",
       "      <th>DECIMALS</th>\n",
       "    </tr>\n",
       "  </thead>\n",
       "  <tbody>\n",
       "    <tr>\n",
       "      <th>0</th>\n",
       "      <td>FCSA:DF_POP_IND(2.7.0)</td>\n",
       "      <td>POPIND</td>\n",
       "      <td>MED</td>\n",
       "      <td>YEARS</td>\n",
       "      <td>AE</td>\n",
       "      <td>A</td>\n",
       "      <td>_Z</td>\n",
       "      <td>FCSC</td>\n",
       "      <td>2019</td>\n",
       "      <td>31.3</td>\n",
       "      <td>1</td>\n",
       "    </tr>\n",
       "    <tr>\n",
       "      <th>1</th>\n",
       "      <td>FCSA:DF_POP_IND(2.7.0)</td>\n",
       "      <td>POPIND</td>\n",
       "      <td>MED</td>\n",
       "      <td>YEARS</td>\n",
       "      <td>AE</td>\n",
       "      <td>A</td>\n",
       "      <td>_Z</td>\n",
       "      <td>FCSC</td>\n",
       "      <td>2020</td>\n",
       "      <td>32.8</td>\n",
       "      <td>1</td>\n",
       "    </tr>\n",
       "  </tbody>\n",
       "</table>\n",
       "</div>"
      ],
      "text/plain": [
       "                 DATAFLOW MEASURE POP_IND UNIT_MEASURE REF_AREA FREQ GENDER  \\\n",
       "0  FCSA:DF_POP_IND(2.7.0)  POPIND     MED        YEARS       AE    A     _Z   \n",
       "1  FCSA:DF_POP_IND(2.7.0)  POPIND     MED        YEARS       AE    A     _Z   \n",
       "\n",
       "  SOURCE_DETAIL  TIME_PERIOD  OBS_VALUE  DECIMALS  \n",
       "0          FCSC         2019       31.3         1  \n",
       "1          FCSC         2020       32.8         1  "
      ]
     },
     "execution_count": 43,
     "metadata": {},
     "output_type": "execute_result"
    }
   ],
   "source": [
    "data_processor.display_dataframe_info(pop_indicators_df)"
   ]
  },
  {
   "cell_type": "markdown",
   "metadata": {},
   "source": [
    "- Tourism"
   ]
  },
  {
   "cell_type": "markdown",
   "metadata": {},
   "source": [
    "#### 4.8 `Guests_by_Hotel_Type_by_Region.csv`"
   ]
  },
  {
   "cell_type": "code",
   "execution_count": 44,
   "metadata": {},
   "outputs": [
    {
     "name": "stdout",
     "output_type": "stream",
     "text": [
      "Loading 08_tourism_regions from ../datasets/raw/Tourism/Guests_by_Hotel_Type_by_Region.csv...\n"
     ]
    },
    {
     "name": "stderr",
     "output_type": "stream",
     "text": [
      "Loading files in parallel: 100%|██████████| 1/1 [00:00<00:00,  1.11it/s]"
     ]
    },
    {
     "name": "stdout",
     "output_type": "stream",
     "text": [
      "Shape of 08_tourism_regions: (664, 15)\n",
      "Columns in 08_tourism_regions:\n",
      "Index(['DATAFLOW', 'MEASURE', 'UNIT_MEASURE', 'REF_AREA', 'FREQ', 'H_TYPE',\n",
      "       'H_INDICATOR', 'GUEST_REGION', 'SOURCE_DETAIL', 'TIME_PERIOD',\n",
      "       'OBS_VALUE', 'DECIMALS', 'OBS_STATUS', 'OBS_COMMENT', 'UNIT_MULT'],\n",
      "      dtype='object')\n"
     ]
    },
    {
     "name": "stderr",
     "output_type": "stream",
     "text": [
      "\n"
     ]
    }
   ],
   "source": [
    "tourism_regions_df = data_loader.inspect_data(\"08_tourism_regions\", delimiter=\",\", show_progress=False,loading_method='parallel')\n"
   ]
  },
  {
   "cell_type": "code",
   "execution_count": 45,
   "metadata": {},
   "outputs": [
    {
     "data": {
      "text/plain": [
       "DATAFLOW           0.0\n",
       "MEASURE            0.0\n",
       "UNIT_MEASURE       0.0\n",
       "REF_AREA           0.0\n",
       "FREQ               0.0\n",
       "H_TYPE             0.0\n",
       "H_INDICATOR        0.0\n",
       "GUEST_REGION       0.0\n",
       "SOURCE_DETAIL      0.0\n",
       "TIME_PERIOD        0.0\n",
       "OBS_VALUE          0.0\n",
       "DECIMALS         100.0\n",
       "OBS_STATUS       100.0\n",
       "OBS_COMMENT      100.0\n",
       "UNIT_MULT        100.0\n",
       "dtype: float64"
      ]
     },
     "execution_count": 45,
     "metadata": {},
     "output_type": "execute_result"
    }
   ],
   "source": [
    "tourism_regions_df.isnull().mean() * 100"
   ]
  },
  {
   "cell_type": "code",
   "execution_count": 46,
   "metadata": {},
   "outputs": [
    {
     "name": "stdout",
     "output_type": "stream",
     "text": [
      "Formatted and Cleaned Data Overview:\n",
      "<class 'pandas.core.frame.DataFrame'>\n",
      "RangeIndex: 664 entries, 0 to 663\n",
      "Data columns (total 11 columns):\n",
      " #   Column         Non-Null Count  Dtype \n",
      "---  ------         --------------  ----- \n",
      " 0   DATAFLOW       664 non-null    object\n",
      " 1   MEASURE        664 non-null    object\n",
      " 2   UNIT_MEASURE   664 non-null    object\n",
      " 3   REF_AREA       664 non-null    object\n",
      " 4   FREQ           664 non-null    object\n",
      " 5   H_TYPE         664 non-null    object\n",
      " 6   H_INDICATOR    664 non-null    object\n",
      " 7   GUEST_REGION   664 non-null    object\n",
      " 8   SOURCE_DETAIL  664 non-null    object\n",
      " 9   TIME_PERIOD    664 non-null    int64 \n",
      " 10  OBS_VALUE      664 non-null    int64 \n",
      "dtypes: int64(2), object(9)\n",
      "memory usage: 57.2+ KB\n",
      "None\n"
     ]
    }
   ],
   "source": [
    "processed_tourism_regions_df = data_processor.format_and_clean_table(df=tourism_regions_df, missing_threshold=0.8)\n"
   ]
  },
  {
   "cell_type": "code",
   "execution_count": 47,
   "metadata": {},
   "outputs": [
    {
     "name": "stdout",
     "output_type": "stream",
     "text": [
      "Shape: (664, 11)\n",
      "Dtypes: ['DATAFLOW:object', 'MEASURE:object', 'UNIT_MEASURE:object', 'REF_AREA:object', 'FREQ:object', 'H_TYPE:object', 'H_INDICATOR:object', 'GUEST_REGION:object', 'SOURCE_DETAIL:object', 'TIME_PERIOD:int64', 'OBS_VALUE:int64']\n",
      "Missings (%): ['DATAFLOW:0.00%', 'MEASURE:0.00%', 'UNIT_MEASURE:0.00%', 'REF_AREA:0.00%', 'FREQ:0.00%', 'H_TYPE:0.00%', 'H_INDICATOR:0.00%', 'GUEST_REGION:0.00%', 'SOURCE_DETAIL:0.00%', 'TIME_PERIOD:0.00%', 'OBS_VALUE:0.00%']\n",
      "Total missings (%): 0.00%\n",
      "total duplicates: 0\n",
      "Total memory usage: 0.06 MB\n"
     ]
    },
    {
     "data": {
      "text/html": [
       "<div>\n",
       "<style scoped>\n",
       "    .dataframe tbody tr th:only-of-type {\n",
       "        vertical-align: middle;\n",
       "    }\n",
       "\n",
       "    .dataframe tbody tr th {\n",
       "        vertical-align: top;\n",
       "    }\n",
       "\n",
       "    .dataframe thead th {\n",
       "        text-align: right;\n",
       "    }\n",
       "</style>\n",
       "<table border=\"1\" class=\"dataframe\">\n",
       "  <thead>\n",
       "    <tr style=\"text-align: right;\">\n",
       "      <th></th>\n",
       "      <th>DATAFLOW</th>\n",
       "      <th>MEASURE</th>\n",
       "      <th>UNIT_MEASURE</th>\n",
       "      <th>REF_AREA</th>\n",
       "      <th>FREQ</th>\n",
       "      <th>H_TYPE</th>\n",
       "      <th>H_INDICATOR</th>\n",
       "      <th>GUEST_REGION</th>\n",
       "      <th>SOURCE_DETAIL</th>\n",
       "      <th>TIME_PERIOD</th>\n",
       "      <th>OBS_VALUE</th>\n",
       "    </tr>\n",
       "  </thead>\n",
       "  <tbody>\n",
       "    <tr>\n",
       "      <th>0</th>\n",
       "      <td>FCSA:DF_GUEST_REGION(4.3.0)</td>\n",
       "      <td>H</td>\n",
       "      <td>NUMBER</td>\n",
       "      <td>AE</td>\n",
       "      <td>A</td>\n",
       "      <td>_Z</td>\n",
       "      <td>GHH</td>\n",
       "      <td>OC</td>\n",
       "      <td>FCSC</td>\n",
       "      <td>2015</td>\n",
       "      <td>399751</td>\n",
       "    </tr>\n",
       "    <tr>\n",
       "      <th>1</th>\n",
       "      <td>FCSA:DF_GUEST_REGION(4.3.0)</td>\n",
       "      <td>H</td>\n",
       "      <td>NUMBER</td>\n",
       "      <td>AE</td>\n",
       "      <td>A</td>\n",
       "      <td>_Z</td>\n",
       "      <td>GHH</td>\n",
       "      <td>OC</td>\n",
       "      <td>FCSC</td>\n",
       "      <td>2016</td>\n",
       "      <td>380717</td>\n",
       "    </tr>\n",
       "  </tbody>\n",
       "</table>\n",
       "</div>"
      ],
      "text/plain": [
       "                      DATAFLOW MEASURE UNIT_MEASURE REF_AREA FREQ H_TYPE  \\\n",
       "0  FCSA:DF_GUEST_REGION(4.3.0)       H       NUMBER       AE    A     _Z   \n",
       "1  FCSA:DF_GUEST_REGION(4.3.0)       H       NUMBER       AE    A     _Z   \n",
       "\n",
       "  H_INDICATOR GUEST_REGION SOURCE_DETAIL  TIME_PERIOD  OBS_VALUE  \n",
       "0         GHH           OC          FCSC         2015     399751  \n",
       "1         GHH           OC          FCSC         2016     380717  "
      ]
     },
     "execution_count": 47,
     "metadata": {},
     "output_type": "execute_result"
    }
   ],
   "source": [
    "data_processor.display_dataframe_info(processed_tourism_regions_df)"
   ]
  },
  {
   "cell_type": "markdown",
   "metadata": {},
   "source": [
    "#### 4.9 `Hotel_Establishments_and_Rooms_by_Rating_Type.csv`"
   ]
  },
  {
   "cell_type": "code",
   "execution_count": 48,
   "metadata": {},
   "outputs": [
    {
     "name": "stdout",
     "output_type": "stream",
     "text": [
      "Loading 09_tourism_ratings from ../datasets/raw/Tourism/Hotel_Establishments_and_Rooms_by_Rating_Type.csv...\n"
     ]
    },
    {
     "name": "stderr",
     "output_type": "stream",
     "text": [
      "Loading files in parallel: 100%|██████████| 1/1 [00:00<00:00,  1.03it/s]"
     ]
    },
    {
     "name": "stdout",
     "output_type": "stream",
     "text": [
      "Shape of 09_tourism_ratings: (400, 15)\n",
      "Columns in 09_tourism_ratings:\n",
      "Index(['DATAFLOW', 'MEASURE', 'UNIT_MEASURE', 'REF_AREA', 'FREQ', 'H_TYPE',\n",
      "       'H_INDICATOR', 'GUEST_REGION', 'SOURCE_DETAIL', 'TIME_PERIOD',\n",
      "       'OBS_VALUE', 'DECIMALS', 'OBS_STATUS', 'OBS_COMMENT', 'UNIT_MULT'],\n",
      "      dtype='object')\n"
     ]
    },
    {
     "name": "stderr",
     "output_type": "stream",
     "text": [
      "\n"
     ]
    }
   ],
   "source": [
    "tourism_ratings_df = data_loader.inspect_data(\"09_tourism_ratings\", delimiter=\",\", show_progress=False,loading_method='parallel')\n"
   ]
  },
  {
   "cell_type": "code",
   "execution_count": 49,
   "metadata": {},
   "outputs": [
    {
     "data": {
      "text/plain": [
       "DATAFLOW           0.0\n",
       "MEASURE            0.0\n",
       "UNIT_MEASURE       0.0\n",
       "REF_AREA           0.0\n",
       "FREQ               0.0\n",
       "H_TYPE             0.0\n",
       "H_INDICATOR        0.0\n",
       "GUEST_REGION       0.0\n",
       "SOURCE_DETAIL      0.0\n",
       "TIME_PERIOD        0.0\n",
       "OBS_VALUE          0.0\n",
       "DECIMALS         100.0\n",
       "OBS_STATUS       100.0\n",
       "OBS_COMMENT      100.0\n",
       "UNIT_MULT        100.0\n",
       "dtype: float64"
      ]
     },
     "execution_count": 49,
     "metadata": {},
     "output_type": "execute_result"
    }
   ],
   "source": [
    "tourism_ratings_df.isnull().mean() * 100"
   ]
  },
  {
   "cell_type": "code",
   "execution_count": 50,
   "metadata": {},
   "outputs": [
    {
     "name": "stdout",
     "output_type": "stream",
     "text": [
      "Formatted and Cleaned Data Overview:\n",
      "<class 'pandas.core.frame.DataFrame'>\n",
      "RangeIndex: 400 entries, 0 to 399\n",
      "Data columns (total 11 columns):\n",
      " #   Column         Non-Null Count  Dtype \n",
      "---  ------         --------------  ----- \n",
      " 0   DATAFLOW       400 non-null    object\n",
      " 1   MEASURE        400 non-null    object\n",
      " 2   UNIT_MEASURE   400 non-null    object\n",
      " 3   REF_AREA       400 non-null    object\n",
      " 4   FREQ           400 non-null    object\n",
      " 5   H_TYPE         400 non-null    object\n",
      " 6   H_INDICATOR    400 non-null    object\n",
      " 7   GUEST_REGION   400 non-null    object\n",
      " 8   SOURCE_DETAIL  400 non-null    object\n",
      " 9   TIME_PERIOD    400 non-null    int64 \n",
      " 10  OBS_VALUE      400 non-null    int64 \n",
      "dtypes: int64(2), object(9)\n",
      "memory usage: 34.5+ KB\n",
      "None\n"
     ]
    }
   ],
   "source": [
    "processed_tourism_ratings_df = data_processor.format_and_clean_table(df=tourism_ratings_df, missing_threshold=0.8)\n"
   ]
  },
  {
   "cell_type": "code",
   "execution_count": 51,
   "metadata": {},
   "outputs": [
    {
     "name": "stdout",
     "output_type": "stream",
     "text": [
      "Shape: (400, 11)\n",
      "Dtypes: ['DATAFLOW:object', 'MEASURE:object', 'UNIT_MEASURE:object', 'REF_AREA:object', 'FREQ:object', 'H_TYPE:object', 'H_INDICATOR:object', 'GUEST_REGION:object', 'SOURCE_DETAIL:object', 'TIME_PERIOD:int64', 'OBS_VALUE:int64']\n",
      "Missings (%): ['DATAFLOW:0.00%', 'MEASURE:0.00%', 'UNIT_MEASURE:0.00%', 'REF_AREA:0.00%', 'FREQ:0.00%', 'H_TYPE:0.00%', 'H_INDICATOR:0.00%', 'GUEST_REGION:0.00%', 'SOURCE_DETAIL:0.00%', 'TIME_PERIOD:0.00%', 'OBS_VALUE:0.00%']\n",
      "Total missings (%): 0.00%\n",
      "total duplicates: 0\n",
      "Total memory usage: 0.03 MB\n"
     ]
    },
    {
     "data": {
      "text/html": [
       "<div>\n",
       "<style scoped>\n",
       "    .dataframe tbody tr th:only-of-type {\n",
       "        vertical-align: middle;\n",
       "    }\n",
       "\n",
       "    .dataframe tbody tr th {\n",
       "        vertical-align: top;\n",
       "    }\n",
       "\n",
       "    .dataframe thead th {\n",
       "        text-align: right;\n",
       "    }\n",
       "</style>\n",
       "<table border=\"1\" class=\"dataframe\">\n",
       "  <thead>\n",
       "    <tr style=\"text-align: right;\">\n",
       "      <th></th>\n",
       "      <th>DATAFLOW</th>\n",
       "      <th>MEASURE</th>\n",
       "      <th>UNIT_MEASURE</th>\n",
       "      <th>REF_AREA</th>\n",
       "      <th>FREQ</th>\n",
       "      <th>H_TYPE</th>\n",
       "      <th>H_INDICATOR</th>\n",
       "      <th>GUEST_REGION</th>\n",
       "      <th>SOURCE_DETAIL</th>\n",
       "      <th>TIME_PERIOD</th>\n",
       "      <th>OBS_VALUE</th>\n",
       "    </tr>\n",
       "  </thead>\n",
       "  <tbody>\n",
       "    <tr>\n",
       "      <th>0</th>\n",
       "      <td>FCSA:DF_HOT_TYPE(4.3.0)</td>\n",
       "      <td>H</td>\n",
       "      <td>NUMBER</td>\n",
       "      <td>AE</td>\n",
       "      <td>A</td>\n",
       "      <td>_T</td>\n",
       "      <td>EST</td>\n",
       "      <td>_Z</td>\n",
       "      <td>FCSC</td>\n",
       "      <td>2014</td>\n",
       "      <td>1027</td>\n",
       "    </tr>\n",
       "    <tr>\n",
       "      <th>1</th>\n",
       "      <td>FCSA:DF_HOT_TYPE(4.3.0)</td>\n",
       "      <td>H</td>\n",
       "      <td>NUMBER</td>\n",
       "      <td>AE</td>\n",
       "      <td>A</td>\n",
       "      <td>_T</td>\n",
       "      <td>EST</td>\n",
       "      <td>_Z</td>\n",
       "      <td>FCSC</td>\n",
       "      <td>2015</td>\n",
       "      <td>1056</td>\n",
       "    </tr>\n",
       "  </tbody>\n",
       "</table>\n",
       "</div>"
      ],
      "text/plain": [
       "                  DATAFLOW MEASURE UNIT_MEASURE REF_AREA FREQ H_TYPE  \\\n",
       "0  FCSA:DF_HOT_TYPE(4.3.0)       H       NUMBER       AE    A     _T   \n",
       "1  FCSA:DF_HOT_TYPE(4.3.0)       H       NUMBER       AE    A     _T   \n",
       "\n",
       "  H_INDICATOR GUEST_REGION SOURCE_DETAIL  TIME_PERIOD  OBS_VALUE  \n",
       "0         EST           _Z          FCSC         2014       1027  \n",
       "1         EST           _Z          FCSC         2015       1056  "
      ]
     },
     "execution_count": 51,
     "metadata": {},
     "output_type": "execute_result"
    }
   ],
   "source": [
    "data_processor.display_dataframe_info(processed_tourism_ratings_df)"
   ]
  },
  {
   "cell_type": "markdown",
   "metadata": {},
   "source": [
    "#### 4.10 `Hotel_Establishments_Main_Indicators.csv`"
   ]
  },
  {
   "cell_type": "code",
   "execution_count": 52,
   "metadata": {},
   "outputs": [
    {
     "name": "stdout",
     "output_type": "stream",
     "text": [
      "Loading 10_tourism_indicators from ../datasets/raw/Tourism/Hotel_Establishments_Main_Indicators.csv...\n"
     ]
    },
    {
     "name": "stderr",
     "output_type": "stream",
     "text": [
      "Loading files in parallel: 100%|██████████| 1/1 [00:00<00:00,  1.10it/s]"
     ]
    },
    {
     "name": "stdout",
     "output_type": "stream",
     "text": [
      "Shape of 10_tourism_indicators: (201, 15)\n",
      "Columns in 10_tourism_indicators:\n",
      "Index(['DATAFLOW', 'MEASURE', 'UNIT_MEASURE', 'REF_AREA', 'FREQ', 'H_TYPE',\n",
      "       'H_INDICATOR', 'GUEST_REGION', 'SOURCE_DETAIL', 'TIME_PERIOD',\n",
      "       'OBS_VALUE', 'DECIMALS', 'OBS_STATUS', 'OBS_COMMENT', 'UNIT_MULT'],\n",
      "      dtype='object')\n"
     ]
    },
    {
     "name": "stderr",
     "output_type": "stream",
     "text": [
      "\n"
     ]
    }
   ],
   "source": [
    "tourism_indicators_df = data_loader.inspect_data(\"10_tourism_indicators\", delimiter=\",\", show_progress=False,loading_method='parallel')\n"
   ]
  },
  {
   "cell_type": "code",
   "execution_count": 53,
   "metadata": {},
   "outputs": [
    {
     "data": {
      "text/plain": [
       "array([nan,  2.,  0.])"
      ]
     },
     "execution_count": 53,
     "metadata": {},
     "output_type": "execute_result"
    }
   ],
   "source": [
    "tourism_indicators_df['DECIMALS'].unique()"
   ]
  },
  {
   "cell_type": "code",
   "execution_count": 54,
   "metadata": {},
   "outputs": [
    {
     "data": {
      "text/plain": [
       "DATAFLOW           0.000000\n",
       "MEASURE            0.000000\n",
       "UNIT_MEASURE       0.000000\n",
       "REF_AREA           0.000000\n",
       "FREQ               0.000000\n",
       "H_TYPE             0.000000\n",
       "H_INDICATOR        0.000000\n",
       "GUEST_REGION       0.000000\n",
       "SOURCE_DETAIL      0.000000\n",
       "TIME_PERIOD        0.000000\n",
       "OBS_VALUE          0.000000\n",
       "DECIMALS          82.089552\n",
       "OBS_STATUS       100.000000\n",
       "OBS_COMMENT      100.000000\n",
       "UNIT_MULT        100.000000\n",
       "dtype: float64"
      ]
     },
     "execution_count": 54,
     "metadata": {},
     "output_type": "execute_result"
    }
   ],
   "source": [
    "tourism_indicators_df.isnull().mean() * 100"
   ]
  },
  {
   "cell_type": "code",
   "execution_count": 55,
   "metadata": {},
   "outputs": [
    {
     "name": "stdout",
     "output_type": "stream",
     "text": [
      "Formatted and Cleaned Data Overview:\n",
      "<class 'pandas.core.frame.DataFrame'>\n",
      "RangeIndex: 201 entries, 0 to 200\n",
      "Data columns (total 11 columns):\n",
      " #   Column         Non-Null Count  Dtype  \n",
      "---  ------         --------------  -----  \n",
      " 0   DATAFLOW       201 non-null    object \n",
      " 1   MEASURE        201 non-null    object \n",
      " 2   UNIT_MEASURE   201 non-null    object \n",
      " 3   REF_AREA       201 non-null    object \n",
      " 4   FREQ           201 non-null    object \n",
      " 5   H_TYPE         201 non-null    object \n",
      " 6   H_INDICATOR    201 non-null    object \n",
      " 7   GUEST_REGION   201 non-null    object \n",
      " 8   SOURCE_DETAIL  201 non-null    object \n",
      " 9   TIME_PERIOD    201 non-null    int64  \n",
      " 10  OBS_VALUE      201 non-null    float64\n",
      "dtypes: float64(1), int64(1), object(9)\n",
      "memory usage: 17.4+ KB\n",
      "None\n"
     ]
    }
   ],
   "source": [
    "processed_tourism_indicators_df = data_processor.format_and_clean_table(df=tourism_indicators_df, missing_threshold=0.8)\n"
   ]
  },
  {
   "cell_type": "markdown",
   "metadata": {},
   "source": [
    "- GDP"
   ]
  },
  {
   "cell_type": "markdown",
   "metadata": {},
   "source": [
    "#### 4.11 `GDP_Quarterly_Constant_Prices.csv`"
   ]
  },
  {
   "cell_type": "code",
   "execution_count": 56,
   "metadata": {},
   "outputs": [
    {
     "name": "stdout",
     "output_type": "stream",
     "text": [
      "Loading 11_gdp_quarterly_constant from ../datasets/raw/Gross Domestic Product/GDP_Quarterly_Constant_Prices.csv...\n"
     ]
    },
    {
     "name": "stderr",
     "output_type": "stream",
     "text": [
      "Loading files in parallel: 100%|██████████| 1/1 [00:00<00:00,  1.13it/s]"
     ]
    },
    {
     "name": "stdout",
     "output_type": "stream",
     "text": [
      "Shape of 11_gdp_quarterly_constant: (1920, 15)\n",
      "Columns in 11_gdp_quarterly_constant:\n",
      "Index(['DATAFLOW', 'REF_AREA', 'FREQ', 'UNIT_MEASURE', 'SOURCE_DETAIL',\n",
      "       'MEASURE', 'QUARTER', 'QGDP_SYS', 'QGDP_UNIT', 'TIME_PERIOD',\n",
      "       'OBS_VALUE', 'OBS_STATUS', 'UNIT_MULT', 'OBS_COMMENT', 'DECIMALS'],\n",
      "      dtype='object')\n"
     ]
    },
    {
     "name": "stderr",
     "output_type": "stream",
     "text": [
      "\n"
     ]
    }
   ],
   "source": [
    "gdp_quarterly_constant_df = data_loader.inspect_data(\"11_gdp_quarterly_constant\", delimiter=\",\", show_progress=False,loading_method='parallel')\n"
   ]
  },
  {
   "cell_type": "code",
   "execution_count": 57,
   "metadata": {},
   "outputs": [
    {
     "data": {
      "text/plain": [
       "DATAFLOW           0.0\n",
       "REF_AREA           0.0\n",
       "FREQ               0.0\n",
       "UNIT_MEASURE       0.0\n",
       "SOURCE_DETAIL      0.0\n",
       "MEASURE            0.0\n",
       "QUARTER            0.0\n",
       "QGDP_SYS           0.0\n",
       "QGDP_UNIT          0.0\n",
       "TIME_PERIOD        0.0\n",
       "OBS_VALUE          0.0\n",
       "OBS_STATUS       100.0\n",
       "UNIT_MULT        100.0\n",
       "OBS_COMMENT      100.0\n",
       "DECIMALS           0.0\n",
       "dtype: float64"
      ]
     },
     "execution_count": 57,
     "metadata": {},
     "output_type": "execute_result"
    }
   ],
   "source": [
    "gdp_quarterly_constant_df.isnull().mean() * 100"
   ]
  },
  {
   "cell_type": "code",
   "execution_count": 58,
   "metadata": {},
   "outputs": [
    {
     "name": "stdout",
     "output_type": "stream",
     "text": [
      "Formatted and Cleaned Data Overview:\n",
      "<class 'pandas.core.frame.DataFrame'>\n",
      "RangeIndex: 1920 entries, 0 to 1919\n",
      "Data columns (total 12 columns):\n",
      " #   Column         Non-Null Count  Dtype  \n",
      "---  ------         --------------  -----  \n",
      " 0   DATAFLOW       1920 non-null   object \n",
      " 1   REF_AREA       1920 non-null   object \n",
      " 2   FREQ           1920 non-null   object \n",
      " 3   UNIT_MEASURE   1920 non-null   object \n",
      " 4   SOURCE_DETAIL  1920 non-null   object \n",
      " 5   MEASURE        1920 non-null   object \n",
      " 6   QUARTER        1920 non-null   object \n",
      " 7   QGDP_SYS       1920 non-null   object \n",
      " 8   QGDP_UNIT      1920 non-null   object \n",
      " 9   TIME_PERIOD    1920 non-null   int64  \n",
      " 10  OBS_VALUE      1920 non-null   float64\n",
      " 11  DECIMALS       1920 non-null   int64  \n",
      "dtypes: float64(1), int64(2), object(9)\n",
      "memory usage: 180.1+ KB\n",
      "None\n"
     ]
    }
   ],
   "source": [
    "processed_gdp_quarterly_constant_df = data_processor.format_and_clean_table(df=gdp_quarterly_constant_df, missing_threshold=0.8)\n"
   ]
  },
  {
   "cell_type": "markdown",
   "metadata": {},
   "source": [
    "#### 4.12 `GDP_Quarterly_Current_Prices.csv`"
   ]
  },
  {
   "cell_type": "code",
   "execution_count": 59,
   "metadata": {},
   "outputs": [
    {
     "name": "stdout",
     "output_type": "stream",
     "text": [
      "Loading 12_gdp_quarterly_current from ../datasets/raw/Gross Domestic Product/GDP_Quarterly_Current_Prices.csv...\n"
     ]
    },
    {
     "name": "stderr",
     "output_type": "stream",
     "text": [
      "Loading files in parallel: 100%|██████████| 1/1 [00:00<00:00,  1.12it/s]"
     ]
    },
    {
     "name": "stdout",
     "output_type": "stream",
     "text": [
      "Shape of 12_gdp_quarterly_current: (1920, 15)\n",
      "Columns in 12_gdp_quarterly_current:\n",
      "Index(['DATAFLOW', 'REF_AREA', 'FREQ', 'UNIT_MEASURE', 'SOURCE_DETAIL',\n",
      "       'MEASURE', 'QUARTER', 'QGDP_SYS', 'QGDP_UNIT', 'TIME_PERIOD',\n",
      "       'OBS_VALUE', 'OBS_STATUS', 'UNIT_MULT', 'OBS_COMMENT', 'DECIMALS'],\n",
      "      dtype='object')\n"
     ]
    },
    {
     "name": "stderr",
     "output_type": "stream",
     "text": [
      "\n"
     ]
    }
   ],
   "source": [
    "gdp_quarterly_current_df = data_loader.inspect_data(\"12_gdp_quarterly_current\", delimiter=\",\", show_progress=False,loading_method='parallel')\n"
   ]
  },
  {
   "cell_type": "code",
   "execution_count": 60,
   "metadata": {},
   "outputs": [
    {
     "data": {
      "text/plain": [
       "DATAFLOW           0.0\n",
       "REF_AREA           0.0\n",
       "FREQ               0.0\n",
       "UNIT_MEASURE       0.0\n",
       "SOURCE_DETAIL      0.0\n",
       "MEASURE            0.0\n",
       "QUARTER            0.0\n",
       "QGDP_SYS           0.0\n",
       "QGDP_UNIT          0.0\n",
       "TIME_PERIOD        0.0\n",
       "OBS_VALUE          0.0\n",
       "OBS_STATUS       100.0\n",
       "UNIT_MULT        100.0\n",
       "OBS_COMMENT      100.0\n",
       "DECIMALS           0.0\n",
       "dtype: float64"
      ]
     },
     "execution_count": 60,
     "metadata": {},
     "output_type": "execute_result"
    }
   ],
   "source": [
    "gdp_quarterly_current_df.isnull().mean() * 100"
   ]
  },
  {
   "cell_type": "code",
   "execution_count": 61,
   "metadata": {},
   "outputs": [
    {
     "name": "stdout",
     "output_type": "stream",
     "text": [
      "Formatted and Cleaned Data Overview:\n",
      "<class 'pandas.core.frame.DataFrame'>\n",
      "RangeIndex: 1920 entries, 0 to 1919\n",
      "Data columns (total 12 columns):\n",
      " #   Column         Non-Null Count  Dtype  \n",
      "---  ------         --------------  -----  \n",
      " 0   DATAFLOW       1920 non-null   object \n",
      " 1   REF_AREA       1920 non-null   object \n",
      " 2   FREQ           1920 non-null   object \n",
      " 3   UNIT_MEASURE   1920 non-null   object \n",
      " 4   SOURCE_DETAIL  1920 non-null   object \n",
      " 5   MEASURE        1920 non-null   object \n",
      " 6   QUARTER        1920 non-null   object \n",
      " 7   QGDP_SYS       1920 non-null   object \n",
      " 8   QGDP_UNIT      1920 non-null   object \n",
      " 9   TIME_PERIOD    1920 non-null   int64  \n",
      " 10  OBS_VALUE      1920 non-null   float64\n",
      " 11  DECIMALS       1920 non-null   int64  \n",
      "dtypes: float64(1), int64(2), object(9)\n",
      "memory usage: 180.1+ KB\n",
      "None\n"
     ]
    }
   ],
   "source": [
    "processed_gdp_quarterly_current_df = data_processor.format_and_clean_table(df=gdp_quarterly_current_df, missing_threshold=0.8)\n"
   ]
  },
  {
   "cell_type": "code",
   "execution_count": 62,
   "metadata": {},
   "outputs": [
    {
     "name": "stdout",
     "output_type": "stream",
     "text": [
      "Shape: (1920, 12)\n",
      "Dtypes: ['DATAFLOW:object', 'REF_AREA:object', 'FREQ:object', 'UNIT_MEASURE:object', 'SOURCE_DETAIL:object', 'MEASURE:object', 'QUARTER:object', 'QGDP_SYS:object', 'QGDP_UNIT:object', 'TIME_PERIOD:int64', 'OBS_VALUE:float64', 'DECIMALS:int64']\n",
      "Missings (%): ['DATAFLOW:0.00%', 'REF_AREA:0.00%', 'FREQ:0.00%', 'UNIT_MEASURE:0.00%', 'SOURCE_DETAIL:0.00%', 'MEASURE:0.00%', 'QUARTER:0.00%', 'QGDP_SYS:0.00%', 'QGDP_UNIT:0.00%', 'TIME_PERIOD:0.00%', 'OBS_VALUE:0.00%', 'DECIMALS:0.00%']\n",
      "Total missings (%): 0.00%\n",
      "total duplicates: 0\n",
      "Total memory usage: 0.18 MB\n"
     ]
    },
    {
     "data": {
      "text/html": [
       "<div>\n",
       "<style scoped>\n",
       "    .dataframe tbody tr th:only-of-type {\n",
       "        vertical-align: middle;\n",
       "    }\n",
       "\n",
       "    .dataframe tbody tr th {\n",
       "        vertical-align: top;\n",
       "    }\n",
       "\n",
       "    .dataframe thead th {\n",
       "        text-align: right;\n",
       "    }\n",
       "</style>\n",
       "<table border=\"1\" class=\"dataframe\">\n",
       "  <thead>\n",
       "    <tr style=\"text-align: right;\">\n",
       "      <th></th>\n",
       "      <th>DATAFLOW</th>\n",
       "      <th>REF_AREA</th>\n",
       "      <th>FREQ</th>\n",
       "      <th>UNIT_MEASURE</th>\n",
       "      <th>SOURCE_DETAIL</th>\n",
       "      <th>MEASURE</th>\n",
       "      <th>QUARTER</th>\n",
       "      <th>QGDP_SYS</th>\n",
       "      <th>QGDP_UNIT</th>\n",
       "      <th>TIME_PERIOD</th>\n",
       "      <th>OBS_VALUE</th>\n",
       "      <th>DECIMALS</th>\n",
       "    </tr>\n",
       "  </thead>\n",
       "  <tbody>\n",
       "    <tr>\n",
       "      <th>0</th>\n",
       "      <td>FCSA:DF_QGDP_CUR(1.8.0)</td>\n",
       "      <td>AE</td>\n",
       "      <td>Q</td>\n",
       "      <td>PERCENT</td>\n",
       "      <td>FCSC</td>\n",
       "      <td>NFC</td>\n",
       "      <td>Q3</td>\n",
       "      <td>CUR</td>\n",
       "      <td>GWTH_RATE</td>\n",
       "      <td>2013</td>\n",
       "      <td>4.355075</td>\n",
       "      <td>1</td>\n",
       "    </tr>\n",
       "    <tr>\n",
       "      <th>1</th>\n",
       "      <td>FCSA:DF_QGDP_CUR(1.8.0)</td>\n",
       "      <td>AE</td>\n",
       "      <td>Q</td>\n",
       "      <td>PERCENT</td>\n",
       "      <td>FCSC</td>\n",
       "      <td>NFC</td>\n",
       "      <td>Q3</td>\n",
       "      <td>CUR</td>\n",
       "      <td>GWTH_RATE</td>\n",
       "      <td>2014</td>\n",
       "      <td>4.394883</td>\n",
       "      <td>1</td>\n",
       "    </tr>\n",
       "  </tbody>\n",
       "</table>\n",
       "</div>"
      ],
      "text/plain": [
       "                  DATAFLOW REF_AREA FREQ UNIT_MEASURE SOURCE_DETAIL MEASURE  \\\n",
       "0  FCSA:DF_QGDP_CUR(1.8.0)       AE    Q      PERCENT          FCSC     NFC   \n",
       "1  FCSA:DF_QGDP_CUR(1.8.0)       AE    Q      PERCENT          FCSC     NFC   \n",
       "\n",
       "  QUARTER QGDP_SYS  QGDP_UNIT  TIME_PERIOD  OBS_VALUE  DECIMALS  \n",
       "0      Q3      CUR  GWTH_RATE         2013   4.355075         1  \n",
       "1      Q3      CUR  GWTH_RATE         2014   4.394883         1  "
      ]
     },
     "execution_count": 62,
     "metadata": {},
     "output_type": "execute_result"
    }
   ],
   "source": [
    "data_processor.display_dataframe_info(processed_gdp_quarterly_current_df)"
   ]
  },
  {
   "cell_type": "markdown",
   "metadata": {},
   "source": [
    "- World Development Indicators"
   ]
  },
  {
   "cell_type": "markdown",
   "metadata": {},
   "source": [
    "#### 4.13 `Metadata_World_Development_Indicator.csv`"
   ]
  },
  {
   "cell_type": "code",
   "execution_count": 63,
   "metadata": {},
   "outputs": [
    {
     "name": "stdout",
     "output_type": "stream",
     "text": [
      "Loading 13_world_dev_metadata from ../datasets/raw/World Development Indicators/Metadata_World_Development_Indicator.csv...\n"
     ]
    },
    {
     "name": "stderr",
     "output_type": "stream",
     "text": [
      "Loading files in parallel: 100%|██████████| 1/1 [00:00<00:00,  1.12it/s]"
     ]
    },
    {
     "name": "stdout",
     "output_type": "stream",
     "text": [
      "Shape of 13_world_dev_metadata: (1496, 5)\n",
      "Columns in 13_world_dev_metadata:\n",
      "Index(['INDICATOR_CODE', 'INDICATOR_NAME', 'SOURCE_NOTE',\n",
      "       'SOURCE_ORGANIZATION', 'Unnamed: 4'],\n",
      "      dtype='object')\n"
     ]
    },
    {
     "name": "stderr",
     "output_type": "stream",
     "text": [
      "\n"
     ]
    }
   ],
   "source": [
    "world_dev_metadata_df = data_loader.inspect_data(\"13_world_dev_metadata\", delimiter=\",\", show_progress=False,loading_method='parallel')\n"
   ]
  },
  {
   "cell_type": "code",
   "execution_count": 64,
   "metadata": {},
   "outputs": [
    {
     "data": {
      "text/plain": [
       "INDICATOR_CODE           0.0\n",
       "INDICATOR_NAME           0.0\n",
       "SOURCE_NOTE              0.0\n",
       "SOURCE_ORGANIZATION      0.0\n",
       "Unnamed: 4             100.0\n",
       "dtype: float64"
      ]
     },
     "execution_count": 64,
     "metadata": {},
     "output_type": "execute_result"
    }
   ],
   "source": [
    "world_dev_metadata_df.isnull().mean() * 100"
   ]
  },
  {
   "cell_type": "code",
   "execution_count": 65,
   "metadata": {},
   "outputs": [
    {
     "name": "stdout",
     "output_type": "stream",
     "text": [
      "Formatted and Cleaned Data Overview:\n",
      "<class 'pandas.core.frame.DataFrame'>\n",
      "RangeIndex: 1496 entries, 0 to 1495\n",
      "Data columns (total 4 columns):\n",
      " #   Column               Non-Null Count  Dtype \n",
      "---  ------               --------------  ----- \n",
      " 0   INDICATOR_CODE       1496 non-null   object\n",
      " 1   INDICATOR_NAME       1496 non-null   object\n",
      " 2   SOURCE_NOTE          1496 non-null   object\n",
      " 3   SOURCE_ORGANIZATION  1496 non-null   object\n",
      "dtypes: object(4)\n",
      "memory usage: 46.9+ KB\n",
      "None\n"
     ]
    }
   ],
   "source": [
    "processed_world_dev_metadata_df = data_processor.format_and_clean_table(df=world_dev_metadata_df, missing_threshold=0.8)\n"
   ]
  },
  {
   "cell_type": "markdown",
   "metadata": {},
   "source": [
    "#### 4.14 `World_Development_Indicator.csv`"
   ]
  },
  {
   "cell_type": "code",
   "execution_count": 66,
   "metadata": {},
   "outputs": [
    {
     "name": "stdout",
     "output_type": "stream",
     "text": [
      "Loading 14_world_dev_indicators from ../datasets/raw/World Development Indicators/World_Development_Indicator.csv...\n"
     ]
    },
    {
     "name": "stderr",
     "output_type": "stream",
     "text": [
      "Loading files in parallel: 100%|██████████| 1/1 [00:00<00:00,  1.13it/s]"
     ]
    },
    {
     "name": "stdout",
     "output_type": "stream",
     "text": [
      "Shape of 14_world_dev_indicators: (1496, 69)\n",
      "Columns in 14_world_dev_indicators:\n",
      "Index(['Country Name', 'Country Code', 'Indicator Name', 'Indicator Code',\n",
      "       '1960', '1961', '1962', '1963', '1964', '1965', '1966', '1967', '1968',\n",
      "       '1969', '1970', '1971', '1972', '1973', '1974', '1975', '1976', '1977',\n",
      "       '1978', '1979', '1980', '1981', '1982', '1983', '1984', '1985', '1986',\n",
      "       '1987', '1988', '1989', '1990', '1991', '1992', '1993', '1994', '1995',\n",
      "       '1996', '1997', '1998', '1999', '2000', '2001', '2002', '2003', '2004',\n",
      "       '2005', '2006', '2007', '2008', '2009', '2010', '2011', '2012', '2013',\n",
      "       '2014', '2015', '2016', '2017', '2018', '2019', '2020', '2021', '2022',\n",
      "       '2023', 'Unnamed: 68'],\n",
      "      dtype='object')\n"
     ]
    },
    {
     "name": "stderr",
     "output_type": "stream",
     "text": [
      "\n"
     ]
    }
   ],
   "source": [
    "world_dev_indicators_df = data_loader.inspect_data(\"14_world_dev_indicators\", delimiter=\",\", show_progress=False,loading_method='parallel', skiprows=4)\n"
   ]
  },
  {
   "cell_type": "code",
   "execution_count": 67,
   "metadata": {},
   "outputs": [
    {
     "data": {
      "text/html": [
       "<div>\n",
       "<style scoped>\n",
       "    .dataframe tbody tr th:only-of-type {\n",
       "        vertical-align: middle;\n",
       "    }\n",
       "\n",
       "    .dataframe tbody tr th {\n",
       "        vertical-align: top;\n",
       "    }\n",
       "\n",
       "    .dataframe thead th {\n",
       "        text-align: right;\n",
       "    }\n",
       "</style>\n",
       "<table border=\"1\" class=\"dataframe\">\n",
       "  <thead>\n",
       "    <tr style=\"text-align: right;\">\n",
       "      <th></th>\n",
       "      <th>Country Name</th>\n",
       "      <th>Country Code</th>\n",
       "      <th>Indicator Name</th>\n",
       "      <th>Indicator Code</th>\n",
       "      <th>1960</th>\n",
       "      <th>1961</th>\n",
       "      <th>1962</th>\n",
       "      <th>1963</th>\n",
       "      <th>1964</th>\n",
       "      <th>1965</th>\n",
       "      <th>1966</th>\n",
       "      <th>1967</th>\n",
       "      <th>1968</th>\n",
       "      <th>1969</th>\n",
       "      <th>1970</th>\n",
       "      <th>1971</th>\n",
       "      <th>1972</th>\n",
       "      <th>1973</th>\n",
       "      <th>1974</th>\n",
       "      <th>1975</th>\n",
       "      <th>1976</th>\n",
       "      <th>1977</th>\n",
       "      <th>1978</th>\n",
       "      <th>1979</th>\n",
       "      <th>1980</th>\n",
       "      <th>...</th>\n",
       "      <th>2000</th>\n",
       "      <th>2001</th>\n",
       "      <th>2002</th>\n",
       "      <th>2003</th>\n",
       "      <th>2004</th>\n",
       "      <th>2005</th>\n",
       "      <th>2006</th>\n",
       "      <th>2007</th>\n",
       "      <th>2008</th>\n",
       "      <th>2009</th>\n",
       "      <th>2010</th>\n",
       "      <th>2011</th>\n",
       "      <th>2012</th>\n",
       "      <th>2013</th>\n",
       "      <th>2014</th>\n",
       "      <th>2015</th>\n",
       "      <th>2016</th>\n",
       "      <th>2017</th>\n",
       "      <th>2018</th>\n",
       "      <th>2019</th>\n",
       "      <th>2020</th>\n",
       "      <th>2021</th>\n",
       "      <th>2022</th>\n",
       "      <th>2023</th>\n",
       "      <th>Unnamed: 68</th>\n",
       "    </tr>\n",
       "  </thead>\n",
       "  <tbody>\n",
       "    <tr>\n",
       "      <th>0</th>\n",
       "      <td>United Arab Emirates</td>\n",
       "      <td>ARE</td>\n",
       "      <td>International migrant stock, total</td>\n",
       "      <td>SM.POP.TOTL</td>\n",
       "      <td>2194.0</td>\n",
       "      <td>NaN</td>\n",
       "      <td>NaN</td>\n",
       "      <td>NaN</td>\n",
       "      <td>NaN</td>\n",
       "      <td>25981.0</td>\n",
       "      <td>NaN</td>\n",
       "      <td>NaN</td>\n",
       "      <td>NaN</td>\n",
       "      <td>NaN</td>\n",
       "      <td>65827.000000</td>\n",
       "      <td>NaN</td>\n",
       "      <td>NaN</td>\n",
       "      <td>NaN</td>\n",
       "      <td>NaN</td>\n",
       "      <td>312400.000000</td>\n",
       "      <td>NaN</td>\n",
       "      <td>NaN</td>\n",
       "      <td>NaN</td>\n",
       "      <td>NaN</td>\n",
       "      <td>718479.000000</td>\n",
       "      <td>...</td>\n",
       "      <td>2.446675e+06</td>\n",
       "      <td>NaN</td>\n",
       "      <td>NaN</td>\n",
       "      <td>NaN</td>\n",
       "      <td>NaN</td>\n",
       "      <td>3.281036e+06</td>\n",
       "      <td>NaN</td>\n",
       "      <td>NaN</td>\n",
       "      <td>NaN</td>\n",
       "      <td>NaN</td>\n",
       "      <td>7.316611e+06</td>\n",
       "      <td>NaN</td>\n",
       "      <td>NaN</td>\n",
       "      <td>NaN</td>\n",
       "      <td>NaN</td>\n",
       "      <td>8.095126e+06</td>\n",
       "      <td>NaN</td>\n",
       "      <td>NaN</td>\n",
       "      <td>NaN</td>\n",
       "      <td>NaN</td>\n",
       "      <td>NaN</td>\n",
       "      <td>NaN</td>\n",
       "      <td>NaN</td>\n",
       "      <td>NaN</td>\n",
       "      <td>NaN</td>\n",
       "    </tr>\n",
       "    <tr>\n",
       "      <th>1</th>\n",
       "      <td>United Arab Emirates</td>\n",
       "      <td>ARE</td>\n",
       "      <td>Children in employment, wage workers (% of chi...</td>\n",
       "      <td>SL.WAG.0714.ZS</td>\n",
       "      <td>NaN</td>\n",
       "      <td>NaN</td>\n",
       "      <td>NaN</td>\n",
       "      <td>NaN</td>\n",
       "      <td>NaN</td>\n",
       "      <td>NaN</td>\n",
       "      <td>NaN</td>\n",
       "      <td>NaN</td>\n",
       "      <td>NaN</td>\n",
       "      <td>NaN</td>\n",
       "      <td>NaN</td>\n",
       "      <td>NaN</td>\n",
       "      <td>NaN</td>\n",
       "      <td>NaN</td>\n",
       "      <td>NaN</td>\n",
       "      <td>NaN</td>\n",
       "      <td>NaN</td>\n",
       "      <td>NaN</td>\n",
       "      <td>NaN</td>\n",
       "      <td>NaN</td>\n",
       "      <td>NaN</td>\n",
       "      <td>...</td>\n",
       "      <td>NaN</td>\n",
       "      <td>NaN</td>\n",
       "      <td>NaN</td>\n",
       "      <td>NaN</td>\n",
       "      <td>NaN</td>\n",
       "      <td>NaN</td>\n",
       "      <td>NaN</td>\n",
       "      <td>NaN</td>\n",
       "      <td>NaN</td>\n",
       "      <td>NaN</td>\n",
       "      <td>NaN</td>\n",
       "      <td>NaN</td>\n",
       "      <td>NaN</td>\n",
       "      <td>NaN</td>\n",
       "      <td>NaN</td>\n",
       "      <td>NaN</td>\n",
       "      <td>NaN</td>\n",
       "      <td>NaN</td>\n",
       "      <td>NaN</td>\n",
       "      <td>NaN</td>\n",
       "      <td>NaN</td>\n",
       "      <td>NaN</td>\n",
       "      <td>NaN</td>\n",
       "      <td>NaN</td>\n",
       "      <td>NaN</td>\n",
       "    </tr>\n",
       "    <tr>\n",
       "      <th>2</th>\n",
       "      <td>United Arab Emirates</td>\n",
       "      <td>ARE</td>\n",
       "      <td>Unemployment, total (% of total labor force) (...</td>\n",
       "      <td>SL.UEM.TOTL.NE.ZS</td>\n",
       "      <td>NaN</td>\n",
       "      <td>NaN</td>\n",
       "      <td>NaN</td>\n",
       "      <td>NaN</td>\n",
       "      <td>NaN</td>\n",
       "      <td>NaN</td>\n",
       "      <td>NaN</td>\n",
       "      <td>NaN</td>\n",
       "      <td>NaN</td>\n",
       "      <td>NaN</td>\n",
       "      <td>NaN</td>\n",
       "      <td>NaN</td>\n",
       "      <td>NaN</td>\n",
       "      <td>NaN</td>\n",
       "      <td>NaN</td>\n",
       "      <td>1.960000</td>\n",
       "      <td>NaN</td>\n",
       "      <td>NaN</td>\n",
       "      <td>NaN</td>\n",
       "      <td>NaN</td>\n",
       "      <td>NaN</td>\n",
       "      <td>...</td>\n",
       "      <td>2.250000e+00</td>\n",
       "      <td>NaN</td>\n",
       "      <td>NaN</td>\n",
       "      <td>NaN</td>\n",
       "      <td>NaN</td>\n",
       "      <td>3.120000e+00</td>\n",
       "      <td>NaN</td>\n",
       "      <td>NaN</td>\n",
       "      <td>NaN</td>\n",
       "      <td>NaN</td>\n",
       "      <td>NaN</td>\n",
       "      <td>NaN</td>\n",
       "      <td>NaN</td>\n",
       "      <td>NaN</td>\n",
       "      <td>NaN</td>\n",
       "      <td>NaN</td>\n",
       "      <td>1.640000</td>\n",
       "      <td>2.462000</td>\n",
       "      <td>2.236000</td>\n",
       "      <td>2.331000</td>\n",
       "      <td>4.294000</td>\n",
       "      <td>3.105000</td>\n",
       "      <td>2.873000</td>\n",
       "      <td>2.151</td>\n",
       "      <td>NaN</td>\n",
       "    </tr>\n",
       "    <tr>\n",
       "      <th>3</th>\n",
       "      <td>United Arab Emirates</td>\n",
       "      <td>ARE</td>\n",
       "      <td>Unemployment, female (% of female labor force)...</td>\n",
       "      <td>SL.UEM.TOTL.FE.NE.ZS</td>\n",
       "      <td>NaN</td>\n",
       "      <td>NaN</td>\n",
       "      <td>NaN</td>\n",
       "      <td>NaN</td>\n",
       "      <td>NaN</td>\n",
       "      <td>NaN</td>\n",
       "      <td>NaN</td>\n",
       "      <td>NaN</td>\n",
       "      <td>NaN</td>\n",
       "      <td>NaN</td>\n",
       "      <td>NaN</td>\n",
       "      <td>NaN</td>\n",
       "      <td>NaN</td>\n",
       "      <td>NaN</td>\n",
       "      <td>NaN</td>\n",
       "      <td>4.510000</td>\n",
       "      <td>NaN</td>\n",
       "      <td>NaN</td>\n",
       "      <td>NaN</td>\n",
       "      <td>NaN</td>\n",
       "      <td>NaN</td>\n",
       "      <td>...</td>\n",
       "      <td>2.710000e+00</td>\n",
       "      <td>NaN</td>\n",
       "      <td>NaN</td>\n",
       "      <td>NaN</td>\n",
       "      <td>NaN</td>\n",
       "      <td>7.060000e+00</td>\n",
       "      <td>NaN</td>\n",
       "      <td>NaN</td>\n",
       "      <td>NaN</td>\n",
       "      <td>NaN</td>\n",
       "      <td>NaN</td>\n",
       "      <td>NaN</td>\n",
       "      <td>NaN</td>\n",
       "      <td>NaN</td>\n",
       "      <td>NaN</td>\n",
       "      <td>NaN</td>\n",
       "      <td>4.020000</td>\n",
       "      <td>7.135000</td>\n",
       "      <td>5.950000</td>\n",
       "      <td>5.348000</td>\n",
       "      <td>5.715000</td>\n",
       "      <td>6.186000</td>\n",
       "      <td>7.066000</td>\n",
       "      <td>4.266</td>\n",
       "      <td>NaN</td>\n",
       "    </tr>\n",
       "    <tr>\n",
       "      <th>4</th>\n",
       "      <td>United Arab Emirates</td>\n",
       "      <td>ARE</td>\n",
       "      <td>Share of youth not in education, employment or...</td>\n",
       "      <td>SL.UEM.NEET.MA.ME.ZS</td>\n",
       "      <td>NaN</td>\n",
       "      <td>NaN</td>\n",
       "      <td>NaN</td>\n",
       "      <td>NaN</td>\n",
       "      <td>NaN</td>\n",
       "      <td>NaN</td>\n",
       "      <td>NaN</td>\n",
       "      <td>NaN</td>\n",
       "      <td>NaN</td>\n",
       "      <td>NaN</td>\n",
       "      <td>NaN</td>\n",
       "      <td>NaN</td>\n",
       "      <td>NaN</td>\n",
       "      <td>NaN</td>\n",
       "      <td>NaN</td>\n",
       "      <td>NaN</td>\n",
       "      <td>NaN</td>\n",
       "      <td>NaN</td>\n",
       "      <td>NaN</td>\n",
       "      <td>NaN</td>\n",
       "      <td>NaN</td>\n",
       "      <td>...</td>\n",
       "      <td>NaN</td>\n",
       "      <td>NaN</td>\n",
       "      <td>NaN</td>\n",
       "      <td>NaN</td>\n",
       "      <td>NaN</td>\n",
       "      <td>7.631000e+00</td>\n",
       "      <td>6.838000</td>\n",
       "      <td>6.550000</td>\n",
       "      <td>6.607000</td>\n",
       "      <td>6.715000</td>\n",
       "      <td>6.595000e+00</td>\n",
       "      <td>6.232000</td>\n",
       "      <td>5.932000</td>\n",
       "      <td>5.688000</td>\n",
       "      <td>5.556000</td>\n",
       "      <td>5.381000e+00</td>\n",
       "      <td>5.313000</td>\n",
       "      <td>5.290000</td>\n",
       "      <td>4.183000</td>\n",
       "      <td>4.647000</td>\n",
       "      <td>10.508000</td>\n",
       "      <td>6.179000</td>\n",
       "      <td>5.253000</td>\n",
       "      <td>5.035</td>\n",
       "      <td>NaN</td>\n",
       "    </tr>\n",
       "    <tr>\n",
       "      <th>...</th>\n",
       "      <td>...</td>\n",
       "      <td>...</td>\n",
       "      <td>...</td>\n",
       "      <td>...</td>\n",
       "      <td>...</td>\n",
       "      <td>...</td>\n",
       "      <td>...</td>\n",
       "      <td>...</td>\n",
       "      <td>...</td>\n",
       "      <td>...</td>\n",
       "      <td>...</td>\n",
       "      <td>...</td>\n",
       "      <td>...</td>\n",
       "      <td>...</td>\n",
       "      <td>...</td>\n",
       "      <td>...</td>\n",
       "      <td>...</td>\n",
       "      <td>...</td>\n",
       "      <td>...</td>\n",
       "      <td>...</td>\n",
       "      <td>...</td>\n",
       "      <td>...</td>\n",
       "      <td>...</td>\n",
       "      <td>...</td>\n",
       "      <td>...</td>\n",
       "      <td>...</td>\n",
       "      <td>...</td>\n",
       "      <td>...</td>\n",
       "      <td>...</td>\n",
       "      <td>...</td>\n",
       "      <td>...</td>\n",
       "      <td>...</td>\n",
       "      <td>...</td>\n",
       "      <td>...</td>\n",
       "      <td>...</td>\n",
       "      <td>...</td>\n",
       "      <td>...</td>\n",
       "      <td>...</td>\n",
       "      <td>...</td>\n",
       "      <td>...</td>\n",
       "      <td>...</td>\n",
       "      <td>...</td>\n",
       "      <td>...</td>\n",
       "      <td>...</td>\n",
       "      <td>...</td>\n",
       "      <td>...</td>\n",
       "      <td>...</td>\n",
       "      <td>...</td>\n",
       "      <td>...</td>\n",
       "      <td>...</td>\n",
       "      <td>...</td>\n",
       "    </tr>\n",
       "    <tr>\n",
       "      <th>1491</th>\n",
       "      <td>United Arab Emirates</td>\n",
       "      <td>ARE</td>\n",
       "      <td>Carbon dioxide (CO2) emissions excluding LULUC...</td>\n",
       "      <td>EN.GHG.CO2.PC.CE.AR5</td>\n",
       "      <td>NaN</td>\n",
       "      <td>NaN</td>\n",
       "      <td>NaN</td>\n",
       "      <td>NaN</td>\n",
       "      <td>NaN</td>\n",
       "      <td>NaN</td>\n",
       "      <td>NaN</td>\n",
       "      <td>NaN</td>\n",
       "      <td>NaN</td>\n",
       "      <td>NaN</td>\n",
       "      <td>65.180285</td>\n",
       "      <td>73.710426</td>\n",
       "      <td>70.614831</td>\n",
       "      <td>81.06109</td>\n",
       "      <td>73.084733</td>\n",
       "      <td>67.395849</td>\n",
       "      <td>74.108278</td>\n",
       "      <td>64.806518</td>\n",
       "      <td>65.260404</td>\n",
       "      <td>41.628837</td>\n",
       "      <td>40.512086</td>\n",
       "      <td>...</td>\n",
       "      <td>2.698358e+01</td>\n",
       "      <td>29.293486</td>\n",
       "      <td>28.469736</td>\n",
       "      <td>28.515465</td>\n",
       "      <td>28.782605</td>\n",
       "      <td>2.858678e+01</td>\n",
       "      <td>25.946192</td>\n",
       "      <td>23.338273</td>\n",
       "      <td>23.489827</td>\n",
       "      <td>20.676099</td>\n",
       "      <td>2.026353e+01</td>\n",
       "      <td>20.661069</td>\n",
       "      <td>21.450140</td>\n",
       "      <td>22.374249</td>\n",
       "      <td>22.501721</td>\n",
       "      <td>2.328592e+01</td>\n",
       "      <td>23.704610</td>\n",
       "      <td>22.627856</td>\n",
       "      <td>20.558285</td>\n",
       "      <td>21.553343</td>\n",
       "      <td>21.642710</td>\n",
       "      <td>22.898877</td>\n",
       "      <td>23.175120</td>\n",
       "      <td>NaN</td>\n",
       "      <td>NaN</td>\n",
       "    </tr>\n",
       "    <tr>\n",
       "      <th>1492</th>\n",
       "      <td>United Arab Emirates</td>\n",
       "      <td>ARE</td>\n",
       "      <td>Carbon dioxide (CO2) net fluxes from LULUCF - ...</td>\n",
       "      <td>EN.GHG.CO2.LU.MT.CE.AR5</td>\n",
       "      <td>NaN</td>\n",
       "      <td>NaN</td>\n",
       "      <td>NaN</td>\n",
       "      <td>NaN</td>\n",
       "      <td>NaN</td>\n",
       "      <td>NaN</td>\n",
       "      <td>NaN</td>\n",
       "      <td>NaN</td>\n",
       "      <td>NaN</td>\n",
       "      <td>NaN</td>\n",
       "      <td>NaN</td>\n",
       "      <td>NaN</td>\n",
       "      <td>NaN</td>\n",
       "      <td>NaN</td>\n",
       "      <td>NaN</td>\n",
       "      <td>NaN</td>\n",
       "      <td>NaN</td>\n",
       "      <td>NaN</td>\n",
       "      <td>NaN</td>\n",
       "      <td>NaN</td>\n",
       "      <td>NaN</td>\n",
       "      <td>...</td>\n",
       "      <td>-9.665000e+00</td>\n",
       "      <td>-10.259700</td>\n",
       "      <td>-10.854300</td>\n",
       "      <td>-11.449000</td>\n",
       "      <td>-12.043700</td>\n",
       "      <td>-1.323300e+01</td>\n",
       "      <td>-12.699800</td>\n",
       "      <td>-12.166600</td>\n",
       "      <td>-11.633500</td>\n",
       "      <td>-11.100300</td>\n",
       "      <td>-1.056710e+01</td>\n",
       "      <td>-10.033900</td>\n",
       "      <td>-9.500700</td>\n",
       "      <td>-8.967600</td>\n",
       "      <td>-8.434400</td>\n",
       "      <td>-8.434400e+00</td>\n",
       "      <td>-8.434400</td>\n",
       "      <td>-8.434400</td>\n",
       "      <td>-8.434400</td>\n",
       "      <td>-8.434400</td>\n",
       "      <td>-8.434400</td>\n",
       "      <td>NaN</td>\n",
       "      <td>NaN</td>\n",
       "      <td>NaN</td>\n",
       "      <td>NaN</td>\n",
       "    </tr>\n",
       "    <tr>\n",
       "      <th>1493</th>\n",
       "      <td>United Arab Emirates</td>\n",
       "      <td>ARE</td>\n",
       "      <td>Carbon dioxide (CO2) emissions from Industrial...</td>\n",
       "      <td>EN.GHG.CO2.IC.MT.CE.AR5</td>\n",
       "      <td>NaN</td>\n",
       "      <td>NaN</td>\n",
       "      <td>NaN</td>\n",
       "      <td>NaN</td>\n",
       "      <td>NaN</td>\n",
       "      <td>NaN</td>\n",
       "      <td>NaN</td>\n",
       "      <td>NaN</td>\n",
       "      <td>NaN</td>\n",
       "      <td>NaN</td>\n",
       "      <td>1.907600</td>\n",
       "      <td>1.907600</td>\n",
       "      <td>1.698800</td>\n",
       "      <td>1.93140</td>\n",
       "      <td>1.665100</td>\n",
       "      <td>2.258800</td>\n",
       "      <td>2.760500</td>\n",
       "      <td>6.001600</td>\n",
       "      <td>6.546000</td>\n",
       "      <td>7.124100</td>\n",
       "      <td>7.015100</td>\n",
       "      <td>...</td>\n",
       "      <td>3.367540e+01</td>\n",
       "      <td>41.603800</td>\n",
       "      <td>37.815900</td>\n",
       "      <td>35.936900</td>\n",
       "      <td>33.892800</td>\n",
       "      <td>3.494260e+01</td>\n",
       "      <td>34.092900</td>\n",
       "      <td>42.455500</td>\n",
       "      <td>51.865500</td>\n",
       "      <td>59.941800</td>\n",
       "      <td>6.314610e+01</td>\n",
       "      <td>66.292700</td>\n",
       "      <td>72.967800</td>\n",
       "      <td>76.914100</td>\n",
       "      <td>73.405500</td>\n",
       "      <td>8.217120e+01</td>\n",
       "      <td>84.610400</td>\n",
       "      <td>71.186200</td>\n",
       "      <td>54.390600</td>\n",
       "      <td>69.183300</td>\n",
       "      <td>74.882400</td>\n",
       "      <td>82.139800</td>\n",
       "      <td>81.851200</td>\n",
       "      <td>NaN</td>\n",
       "      <td>NaN</td>\n",
       "    </tr>\n",
       "    <tr>\n",
       "      <th>1494</th>\n",
       "      <td>United Arab Emirates</td>\n",
       "      <td>ARE</td>\n",
       "      <td>Methane (CH4) emissions (total) excluding LULU...</td>\n",
       "      <td>EN.GHG.CH4.ZG.AR5</td>\n",
       "      <td>NaN</td>\n",
       "      <td>NaN</td>\n",
       "      <td>NaN</td>\n",
       "      <td>NaN</td>\n",
       "      <td>NaN</td>\n",
       "      <td>NaN</td>\n",
       "      <td>NaN</td>\n",
       "      <td>NaN</td>\n",
       "      <td>NaN</td>\n",
       "      <td>NaN</td>\n",
       "      <td>NaN</td>\n",
       "      <td>NaN</td>\n",
       "      <td>NaN</td>\n",
       "      <td>NaN</td>\n",
       "      <td>NaN</td>\n",
       "      <td>NaN</td>\n",
       "      <td>NaN</td>\n",
       "      <td>NaN</td>\n",
       "      <td>NaN</td>\n",
       "      <td>NaN</td>\n",
       "      <td>NaN</td>\n",
       "      <td>...</td>\n",
       "      <td>3.262861e+01</td>\n",
       "      <td>35.626186</td>\n",
       "      <td>30.100182</td>\n",
       "      <td>37.796365</td>\n",
       "      <td>37.523448</td>\n",
       "      <td>4.455877e+01</td>\n",
       "      <td>51.516268</td>\n",
       "      <td>52.160592</td>\n",
       "      <td>53.111291</td>\n",
       "      <td>51.191098</td>\n",
       "      <td>5.930305e+01</td>\n",
       "      <td>68.340131</td>\n",
       "      <td>75.768284</td>\n",
       "      <td>81.187527</td>\n",
       "      <td>79.477849</td>\n",
       "      <td>9.503487e+01</td>\n",
       "      <td>100.559367</td>\n",
       "      <td>87.282672</td>\n",
       "      <td>80.649212</td>\n",
       "      <td>92.270737</td>\n",
       "      <td>87.426273</td>\n",
       "      <td>88.506287</td>\n",
       "      <td>96.481777</td>\n",
       "      <td>NaN</td>\n",
       "      <td>NaN</td>\n",
       "    </tr>\n",
       "    <tr>\n",
       "      <th>1495</th>\n",
       "      <td>United Arab Emirates</td>\n",
       "      <td>ARE</td>\n",
       "      <td>Methane (CH4) emissions (total) excluding LULU...</td>\n",
       "      <td>EN.GHG.CH4.MT.CE.AR5</td>\n",
       "      <td>NaN</td>\n",
       "      <td>NaN</td>\n",
       "      <td>NaN</td>\n",
       "      <td>NaN</td>\n",
       "      <td>NaN</td>\n",
       "      <td>NaN</td>\n",
       "      <td>NaN</td>\n",
       "      <td>NaN</td>\n",
       "      <td>NaN</td>\n",
       "      <td>NaN</td>\n",
       "      <td>9.636400</td>\n",
       "      <td>9.690300</td>\n",
       "      <td>10.926200</td>\n",
       "      <td>13.83680</td>\n",
       "      <td>15.079300</td>\n",
       "      <td>15.416700</td>\n",
       "      <td>17.645200</td>\n",
       "      <td>18.931700</td>\n",
       "      <td>18.319800</td>\n",
       "      <td>18.633100</td>\n",
       "      <td>18.187300</td>\n",
       "      <td>...</td>\n",
       "      <td>3.528120e+01</td>\n",
       "      <td>36.078600</td>\n",
       "      <td>34.608600</td>\n",
       "      <td>36.655900</td>\n",
       "      <td>36.583300</td>\n",
       "      <td>3.845480e+01</td>\n",
       "      <td>40.305600</td>\n",
       "      <td>40.477000</td>\n",
       "      <td>40.729900</td>\n",
       "      <td>40.219100</td>\n",
       "      <td>4.237700e+01</td>\n",
       "      <td>44.781000</td>\n",
       "      <td>46.757000</td>\n",
       "      <td>48.198600</td>\n",
       "      <td>47.743800</td>\n",
       "      <td>5.188220e+01</td>\n",
       "      <td>53.351800</td>\n",
       "      <td>49.820000</td>\n",
       "      <td>48.055400</td>\n",
       "      <td>51.146900</td>\n",
       "      <td>49.858200</td>\n",
       "      <td>50.145500</td>\n",
       "      <td>52.267100</td>\n",
       "      <td>NaN</td>\n",
       "      <td>NaN</td>\n",
       "    </tr>\n",
       "  </tbody>\n",
       "</table>\n",
       "<p>1496 rows × 69 columns</p>\n",
       "</div>"
      ],
      "text/plain": [
       "              Country Name Country Code  \\\n",
       "0     United Arab Emirates          ARE   \n",
       "1     United Arab Emirates          ARE   \n",
       "2     United Arab Emirates          ARE   \n",
       "3     United Arab Emirates          ARE   \n",
       "4     United Arab Emirates          ARE   \n",
       "...                    ...          ...   \n",
       "1491  United Arab Emirates          ARE   \n",
       "1492  United Arab Emirates          ARE   \n",
       "1493  United Arab Emirates          ARE   \n",
       "1494  United Arab Emirates          ARE   \n",
       "1495  United Arab Emirates          ARE   \n",
       "\n",
       "                                         Indicator Name  \\\n",
       "0                    International migrant stock, total   \n",
       "1     Children in employment, wage workers (% of chi...   \n",
       "2     Unemployment, total (% of total labor force) (...   \n",
       "3     Unemployment, female (% of female labor force)...   \n",
       "4     Share of youth not in education, employment or...   \n",
       "...                                                 ...   \n",
       "1491  Carbon dioxide (CO2) emissions excluding LULUC...   \n",
       "1492  Carbon dioxide (CO2) net fluxes from LULUCF - ...   \n",
       "1493  Carbon dioxide (CO2) emissions from Industrial...   \n",
       "1494  Methane (CH4) emissions (total) excluding LULU...   \n",
       "1495  Methane (CH4) emissions (total) excluding LULU...   \n",
       "\n",
       "               Indicator Code    1960  1961  1962  1963  1964     1965  1966  \\\n",
       "0                 SM.POP.TOTL  2194.0   NaN   NaN   NaN   NaN  25981.0   NaN   \n",
       "1              SL.WAG.0714.ZS     NaN   NaN   NaN   NaN   NaN      NaN   NaN   \n",
       "2           SL.UEM.TOTL.NE.ZS     NaN   NaN   NaN   NaN   NaN      NaN   NaN   \n",
       "3        SL.UEM.TOTL.FE.NE.ZS     NaN   NaN   NaN   NaN   NaN      NaN   NaN   \n",
       "4        SL.UEM.NEET.MA.ME.ZS     NaN   NaN   NaN   NaN   NaN      NaN   NaN   \n",
       "...                       ...     ...   ...   ...   ...   ...      ...   ...   \n",
       "1491     EN.GHG.CO2.PC.CE.AR5     NaN   NaN   NaN   NaN   NaN      NaN   NaN   \n",
       "1492  EN.GHG.CO2.LU.MT.CE.AR5     NaN   NaN   NaN   NaN   NaN      NaN   NaN   \n",
       "1493  EN.GHG.CO2.IC.MT.CE.AR5     NaN   NaN   NaN   NaN   NaN      NaN   NaN   \n",
       "1494        EN.GHG.CH4.ZG.AR5     NaN   NaN   NaN   NaN   NaN      NaN   NaN   \n",
       "1495     EN.GHG.CH4.MT.CE.AR5     NaN   NaN   NaN   NaN   NaN      NaN   NaN   \n",
       "\n",
       "      1967  1968  1969          1970       1971       1972      1973  \\\n",
       "0      NaN   NaN   NaN  65827.000000        NaN        NaN       NaN   \n",
       "1      NaN   NaN   NaN           NaN        NaN        NaN       NaN   \n",
       "2      NaN   NaN   NaN           NaN        NaN        NaN       NaN   \n",
       "3      NaN   NaN   NaN           NaN        NaN        NaN       NaN   \n",
       "4      NaN   NaN   NaN           NaN        NaN        NaN       NaN   \n",
       "...    ...   ...   ...           ...        ...        ...       ...   \n",
       "1491   NaN   NaN   NaN     65.180285  73.710426  70.614831  81.06109   \n",
       "1492   NaN   NaN   NaN           NaN        NaN        NaN       NaN   \n",
       "1493   NaN   NaN   NaN      1.907600   1.907600   1.698800   1.93140   \n",
       "1494   NaN   NaN   NaN           NaN        NaN        NaN       NaN   \n",
       "1495   NaN   NaN   NaN      9.636400   9.690300  10.926200  13.83680   \n",
       "\n",
       "           1974           1975       1976       1977       1978       1979  \\\n",
       "0           NaN  312400.000000        NaN        NaN        NaN        NaN   \n",
       "1           NaN            NaN        NaN        NaN        NaN        NaN   \n",
       "2           NaN       1.960000        NaN        NaN        NaN        NaN   \n",
       "3           NaN       4.510000        NaN        NaN        NaN        NaN   \n",
       "4           NaN            NaN        NaN        NaN        NaN        NaN   \n",
       "...         ...            ...        ...        ...        ...        ...   \n",
       "1491  73.084733      67.395849  74.108278  64.806518  65.260404  41.628837   \n",
       "1492        NaN            NaN        NaN        NaN        NaN        NaN   \n",
       "1493   1.665100       2.258800   2.760500   6.001600   6.546000   7.124100   \n",
       "1494        NaN            NaN        NaN        NaN        NaN        NaN   \n",
       "1495  15.079300      15.416700  17.645200  18.931700  18.319800  18.633100   \n",
       "\n",
       "               1980  ...          2000       2001       2002       2003  \\\n",
       "0     718479.000000  ...  2.446675e+06        NaN        NaN        NaN   \n",
       "1               NaN  ...           NaN        NaN        NaN        NaN   \n",
       "2               NaN  ...  2.250000e+00        NaN        NaN        NaN   \n",
       "3               NaN  ...  2.710000e+00        NaN        NaN        NaN   \n",
       "4               NaN  ...           NaN        NaN        NaN        NaN   \n",
       "...             ...  ...           ...        ...        ...        ...   \n",
       "1491      40.512086  ...  2.698358e+01  29.293486  28.469736  28.515465   \n",
       "1492            NaN  ... -9.665000e+00 -10.259700 -10.854300 -11.449000   \n",
       "1493       7.015100  ...  3.367540e+01  41.603800  37.815900  35.936900   \n",
       "1494            NaN  ...  3.262861e+01  35.626186  30.100182  37.796365   \n",
       "1495      18.187300  ...  3.528120e+01  36.078600  34.608600  36.655900   \n",
       "\n",
       "           2004          2005       2006       2007       2008       2009  \\\n",
       "0           NaN  3.281036e+06        NaN        NaN        NaN        NaN   \n",
       "1           NaN           NaN        NaN        NaN        NaN        NaN   \n",
       "2           NaN  3.120000e+00        NaN        NaN        NaN        NaN   \n",
       "3           NaN  7.060000e+00        NaN        NaN        NaN        NaN   \n",
       "4           NaN  7.631000e+00   6.838000   6.550000   6.607000   6.715000   \n",
       "...         ...           ...        ...        ...        ...        ...   \n",
       "1491  28.782605  2.858678e+01  25.946192  23.338273  23.489827  20.676099   \n",
       "1492 -12.043700 -1.323300e+01 -12.699800 -12.166600 -11.633500 -11.100300   \n",
       "1493  33.892800  3.494260e+01  34.092900  42.455500  51.865500  59.941800   \n",
       "1494  37.523448  4.455877e+01  51.516268  52.160592  53.111291  51.191098   \n",
       "1495  36.583300  3.845480e+01  40.305600  40.477000  40.729900  40.219100   \n",
       "\n",
       "              2010       2011       2012       2013       2014          2015  \\\n",
       "0     7.316611e+06        NaN        NaN        NaN        NaN  8.095126e+06   \n",
       "1              NaN        NaN        NaN        NaN        NaN           NaN   \n",
       "2              NaN        NaN        NaN        NaN        NaN           NaN   \n",
       "3              NaN        NaN        NaN        NaN        NaN           NaN   \n",
       "4     6.595000e+00   6.232000   5.932000   5.688000   5.556000  5.381000e+00   \n",
       "...            ...        ...        ...        ...        ...           ...   \n",
       "1491  2.026353e+01  20.661069  21.450140  22.374249  22.501721  2.328592e+01   \n",
       "1492 -1.056710e+01 -10.033900  -9.500700  -8.967600  -8.434400 -8.434400e+00   \n",
       "1493  6.314610e+01  66.292700  72.967800  76.914100  73.405500  8.217120e+01   \n",
       "1494  5.930305e+01  68.340131  75.768284  81.187527  79.477849  9.503487e+01   \n",
       "1495  4.237700e+01  44.781000  46.757000  48.198600  47.743800  5.188220e+01   \n",
       "\n",
       "            2016       2017       2018       2019       2020       2021  \\\n",
       "0            NaN        NaN        NaN        NaN        NaN        NaN   \n",
       "1            NaN        NaN        NaN        NaN        NaN        NaN   \n",
       "2       1.640000   2.462000   2.236000   2.331000   4.294000   3.105000   \n",
       "3       4.020000   7.135000   5.950000   5.348000   5.715000   6.186000   \n",
       "4       5.313000   5.290000   4.183000   4.647000  10.508000   6.179000   \n",
       "...          ...        ...        ...        ...        ...        ...   \n",
       "1491   23.704610  22.627856  20.558285  21.553343  21.642710  22.898877   \n",
       "1492   -8.434400  -8.434400  -8.434400  -8.434400  -8.434400        NaN   \n",
       "1493   84.610400  71.186200  54.390600  69.183300  74.882400  82.139800   \n",
       "1494  100.559367  87.282672  80.649212  92.270737  87.426273  88.506287   \n",
       "1495   53.351800  49.820000  48.055400  51.146900  49.858200  50.145500   \n",
       "\n",
       "           2022   2023  Unnamed: 68  \n",
       "0           NaN    NaN          NaN  \n",
       "1           NaN    NaN          NaN  \n",
       "2      2.873000  2.151          NaN  \n",
       "3      7.066000  4.266          NaN  \n",
       "4      5.253000  5.035          NaN  \n",
       "...         ...    ...          ...  \n",
       "1491  23.175120    NaN          NaN  \n",
       "1492        NaN    NaN          NaN  \n",
       "1493  81.851200    NaN          NaN  \n",
       "1494  96.481777    NaN          NaN  \n",
       "1495  52.267100    NaN          NaN  \n",
       "\n",
       "[1496 rows x 69 columns]"
      ]
     },
     "execution_count": 67,
     "metadata": {},
     "output_type": "execute_result"
    }
   ],
   "source": [
    "world_dev_indicators_df"
   ]
  },
  {
   "cell_type": "code",
   "execution_count": 68,
   "metadata": {},
   "outputs": [],
   "source": [
    "world_dev_indicators_melted_df = world_dev_indicators_df.melt(\n",
    "    id_vars=[\"Country Name\", \"Country Code\", \"Indicator Name\", \"Indicator Code\"],\n",
    "    var_name=\"Year\",\n",
    "    value_name=\"Value\"\n",
    ")\n"
   ]
  },
  {
   "cell_type": "code",
   "execution_count": 69,
   "metadata": {},
   "outputs": [
    {
     "data": {
      "text/html": [
       "<div>\n",
       "<style scoped>\n",
       "    .dataframe tbody tr th:only-of-type {\n",
       "        vertical-align: middle;\n",
       "    }\n",
       "\n",
       "    .dataframe tbody tr th {\n",
       "        vertical-align: top;\n",
       "    }\n",
       "\n",
       "    .dataframe thead th {\n",
       "        text-align: right;\n",
       "    }\n",
       "</style>\n",
       "<table border=\"1\" class=\"dataframe\">\n",
       "  <thead>\n",
       "    <tr style=\"text-align: right;\">\n",
       "      <th></th>\n",
       "      <th>Country Name</th>\n",
       "      <th>Country Code</th>\n",
       "      <th>Indicator Name</th>\n",
       "      <th>Indicator Code</th>\n",
       "      <th>Year</th>\n",
       "      <th>Value</th>\n",
       "    </tr>\n",
       "  </thead>\n",
       "  <tbody>\n",
       "    <tr>\n",
       "      <th>0</th>\n",
       "      <td>United Arab Emirates</td>\n",
       "      <td>ARE</td>\n",
       "      <td>International migrant stock, total</td>\n",
       "      <td>SM.POP.TOTL</td>\n",
       "      <td>1960</td>\n",
       "      <td>2194.0</td>\n",
       "    </tr>\n",
       "    <tr>\n",
       "      <th>1</th>\n",
       "      <td>United Arab Emirates</td>\n",
       "      <td>ARE</td>\n",
       "      <td>Children in employment, wage workers (% of chi...</td>\n",
       "      <td>SL.WAG.0714.ZS</td>\n",
       "      <td>1960</td>\n",
       "      <td>NaN</td>\n",
       "    </tr>\n",
       "    <tr>\n",
       "      <th>2</th>\n",
       "      <td>United Arab Emirates</td>\n",
       "      <td>ARE</td>\n",
       "      <td>Unemployment, total (% of total labor force) (...</td>\n",
       "      <td>SL.UEM.TOTL.NE.ZS</td>\n",
       "      <td>1960</td>\n",
       "      <td>NaN</td>\n",
       "    </tr>\n",
       "    <tr>\n",
       "      <th>3</th>\n",
       "      <td>United Arab Emirates</td>\n",
       "      <td>ARE</td>\n",
       "      <td>Unemployment, female (% of female labor force)...</td>\n",
       "      <td>SL.UEM.TOTL.FE.NE.ZS</td>\n",
       "      <td>1960</td>\n",
       "      <td>NaN</td>\n",
       "    </tr>\n",
       "    <tr>\n",
       "      <th>4</th>\n",
       "      <td>United Arab Emirates</td>\n",
       "      <td>ARE</td>\n",
       "      <td>Share of youth not in education, employment or...</td>\n",
       "      <td>SL.UEM.NEET.MA.ME.ZS</td>\n",
       "      <td>1960</td>\n",
       "      <td>NaN</td>\n",
       "    </tr>\n",
       "    <tr>\n",
       "      <th>...</th>\n",
       "      <td>...</td>\n",
       "      <td>...</td>\n",
       "      <td>...</td>\n",
       "      <td>...</td>\n",
       "      <td>...</td>\n",
       "      <td>...</td>\n",
       "    </tr>\n",
       "    <tr>\n",
       "      <th>97235</th>\n",
       "      <td>United Arab Emirates</td>\n",
       "      <td>ARE</td>\n",
       "      <td>Carbon dioxide (CO2) emissions excluding LULUC...</td>\n",
       "      <td>EN.GHG.CO2.PC.CE.AR5</td>\n",
       "      <td>Unnamed: 68</td>\n",
       "      <td>NaN</td>\n",
       "    </tr>\n",
       "    <tr>\n",
       "      <th>97236</th>\n",
       "      <td>United Arab Emirates</td>\n",
       "      <td>ARE</td>\n",
       "      <td>Carbon dioxide (CO2) net fluxes from LULUCF - ...</td>\n",
       "      <td>EN.GHG.CO2.LU.MT.CE.AR5</td>\n",
       "      <td>Unnamed: 68</td>\n",
       "      <td>NaN</td>\n",
       "    </tr>\n",
       "    <tr>\n",
       "      <th>97237</th>\n",
       "      <td>United Arab Emirates</td>\n",
       "      <td>ARE</td>\n",
       "      <td>Carbon dioxide (CO2) emissions from Industrial...</td>\n",
       "      <td>EN.GHG.CO2.IC.MT.CE.AR5</td>\n",
       "      <td>Unnamed: 68</td>\n",
       "      <td>NaN</td>\n",
       "    </tr>\n",
       "    <tr>\n",
       "      <th>97238</th>\n",
       "      <td>United Arab Emirates</td>\n",
       "      <td>ARE</td>\n",
       "      <td>Methane (CH4) emissions (total) excluding LULU...</td>\n",
       "      <td>EN.GHG.CH4.ZG.AR5</td>\n",
       "      <td>Unnamed: 68</td>\n",
       "      <td>NaN</td>\n",
       "    </tr>\n",
       "    <tr>\n",
       "      <th>97239</th>\n",
       "      <td>United Arab Emirates</td>\n",
       "      <td>ARE</td>\n",
       "      <td>Methane (CH4) emissions (total) excluding LULU...</td>\n",
       "      <td>EN.GHG.CH4.MT.CE.AR5</td>\n",
       "      <td>Unnamed: 68</td>\n",
       "      <td>NaN</td>\n",
       "    </tr>\n",
       "  </tbody>\n",
       "</table>\n",
       "<p>97240 rows × 6 columns</p>\n",
       "</div>"
      ],
      "text/plain": [
       "               Country Name Country Code  \\\n",
       "0      United Arab Emirates          ARE   \n",
       "1      United Arab Emirates          ARE   \n",
       "2      United Arab Emirates          ARE   \n",
       "3      United Arab Emirates          ARE   \n",
       "4      United Arab Emirates          ARE   \n",
       "...                     ...          ...   \n",
       "97235  United Arab Emirates          ARE   \n",
       "97236  United Arab Emirates          ARE   \n",
       "97237  United Arab Emirates          ARE   \n",
       "97238  United Arab Emirates          ARE   \n",
       "97239  United Arab Emirates          ARE   \n",
       "\n",
       "                                          Indicator Name  \\\n",
       "0                     International migrant stock, total   \n",
       "1      Children in employment, wage workers (% of chi...   \n",
       "2      Unemployment, total (% of total labor force) (...   \n",
       "3      Unemployment, female (% of female labor force)...   \n",
       "4      Share of youth not in education, employment or...   \n",
       "...                                                  ...   \n",
       "97235  Carbon dioxide (CO2) emissions excluding LULUC...   \n",
       "97236  Carbon dioxide (CO2) net fluxes from LULUCF - ...   \n",
       "97237  Carbon dioxide (CO2) emissions from Industrial...   \n",
       "97238  Methane (CH4) emissions (total) excluding LULU...   \n",
       "97239  Methane (CH4) emissions (total) excluding LULU...   \n",
       "\n",
       "                Indicator Code         Year   Value  \n",
       "0                  SM.POP.TOTL         1960  2194.0  \n",
       "1               SL.WAG.0714.ZS         1960     NaN  \n",
       "2            SL.UEM.TOTL.NE.ZS         1960     NaN  \n",
       "3         SL.UEM.TOTL.FE.NE.ZS         1960     NaN  \n",
       "4         SL.UEM.NEET.MA.ME.ZS         1960     NaN  \n",
       "...                        ...          ...     ...  \n",
       "97235     EN.GHG.CO2.PC.CE.AR5  Unnamed: 68     NaN  \n",
       "97236  EN.GHG.CO2.LU.MT.CE.AR5  Unnamed: 68     NaN  \n",
       "97237  EN.GHG.CO2.IC.MT.CE.AR5  Unnamed: 68     NaN  \n",
       "97238        EN.GHG.CH4.ZG.AR5  Unnamed: 68     NaN  \n",
       "97239     EN.GHG.CH4.MT.CE.AR5  Unnamed: 68     NaN  \n",
       "\n",
       "[97240 rows x 6 columns]"
      ]
     },
     "execution_count": 69,
     "metadata": {},
     "output_type": "execute_result"
    }
   ],
   "source": [
    "world_dev_indicators_melted_df"
   ]
  },
  {
   "cell_type": "code",
   "execution_count": 70,
   "metadata": {},
   "outputs": [
    {
     "data": {
      "text/plain": [
       "Country Name       0.000000\n",
       "Country Code       0.000000\n",
       "Indicator Name     0.000000\n",
       "Indicator Code     0.000000\n",
       "Year               0.000000\n",
       "Value             69.714109\n",
       "dtype: float64"
      ]
     },
     "execution_count": 70,
     "metadata": {},
     "output_type": "execute_result"
    }
   ],
   "source": [
    "world_dev_indicators_melted_df.isnull().mean() * 100"
   ]
  },
  {
   "cell_type": "markdown",
   "metadata": {},
   "source": [
    "- Currency Strength"
   ]
  },
  {
   "cell_type": "markdown",
   "metadata": {},
   "source": [
    "#### 4.15 `AED-USD.csv`"
   ]
  },
  {
   "cell_type": "code",
   "execution_count": 72,
   "metadata": {},
   "outputs": [
    {
     "name": "stdout",
     "output_type": "stream",
     "text": [
      "Loading 15_currency from ../datasets/raw/Currency Strength/AED-USD.csv...\n"
     ]
    },
    {
     "name": "stderr",
     "output_type": "stream",
     "text": [
      "Loading files in parallel: 100%|██████████| 1/1 [00:01<00:00,  1.17s/it]"
     ]
    },
    {
     "name": "stdout",
     "output_type": "stream",
     "text": [
      "Shape of 15_currency: (5468, 9)\n",
      "Columns in 15_currency:\n",
      "Index(['Unnamed: 0', 'Open', 'High', 'Low', 'Close', 'Adj Close', 'Volume',\n",
      "       'Date', 'Return'],\n",
      "      dtype='object')\n"
     ]
    },
    {
     "name": "stderr",
     "output_type": "stream",
     "text": [
      "\n"
     ]
    }
   ],
   "source": [
    "currency_strength_df = data_loader.inspect_data(\"15_currency\", delimiter=\",\", show_progress=False,loading_method='parallel')\n"
   ]
  },
  {
   "cell_type": "code",
   "execution_count": 73,
   "metadata": {},
   "outputs": [
    {
     "data": {
      "text/html": [
       "<div>\n",
       "<style scoped>\n",
       "    .dataframe tbody tr th:only-of-type {\n",
       "        vertical-align: middle;\n",
       "    }\n",
       "\n",
       "    .dataframe tbody tr th {\n",
       "        vertical-align: top;\n",
       "    }\n",
       "\n",
       "    .dataframe thead th {\n",
       "        text-align: right;\n",
       "    }\n",
       "</style>\n",
       "<table border=\"1\" class=\"dataframe\">\n",
       "  <thead>\n",
       "    <tr style=\"text-align: right;\">\n",
       "      <th></th>\n",
       "      <th>Unnamed: 0</th>\n",
       "      <th>Open</th>\n",
       "      <th>High</th>\n",
       "      <th>Low</th>\n",
       "      <th>Close</th>\n",
       "      <th>Adj Close</th>\n",
       "      <th>Volume</th>\n",
       "      <th>Date</th>\n",
       "      <th>Return</th>\n",
       "    </tr>\n",
       "  </thead>\n",
       "  <tbody>\n",
       "    <tr>\n",
       "      <th>0</th>\n",
       "      <td>0</td>\n",
       "      <td>0.272331</td>\n",
       "      <td>0.272368</td>\n",
       "      <td>0.272331</td>\n",
       "      <td>0.272368</td>\n",
       "      <td>0.272368</td>\n",
       "      <td>0</td>\n",
       "      <td>2003-12-01</td>\n",
       "      <td>NaN</td>\n",
       "    </tr>\n",
       "    <tr>\n",
       "      <th>1</th>\n",
       "      <td>1</td>\n",
       "      <td>0.272413</td>\n",
       "      <td>0.272420</td>\n",
       "      <td>0.272331</td>\n",
       "      <td>0.272368</td>\n",
       "      <td>0.272368</td>\n",
       "      <td>0</td>\n",
       "      <td>2003-12-02</td>\n",
       "      <td>0.000000</td>\n",
       "    </tr>\n",
       "    <tr>\n",
       "      <th>2</th>\n",
       "      <td>2</td>\n",
       "      <td>0.272339</td>\n",
       "      <td>0.272368</td>\n",
       "      <td>0.272331</td>\n",
       "      <td>0.272368</td>\n",
       "      <td>0.272368</td>\n",
       "      <td>0</td>\n",
       "      <td>2003-12-03</td>\n",
       "      <td>0.000000</td>\n",
       "    </tr>\n",
       "    <tr>\n",
       "      <th>3</th>\n",
       "      <td>3</td>\n",
       "      <td>0.272346</td>\n",
       "      <td>0.272368</td>\n",
       "      <td>0.272331</td>\n",
       "      <td>0.272368</td>\n",
       "      <td>0.272368</td>\n",
       "      <td>0</td>\n",
       "      <td>2003-12-04</td>\n",
       "      <td>0.000000</td>\n",
       "    </tr>\n",
       "    <tr>\n",
       "      <th>4</th>\n",
       "      <td>4</td>\n",
       "      <td>0.272339</td>\n",
       "      <td>0.272346</td>\n",
       "      <td>0.272331</td>\n",
       "      <td>0.272346</td>\n",
       "      <td>0.272346</td>\n",
       "      <td>0</td>\n",
       "      <td>2003-12-05</td>\n",
       "      <td>-0.008174</td>\n",
       "    </tr>\n",
       "    <tr>\n",
       "      <th>...</th>\n",
       "      <td>...</td>\n",
       "      <td>...</td>\n",
       "      <td>...</td>\n",
       "      <td>...</td>\n",
       "      <td>...</td>\n",
       "      <td>...</td>\n",
       "      <td>...</td>\n",
       "      <td>...</td>\n",
       "      <td>...</td>\n",
       "    </tr>\n",
       "    <tr>\n",
       "      <th>5463</th>\n",
       "      <td>5463</td>\n",
       "      <td>0.272331</td>\n",
       "      <td>0.272331</td>\n",
       "      <td>0.272264</td>\n",
       "      <td>0.272331</td>\n",
       "      <td>0.272331</td>\n",
       "      <td>0</td>\n",
       "      <td>2024-11-26</td>\n",
       "      <td>0.019056</td>\n",
       "    </tr>\n",
       "    <tr>\n",
       "      <th>5464</th>\n",
       "      <td>5464</td>\n",
       "      <td>0.272331</td>\n",
       "      <td>0.272331</td>\n",
       "      <td>0.272264</td>\n",
       "      <td>0.272331</td>\n",
       "      <td>0.272331</td>\n",
       "      <td>0</td>\n",
       "      <td>2024-11-27</td>\n",
       "      <td>0.000000</td>\n",
       "    </tr>\n",
       "    <tr>\n",
       "      <th>5465</th>\n",
       "      <td>5465</td>\n",
       "      <td>0.272331</td>\n",
       "      <td>0.272331</td>\n",
       "      <td>0.272270</td>\n",
       "      <td>0.272331</td>\n",
       "      <td>0.272331</td>\n",
       "      <td>0</td>\n",
       "      <td>2024-11-28</td>\n",
       "      <td>0.000000</td>\n",
       "    </tr>\n",
       "    <tr>\n",
       "      <th>5466</th>\n",
       "      <td>5466</td>\n",
       "      <td>0.272331</td>\n",
       "      <td>0.272331</td>\n",
       "      <td>0.272264</td>\n",
       "      <td>0.272331</td>\n",
       "      <td>0.272331</td>\n",
       "      <td>0</td>\n",
       "      <td>2024-11-29</td>\n",
       "      <td>0.000000</td>\n",
       "    </tr>\n",
       "    <tr>\n",
       "      <th>5467</th>\n",
       "      <td>5467</td>\n",
       "      <td>0.272272</td>\n",
       "      <td>0.272280</td>\n",
       "      <td>0.272271</td>\n",
       "      <td>0.272279</td>\n",
       "      <td>0.272279</td>\n",
       "      <td>0</td>\n",
       "      <td>2024-12-02</td>\n",
       "      <td>-0.019052</td>\n",
       "    </tr>\n",
       "  </tbody>\n",
       "</table>\n",
       "<p>5468 rows × 9 columns</p>\n",
       "</div>"
      ],
      "text/plain": [
       "      Unnamed: 0      Open      High       Low     Close  Adj Close  Volume  \\\n",
       "0              0  0.272331  0.272368  0.272331  0.272368   0.272368       0   \n",
       "1              1  0.272413  0.272420  0.272331  0.272368   0.272368       0   \n",
       "2              2  0.272339  0.272368  0.272331  0.272368   0.272368       0   \n",
       "3              3  0.272346  0.272368  0.272331  0.272368   0.272368       0   \n",
       "4              4  0.272339  0.272346  0.272331  0.272346   0.272346       0   \n",
       "...          ...       ...       ...       ...       ...        ...     ...   \n",
       "5463        5463  0.272331  0.272331  0.272264  0.272331   0.272331       0   \n",
       "5464        5464  0.272331  0.272331  0.272264  0.272331   0.272331       0   \n",
       "5465        5465  0.272331  0.272331  0.272270  0.272331   0.272331       0   \n",
       "5466        5466  0.272331  0.272331  0.272264  0.272331   0.272331       0   \n",
       "5467        5467  0.272272  0.272280  0.272271  0.272279   0.272279       0   \n",
       "\n",
       "            Date    Return  \n",
       "0     2003-12-01       NaN  \n",
       "1     2003-12-02  0.000000  \n",
       "2     2003-12-03  0.000000  \n",
       "3     2003-12-04  0.000000  \n",
       "4     2003-12-05 -0.008174  \n",
       "...          ...       ...  \n",
       "5463  2024-11-26  0.019056  \n",
       "5464  2024-11-27  0.000000  \n",
       "5465  2024-11-28  0.000000  \n",
       "5466  2024-11-29  0.000000  \n",
       "5467  2024-12-02 -0.019052  \n",
       "\n",
       "[5468 rows x 9 columns]"
      ]
     },
     "execution_count": 73,
     "metadata": {},
     "output_type": "execute_result"
    }
   ],
   "source": [
    "currency_strength_df"
   ]
  },
  {
   "cell_type": "code",
   "execution_count": 74,
   "metadata": {},
   "outputs": [
    {
     "data": {
      "text/plain": [
       "Unnamed: 0    0.000000\n",
       "Open          0.000000\n",
       "High          0.000000\n",
       "Low           0.000000\n",
       "Close         0.000000\n",
       "Adj Close     0.000000\n",
       "Volume        0.000000\n",
       "Date          0.000000\n",
       "Return        0.018288\n",
       "dtype: float64"
      ]
     },
     "execution_count": 74,
     "metadata": {},
     "output_type": "execute_result"
    }
   ],
   "source": [
    "currency_strength_df.isnull().mean() * 100"
   ]
  },
  {
   "cell_type": "markdown",
   "metadata": {},
   "source": [
    "### **5. ` Initial Cleaning`**"
   ]
  },
  {
   "cell_type": "markdown",
   "metadata": {},
   "source": []
  },
  {
   "cell_type": "code",
   "execution_count": 94,
   "metadata": {},
   "outputs": [
    {
     "name": "stdout",
     "output_type": "stream",
     "text": [
      "<class 'pandas.core.frame.DataFrame'>\n",
      "RangeIndex: 5468 entries, 0 to 5467\n",
      "Data columns (total 8 columns):\n",
      " #   Column     Non-Null Count  Dtype  \n",
      "---  ------     --------------  -----  \n",
      " 0   Open       5468 non-null   float64\n",
      " 1   High       5468 non-null   float64\n",
      " 2   Low        5468 non-null   float64\n",
      " 3   Close      5468 non-null   float64\n",
      " 4   Adj Close  5468 non-null   float64\n",
      " 5   Volume     5468 non-null   int64  \n",
      " 6   Date       5468 non-null   object \n",
      " 7   Return     5467 non-null   float64\n",
      "dtypes: float64(6), int64(1), object(1)\n",
      "memory usage: 341.9+ KB\n"
     ]
    }
   ],
   "source": [
    "# Perform initial cleaning\n",
    "# rents_cleaned = clean_data(rents_data)\n",
    "\n",
    "# Inspect cleaned data\n",
    "currency_strength_df.drop(columns='Unnamed: 0', inplace=True)\n",
    "currency_strength_df.info()"
   ]
  },
  {
   "cell_type": "markdown",
   "metadata": {},
   "source": [
    "### **5. `  Save Cleaned Data`**"
   ]
  },
  {
   "cell_type": "code",
   "execution_count": null,
   "metadata": {},
   "outputs": [],
   "source": [
    "# Save cleaned data to the processed folder\n",
    "# processed_rents_file = os.path.join(processed_data_path, \"real_estate_rents_cleaned.csv\")\n",
    "# rents_cleaned.to_csv(processed_rents_file, index=False)\n",
    "\n",
    "# print(f\"Cleaned rents dataset saved to {processed_rents_file}\")\n"
   ]
  },
  {
   "cell_type": "code",
   "execution_count": 91,
   "metadata": {},
   "outputs": [
    {
     "name": "stdout",
     "output_type": "stream",
     "text": [
      "<class 'pandas.core.frame.DataFrame'>\n",
      "RangeIndex: 18 entries, 0 to 17\n",
      "Data columns (total 11 columns):\n",
      " #   Column         Non-Null Count  Dtype  \n",
      "---  ------         --------------  -----  \n",
      " 0   DATAFLOW       18 non-null     object \n",
      " 1   MEASURE        18 non-null     object \n",
      " 2   POP_IND        18 non-null     object \n",
      " 3   UNIT_MEASURE   18 non-null     object \n",
      " 4   REF_AREA       18 non-null     object \n",
      " 5   FREQ           18 non-null     object \n",
      " 6   GENDER         18 non-null     object \n",
      " 7   SOURCE_DETAIL  18 non-null     object \n",
      " 8   TIME_PERIOD    18 non-null     int64  \n",
      " 9   OBS_VALUE      18 non-null     float64\n",
      " 10  DECIMALS       18 non-null     int64  \n",
      "dtypes: float64(1), int64(2), object(8)\n",
      "memory usage: 1.7+ KB\n"
     ]
    }
   ],
   "source": [
    "pop_indicators_df.info()"
   ]
  },
  {
   "cell_type": "code",
   "execution_count": 81,
   "metadata": {},
   "outputs": [],
   "source": [
    "processed_rents_df.to_parquet(\"../datasets/processed/processed_rents_df.parquet\")\n",
    "processed_transactions_df.to_parquet(\"../datasets/processed/processed_transactions_df.parquet\")"
   ]
  },
  {
   "cell_type": "code",
   "execution_count": 84,
   "metadata": {},
   "outputs": [],
   "source": [
    "processed_gdp_quarterly_constant_df.to_parquet(\"../datasets/processed/processed_gdp_quarterly_constant_df.parquet\")\n",
    "processed_gdp_quarterly_current_df.to_parquet(\"../datasets/processed/processed_gdp_quarterly_current_df.parquet\")\n"
   ]
  },
  {
   "cell_type": "code",
   "execution_count": 88,
   "metadata": {},
   "outputs": [],
   "source": [
    "processed_tourism_indicators_df.to_parquet(\"../datasets/processed/processed_tourism_indicators_df.parquet\")\n",
    "processed_tourism_regions_df.to_parquet(\"../datasets/processed/processed_tourism_regions_df.parquet\")\n",
    "processed_tourism_ratings_df.to_parquet(\"../datasets/processed/processed_tourism_ratings_df.parquet\")"
   ]
  },
  {
   "cell_type": "code",
   "execution_count": 95,
   "metadata": {},
   "outputs": [],
   "source": [
    "processed_pop_estimates_df.to_parquet(\"../datasets/processed/processed_pop_estimates_df.parquet\")\n",
    "pop_indicators_df.to_parquet(\"../datasets/processed/pop_indicators.parquet\")\n",
    "currency_strength_df.to_parquet(\"../datasets/processed/currency_strength_df.parquet\")\n"
   ]
  }
 ],
 "metadata": {
  "kernelspec": {
   "display_name": "dubai_env",
   "language": "python",
   "name": "python3"
  },
  "language_info": {
   "codemirror_mode": {
    "name": "ipython",
    "version": 3
   },
   "file_extension": ".py",
   "mimetype": "text/x-python",
   "name": "python",
   "nbconvert_exporter": "python",
   "pygments_lexer": "ipython3",
   "version": "3.9.6"
  }
 },
 "nbformat": 4,
 "nbformat_minor": 2
}
